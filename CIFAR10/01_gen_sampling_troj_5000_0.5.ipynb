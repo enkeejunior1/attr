{
 "cells": [
  {
   "cell_type": "code",
   "execution_count": 1,
   "id": "36be3cd9-76c6-4089-bf78-90e7d3d8fce8",
   "metadata": {},
   "outputs": [],
   "source": [
    "import os\n",
    "\n",
    "os.environ[\"CUDA_DEVICE_ORDER\"]=\"PCI_BUS_ID\"   \n",
    "os.environ[\"CUDA_VISIBLE_DEVICES\"]='0'\n",
    "os.environ[\"HF_HOME\"]=\"~/codes/.cache/huggingface\""
   ]
  },
  {
   "cell_type": "code",
   "execution_count": 2,
   "id": "6c77b16e-8965-41b7-8a61-42fa5cdd10a7",
   "metadata": {},
   "outputs": [],
   "source": [
    "from accelerate.utils import ProjectConfiguration, set_seed"
   ]
  },
  {
   "cell_type": "code",
   "execution_count": 3,
   "id": "ed45046d-342c-4950-af25-547cd7eb0cf4",
   "metadata": {},
   "outputs": [],
   "source": [
    "import torch\n",
    "import random\n",
    "import numpy as np\n",
    "\n",
    "def set_seeds(seed):\n",
    "    set_seed(seed)\n",
    "    random.seed(seed)\n",
    "    np.random.seed(seed)\n",
    "    torch.manual_seed(seed)\n",
    "    torch.backends.cudnn.deterministic = True\n",
    "    torch.backends.cudnn.benchmark = False\n",
    "    \n",
    "set_seeds(42)"
   ]
  },
  {
   "cell_type": "code",
   "execution_count": 4,
   "id": "3a6a68f0-aba6-4f28-a44d-00d5f008b8f3",
   "metadata": {},
   "outputs": [],
   "source": [
    "from torchvision import transforms\n"
   ]
  },
  {
   "cell_type": "code",
   "execution_count": 5,
   "id": "1ef43284-057c-454e-9ab5-2460f4d71d08",
   "metadata": {},
   "outputs": [],
   "source": [
    "from diffusers import DDPMPipeline, DDIMPipeline, DDPMScheduler, DDIMScheduler, UNet2DModel"
   ]
  },
  {
   "cell_type": "code",
   "execution_count": 9,
   "id": "c64b0d46-9a15-483e-ac7d-82542f7201a3",
   "metadata": {},
   "outputs": [
    {
     "data": {
      "text/plain": [
       "'config.json'"
      ]
     },
     "execution_count": 9,
     "metadata": {},
     "output_type": "execute_result"
    }
   ],
   "source": [
    "class Args():\n",
    "    \n",
    "    model_path = \"./saved/50000-0.5/ddpm\"\n",
    "    model_config_name_or_path=\"config.json\"\n",
    "    \n",
    "    dataset_name=\"cifar10\"\n",
    "\n",
    "    resolution=32\n",
    "    center_crop=True\n",
    "    random_flip=False\n",
    "\n",
    "    dataloader_num_workers=8\n",
    "    \n",
    "    seed=42\n",
    "    gen_seed=0    \n",
    "    gen_path = \"./saved/50000-0.5/gen\"\n",
    "\n",
    "    train_batch_size=256\n",
    "\n",
    "    ddpm_num_steps=1000\n",
    "    ddpm_num_inference_steps=50\n",
    "    ddpm_beta_schedule='linear'\n",
    "\n",
    "args=Args()\n",
    "args.model_config_name_or_path"
   ]
  },
  {
   "cell_type": "code",
   "execution_count": 10,
   "id": "08f02a5e-0a4c-42bf-afc5-09a3344e0c35",
   "metadata": {},
   "outputs": [],
   "source": [
    "if True:\n",
    "    import pandas as pd\n",
    "    df = pd.DataFrame()\n",
    "    df['path'] = ['{}/{}.png'.format(args.gen_path, i) for i in range(1000)]\n",
    "    \n",
    "    from datasets import DatasetDict, Dataset, Image\n",
    "    dataset = DatasetDict({\n",
    "    \"train\": Dataset.from_dict({\n",
    "        \"img\": df['path'].tolist(),\n",
    "    }).cast_column(\"img\", Image()),})\n",
    "    dataset = dataset[\"train\"]"
   ]
  },
  {
   "cell_type": "code",
   "execution_count": 11,
   "id": "5077de84-56fd-4efa-86e5-6cc19647f809",
   "metadata": {},
   "outputs": [
    {
     "data": {
      "image/png": "[encoded data removed]",
      "text/plain": [
       "<PIL.PngImagePlugin.PngImageFile image mode=RGB size=32x32>"
      ]
     },
     "execution_count": 11,
     "metadata": {},
     "output_type": "execute_result"
    }
   ],
   "source": [
    "dataset[0]['img']"
   ]
  },
  {
   "cell_type": "code",
   "execution_count": 12,
   "id": "2f698e89-f6c4-41ca-b6fe-8b575d211292",
   "metadata": {},
   "outputs": [
    {
     "data": {
      "text/plain": [
       "1000"
      ]
     },
     "execution_count": 12,
     "metadata": {},
     "output_type": "execute_result"
    }
   ],
   "source": [
    "len(dataset)"
   ]
  },
  {
   "cell_type": "code",
   "execution_count": null,
   "id": "be079f56-9091-4668-b929-93ca321321fa",
   "metadata": {},
   "outputs": [],
   "source": []
  },
  {
   "cell_type": "code",
   "execution_count": 13,
   "id": "c6124a07-a1d7-4855-991d-9e092051d967",
   "metadata": {},
   "outputs": [],
   "source": [
    "from diffusers.utils import randn_tensor"
   ]
  },
  {
   "cell_type": "code",
   "execution_count": 14,
   "id": "84e6839b-4874-47f7-8249-9e11391aa752",
   "metadata": {},
   "outputs": [
    {
     "name": "stdout",
     "output_type": "stream",
     "text": [
      "config.json\n",
      "torch.float32\n",
      "./saved/50000-0.5/ddpm/unet/diffusion_pytorch_model.bin\n",
      "tensor([980, 960, 940, 920, 900, 880, 860, 840, 820, 800, 780, 760, 740, 720,\n",
      "        700, 680, 660, 640, 620, 600, 580, 560, 540, 520, 500, 480, 460, 440,\n",
      "        420, 400, 380, 360, 340, 320, 300, 280, 260, 240, 220, 200, 180, 160,\n",
      "        140, 120, 100,  80,  60,  40,  20,   0], device='cuda:0')\n",
      "0\n",
      "256\n",
      "[0, 1, 2, 3, 4, 5, 6, 7, 8, 9, 10, 11, 12, 13, 14, 15, 16, 17, 18, 19, 20, 21, 22, 23, 24, 25, 26, 27, 28, 29, 30, 31, 32, 33, 34, 35, 36, 37, 38, 39, 40, 41, 42, 43, 44, 45, 46, 47, 48, 49, 50, 51, 52, 53, 54, 55, 56, 57, 58, 59, 60, 61, 62, 63, 64, 65, 66, 67, 68, 69, 70, 71, 72, 73, 74, 75, 76, 77, 78, 79, 80, 81, 82, 83, 84, 85, 86, 87, 88, 89, 90, 91, 92, 93, 94, 95, 96, 97, 98, 99, 100, 101, 102, 103, 104, 105, 106, 107, 108, 109, 110, 111, 112, 113, 114, 115, 116, 117, 118, 119, 120, 121, 122, 123, 124, 125, 126, 127, 128, 129, 130, 131, 132, 133, 134, 135, 136, 137, 138, 139, 140, 141, 142, 143, 144, 145, 146, 147, 148, 149, 150, 151, 152, 153, 154, 155, 156, 157, 158, 159, 160, 161, 162, 163, 164, 165, 166, 167, 168, 169, 170, 171, 172, 173, 174, 175, 176, 177, 178, 179, 180, 181, 182, 183, 184, 185, 186, 187, 188, 189, 190, 191, 192, 193, 194, 195, 196, 197, 198, 199, 200, 201, 202, 203, 204, 205, 206, 207, 208, 209, 210, 211, 212, 213, 214, 215, 216, 217, 218, 219, 220, 221, 222, 223, 224, 225, 226, 227, 228, 229, 230, 231, 232, 233, 234, 235, 236, 237, 238, 239, 240, 241, 242, 243, 244, 245, 246, 247, 248, 249, 250, 251, 252, 253, 254, 255]\n",
      "256\n",
      "256\n",
      "[256, 257, 258, 259, 260, 261, 262, 263, 264, 265, 266, 267, 268, 269, 270, 271, 272, 273, 274, 275, 276, 277, 278, 279, 280, 281, 282, 283, 284, 285, 286, 287, 288, 289, 290, 291, 292, 293, 294, 295, 296, 297, 298, 299, 300, 301, 302, 303, 304, 305, 306, 307, 308, 309, 310, 311, 312, 313, 314, 315, 316, 317, 318, 319, 320, 321, 322, 323, 324, 325, 326, 327, 328, 329, 330, 331, 332, 333, 334, 335, 336, 337, 338, 339, 340, 341, 342, 343, 344, 345, 346, 347, 348, 349, 350, 351, 352, 353, 354, 355, 356, 357, 358, 359, 360, 361, 362, 363, 364, 365, 366, 367, 368, 369, 370, 371, 372, 373, 374, 375, 376, 377, 378, 379, 380, 381, 382, 383, 384, 385, 386, 387, 388, 389, 390, 391, 392, 393, 394, 395, 396, 397, 398, 399, 400, 401, 402, 403, 404, 405, 406, 407, 408, 409, 410, 411, 412, 413, 414, 415, 416, 417, 418, 419, 420, 421, 422, 423, 424, 425, 426, 427, 428, 429, 430, 431, 432, 433, 434, 435, 436, 437, 438, 439, 440, 441, 442, 443, 444, 445, 446, 447, 448, 449, 450, 451, 452, 453, 454, 455, 456, 457, 458, 459, 460, 461, 462, 463, 464, 465, 466, 467, 468, 469, 470, 471, 472, 473, 474, 475, 476, 477, 478, 479, 480, 481, 482, 483, 484, 485, 486, 487, 488, 489, 490, 491, 492, 493, 494, 495, 496, 497, 498, 499, 500, 501, 502, 503, 504, 505, 506, 507, 508, 509, 510, 511]\n",
      "512\n",
      "256\n",
      "[512, 513, 514, 515, 516, 517, 518, 519, 520, 521, 522, 523, 524, 525, 526, 527, 528, 529, 530, 531, 532, 533, 534, 535, 536, 537, 538, 539, 540, 541, 542, 543, 544, 545, 546, 547, 548, 549, 550, 551, 552, 553, 554, 555, 556, 557, 558, 559, 560, 561, 562, 563, 564, 565, 566, 567, 568, 569, 570, 571, 572, 573, 574, 575, 576, 577, 578, 579, 580, 581, 582, 583, 584, 585, 586, 587, 588, 589, 590, 591, 592, 593, 594, 595, 596, 597, 598, 599, 600, 601, 602, 603, 604, 605, 606, 607, 608, 609, 610, 611, 612, 613, 614, 615, 616, 617, 618, 619, 620, 621, 622, 623, 624, 625, 626, 627, 628, 629, 630, 631, 632, 633, 634, 635, 636, 637, 638, 639, 640, 641, 642, 643, 644, 645, 646, 647, 648, 649, 650, 651, 652, 653, 654, 655, 656, 657, 658, 659, 660, 661, 662, 663, 664, 665, 666, 667, 668, 669, 670, 671, 672, 673, 674, 675, 676, 677, 678, 679, 680, 681, 682, 683, 684, 685, 686, 687, 688, 689, 690, 691, 692, 693, 694, 695, 696, 697, 698, 699, 700, 701, 702, 703, 704, 705, 706, 707, 708, 709, 710, 711, 712, 713, 714, 715, 716, 717, 718, 719, 720, 721, 722, 723, 724, 725, 726, 727, 728, 729, 730, 731, 732, 733, 734, 735, 736, 737, 738, 739, 740, 741, 742, 743, 744, 745, 746, 747, 748, 749, 750, 751, 752, 753, 754, 755, 756, 757, 758, 759, 760, 761, 762, 763, 764, 765, 766, 767]\n",
      "768\n",
      "232\n",
      "[768, 769, 770, 771, 772, 773, 774, 775, 776, 777, 778, 779, 780, 781, 782, 783, 784, 785, 786, 787, 788, 789, 790, 791, 792, 793, 794, 795, 796, 797, 798, 799, 800, 801, 802, 803, 804, 805, 806, 807, 808, 809, 810, 811, 812, 813, 814, 815, 816, 817, 818, 819, 820, 821, 822, 823, 824, 825, 826, 827, 828, 829, 830, 831, 832, 833, 834, 835, 836, 837, 838, 839, 840, 841, 842, 843, 844, 845, 846, 847, 848, 849, 850, 851, 852, 853, 854, 855, 856, 857, 858, 859, 860, 861, 862, 863, 864, 865, 866, 867, 868, 869, 870, 871, 872, 873, 874, 875, 876, 877, 878, 879, 880, 881, 882, 883, 884, 885, 886, 887, 888, 889, 890, 891, 892, 893, 894, 895, 896, 897, 898, 899, 900, 901, 902, 903, 904, 905, 906, 907, 908, 909, 910, 911, 912, 913, 914, 915, 916, 917, 918, 919, 920, 921, 922, 923, 924, 925, 926, 927, 928, 929, 930, 931, 932, 933, 934, 935, 936, 937, 938, 939, 940, 941, 942, 943, 944, 945, 946, 947, 948, 949, 950, 951, 952, 953, 954, 955, 956, 957, 958, 959, 960, 961, 962, 963, 964, 965, 966, 967, 968, 969, 970, 971, 972, 973, 974, 975, 976, 977, 978, 979, 980, 981, 982, 983, 984, 985, 986, 987, 988, 989, 990, 991, 992, 993, 994, 995, 996, 997, 998, 999]\n"
     ]
    }
   ],
   "source": [
    "if True:    \n",
    "    # If passed along, set the training seed now.\n",
    "    if args.seed is not None:\n",
    "        set_seeds(args.seed)\n",
    "    ####    \n",
    "    print(args.model_config_name_or_path)\n",
    "    config = UNet2DModel.load_config(args.model_config_name_or_path)\n",
    "    config['resnet_time_scale_shift'] = 'scale_shift'\n",
    "        \n",
    "    model = UNet2DModel.from_config(config) \n",
    "    print(model.dtype)\n",
    "    ####\n",
    "    noise_scheduler = DDPMScheduler(num_train_timesteps=args.ddpm_num_steps, beta_schedule=args.ddpm_beta_schedule)\n",
    "    ddim_noise_scheduler = DDIMScheduler.from_config(noise_scheduler.config)\n",
    "    ####    \n",
    "    model_path = '{}/unet/diffusion_pytorch_model.bin'.format(args.model_path)\n",
    "    print(model_path)\n",
    "    model.load_state_dict(torch.load(model_path))\n",
    "    model.cuda()\n",
    "    model.eval()\n",
    "    ####\n",
    "    \n",
    "    ddim_noise_scheduler.set_timesteps(args.ddpm_num_inference_steps, device='cuda')\n",
    "    ddim_noise_scheduler_timesteps = ddim_noise_scheduler.timesteps\n",
    "    print(ddim_noise_scheduler_timesteps)\n",
    "    \n",
    "    ####\n",
    "    dstore_keys = np.memmap('./saved/50000-0.5/gen/gen_latents.npy', \n",
    "                                dtype=np.float32, \n",
    "                                mode='w+', \n",
    "                                shape=(len(dataset), \n",
    "                                       args.ddpm_num_inference_steps, \n",
    "                                       3, 32, 32)\n",
    "                               )\n",
    "    ####\n",
    "    total=len(dataset)\n",
    "    for step, i in enumerate(range(0, total, args.train_batch_size)):\n",
    "        print(i)\n",
    "        bsz = args.train_batch_size\n",
    "        if total-i<args.train_batch_size:\n",
    "            bsz = total-i\n",
    "        print(bsz)\n",
    "        print([i+j for j in range(bsz)])\n",
    "        generator = [torch.Generator('cpu').manual_seed(args.gen_seed*total+i+j) for j in range(bsz)]\n",
    "        ####\n",
    "        latents = randn_tensor((len(generator), 3, 32, 32), generator=generator, dtype=torch.float32)\n",
    "        latents = latents.cuda()\n",
    "        ####\n",
    "        for index_t, t in enumerate(ddim_noise_scheduler_timesteps[:]):\n",
    "            with torch.no_grad():\n",
    "                noise_pred = model(latents, t).sample\n",
    "                        \n",
    "            prev_timestep = t - ddim_noise_scheduler.config.num_train_timesteps // ddim_noise_scheduler.num_inference_steps\n",
    "\n",
    "            alpha_prod_t = ddim_noise_scheduler.alphas_cumprod[t]\n",
    "            alpha_prod_t_prev = (\n",
    "                        ddim_noise_scheduler.alphas_cumprod[prev_timestep]\n",
    "                        if prev_timestep >= 0\n",
    "                        else ddim_noise_scheduler.final_alpha_cumprod\n",
    "                    )\n",
    "            beta_prod_t = 1 - alpha_prod_t\n",
    "            ####\n",
    "            pred_original_sample = (latents - beta_prod_t ** (0.5) * noise_pred) / alpha_prod_t ** (0.5)\n",
    "            #### 重要\n",
    "            pred_original_sample = pred_original_sample.clamp(\n",
    "                -1.0, 1.0\n",
    "            )\n",
    "            ####\n",
    "            pred_epsilon = noise_pred\n",
    "            pred_sample_direction = (1 - alpha_prod_t_prev) ** (0.5) * pred_epsilon\n",
    "            prev_sample = alpha_prod_t_prev ** (0.5) * pred_original_sample + pred_sample_direction\n",
    "            ####\n",
    "            dstore_keys[step*args.train_batch_size:step*args.train_batch_size+bsz, index_t] = pred_original_sample.cpu().numpy()\n",
    "            latents = prev_sample\n",
    "            ####        \n",
    "        # break"
   ]
  },
  {
   "cell_type": "code",
   "execution_count": null,
   "id": "3a648adc-4f3e-47b5-b191-eddd6615a3a9",
   "metadata": {},
   "outputs": [],
   "source": []
  },
  {
   "cell_type": "code",
   "execution_count": null,
   "id": "5e7b0911-c04f-4a08-b319-93c73278bca6",
   "metadata": {},
   "outputs": [],
   "source": []
  },
  {
   "cell_type": "code",
   "execution_count": null,
   "id": "f80ee7ce-e8b3-4794-9fb7-d234d52035cc",
   "metadata": {},
   "outputs": [],
   "source": []
  },
  {
   "cell_type": "code",
   "execution_count": 15,
   "id": "8cc9d29d-5320-4895-abbd-585d5f7c1db1",
   "metadata": {},
   "outputs": [
    {
     "name": "stdout",
     "output_type": "stream",
     "text": [
      "cuda:0\n",
      "DDIM!\n"
     ]
    }
   ],
   "source": [
    "if True:\n",
    "    set_seeds(42)\n",
    "    pipeline = DDIMPipeline(\n",
    "        unet=model,\n",
    "        scheduler=noise_scheduler,\n",
    "    ).to('cuda')\n",
    "    print(pipeline.device)\n",
    "    print('DDIM!')"
   ]
  },
  {
   "cell_type": "code",
   "execution_count": null,
   "id": "8e0801a6-df51-46ae-97a4-7123257b4387",
   "metadata": {},
   "outputs": [],
   "source": []
  },
  {
   "cell_type": "code",
   "execution_count": 16,
   "id": "f1c289ae-b30f-4de5-a129-b21f67a22a85",
   "metadata": {},
   "outputs": [],
   "source": [
    "i = -2"
   ]
  },
  {
   "cell_type": "code",
   "execution_count": 17,
   "id": "3c9eccc0-30a2-45e4-96ac-9c131b92805b",
   "metadata": {},
   "outputs": [],
   "source": [
    "image = torch.from_numpy(dstore_keys[i])"
   ]
  },
  {
   "cell_type": "code",
   "execution_count": 18,
   "id": "6374dd4f-8b4d-4ef3-b9a0-bd7b1d284828",
   "metadata": {},
   "outputs": [],
   "source": [
    "image = (image / 2 + 0.5).clamp(0, 1)\n",
    "image = image.cpu().permute(0, 2, 3, 1).numpy()"
   ]
  },
  {
   "cell_type": "code",
   "execution_count": 19,
   "id": "07746a75-9ac9-459c-906c-15958ccd781d",
   "metadata": {},
   "outputs": [],
   "source": [
    "images = pipeline.numpy_to_pil(image)"
   ]
  },
  {
   "cell_type": "code",
   "execution_count": 20,
   "id": "2bcd74c3-1dad-44dc-a69a-f246254dc727",
   "metadata": {},
   "outputs": [
    {
     "data": {
      "image/png": "[encoded data removed]",
      "text/plain": [
       "<PIL.Image.Image image mode=RGB size=32x32>"
      ]
     },
     "execution_count": 20,
     "metadata": {},
     "output_type": "execute_result"
    }
   ],
   "source": [
    "images[0]"
   ]
  },
  {
   "cell_type": "code",
   "execution_count": 21,
   "id": "567a8362-dd5d-4a76-b509-40b7237954dc",
   "metadata": {},
   "outputs": [
    {
     "data": {
      "image/png": "[encoded data removed]",
      "text/plain": [
       "<PIL.Image.Image image mode=RGB size=32x32>"
      ]
     },
     "execution_count": 21,
     "metadata": {},
     "output_type": "execute_result"
    }
   ],
   "source": [
    "images[5]"
   ]
  },
  {
   "cell_type": "code",
   "execution_count": 22,
   "id": "22ea39aa-20a2-40ab-bb46-f3a32a5b1c2c",
   "metadata": {},
   "outputs": [
    {
     "data": {
      "image/png": "[encoded data removed]",
      "text/plain": [
       "<PIL.Image.Image image mode=RGB size=32x32>"
      ]
     },
     "execution_count": 22,
     "metadata": {},
     "output_type": "execute_result"
    }
   ],
   "source": [
    "images[10]"
   ]
  },
  {
   "cell_type": "code",
   "execution_count": 23,
   "id": "b4f8504b-5510-41f5-8e5c-afbf3b5f9007",
   "metadata": {},
   "outputs": [
    {
     "data": {
      "image/png": "[encoded data removed]",
      "text/plain": [
       "<PIL.Image.Image image mode=RGB size=32x32>"
      ]
     },
     "execution_count": 23,
     "metadata": {},
     "output_type": "execute_result"
    }
   ],
   "source": [
    "images[15]"
   ]
  },
  {
   "cell_type": "code",
   "execution_count": 24,
   "id": "88e77029-583f-4752-93d1-832408f766c9",
   "metadata": {},
   "outputs": [
    {
     "data": {
      "image/png": "[encoded data removed]",
      "text/plain": [
       "<PIL.Image.Image image mode=RGB size=32x32>"
      ]
     },
     "execution_count": 24,
     "metadata": {},
     "output_type": "execute_result"
    }
   ],
   "source": [
    "images[20]"
   ]
  },
  {
   "cell_type": "code",
   "execution_count": 25,
   "id": "14eaa376-781f-488a-b5e4-617d05b03432",
   "metadata": {},
   "outputs": [
    {
     "data": {
      "image/png": "[encoded data removed]",
      "text/plain": [
       "<PIL.Image.Image image mode=RGB size=32x32>"
      ]
     },
     "execution_count": 25,
     "metadata": {},
     "output_type": "execute_result"
    }
   ],
   "source": [
    "images[25]"
   ]
  },
  {
   "cell_type": "code",
   "execution_count": 26,
   "id": "5863f845-09f2-4d23-9c4e-51fc19b5a2fe",
   "metadata": {},
   "outputs": [
    {
     "data": {
      "image/png": "[encoded data removed]",
      "text/plain": [
       "<PIL.Image.Image image mode=RGB size=32x32>"
      ]
     },
     "execution_count": 26,
     "metadata": {},
     "output_type": "execute_result"
    }
   ],
   "source": [
    "images[30]"
   ]
  },
  {
   "cell_type": "code",
   "execution_count": 27,
   "id": "0e634d9a-225a-4c08-8e1b-c54696cf5c61",
   "metadata": {},
   "outputs": [
    {
     "data": {
      "image/png": "[encoded data removed]",
      "text/plain": [
       "<PIL.Image.Image image mode=RGB size=32x32>"
      ]
     },
     "execution_count": 27,
     "metadata": {},
     "output_type": "execute_result"
    }
   ],
   "source": [
    "images[35]"
   ]
  },
  {
   "cell_type": "code",
   "execution_count": 28,
   "id": "bffdf81c-6df5-42f1-8736-46a5ddc794d6",
   "metadata": {},
   "outputs": [
    {
     "data": {
      "image/png": "[encoded data removed]",
      "text/plain": [
       "<PIL.Image.Image image mode=RGB size=32x32>"
      ]
     },
     "execution_count": 28,
     "metadata": {},
     "output_type": "execute_result"
    }
   ],
   "source": [
    "images[40]"
   ]
  },
  {
   "cell_type": "code",
   "execution_count": 29,
   "id": "0b27d726-26fe-4350-828e-53661fa4c29b",
   "metadata": {},
   "outputs": [
    {
     "data": {
      "image/png": "[encoded data removed]",
      "text/plain": [
       "<PIL.Image.Image image mode=RGB size=32x32>"
      ]
     },
     "execution_count": 29,
     "metadata": {},
     "output_type": "execute_result"
    }
   ],
   "source": [
    "images[45]"
   ]
  },
  {
   "cell_type": "code",
   "execution_count": 30,
   "id": "ed2c0144-895a-49e2-8484-a5e1b472c68f",
   "metadata": {},
   "outputs": [
    {
     "data": {
      "image/png": "[encoded data removed]",
      "text/plain": [
       "<PIL.Image.Image image mode=RGB size=32x32>"
      ]
     },
     "execution_count": 30,
     "metadata": {},
     "output_type": "execute_result"
    }
   ],
   "source": [
    "images[-1]"
   ]
  },
  {
   "cell_type": "code",
   "execution_count": 31,
   "id": "d9219b6b-4fd4-41e4-94c1-06159a710ee1",
   "metadata": {},
   "outputs": [
    {
     "data": {
      "image/png": "[encoded data removed]",
      "text/plain": [
       "<PIL.PngImagePlugin.PngImageFile image mode=RGB size=32x32>"
      ]
     },
     "execution_count": 31,
     "metadata": {},
     "output_type": "execute_result"
    }
   ],
   "source": [
    "dataset[i]['img']"
   ]
  },
  {
   "cell_type": "code",
   "execution_count": null,
   "id": "9f1f1d9d-37ad-4291-baf8-779af48aeb1c",
   "metadata": {},
   "outputs": [],
   "source": []
  },
  {
   "cell_type": "code",
   "execution_count": null,
   "id": "9da04307-09f5-47da-b425-b745bda5986a",
   "metadata": {},
   "outputs": [],
   "source": []
  },
  {
   "cell_type": "code",
   "execution_count": null,
   "id": "b9b514b5-f823-4a8b-8235-32da85a695c3",
   "metadata": {},
   "outputs": [],
   "source": []
  }
 ],
 "metadata": {
  "kernelspec": {
   "display_name": "Python 3 (ipykernel)",
   "language": "python",
   "name": "python3"
  },
  "language_info": {
   "codemirror_mode": {
    "name": "ipython",
    "version": 3
   },
   "file_extension": ".py",
   "mimetype": "text/x-python",
   "name": "python",
   "nbconvert_exporter": "python",
   "pygments_lexer": "ipython3",
   "version": "3.8.10"
  }
 },
 "nbformat": 4,
 "nbformat_minor": 5
}
