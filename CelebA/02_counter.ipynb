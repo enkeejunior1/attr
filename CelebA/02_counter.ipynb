{
 "cells": [
  {
   "cell_type": "code",
   "execution_count": 1,
   "id": "f04439e8-3684-4e71-a58d-1b222008c74d",
   "metadata": {},
   "outputs": [],
   "source": [
    "import os\n",
    "\n",
    "os.environ[\"CUDA_DEVICE_ORDER\"]=\"PCI_BUS_ID\"   \n",
    "os.environ[\"CUDA_VISIBLE_DEVICES\"]='0'\n",
    "os.environ[\"HF_HOME\"]=\"~/codes/.cache/huggingface\""
   ]
  },
  {
   "cell_type": "code",
   "execution_count": null,
   "id": "379a0758-ffa9-4c0f-8828-6976b5752918",
   "metadata": {},
   "outputs": [],
   "source": []
  },
  {
   "cell_type": "code",
   "execution_count": 2,
   "id": "a7c672bc-d87e-450e-bf89-86799b5ba6ee",
   "metadata": {},
   "outputs": [],
   "source": [
    "from accelerate.utils import ProjectConfiguration, set_seed"
   ]
  },
  {
   "cell_type": "code",
   "execution_count": 3,
   "id": "8820a3ed-9b69-423b-868b-79c11c67762e",
   "metadata": {},
   "outputs": [],
   "source": [
    "import torch\n",
    "import random\n",
    "import numpy as np\n",
    "\n",
    "def set_seeds(seed):\n",
    "    set_seed(seed)\n",
    "    random.seed(seed)\n",
    "    np.random.seed(seed)\n",
    "    torch.manual_seed(seed)\n",
    "    torch.backends.cudnn.deterministic = True\n",
    "    torch.backends.cudnn.benchmark = False\n",
    "    \n",
    "set_seeds(42)"
   ]
  },
  {
   "cell_type": "code",
   "execution_count": 4,
   "id": "e9bc9238-5dc8-4d43-8551-a2ce62bfd120",
   "metadata": {},
   "outputs": [],
   "source": [
    "from torchvision import transforms\n",
    "from diffusers import DDPMPipeline, DDIMPipeline, DDPMScheduler, DDIMScheduler, UNet2DModel"
   ]
  },
  {
   "cell_type": "code",
   "execution_count": 5,
   "id": "af017ec5-da0e-43ed-b9d1-8544336a4736",
   "metadata": {},
   "outputs": [],
   "source": [
    "import pickle"
   ]
  },
  {
   "cell_type": "code",
   "execution_count": 6,
   "id": "1c7aa6f4-4adf-494a-bfd2-dd414ef7d8e6",
   "metadata": {},
   "outputs": [
    {
     "data": {
      "text/plain": [
       "'config.json'"
      ]
     },
     "execution_count": 6,
     "metadata": {},
     "output_type": "execute_result"
    }
   ],
   "source": [
    "class Args():\n",
    "    \n",
    "    # model_path = \"./saved/5000-0.5/counter/ddpm-sub-0-500-Ours-0\"\n",
    "    model_config_name_or_path=\"config.json\"\n",
    "    \n",
    "    dataset_name=\"cifar10\"\n",
    "\n",
    "    resolution=64\n",
    "    center_crop=True\n",
    "    random_flip=False\n",
    "\n",
    "    dataloader_num_workers=8\n",
    "    \n",
    "    seed=42\n",
    "    gen_seed=0    \n",
    "\n",
    "    train_batch_size=256\n",
    "\n",
    "    ddpm_num_steps=1000\n",
    "    ddpm_num_inference_steps=50\n",
    "    ddpm_beta_schedule='linear'\n",
    "\n",
    "args=Args()\n",
    "args.model_config_name_or_path"
   ]
  },
  {
   "cell_type": "code",
   "execution_count": 7,
   "id": "11f8d9d3-a6f0-4113-802d-964b459666de",
   "metadata": {},
   "outputs": [
    {
     "data": {
      "text/plain": [
       "[993,\n",
       " 859,\n",
       " 298,\n",
       " 553,\n",
       " 672,\n",
       " 971,\n",
       " 27,\n",
       " 231,\n",
       " 306,\n",
       " 706,\n",
       " 496,\n",
       " 558,\n",
       " 784,\n",
       " 239,\n",
       " 578,\n",
       " 55,\n",
       " 906,\n",
       " 175,\n",
       " 14,\n",
       " 77,\n",
       " 31,\n",
       " 481,\n",
       " 310,\n",
       " 311,\n",
       " 883,\n",
       " 788,\n",
       " 45,\n",
       " 103,\n",
       " 760,\n",
       " 1,\n",
       " 823,\n",
       " 710,\n",
       " 614,\n",
       " 790,\n",
       " 408,\n",
       " 736,\n",
       " 957,\n",
       " 366,\n",
       " 918,\n",
       " 267,\n",
       " 230,\n",
       " 996,\n",
       " 635,\n",
       " 698,\n",
       " 251,\n",
       " 783,\n",
       " 819,\n",
       " 141,\n",
       " 316,\n",
       " 587,\n",
       " 331,\n",
       " 295,\n",
       " 262,\n",
       " 432,\n",
       " 862,\n",
       " 582,\n",
       " 272,\n",
       " 270,\n",
       " 987,\n",
       " 319]"
      ]
     },
     "execution_count": 7,
     "metadata": {},
     "output_type": "execute_result"
    }
   ],
   "source": [
    "with open('./data/indices/5000-0.5/counter/idx-gen-sampled.pkl', 'rb') as handle:\n",
    "    test_index = pickle.load(handle)\n",
    "test_index"
   ]
  },
  {
   "cell_type": "code",
   "execution_count": null,
   "id": "3ae2ce82-e7e2-41bc-a208-8c63c4262b38",
   "metadata": {},
   "outputs": [],
   "source": []
  },
  {
   "cell_type": "code",
   "execution_count": null,
   "id": "29da63bc-c8e4-4732-8040-649d6fd8b7a8",
   "metadata": {},
   "outputs": [],
   "source": []
  },
  {
   "cell_type": "code",
   "execution_count": null,
   "id": "0f4b8133-2eda-41cb-9ec9-85b8e964ca55",
   "metadata": {},
   "outputs": [],
   "source": []
  },
  {
   "cell_type": "code",
   "execution_count": 8,
   "id": "4d8b3ad8-531b-4d8a-acbe-c5a83aaca077",
   "metadata": {
    "scrolled": true
   },
   "outputs": [
    {
     "name": "stdout",
     "output_type": "stream",
     "text": [
      "0 993\n",
      "config.json\n",
      "torch.float32\n",
      "./saved/5000-0.5/counter/ddpm-sub-0-1000-Random-42/unet/diffusion_pytorch_model.bin\n",
      "cuda:0\n",
      "DDIM!\n"
     ]
    },
    {
     "data": {
      "application/vnd.jupyter.widget-view+json": {
       "model_id": "c2c1875c8f5d41048606cbb90cf59d23",
       "version_major": 2,
       "version_minor": 0
      },
      "text/plain": [
       "  0%|          | 0/50 [00:00<?, ?it/s]"
      ]
     },
     "metadata": {},
     "output_type": "display_data"
    },
    {
     "name": "stdout",
     "output_type": "stream",
     "text": [
      "config.json\n",
      "torch.float32\n",
      "./saved/5000-0.5/counter/ddpm-sub-0-1000-TRAK-42/unet/diffusion_pytorch_model.bin\n",
      "cuda:0\n",
      "DDIM!\n"
     ]
    },
    {
     "data": {
      "application/vnd.jupyter.widget-view+json": {
       "model_id": "5a7be951b5b64e30992ed2145c79ac78",
       "version_major": 2,
       "version_minor": 0
      },
      "text/plain": [
       "  0%|          | 0/50 [00:00<?, ?it/s]"
      ]
     },
     "metadata": {},
     "output_type": "display_data"
    },
    {
     "name": "stdout",
     "output_type": "stream",
     "text": [
      "config.json\n",
      "torch.float32\n",
      "./saved/5000-0.5/counter/ddpm-sub-0-1000-Ours-42/unet/diffusion_pytorch_model.bin\n",
      "cuda:0\n",
      "DDIM!\n"
     ]
    },
    {
     "data": {
      "application/vnd.jupyter.widget-view+json": {
       "model_id": "a82658ba549b4b4e890f10140f67ba6d",
       "version_major": 2,
       "version_minor": 0
      },
      "text/plain": [
       "  0%|          | 0/50 [00:00<?, ?it/s]"
      ]
     },
     "metadata": {},
     "output_type": "display_data"
    },
    {
     "name": "stdout",
     "output_type": "stream",
     "text": [
      "1 859\n",
      "config.json\n",
      "torch.float32\n",
      "./saved/5000-0.5/counter/ddpm-sub-1-1000-Random-42/unet/diffusion_pytorch_model.bin\n",
      "cuda:0\n",
      "DDIM!\n"
     ]
    },
    {
     "data": {
      "application/vnd.jupyter.widget-view+json": {
       "model_id": "7da4a8b807a2483a9e16a58d7036d1b0",
       "version_major": 2,
       "version_minor": 0
      },
      "text/plain": [
       "  0%|          | 0/50 [00:00<?, ?it/s]"
      ]
     },
     "metadata": {},
     "output_type": "display_data"
    },
    {
     "name": "stdout",
     "output_type": "stream",
     "text": [
      "config.json\n",
      "torch.float32\n",
      "./saved/5000-0.5/counter/ddpm-sub-1-1000-TRAK-42/unet/diffusion_pytorch_model.bin\n",
      "cuda:0\n",
      "DDIM!\n"
     ]
    },
    {
     "data": {
      "application/vnd.jupyter.widget-view+json": {
       "model_id": "c55b3673c9354ad293cb96d9423d6f94",
       "version_major": 2,
       "version_minor": 0
      },
      "text/plain": [
       "  0%|          | 0/50 [00:00<?, ?it/s]"
      ]
     },
     "metadata": {},
     "output_type": "display_data"
    },
    {
     "name": "stdout",
     "output_type": "stream",
     "text": [
      "config.json\n",
      "torch.float32\n",
      "./saved/5000-0.5/counter/ddpm-sub-1-1000-Ours-42/unet/diffusion_pytorch_model.bin\n",
      "cuda:0\n",
      "DDIM!\n"
     ]
    },
    {
     "data": {
      "application/vnd.jupyter.widget-view+json": {
       "model_id": "56640a43a46a445d9932383e93e675af",
       "version_major": 2,
       "version_minor": 0
      },
      "text/plain": [
       "  0%|          | 0/50 [00:00<?, ?it/s]"
      ]
     },
     "metadata": {},
     "output_type": "display_data"
    },
    {
     "name": "stdout",
     "output_type": "stream",
     "text": [
      "2 298\n",
      "config.json\n",
      "torch.float32\n",
      "./saved/5000-0.5/counter/ddpm-sub-2-1000-Random-42/unet/diffusion_pytorch_model.bin\n",
      "cuda:0\n",
      "DDIM!\n"
     ]
    },
    {
     "data": {
      "application/vnd.jupyter.widget-view+json": {
       "model_id": "c43a714252bb4651a84f2fb8836b23c0",
       "version_major": 2,
       "version_minor": 0
      },
      "text/plain": [
       "  0%|          | 0/50 [00:00<?, ?it/s]"
      ]
     },
     "metadata": {},
     "output_type": "display_data"
    },
    {
     "name": "stdout",
     "output_type": "stream",
     "text": [
      "config.json\n",
      "torch.float32\n",
      "./saved/5000-0.5/counter/ddpm-sub-2-1000-TRAK-42/unet/diffusion_pytorch_model.bin\n",
      "cuda:0\n",
      "DDIM!\n"
     ]
    },
    {
     "data": {
      "application/vnd.jupyter.widget-view+json": {
       "model_id": "c975edc606c44c05beb9083f73778869",
       "version_major": 2,
       "version_minor": 0
      },
      "text/plain": [
       "  0%|          | 0/50 [00:00<?, ?it/s]"
      ]
     },
     "metadata": {},
     "output_type": "display_data"
    },
    {
     "name": "stdout",
     "output_type": "stream",
     "text": [
      "config.json\n",
      "torch.float32\n",
      "./saved/5000-0.5/counter/ddpm-sub-2-1000-Ours-42/unet/diffusion_pytorch_model.bin\n",
      "cuda:0\n",
      "DDIM!\n"
     ]
    },
    {
     "data": {
      "application/vnd.jupyter.widget-view+json": {
       "model_id": "2c8752427df2468196c298b6157e02eb",
       "version_major": 2,
       "version_minor": 0
      },
      "text/plain": [
       "  0%|          | 0/50 [00:00<?, ?it/s]"
      ]
     },
     "metadata": {},
     "output_type": "display_data"
    },
    {
     "name": "stdout",
     "output_type": "stream",
     "text": [
      "3 553\n",
      "config.json\n",
      "torch.float32\n",
      "./saved/5000-0.5/counter/ddpm-sub-3-1000-Random-42/unet/diffusion_pytorch_model.bin\n",
      "cuda:0\n",
      "DDIM!\n"
     ]
    },
    {
     "data": {
      "application/vnd.jupyter.widget-view+json": {
       "model_id": "673ccbde2adf4c2cbd783a2eafd3de45",
       "version_major": 2,
       "version_minor": 0
      },
      "text/plain": [
       "  0%|          | 0/50 [00:00<?, ?it/s]"
      ]
     },
     "metadata": {},
     "output_type": "display_data"
    },
    {
     "name": "stdout",
     "output_type": "stream",
     "text": [
      "config.json\n",
      "torch.float32\n",
      "./saved/5000-0.5/counter/ddpm-sub-3-1000-TRAK-42/unet/diffusion_pytorch_model.bin\n",
      "cuda:0\n",
      "DDIM!\n"
     ]
    },
    {
     "data": {
      "application/vnd.jupyter.widget-view+json": {
       "model_id": "05549cb0c3d24611b0d532e5aab6fbf5",
       "version_major": 2,
       "version_minor": 0
      },
      "text/plain": [
       "  0%|          | 0/50 [00:00<?, ?it/s]"
      ]
     },
     "metadata": {},
     "output_type": "display_data"
    },
    {
     "name": "stdout",
     "output_type": "stream",
     "text": [
      "config.json\n",
      "torch.float32\n",
      "./saved/5000-0.5/counter/ddpm-sub-3-1000-Ours-42/unet/diffusion_pytorch_model.bin\n",
      "cuda:0\n",
      "DDIM!\n"
     ]
    },
    {
     "data": {
      "application/vnd.jupyter.widget-view+json": {
       "model_id": "98a0e2c59b8946d2b9205980636c5183",
       "version_major": 2,
       "version_minor": 0
      },
      "text/plain": [
       "  0%|          | 0/50 [00:00<?, ?it/s]"
      ]
     },
     "metadata": {},
     "output_type": "display_data"
    },
    {
     "name": "stdout",
     "output_type": "stream",
     "text": [
      "4 672\n",
      "config.json\n",
      "torch.float32\n",
      "./saved/5000-0.5/counter/ddpm-sub-4-1000-Random-42/unet/diffusion_pytorch_model.bin\n",
      "cuda:0\n",
      "DDIM!\n"
     ]
    },
    {
     "data": {
      "application/vnd.jupyter.widget-view+json": {
       "model_id": "a40593ee752e4c428ec65e890a1cfb4a",
       "version_major": 2,
       "version_minor": 0
      },
      "text/plain": [
       "  0%|          | 0/50 [00:00<?, ?it/s]"
      ]
     },
     "metadata": {},
     "output_type": "display_data"
    },
    {
     "name": "stdout",
     "output_type": "stream",
     "text": [
      "config.json\n",
      "torch.float32\n",
      "./saved/5000-0.5/counter/ddpm-sub-4-1000-TRAK-42/unet/diffusion_pytorch_model.bin\n",
      "cuda:0\n",
      "DDIM!\n"
     ]
    },
    {
     "data": {
      "application/vnd.jupyter.widget-view+json": {
       "model_id": "d8c29c6dc85c4e2aa8d3c396b03990aa",
       "version_major": 2,
       "version_minor": 0
      },
      "text/plain": [
       "  0%|          | 0/50 [00:00<?, ?it/s]"
      ]
     },
     "metadata": {},
     "output_type": "display_data"
    },
    {
     "name": "stdout",
     "output_type": "stream",
     "text": [
      "config.json\n",
      "torch.float32\n",
      "./saved/5000-0.5/counter/ddpm-sub-4-1000-Ours-42/unet/diffusion_pytorch_model.bin\n",
      "cuda:0\n",
      "DDIM!\n"
     ]
    },
    {
     "data": {
      "application/vnd.jupyter.widget-view+json": {
       "model_id": "429daa9f55a44787b6ed44fd5278e980",
       "version_major": 2,
       "version_minor": 0
      },
      "text/plain": [
       "  0%|          | 0/50 [00:00<?, ?it/s]"
      ]
     },
     "metadata": {},
     "output_type": "display_data"
    },
    {
     "name": "stdout",
     "output_type": "stream",
     "text": [
      "5 971\n",
      "config.json\n",
      "torch.float32\n",
      "./saved/5000-0.5/counter/ddpm-sub-5-1000-Random-42/unet/diffusion_pytorch_model.bin\n",
      "cuda:0\n",
      "DDIM!\n"
     ]
    },
    {
     "data": {
      "application/vnd.jupyter.widget-view+json": {
       "model_id": "1f556f3d2a054a0784be4277d7bdc642",
       "version_major": 2,
       "version_minor": 0
      },
      "text/plain": [
       "  0%|          | 0/50 [00:00<?, ?it/s]"
      ]
     },
     "metadata": {},
     "output_type": "display_data"
    },
    {
     "name": "stdout",
     "output_type": "stream",
     "text": [
      "config.json\n",
      "torch.float32\n",
      "./saved/5000-0.5/counter/ddpm-sub-5-1000-TRAK-42/unet/diffusion_pytorch_model.bin\n",
      "cuda:0\n",
      "DDIM!\n"
     ]
    },
    {
     "data": {
      "application/vnd.jupyter.widget-view+json": {
       "model_id": "aef231aec86d4b64a9bfd0175aecdba0",
       "version_major": 2,
       "version_minor": 0
      },
      "text/plain": [
       "  0%|          | 0/50 [00:00<?, ?it/s]"
      ]
     },
     "metadata": {},
     "output_type": "display_data"
    },
    {
     "name": "stdout",
     "output_type": "stream",
     "text": [
      "config.json\n",
      "torch.float32\n",
      "./saved/5000-0.5/counter/ddpm-sub-5-1000-Ours-42/unet/diffusion_pytorch_model.bin\n",
      "cuda:0\n",
      "DDIM!\n"
     ]
    },
    {
     "data": {
      "application/vnd.jupyter.widget-view+json": {
       "model_id": "8363f3a29c154bd489dcf2f74de4e332",
       "version_major": 2,
       "version_minor": 0
      },
      "text/plain": [
       "  0%|          | 0/50 [00:00<?, ?it/s]"
      ]
     },
     "metadata": {},
     "output_type": "display_data"
    },
    {
     "name": "stdout",
     "output_type": "stream",
     "text": [
      "6 27\n",
      "config.json\n",
      "torch.float32\n",
      "./saved/5000-0.5/counter/ddpm-sub-6-1000-Random-42/unet/diffusion_pytorch_model.bin\n",
      "cuda:0\n",
      "DDIM!\n"
     ]
    },
    {
     "data": {
      "application/vnd.jupyter.widget-view+json": {
       "model_id": "b3e304054dcf4977887660d1bf25f61c",
       "version_major": 2,
       "version_minor": 0
      },
      "text/plain": [
       "  0%|          | 0/50 [00:00<?, ?it/s]"
      ]
     },
     "metadata": {},
     "output_type": "display_data"
    },
    {
     "name": "stdout",
     "output_type": "stream",
     "text": [
      "config.json\n",
      "torch.float32\n",
      "./saved/5000-0.5/counter/ddpm-sub-6-1000-TRAK-42/unet/diffusion_pytorch_model.bin\n",
      "cuda:0\n",
      "DDIM!\n"
     ]
    },
    {
     "data": {
      "application/vnd.jupyter.widget-view+json": {
       "model_id": "9ac157a77e2a4806b021706b22775cce",
       "version_major": 2,
       "version_minor": 0
      },
      "text/plain": [
       "  0%|          | 0/50 [00:00<?, ?it/s]"
      ]
     },
     "metadata": {},
     "output_type": "display_data"
    },
    {
     "name": "stdout",
     "output_type": "stream",
     "text": [
      "config.json\n",
      "torch.float32\n",
      "./saved/5000-0.5/counter/ddpm-sub-6-1000-Ours-42/unet/diffusion_pytorch_model.bin\n",
      "cuda:0\n",
      "DDIM!\n"
     ]
    },
    {
     "data": {
      "application/vnd.jupyter.widget-view+json": {
       "model_id": "0ea5171a552b4ee29a08fcc9ecf37794",
       "version_major": 2,
       "version_minor": 0
      },
      "text/plain": [
       "  0%|          | 0/50 [00:00<?, ?it/s]"
      ]
     },
     "metadata": {},
     "output_type": "display_data"
    },
    {
     "name": "stdout",
     "output_type": "stream",
     "text": [
      "7 231\n",
      "config.json\n",
      "torch.float32\n",
      "./saved/5000-0.5/counter/ddpm-sub-7-1000-Random-42/unet/diffusion_pytorch_model.bin\n",
      "cuda:0\n",
      "DDIM!\n"
     ]
    },
    {
     "data": {
      "application/vnd.jupyter.widget-view+json": {
       "model_id": "94a9781fc53e43789cba1deae6d8d237",
       "version_major": 2,
       "version_minor": 0
      },
      "text/plain": [
       "  0%|          | 0/50 [00:00<?, ?it/s]"
      ]
     },
     "metadata": {},
     "output_type": "display_data"
    },
    {
     "name": "stdout",
     "output_type": "stream",
     "text": [
      "config.json\n",
      "torch.float32\n",
      "./saved/5000-0.5/counter/ddpm-sub-7-1000-TRAK-42/unet/diffusion_pytorch_model.bin\n",
      "cuda:0\n",
      "DDIM!\n"
     ]
    },
    {
     "data": {
      "application/vnd.jupyter.widget-view+json": {
       "model_id": "8bcf089c897b4addbab1b5f8318e31bb",
       "version_major": 2,
       "version_minor": 0
      },
      "text/plain": [
       "  0%|          | 0/50 [00:00<?, ?it/s]"
      ]
     },
     "metadata": {},
     "output_type": "display_data"
    },
    {
     "name": "stdout",
     "output_type": "stream",
     "text": [
      "config.json\n",
      "torch.float32\n",
      "./saved/5000-0.5/counter/ddpm-sub-7-1000-Ours-42/unet/diffusion_pytorch_model.bin\n",
      "cuda:0\n",
      "DDIM!\n"
     ]
    },
    {
     "data": {
      "application/vnd.jupyter.widget-view+json": {
       "model_id": "ae86e3958f79450e9e2312f75ed107ca",
       "version_major": 2,
       "version_minor": 0
      },
      "text/plain": [
       "  0%|          | 0/50 [00:00<?, ?it/s]"
      ]
     },
     "metadata": {},
     "output_type": "display_data"
    },
    {
     "name": "stdout",
     "output_type": "stream",
     "text": [
      "8 306\n",
      "config.json\n",
      "torch.float32\n",
      "./saved/5000-0.5/counter/ddpm-sub-8-1000-Random-42/unet/diffusion_pytorch_model.bin\n",
      "cuda:0\n",
      "DDIM!\n"
     ]
    },
    {
     "data": {
      "application/vnd.jupyter.widget-view+json": {
       "model_id": "fd9096388d634e8680a096026c7057b7",
       "version_major": 2,
       "version_minor": 0
      },
      "text/plain": [
       "  0%|          | 0/50 [00:00<?, ?it/s]"
      ]
     },
     "metadata": {},
     "output_type": "display_data"
    },
    {
     "name": "stdout",
     "output_type": "stream",
     "text": [
      "config.json\n",
      "torch.float32\n",
      "./saved/5000-0.5/counter/ddpm-sub-8-1000-TRAK-42/unet/diffusion_pytorch_model.bin\n",
      "cuda:0\n",
      "DDIM!\n"
     ]
    },
    {
     "data": {
      "application/vnd.jupyter.widget-view+json": {
       "model_id": "e0dfa3dd1c884bb5a7d15fb9af8db51b",
       "version_major": 2,
       "version_minor": 0
      },
      "text/plain": [
       "  0%|          | 0/50 [00:00<?, ?it/s]"
      ]
     },
     "metadata": {},
     "output_type": "display_data"
    },
    {
     "name": "stdout",
     "output_type": "stream",
     "text": [
      "config.json\n",
      "torch.float32\n",
      "./saved/5000-0.5/counter/ddpm-sub-8-1000-Ours-42/unet/diffusion_pytorch_model.bin\n",
      "cuda:0\n",
      "DDIM!\n"
     ]
    },
    {
     "data": {
      "application/vnd.jupyter.widget-view+json": {
       "model_id": "6d60ed3e13e14f1298a194afa05fad83",
       "version_major": 2,
       "version_minor": 0
      },
      "text/plain": [
       "  0%|          | 0/50 [00:00<?, ?it/s]"
      ]
     },
     "metadata": {},
     "output_type": "display_data"
    },
    {
     "name": "stdout",
     "output_type": "stream",
     "text": [
      "9 706\n",
      "config.json\n",
      "torch.float32\n",
      "./saved/5000-0.5/counter/ddpm-sub-9-1000-Random-42/unet/diffusion_pytorch_model.bin\n",
      "cuda:0\n",
      "DDIM!\n"
     ]
    },
    {
     "data": {
      "application/vnd.jupyter.widget-view+json": {
       "model_id": "a1287072e3ba4e16a2ccaf1de9534a96",
       "version_major": 2,
       "version_minor": 0
      },
      "text/plain": [
       "  0%|          | 0/50 [00:00<?, ?it/s]"
      ]
     },
     "metadata": {},
     "output_type": "display_data"
    },
    {
     "name": "stdout",
     "output_type": "stream",
     "text": [
      "config.json\n",
      "torch.float32\n",
      "./saved/5000-0.5/counter/ddpm-sub-9-1000-TRAK-42/unet/diffusion_pytorch_model.bin\n",
      "cuda:0\n",
      "DDIM!\n"
     ]
    },
    {
     "data": {
      "application/vnd.jupyter.widget-view+json": {
       "model_id": "23141432229d42bb969376be09914c84",
       "version_major": 2,
       "version_minor": 0
      },
      "text/plain": [
       "  0%|          | 0/50 [00:00<?, ?it/s]"
      ]
     },
     "metadata": {},
     "output_type": "display_data"
    },
    {
     "name": "stdout",
     "output_type": "stream",
     "text": [
      "config.json\n",
      "torch.float32\n",
      "./saved/5000-0.5/counter/ddpm-sub-9-1000-Ours-42/unet/diffusion_pytorch_model.bin\n",
      "cuda:0\n",
      "DDIM!\n"
     ]
    },
    {
     "data": {
      "application/vnd.jupyter.widget-view+json": {
       "model_id": "66b63627f7aa48fcbf53628ca11ebcd1",
       "version_major": 2,
       "version_minor": 0
      },
      "text/plain": [
       "  0%|          | 0/50 [00:00<?, ?it/s]"
      ]
     },
     "metadata": {},
     "output_type": "display_data"
    },
    {
     "name": "stdout",
     "output_type": "stream",
     "text": [
      "10 496\n",
      "config.json\n",
      "torch.float32\n",
      "./saved/5000-0.5/counter/ddpm-sub-10-1000-Random-42/unet/diffusion_pytorch_model.bin\n",
      "cuda:0\n",
      "DDIM!\n"
     ]
    },
    {
     "data": {
      "application/vnd.jupyter.widget-view+json": {
       "model_id": "395b101da43f4de385cb7ea68abbf9bf",
       "version_major": 2,
       "version_minor": 0
      },
      "text/plain": [
       "  0%|          | 0/50 [00:00<?, ?it/s]"
      ]
     },
     "metadata": {},
     "output_type": "display_data"
    },
    {
     "name": "stdout",
     "output_type": "stream",
     "text": [
      "config.json\n",
      "torch.float32\n",
      "./saved/5000-0.5/counter/ddpm-sub-10-1000-TRAK-42/unet/diffusion_pytorch_model.bin\n",
      "cuda:0\n",
      "DDIM!\n"
     ]
    },
    {
     "data": {
      "application/vnd.jupyter.widget-view+json": {
       "model_id": "117a8b7001064f24a012e2549a3c2a24",
       "version_major": 2,
       "version_minor": 0
      },
      "text/plain": [
       "  0%|          | 0/50 [00:00<?, ?it/s]"
      ]
     },
     "metadata": {},
     "output_type": "display_data"
    },
    {
     "name": "stdout",
     "output_type": "stream",
     "text": [
      "config.json\n",
      "torch.float32\n",
      "./saved/5000-0.5/counter/ddpm-sub-10-1000-Ours-42/unet/diffusion_pytorch_model.bin\n",
      "cuda:0\n",
      "DDIM!\n"
     ]
    },
    {
     "data": {
      "application/vnd.jupyter.widget-view+json": {
       "model_id": "b0324aebba8a4848a8b5e5dc596748e8",
       "version_major": 2,
       "version_minor": 0
      },
      "text/plain": [
       "  0%|          | 0/50 [00:00<?, ?it/s]"
      ]
     },
     "metadata": {},
     "output_type": "display_data"
    },
    {
     "name": "stdout",
     "output_type": "stream",
     "text": [
      "11 558\n",
      "config.json\n",
      "torch.float32\n",
      "./saved/5000-0.5/counter/ddpm-sub-11-1000-Random-42/unet/diffusion_pytorch_model.bin\n",
      "cuda:0\n",
      "DDIM!\n"
     ]
    },
    {
     "data": {
      "application/vnd.jupyter.widget-view+json": {
       "model_id": "2b678698bfc04c609d2d7bb41f3894e4",
       "version_major": 2,
       "version_minor": 0
      },
      "text/plain": [
       "  0%|          | 0/50 [00:00<?, ?it/s]"
      ]
     },
     "metadata": {},
     "output_type": "display_data"
    },
    {
     "name": "stdout",
     "output_type": "stream",
     "text": [
      "config.json\n",
      "torch.float32\n",
      "./saved/5000-0.5/counter/ddpm-sub-11-1000-TRAK-42/unet/diffusion_pytorch_model.bin\n",
      "cuda:0\n",
      "DDIM!\n"
     ]
    },
    {
     "data": {
      "application/vnd.jupyter.widget-view+json": {
       "model_id": "fe88a041881041fe9e95faa5668cb307",
       "version_major": 2,
       "version_minor": 0
      },
      "text/plain": [
       "  0%|          | 0/50 [00:00<?, ?it/s]"
      ]
     },
     "metadata": {},
     "output_type": "display_data"
    },
    {
     "name": "stdout",
     "output_type": "stream",
     "text": [
      "config.json\n",
      "torch.float32\n",
      "./saved/5000-0.5/counter/ddpm-sub-11-1000-Ours-42/unet/diffusion_pytorch_model.bin\n",
      "cuda:0\n",
      "DDIM!\n"
     ]
    },
    {
     "data": {
      "application/vnd.jupyter.widget-view+json": {
       "model_id": "412beef5a2cb4dc592942e97967427cd",
       "version_major": 2,
       "version_minor": 0
      },
      "text/plain": [
       "  0%|          | 0/50 [00:00<?, ?it/s]"
      ]
     },
     "metadata": {},
     "output_type": "display_data"
    },
    {
     "name": "stdout",
     "output_type": "stream",
     "text": [
      "12 784\n",
      "config.json\n",
      "torch.float32\n",
      "./saved/5000-0.5/counter/ddpm-sub-12-1000-Random-42/unet/diffusion_pytorch_model.bin\n",
      "cuda:0\n",
      "DDIM!\n"
     ]
    },
    {
     "data": {
      "application/vnd.jupyter.widget-view+json": {
       "model_id": "0f4ed8ef7e3443ed9a539bb01058c5af",
       "version_major": 2,
       "version_minor": 0
      },
      "text/plain": [
       "  0%|          | 0/50 [00:00<?, ?it/s]"
      ]
     },
     "metadata": {},
     "output_type": "display_data"
    },
    {
     "name": "stdout",
     "output_type": "stream",
     "text": [
      "config.json\n",
      "torch.float32\n",
      "./saved/5000-0.5/counter/ddpm-sub-12-1000-TRAK-42/unet/diffusion_pytorch_model.bin\n",
      "cuda:0\n",
      "DDIM!\n"
     ]
    },
    {
     "data": {
      "application/vnd.jupyter.widget-view+json": {
       "model_id": "432669dbee9e4ec5b5f1eb6542b35b01",
       "version_major": 2,
       "version_minor": 0
      },
      "text/plain": [
       "  0%|          | 0/50 [00:00<?, ?it/s]"
      ]
     },
     "metadata": {},
     "output_type": "display_data"
    },
    {
     "name": "stdout",
     "output_type": "stream",
     "text": [
      "config.json\n",
      "torch.float32\n",
      "./saved/5000-0.5/counter/ddpm-sub-12-1000-Ours-42/unet/diffusion_pytorch_model.bin\n",
      "cuda:0\n",
      "DDIM!\n"
     ]
    },
    {
     "data": {
      "application/vnd.jupyter.widget-view+json": {
       "model_id": "bedafbe8aac44f7d916a32d7c82a9a59",
       "version_major": 2,
       "version_minor": 0
      },
      "text/plain": [
       "  0%|          | 0/50 [00:00<?, ?it/s]"
      ]
     },
     "metadata": {},
     "output_type": "display_data"
    },
    {
     "name": "stdout",
     "output_type": "stream",
     "text": [
      "13 239\n",
      "config.json\n",
      "torch.float32\n",
      "./saved/5000-0.5/counter/ddpm-sub-13-1000-Random-42/unet/diffusion_pytorch_model.bin\n",
      "cuda:0\n",
      "DDIM!\n"
     ]
    },
    {
     "data": {
      "application/vnd.jupyter.widget-view+json": {
       "model_id": "6aac927ca72a44d28a35a95b6b11095e",
       "version_major": 2,
       "version_minor": 0
      },
      "text/plain": [
       "  0%|          | 0/50 [00:00<?, ?it/s]"
      ]
     },
     "metadata": {},
     "output_type": "display_data"
    },
    {
     "name": "stdout",
     "output_type": "stream",
     "text": [
      "config.json\n",
      "torch.float32\n",
      "./saved/5000-0.5/counter/ddpm-sub-13-1000-TRAK-42/unet/diffusion_pytorch_model.bin\n",
      "cuda:0\n",
      "DDIM!\n"
     ]
    },
    {
     "data": {
      "application/vnd.jupyter.widget-view+json": {
       "model_id": "b99417e78c5546fabee2d32146712bd1",
       "version_major": 2,
       "version_minor": 0
      },
      "text/plain": [
       "  0%|          | 0/50 [00:00<?, ?it/s]"
      ]
     },
     "metadata": {},
     "output_type": "display_data"
    },
    {
     "name": "stdout",
     "output_type": "stream",
     "text": [
      "config.json\n",
      "torch.float32\n",
      "./saved/5000-0.5/counter/ddpm-sub-13-1000-Ours-42/unet/diffusion_pytorch_model.bin\n",
      "cuda:0\n",
      "DDIM!\n"
     ]
    },
    {
     "data": {
      "application/vnd.jupyter.widget-view+json": {
       "model_id": "01deab2573dd4bfa98b71fbe5aafc471",
       "version_major": 2,
       "version_minor": 0
      },
      "text/plain": [
       "  0%|          | 0/50 [00:00<?, ?it/s]"
      ]
     },
     "metadata": {},
     "output_type": "display_data"
    },
    {
     "name": "stdout",
     "output_type": "stream",
     "text": [
      "14 578\n",
      "config.json\n",
      "torch.float32\n",
      "./saved/5000-0.5/counter/ddpm-sub-14-1000-Random-42/unet/diffusion_pytorch_model.bin\n",
      "cuda:0\n",
      "DDIM!\n"
     ]
    },
    {
     "data": {
      "application/vnd.jupyter.widget-view+json": {
       "model_id": "22d87a3ca77849e88cf0641eddea7a5a",
       "version_major": 2,
       "version_minor": 0
      },
      "text/plain": [
       "  0%|          | 0/50 [00:00<?, ?it/s]"
      ]
     },
     "metadata": {},
     "output_type": "display_data"
    },
    {
     "name": "stdout",
     "output_type": "stream",
     "text": [
      "config.json\n",
      "torch.float32\n",
      "./saved/5000-0.5/counter/ddpm-sub-14-1000-TRAK-42/unet/diffusion_pytorch_model.bin\n",
      "cuda:0\n",
      "DDIM!\n"
     ]
    },
    {
     "data": {
      "application/vnd.jupyter.widget-view+json": {
       "model_id": "4a622f7d9bfa43ff9cb8a5650d00bc2b",
       "version_major": 2,
       "version_minor": 0
      },
      "text/plain": [
       "  0%|          | 0/50 [00:00<?, ?it/s]"
      ]
     },
     "metadata": {},
     "output_type": "display_data"
    },
    {
     "name": "stdout",
     "output_type": "stream",
     "text": [
      "config.json\n",
      "torch.float32\n",
      "./saved/5000-0.5/counter/ddpm-sub-14-1000-Ours-42/unet/diffusion_pytorch_model.bin\n",
      "cuda:0\n",
      "DDIM!\n"
     ]
    },
    {
     "data": {
      "application/vnd.jupyter.widget-view+json": {
       "model_id": "a5ddadfa8864495ab21800ef45be1bee",
       "version_major": 2,
       "version_minor": 0
      },
      "text/plain": [
       "  0%|          | 0/50 [00:00<?, ?it/s]"
      ]
     },
     "metadata": {},
     "output_type": "display_data"
    },
    {
     "name": "stdout",
     "output_type": "stream",
     "text": [
      "15 55\n",
      "config.json\n",
      "torch.float32\n",
      "./saved/5000-0.5/counter/ddpm-sub-15-1000-Random-42/unet/diffusion_pytorch_model.bin\n",
      "cuda:0\n",
      "DDIM!\n"
     ]
    },
    {
     "data": {
      "application/vnd.jupyter.widget-view+json": {
       "model_id": "d654f7dd46784bc8ad8c38e2052c298f",
       "version_major": 2,
       "version_minor": 0
      },
      "text/plain": [
       "  0%|          | 0/50 [00:00<?, ?it/s]"
      ]
     },
     "metadata": {},
     "output_type": "display_data"
    },
    {
     "name": "stdout",
     "output_type": "stream",
     "text": [
      "config.json\n",
      "torch.float32\n",
      "./saved/5000-0.5/counter/ddpm-sub-15-1000-TRAK-42/unet/diffusion_pytorch_model.bin\n",
      "cuda:0\n",
      "DDIM!\n"
     ]
    },
    {
     "data": {
      "application/vnd.jupyter.widget-view+json": {
       "model_id": "d941cc8ca5864886a0bca9cfdb7ed78c",
       "version_major": 2,
       "version_minor": 0
      },
      "text/plain": [
       "  0%|          | 0/50 [00:00<?, ?it/s]"
      ]
     },
     "metadata": {},
     "output_type": "display_data"
    },
    {
     "name": "stdout",
     "output_type": "stream",
     "text": [
      "config.json\n",
      "torch.float32\n",
      "./saved/5000-0.5/counter/ddpm-sub-15-1000-Ours-42/unet/diffusion_pytorch_model.bin\n",
      "cuda:0\n",
      "DDIM!\n"
     ]
    },
    {
     "data": {
      "application/vnd.jupyter.widget-view+json": {
       "model_id": "a65fb6abb2da43449969aef6d23ef67c",
       "version_major": 2,
       "version_minor": 0
      },
      "text/plain": [
       "  0%|          | 0/50 [00:00<?, ?it/s]"
      ]
     },
     "metadata": {},
     "output_type": "display_data"
    },
    {
     "name": "stdout",
     "output_type": "stream",
     "text": [
      "16 906\n",
      "config.json\n",
      "torch.float32\n",
      "./saved/5000-0.5/counter/ddpm-sub-16-1000-Random-42/unet/diffusion_pytorch_model.bin\n",
      "cuda:0\n",
      "DDIM!\n"
     ]
    },
    {
     "data": {
      "application/vnd.jupyter.widget-view+json": {
       "model_id": "00e33d61032e4ea4b693c280546e6825",
       "version_major": 2,
       "version_minor": 0
      },
      "text/plain": [
       "  0%|          | 0/50 [00:00<?, ?it/s]"
      ]
     },
     "metadata": {},
     "output_type": "display_data"
    },
    {
     "name": "stdout",
     "output_type": "stream",
     "text": [
      "config.json\n",
      "torch.float32\n",
      "./saved/5000-0.5/counter/ddpm-sub-16-1000-TRAK-42/unet/diffusion_pytorch_model.bin\n",
      "cuda:0\n",
      "DDIM!\n"
     ]
    },
    {
     "data": {
      "application/vnd.jupyter.widget-view+json": {
       "model_id": "0191741dd17c4109a536ada9a7ab921c",
       "version_major": 2,
       "version_minor": 0
      },
      "text/plain": [
       "  0%|          | 0/50 [00:00<?, ?it/s]"
      ]
     },
     "metadata": {},
     "output_type": "display_data"
    },
    {
     "name": "stdout",
     "output_type": "stream",
     "text": [
      "config.json\n",
      "torch.float32\n",
      "./saved/5000-0.5/counter/ddpm-sub-16-1000-Ours-42/unet/diffusion_pytorch_model.bin\n",
      "cuda:0\n",
      "DDIM!\n"
     ]
    },
    {
     "data": {
      "application/vnd.jupyter.widget-view+json": {
       "model_id": "984f2b867e1b4592bc0bf2e4ea3d4881",
       "version_major": 2,
       "version_minor": 0
      },
      "text/plain": [
       "  0%|          | 0/50 [00:00<?, ?it/s]"
      ]
     },
     "metadata": {},
     "output_type": "display_data"
    },
    {
     "name": "stdout",
     "output_type": "stream",
     "text": [
      "17 175\n",
      "config.json\n",
      "torch.float32\n",
      "./saved/5000-0.5/counter/ddpm-sub-17-1000-Random-42/unet/diffusion_pytorch_model.bin\n",
      "cuda:0\n",
      "DDIM!\n"
     ]
    },
    {
     "data": {
      "application/vnd.jupyter.widget-view+json": {
       "model_id": "d473256c86524618b6e6d25f51785e08",
       "version_major": 2,
       "version_minor": 0
      },
      "text/plain": [
       "  0%|          | 0/50 [00:00<?, ?it/s]"
      ]
     },
     "metadata": {},
     "output_type": "display_data"
    },
    {
     "name": "stdout",
     "output_type": "stream",
     "text": [
      "config.json\n",
      "torch.float32\n",
      "./saved/5000-0.5/counter/ddpm-sub-17-1000-TRAK-42/unet/diffusion_pytorch_model.bin\n",
      "cuda:0\n",
      "DDIM!\n"
     ]
    },
    {
     "data": {
      "application/vnd.jupyter.widget-view+json": {
       "model_id": "3c491e6252e247d1833286cdcf54cdc1",
       "version_major": 2,
       "version_minor": 0
      },
      "text/plain": [
       "  0%|          | 0/50 [00:00<?, ?it/s]"
      ]
     },
     "metadata": {},
     "output_type": "display_data"
    },
    {
     "name": "stdout",
     "output_type": "stream",
     "text": [
      "config.json\n",
      "torch.float32\n",
      "./saved/5000-0.5/counter/ddpm-sub-17-1000-Ours-42/unet/diffusion_pytorch_model.bin\n",
      "cuda:0\n",
      "DDIM!\n"
     ]
    },
    {
     "data": {
      "application/vnd.jupyter.widget-view+json": {
       "model_id": "45cae186b655456fb2454767c06f79db",
       "version_major": 2,
       "version_minor": 0
      },
      "text/plain": [
       "  0%|          | 0/50 [00:00<?, ?it/s]"
      ]
     },
     "metadata": {},
     "output_type": "display_data"
    },
    {
     "name": "stdout",
     "output_type": "stream",
     "text": [
      "18 14\n",
      "config.json\n",
      "torch.float32\n",
      "./saved/5000-0.5/counter/ddpm-sub-18-1000-Random-42/unet/diffusion_pytorch_model.bin\n",
      "cuda:0\n",
      "DDIM!\n"
     ]
    },
    {
     "data": {
      "application/vnd.jupyter.widget-view+json": {
       "model_id": "7ac334728f9b42f892cf318695672467",
       "version_major": 2,
       "version_minor": 0
      },
      "text/plain": [
       "  0%|          | 0/50 [00:00<?, ?it/s]"
      ]
     },
     "metadata": {},
     "output_type": "display_data"
    },
    {
     "name": "stdout",
     "output_type": "stream",
     "text": [
      "config.json\n",
      "torch.float32\n",
      "./saved/5000-0.5/counter/ddpm-sub-18-1000-TRAK-42/unet/diffusion_pytorch_model.bin\n",
      "cuda:0\n",
      "DDIM!\n"
     ]
    },
    {
     "data": {
      "application/vnd.jupyter.widget-view+json": {
       "model_id": "1d4d6ac86ded4d40880413cae740d1ae",
       "version_major": 2,
       "version_minor": 0
      },
      "text/plain": [
       "  0%|          | 0/50 [00:00<?, ?it/s]"
      ]
     },
     "metadata": {},
     "output_type": "display_data"
    },
    {
     "name": "stdout",
     "output_type": "stream",
     "text": [
      "config.json\n",
      "torch.float32\n",
      "./saved/5000-0.5/counter/ddpm-sub-18-1000-Ours-42/unet/diffusion_pytorch_model.bin\n",
      "cuda:0\n",
      "DDIM!\n"
     ]
    },
    {
     "data": {
      "application/vnd.jupyter.widget-view+json": {
       "model_id": "a8daf07d75104b64983d0b936feaf391",
       "version_major": 2,
       "version_minor": 0
      },
      "text/plain": [
       "  0%|          | 0/50 [00:00<?, ?it/s]"
      ]
     },
     "metadata": {},
     "output_type": "display_data"
    },
    {
     "name": "stdout",
     "output_type": "stream",
     "text": [
      "19 77\n",
      "config.json\n",
      "torch.float32\n",
      "./saved/5000-0.5/counter/ddpm-sub-19-1000-Random-42/unet/diffusion_pytorch_model.bin\n",
      "cuda:0\n",
      "DDIM!\n"
     ]
    },
    {
     "data": {
      "application/vnd.jupyter.widget-view+json": {
       "model_id": "d5f8480cfc144b5c8f73976fb6714efd",
       "version_major": 2,
       "version_minor": 0
      },
      "text/plain": [
       "  0%|          | 0/50 [00:00<?, ?it/s]"
      ]
     },
     "metadata": {},
     "output_type": "display_data"
    },
    {
     "name": "stdout",
     "output_type": "stream",
     "text": [
      "config.json\n",
      "torch.float32\n",
      "./saved/5000-0.5/counter/ddpm-sub-19-1000-TRAK-42/unet/diffusion_pytorch_model.bin\n",
      "cuda:0\n",
      "DDIM!\n"
     ]
    },
    {
     "data": {
      "application/vnd.jupyter.widget-view+json": {
       "model_id": "8e8059f0d14f4da7a83759aec25ac4a1",
       "version_major": 2,
       "version_minor": 0
      },
      "text/plain": [
       "  0%|          | 0/50 [00:00<?, ?it/s]"
      ]
     },
     "metadata": {},
     "output_type": "display_data"
    },
    {
     "name": "stdout",
     "output_type": "stream",
     "text": [
      "config.json\n",
      "torch.float32\n",
      "./saved/5000-0.5/counter/ddpm-sub-19-1000-Ours-42/unet/diffusion_pytorch_model.bin\n",
      "cuda:0\n",
      "DDIM!\n"
     ]
    },
    {
     "data": {
      "application/vnd.jupyter.widget-view+json": {
       "model_id": "4de7fda139c34c3285aa7c3f5b7460a6",
       "version_major": 2,
       "version_minor": 0
      },
      "text/plain": [
       "  0%|          | 0/50 [00:00<?, ?it/s]"
      ]
     },
     "metadata": {},
     "output_type": "display_data"
    },
    {
     "name": "stdout",
     "output_type": "stream",
     "text": [
      "20 31\n",
      "config.json\n",
      "torch.float32\n",
      "./saved/5000-0.5/counter/ddpm-sub-20-1000-Random-42/unet/diffusion_pytorch_model.bin\n",
      "cuda:0\n",
      "DDIM!\n"
     ]
    },
    {
     "data": {
      "application/vnd.jupyter.widget-view+json": {
       "model_id": "a7f68ad7a2b449e9ae2c463f2e129a49",
       "version_major": 2,
       "version_minor": 0
      },
      "text/plain": [
       "  0%|          | 0/50 [00:00<?, ?it/s]"
      ]
     },
     "metadata": {},
     "output_type": "display_data"
    },
    {
     "name": "stdout",
     "output_type": "stream",
     "text": [
      "config.json\n",
      "torch.float32\n",
      "./saved/5000-0.5/counter/ddpm-sub-20-1000-TRAK-42/unet/diffusion_pytorch_model.bin\n",
      "cuda:0\n",
      "DDIM!\n"
     ]
    },
    {
     "data": {
      "application/vnd.jupyter.widget-view+json": {
       "model_id": "49e3a5f4477741029d499a2429f98985",
       "version_major": 2,
       "version_minor": 0
      },
      "text/plain": [
       "  0%|          | 0/50 [00:00<?, ?it/s]"
      ]
     },
     "metadata": {},
     "output_type": "display_data"
    },
    {
     "name": "stdout",
     "output_type": "stream",
     "text": [
      "config.json\n",
      "torch.float32\n",
      "./saved/5000-0.5/counter/ddpm-sub-20-1000-Ours-42/unet/diffusion_pytorch_model.bin\n",
      "cuda:0\n",
      "DDIM!\n"
     ]
    },
    {
     "data": {
      "application/vnd.jupyter.widget-view+json": {
       "model_id": "c549aba62c094361997316262ea6c9ca",
       "version_major": 2,
       "version_minor": 0
      },
      "text/plain": [
       "  0%|          | 0/50 [00:00<?, ?it/s]"
      ]
     },
     "metadata": {},
     "output_type": "display_data"
    },
    {
     "name": "stdout",
     "output_type": "stream",
     "text": [
      "21 481\n",
      "config.json\n",
      "torch.float32\n",
      "./saved/5000-0.5/counter/ddpm-sub-21-1000-Random-42/unet/diffusion_pytorch_model.bin\n",
      "cuda:0\n",
      "DDIM!\n"
     ]
    },
    {
     "data": {
      "application/vnd.jupyter.widget-view+json": {
       "model_id": "8523167e5f9f4d7b95edccf19413c7f6",
       "version_major": 2,
       "version_minor": 0
      },
      "text/plain": [
       "  0%|          | 0/50 [00:00<?, ?it/s]"
      ]
     },
     "metadata": {},
     "output_type": "display_data"
    },
    {
     "name": "stdout",
     "output_type": "stream",
     "text": [
      "config.json\n",
      "torch.float32\n",
      "./saved/5000-0.5/counter/ddpm-sub-21-1000-TRAK-42/unet/diffusion_pytorch_model.bin\n",
      "cuda:0\n",
      "DDIM!\n"
     ]
    },
    {
     "data": {
      "application/vnd.jupyter.widget-view+json": {
       "model_id": "ae394dc937c740a385dba4146d5fc13b",
       "version_major": 2,
       "version_minor": 0
      },
      "text/plain": [
       "  0%|          | 0/50 [00:00<?, ?it/s]"
      ]
     },
     "metadata": {},
     "output_type": "display_data"
    },
    {
     "name": "stdout",
     "output_type": "stream",
     "text": [
      "config.json\n",
      "torch.float32\n",
      "./saved/5000-0.5/counter/ddpm-sub-21-1000-Ours-42/unet/diffusion_pytorch_model.bin\n",
      "cuda:0\n",
      "DDIM!\n"
     ]
    },
    {
     "data": {
      "application/vnd.jupyter.widget-view+json": {
       "model_id": "6ff3b653fa4a4c00a32b5a2ec6aca55d",
       "version_major": 2,
       "version_minor": 0
      },
      "text/plain": [
       "  0%|          | 0/50 [00:00<?, ?it/s]"
      ]
     },
     "metadata": {},
     "output_type": "display_data"
    },
    {
     "name": "stdout",
     "output_type": "stream",
     "text": [
      "22 310\n",
      "config.json\n",
      "torch.float32\n",
      "./saved/5000-0.5/counter/ddpm-sub-22-1000-Random-42/unet/diffusion_pytorch_model.bin\n",
      "cuda:0\n",
      "DDIM!\n"
     ]
    },
    {
     "data": {
      "application/vnd.jupyter.widget-view+json": {
       "model_id": "e15bdfe6496b429ca4cc22b29fe42222",
       "version_major": 2,
       "version_minor": 0
      },
      "text/plain": [
       "  0%|          | 0/50 [00:00<?, ?it/s]"
      ]
     },
     "metadata": {},
     "output_type": "display_data"
    },
    {
     "name": "stdout",
     "output_type": "stream",
     "text": [
      "config.json\n",
      "torch.float32\n",
      "./saved/5000-0.5/counter/ddpm-sub-22-1000-TRAK-42/unet/diffusion_pytorch_model.bin\n",
      "cuda:0\n",
      "DDIM!\n"
     ]
    },
    {
     "data": {
      "application/vnd.jupyter.widget-view+json": {
       "model_id": "16b85f19aac94bff8fbb908d54c522b9",
       "version_major": 2,
       "version_minor": 0
      },
      "text/plain": [
       "  0%|          | 0/50 [00:00<?, ?it/s]"
      ]
     },
     "metadata": {},
     "output_type": "display_data"
    },
    {
     "name": "stdout",
     "output_type": "stream",
     "text": [
      "config.json\n",
      "torch.float32\n",
      "./saved/5000-0.5/counter/ddpm-sub-22-1000-Ours-42/unet/diffusion_pytorch_model.bin\n",
      "cuda:0\n",
      "DDIM!\n"
     ]
    },
    {
     "data": {
      "application/vnd.jupyter.widget-view+json": {
       "model_id": "309241a3650949cdad66f0b0a40513a3",
       "version_major": 2,
       "version_minor": 0
      },
      "text/plain": [
       "  0%|          | 0/50 [00:00<?, ?it/s]"
      ]
     },
     "metadata": {},
     "output_type": "display_data"
    },
    {
     "name": "stdout",
     "output_type": "stream",
     "text": [
      "23 311\n",
      "config.json\n",
      "torch.float32\n",
      "./saved/5000-0.5/counter/ddpm-sub-23-1000-Random-42/unet/diffusion_pytorch_model.bin\n",
      "cuda:0\n",
      "DDIM!\n"
     ]
    },
    {
     "data": {
      "application/vnd.jupyter.widget-view+json": {
       "model_id": "76f3fd5bc60f4626b18e738d2a75a977",
       "version_major": 2,
       "version_minor": 0
      },
      "text/plain": [
       "  0%|          | 0/50 [00:00<?, ?it/s]"
      ]
     },
     "metadata": {},
     "output_type": "display_data"
    },
    {
     "name": "stdout",
     "output_type": "stream",
     "text": [
      "config.json\n",
      "torch.float32\n",
      "./saved/5000-0.5/counter/ddpm-sub-23-1000-TRAK-42/unet/diffusion_pytorch_model.bin\n",
      "cuda:0\n",
      "DDIM!\n"
     ]
    },
    {
     "data": {
      "application/vnd.jupyter.widget-view+json": {
       "model_id": "df466bcf37414aafac3a2ca033f7a4c9",
       "version_major": 2,
       "version_minor": 0
      },
      "text/plain": [
       "  0%|          | 0/50 [00:00<?, ?it/s]"
      ]
     },
     "metadata": {},
     "output_type": "display_data"
    },
    {
     "name": "stdout",
     "output_type": "stream",
     "text": [
      "config.json\n",
      "torch.float32\n",
      "./saved/5000-0.5/counter/ddpm-sub-23-1000-Ours-42/unet/diffusion_pytorch_model.bin\n",
      "cuda:0\n",
      "DDIM!\n"
     ]
    },
    {
     "data": {
      "application/vnd.jupyter.widget-view+json": {
       "model_id": "43decafe46c741349e383c8d3582d40e",
       "version_major": 2,
       "version_minor": 0
      },
      "text/plain": [
       "  0%|          | 0/50 [00:00<?, ?it/s]"
      ]
     },
     "metadata": {},
     "output_type": "display_data"
    },
    {
     "name": "stdout",
     "output_type": "stream",
     "text": [
      "24 883\n",
      "config.json\n",
      "torch.float32\n",
      "./saved/5000-0.5/counter/ddpm-sub-24-1000-Random-42/unet/diffusion_pytorch_model.bin\n",
      "cuda:0\n",
      "DDIM!\n"
     ]
    },
    {
     "data": {
      "application/vnd.jupyter.widget-view+json": {
       "model_id": "2d1a09a5e3e34b99916aa2dc6d691a0b",
       "version_major": 2,
       "version_minor": 0
      },
      "text/plain": [
       "  0%|          | 0/50 [00:00<?, ?it/s]"
      ]
     },
     "metadata": {},
     "output_type": "display_data"
    },
    {
     "name": "stdout",
     "output_type": "stream",
     "text": [
      "config.json\n",
      "torch.float32\n",
      "./saved/5000-0.5/counter/ddpm-sub-24-1000-TRAK-42/unet/diffusion_pytorch_model.bin\n",
      "cuda:0\n",
      "DDIM!\n"
     ]
    },
    {
     "data": {
      "application/vnd.jupyter.widget-view+json": {
       "model_id": "4910f996c0a54a2d8686f7d23040d7a9",
       "version_major": 2,
       "version_minor": 0
      },
      "text/plain": [
       "  0%|          | 0/50 [00:00<?, ?it/s]"
      ]
     },
     "metadata": {},
     "output_type": "display_data"
    },
    {
     "name": "stdout",
     "output_type": "stream",
     "text": [
      "config.json\n",
      "torch.float32\n",
      "./saved/5000-0.5/counter/ddpm-sub-24-1000-Ours-42/unet/diffusion_pytorch_model.bin\n",
      "cuda:0\n",
      "DDIM!\n"
     ]
    },
    {
     "data": {
      "application/vnd.jupyter.widget-view+json": {
       "model_id": "648972f2503b4240986b4bed50b6ddf4",
       "version_major": 2,
       "version_minor": 0
      },
      "text/plain": [
       "  0%|          | 0/50 [00:00<?, ?it/s]"
      ]
     },
     "metadata": {},
     "output_type": "display_data"
    },
    {
     "name": "stdout",
     "output_type": "stream",
     "text": [
      "25 788\n",
      "config.json\n",
      "torch.float32\n",
      "./saved/5000-0.5/counter/ddpm-sub-25-1000-Random-42/unet/diffusion_pytorch_model.bin\n",
      "cuda:0\n",
      "DDIM!\n"
     ]
    },
    {
     "data": {
      "application/vnd.jupyter.widget-view+json": {
       "model_id": "4a0e76b5800043a8b64e9472dbca9cda",
       "version_major": 2,
       "version_minor": 0
      },
      "text/plain": [
       "  0%|          | 0/50 [00:00<?, ?it/s]"
      ]
     },
     "metadata": {},
     "output_type": "display_data"
    },
    {
     "name": "stdout",
     "output_type": "stream",
     "text": [
      "config.json\n",
      "torch.float32\n",
      "./saved/5000-0.5/counter/ddpm-sub-25-1000-TRAK-42/unet/diffusion_pytorch_model.bin\n",
      "cuda:0\n",
      "DDIM!\n"
     ]
    },
    {
     "data": {
      "application/vnd.jupyter.widget-view+json": {
       "model_id": "e8d2003b42144c0ba83b5cb577fe552b",
       "version_major": 2,
       "version_minor": 0
      },
      "text/plain": [
       "  0%|          | 0/50 [00:00<?, ?it/s]"
      ]
     },
     "metadata": {},
     "output_type": "display_data"
    },
    {
     "name": "stdout",
     "output_type": "stream",
     "text": [
      "config.json\n",
      "torch.float32\n",
      "./saved/5000-0.5/counter/ddpm-sub-25-1000-Ours-42/unet/diffusion_pytorch_model.bin\n",
      "cuda:0\n",
      "DDIM!\n"
     ]
    },
    {
     "data": {
      "application/vnd.jupyter.widget-view+json": {
       "model_id": "fc4cfd7b5e464a83a2a20fa98abfa089",
       "version_major": 2,
       "version_minor": 0
      },
      "text/plain": [
       "  0%|          | 0/50 [00:00<?, ?it/s]"
      ]
     },
     "metadata": {},
     "output_type": "display_data"
    },
    {
     "name": "stdout",
     "output_type": "stream",
     "text": [
      "26 45\n",
      "config.json\n",
      "torch.float32\n",
      "./saved/5000-0.5/counter/ddpm-sub-26-1000-Random-42/unet/diffusion_pytorch_model.bin\n",
      "cuda:0\n",
      "DDIM!\n"
     ]
    },
    {
     "data": {
      "application/vnd.jupyter.widget-view+json": {
       "model_id": "632b7ae45bdd42d293304409a7ec7d5b",
       "version_major": 2,
       "version_minor": 0
      },
      "text/plain": [
       "  0%|          | 0/50 [00:00<?, ?it/s]"
      ]
     },
     "metadata": {},
     "output_type": "display_data"
    },
    {
     "name": "stdout",
     "output_type": "stream",
     "text": [
      "config.json\n",
      "torch.float32\n",
      "./saved/5000-0.5/counter/ddpm-sub-26-1000-TRAK-42/unet/diffusion_pytorch_model.bin\n",
      "cuda:0\n",
      "DDIM!\n"
     ]
    },
    {
     "data": {
      "application/vnd.jupyter.widget-view+json": {
       "model_id": "d3d3445074514b4f885c94d1e4766c2a",
       "version_major": 2,
       "version_minor": 0
      },
      "text/plain": [
       "  0%|          | 0/50 [00:00<?, ?it/s]"
      ]
     },
     "metadata": {},
     "output_type": "display_data"
    },
    {
     "name": "stdout",
     "output_type": "stream",
     "text": [
      "config.json\n",
      "torch.float32\n",
      "./saved/5000-0.5/counter/ddpm-sub-26-1000-Ours-42/unet/diffusion_pytorch_model.bin\n",
      "cuda:0\n",
      "DDIM!\n"
     ]
    },
    {
     "data": {
      "application/vnd.jupyter.widget-view+json": {
       "model_id": "c8192640e80246b794104a8677acdd31",
       "version_major": 2,
       "version_minor": 0
      },
      "text/plain": [
       "  0%|          | 0/50 [00:00<?, ?it/s]"
      ]
     },
     "metadata": {},
     "output_type": "display_data"
    },
    {
     "name": "stdout",
     "output_type": "stream",
     "text": [
      "27 103\n",
      "config.json\n",
      "torch.float32\n",
      "./saved/5000-0.5/counter/ddpm-sub-27-1000-Random-42/unet/diffusion_pytorch_model.bin\n",
      "cuda:0\n",
      "DDIM!\n"
     ]
    },
    {
     "data": {
      "application/vnd.jupyter.widget-view+json": {
       "model_id": "2052d1bbad9f4182be0414f4c8722832",
       "version_major": 2,
       "version_minor": 0
      },
      "text/plain": [
       "  0%|          | 0/50 [00:00<?, ?it/s]"
      ]
     },
     "metadata": {},
     "output_type": "display_data"
    },
    {
     "name": "stdout",
     "output_type": "stream",
     "text": [
      "config.json\n",
      "torch.float32\n",
      "./saved/5000-0.5/counter/ddpm-sub-27-1000-TRAK-42/unet/diffusion_pytorch_model.bin\n",
      "cuda:0\n",
      "DDIM!\n"
     ]
    },
    {
     "data": {
      "application/vnd.jupyter.widget-view+json": {
       "model_id": "79121849202d40f593ed6ac2bf7fdd1e",
       "version_major": 2,
       "version_minor": 0
      },
      "text/plain": [
       "  0%|          | 0/50 [00:00<?, ?it/s]"
      ]
     },
     "metadata": {},
     "output_type": "display_data"
    },
    {
     "name": "stdout",
     "output_type": "stream",
     "text": [
      "config.json\n",
      "torch.float32\n",
      "./saved/5000-0.5/counter/ddpm-sub-27-1000-Ours-42/unet/diffusion_pytorch_model.bin\n",
      "cuda:0\n",
      "DDIM!\n"
     ]
    },
    {
     "data": {
      "application/vnd.jupyter.widget-view+json": {
       "model_id": "7c2461b4ec3b4d4182363abe9765798e",
       "version_major": 2,
       "version_minor": 0
      },
      "text/plain": [
       "  0%|          | 0/50 [00:00<?, ?it/s]"
      ]
     },
     "metadata": {},
     "output_type": "display_data"
    },
    {
     "name": "stdout",
     "output_type": "stream",
     "text": [
      "28 760\n",
      "config.json\n",
      "torch.float32\n",
      "./saved/5000-0.5/counter/ddpm-sub-28-1000-Random-42/unet/diffusion_pytorch_model.bin\n",
      "cuda:0\n",
      "DDIM!\n"
     ]
    },
    {
     "data": {
      "application/vnd.jupyter.widget-view+json": {
       "model_id": "a3a50c52ca2e49ee888788f1e8032837",
       "version_major": 2,
       "version_minor": 0
      },
      "text/plain": [
       "  0%|          | 0/50 [00:00<?, ?it/s]"
      ]
     },
     "metadata": {},
     "output_type": "display_data"
    },
    {
     "name": "stdout",
     "output_type": "stream",
     "text": [
      "config.json\n",
      "torch.float32\n",
      "./saved/5000-0.5/counter/ddpm-sub-28-1000-TRAK-42/unet/diffusion_pytorch_model.bin\n",
      "cuda:0\n",
      "DDIM!\n"
     ]
    },
    {
     "data": {
      "application/vnd.jupyter.widget-view+json": {
       "model_id": "407290c84246455289d20403688e1bec",
       "version_major": 2,
       "version_minor": 0
      },
      "text/plain": [
       "  0%|          | 0/50 [00:00<?, ?it/s]"
      ]
     },
     "metadata": {},
     "output_type": "display_data"
    },
    {
     "name": "stdout",
     "output_type": "stream",
     "text": [
      "config.json\n",
      "torch.float32\n",
      "./saved/5000-0.5/counter/ddpm-sub-28-1000-Ours-42/unet/diffusion_pytorch_model.bin\n",
      "cuda:0\n",
      "DDIM!\n"
     ]
    },
    {
     "data": {
      "application/vnd.jupyter.widget-view+json": {
       "model_id": "d916ce2bb1e042fcb7d39e44cdc9e732",
       "version_major": 2,
       "version_minor": 0
      },
      "text/plain": [
       "  0%|          | 0/50 [00:00<?, ?it/s]"
      ]
     },
     "metadata": {},
     "output_type": "display_data"
    },
    {
     "name": "stdout",
     "output_type": "stream",
     "text": [
      "29 1\n",
      "config.json\n",
      "torch.float32\n",
      "./saved/5000-0.5/counter/ddpm-sub-29-1000-Random-42/unet/diffusion_pytorch_model.bin\n",
      "cuda:0\n",
      "DDIM!\n"
     ]
    },
    {
     "data": {
      "application/vnd.jupyter.widget-view+json": {
       "model_id": "3dd5a94e071f4cce8bb210f9db15f2ad",
       "version_major": 2,
       "version_minor": 0
      },
      "text/plain": [
       "  0%|          | 0/50 [00:00<?, ?it/s]"
      ]
     },
     "metadata": {},
     "output_type": "display_data"
    },
    {
     "name": "stdout",
     "output_type": "stream",
     "text": [
      "config.json\n",
      "torch.float32\n",
      "./saved/5000-0.5/counter/ddpm-sub-29-1000-TRAK-42/unet/diffusion_pytorch_model.bin\n",
      "cuda:0\n",
      "DDIM!\n"
     ]
    },
    {
     "data": {
      "application/vnd.jupyter.widget-view+json": {
       "model_id": "7f5ff5cb9f3e4f1bb037c00c44be97d0",
       "version_major": 2,
       "version_minor": 0
      },
      "text/plain": [
       "  0%|          | 0/50 [00:00<?, ?it/s]"
      ]
     },
     "metadata": {},
     "output_type": "display_data"
    },
    {
     "name": "stdout",
     "output_type": "stream",
     "text": [
      "config.json\n",
      "torch.float32\n",
      "./saved/5000-0.5/counter/ddpm-sub-29-1000-Ours-42/unet/diffusion_pytorch_model.bin\n",
      "cuda:0\n",
      "DDIM!\n"
     ]
    },
    {
     "data": {
      "application/vnd.jupyter.widget-view+json": {
       "model_id": "2f92589da77547e38ec613c639dd2fa4",
       "version_major": 2,
       "version_minor": 0
      },
      "text/plain": [
       "  0%|          | 0/50 [00:00<?, ?it/s]"
      ]
     },
     "metadata": {},
     "output_type": "display_data"
    },
    {
     "name": "stdout",
     "output_type": "stream",
     "text": [
      "30 823\n",
      "config.json\n",
      "torch.float32\n",
      "./saved/5000-0.5/counter/ddpm-sub-30-1000-Random-42/unet/diffusion_pytorch_model.bin\n",
      "cuda:0\n",
      "DDIM!\n"
     ]
    },
    {
     "data": {
      "application/vnd.jupyter.widget-view+json": {
       "model_id": "cedecdbf2116421bb0e29af55e997ea3",
       "version_major": 2,
       "version_minor": 0
      },
      "text/plain": [
       "  0%|          | 0/50 [00:00<?, ?it/s]"
      ]
     },
     "metadata": {},
     "output_type": "display_data"
    },
    {
     "name": "stdout",
     "output_type": "stream",
     "text": [
      "config.json\n",
      "torch.float32\n",
      "./saved/5000-0.5/counter/ddpm-sub-30-1000-TRAK-42/unet/diffusion_pytorch_model.bin\n",
      "cuda:0\n",
      "DDIM!\n"
     ]
    },
    {
     "data": {
      "application/vnd.jupyter.widget-view+json": {
       "model_id": "c6e3bf2db75045bcaff0177d76c1c99f",
       "version_major": 2,
       "version_minor": 0
      },
      "text/plain": [
       "  0%|          | 0/50 [00:00<?, ?it/s]"
      ]
     },
     "metadata": {},
     "output_type": "display_data"
    },
    {
     "name": "stdout",
     "output_type": "stream",
     "text": [
      "config.json\n",
      "torch.float32\n",
      "./saved/5000-0.5/counter/ddpm-sub-30-1000-Ours-42/unet/diffusion_pytorch_model.bin\n",
      "cuda:0\n",
      "DDIM!\n"
     ]
    },
    {
     "data": {
      "application/vnd.jupyter.widget-view+json": {
       "model_id": "14509fe21bf344a6ae1f3e901a8e4858",
       "version_major": 2,
       "version_minor": 0
      },
      "text/plain": [
       "  0%|          | 0/50 [00:00<?, ?it/s]"
      ]
     },
     "metadata": {},
     "output_type": "display_data"
    },
    {
     "name": "stdout",
     "output_type": "stream",
     "text": [
      "31 710\n",
      "config.json\n",
      "torch.float32\n",
      "./saved/5000-0.5/counter/ddpm-sub-31-1000-Random-42/unet/diffusion_pytorch_model.bin\n",
      "cuda:0\n",
      "DDIM!\n"
     ]
    },
    {
     "data": {
      "application/vnd.jupyter.widget-view+json": {
       "model_id": "f51080b4800e4621b4fcbc38ef6849e2",
       "version_major": 2,
       "version_minor": 0
      },
      "text/plain": [
       "  0%|          | 0/50 [00:00<?, ?it/s]"
      ]
     },
     "metadata": {},
     "output_type": "display_data"
    },
    {
     "name": "stdout",
     "output_type": "stream",
     "text": [
      "config.json\n",
      "torch.float32\n",
      "./saved/5000-0.5/counter/ddpm-sub-31-1000-TRAK-42/unet/diffusion_pytorch_model.bin\n",
      "cuda:0\n",
      "DDIM!\n"
     ]
    },
    {
     "data": {
      "application/vnd.jupyter.widget-view+json": {
       "model_id": "72c92119e5904f9d81af386f2a40aecb",
       "version_major": 2,
       "version_minor": 0
      },
      "text/plain": [
       "  0%|          | 0/50 [00:00<?, ?it/s]"
      ]
     },
     "metadata": {},
     "output_type": "display_data"
    },
    {
     "name": "stdout",
     "output_type": "stream",
     "text": [
      "config.json\n",
      "torch.float32\n",
      "./saved/5000-0.5/counter/ddpm-sub-31-1000-Ours-42/unet/diffusion_pytorch_model.bin\n",
      "cuda:0\n",
      "DDIM!\n"
     ]
    },
    {
     "data": {
      "application/vnd.jupyter.widget-view+json": {
       "model_id": "e6d7ad382f994271887165583181b313",
       "version_major": 2,
       "version_minor": 0
      },
      "text/plain": [
       "  0%|          | 0/50 [00:00<?, ?it/s]"
      ]
     },
     "metadata": {},
     "output_type": "display_data"
    },
    {
     "name": "stdout",
     "output_type": "stream",
     "text": [
      "32 614\n",
      "config.json\n",
      "torch.float32\n",
      "./saved/5000-0.5/counter/ddpm-sub-32-1000-Random-42/unet/diffusion_pytorch_model.bin\n",
      "cuda:0\n",
      "DDIM!\n"
     ]
    },
    {
     "data": {
      "application/vnd.jupyter.widget-view+json": {
       "model_id": "4f1268b4c4e34c2ab31612733be8d30f",
       "version_major": 2,
       "version_minor": 0
      },
      "text/plain": [
       "  0%|          | 0/50 [00:00<?, ?it/s]"
      ]
     },
     "metadata": {},
     "output_type": "display_data"
    },
    {
     "name": "stdout",
     "output_type": "stream",
     "text": [
      "config.json\n",
      "torch.float32\n",
      "./saved/5000-0.5/counter/ddpm-sub-32-1000-TRAK-42/unet/diffusion_pytorch_model.bin\n",
      "cuda:0\n",
      "DDIM!\n"
     ]
    },
    {
     "data": {
      "application/vnd.jupyter.widget-view+json": {
       "model_id": "31828a25e5a84eab87fd8aedfc1d5882",
       "version_major": 2,
       "version_minor": 0
      },
      "text/plain": [
       "  0%|          | 0/50 [00:00<?, ?it/s]"
      ]
     },
     "metadata": {},
     "output_type": "display_data"
    },
    {
     "name": "stdout",
     "output_type": "stream",
     "text": [
      "config.json\n",
      "torch.float32\n",
      "./saved/5000-0.5/counter/ddpm-sub-32-1000-Ours-42/unet/diffusion_pytorch_model.bin\n",
      "cuda:0\n",
      "DDIM!\n"
     ]
    },
    {
     "data": {
      "application/vnd.jupyter.widget-view+json": {
       "model_id": "938bbda182dd44079026c65afc9104d8",
       "version_major": 2,
       "version_minor": 0
      },
      "text/plain": [
       "  0%|          | 0/50 [00:00<?, ?it/s]"
      ]
     },
     "metadata": {},
     "output_type": "display_data"
    },
    {
     "name": "stdout",
     "output_type": "stream",
     "text": [
      "33 790\n",
      "config.json\n",
      "torch.float32\n",
      "./saved/5000-0.5/counter/ddpm-sub-33-1000-Random-42/unet/diffusion_pytorch_model.bin\n",
      "cuda:0\n",
      "DDIM!\n"
     ]
    },
    {
     "data": {
      "application/vnd.jupyter.widget-view+json": {
       "model_id": "64d00d89d1c9429fad7b3eaabd9291e5",
       "version_major": 2,
       "version_minor": 0
      },
      "text/plain": [
       "  0%|          | 0/50 [00:00<?, ?it/s]"
      ]
     },
     "metadata": {},
     "output_type": "display_data"
    },
    {
     "name": "stdout",
     "output_type": "stream",
     "text": [
      "config.json\n",
      "torch.float32\n",
      "./saved/5000-0.5/counter/ddpm-sub-33-1000-TRAK-42/unet/diffusion_pytorch_model.bin\n",
      "cuda:0\n",
      "DDIM!\n"
     ]
    },
    {
     "data": {
      "application/vnd.jupyter.widget-view+json": {
       "model_id": "82d1330d7109450f9ae9f7fca4fc5ff3",
       "version_major": 2,
       "version_minor": 0
      },
      "text/plain": [
       "  0%|          | 0/50 [00:00<?, ?it/s]"
      ]
     },
     "metadata": {},
     "output_type": "display_data"
    },
    {
     "name": "stdout",
     "output_type": "stream",
     "text": [
      "config.json\n",
      "torch.float32\n",
      "./saved/5000-0.5/counter/ddpm-sub-33-1000-Ours-42/unet/diffusion_pytorch_model.bin\n",
      "cuda:0\n",
      "DDIM!\n"
     ]
    },
    {
     "data": {
      "application/vnd.jupyter.widget-view+json": {
       "model_id": "b5f95ea0f7cc45c2bc0a8b31c0600d9a",
       "version_major": 2,
       "version_minor": 0
      },
      "text/plain": [
       "  0%|          | 0/50 [00:00<?, ?it/s]"
      ]
     },
     "metadata": {},
     "output_type": "display_data"
    },
    {
     "name": "stdout",
     "output_type": "stream",
     "text": [
      "34 408\n",
      "config.json\n",
      "torch.float32\n",
      "./saved/5000-0.5/counter/ddpm-sub-34-1000-Random-42/unet/diffusion_pytorch_model.bin\n",
      "cuda:0\n",
      "DDIM!\n"
     ]
    },
    {
     "data": {
      "application/vnd.jupyter.widget-view+json": {
       "model_id": "cf63cf52489243ac886b91f6867a84fd",
       "version_major": 2,
       "version_minor": 0
      },
      "text/plain": [
       "  0%|          | 0/50 [00:00<?, ?it/s]"
      ]
     },
     "metadata": {},
     "output_type": "display_data"
    },
    {
     "name": "stdout",
     "output_type": "stream",
     "text": [
      "config.json\n",
      "torch.float32\n",
      "./saved/5000-0.5/counter/ddpm-sub-34-1000-TRAK-42/unet/diffusion_pytorch_model.bin\n",
      "cuda:0\n",
      "DDIM!\n"
     ]
    },
    {
     "data": {
      "application/vnd.jupyter.widget-view+json": {
       "model_id": "672f706570a84f89987da42cc1e8bf3e",
       "version_major": 2,
       "version_minor": 0
      },
      "text/plain": [
       "  0%|          | 0/50 [00:00<?, ?it/s]"
      ]
     },
     "metadata": {},
     "output_type": "display_data"
    },
    {
     "name": "stdout",
     "output_type": "stream",
     "text": [
      "config.json\n",
      "torch.float32\n",
      "./saved/5000-0.5/counter/ddpm-sub-34-1000-Ours-42/unet/diffusion_pytorch_model.bin\n",
      "cuda:0\n",
      "DDIM!\n"
     ]
    },
    {
     "data": {
      "application/vnd.jupyter.widget-view+json": {
       "model_id": "e93090db8ab74e0883b73ba31436123b",
       "version_major": 2,
       "version_minor": 0
      },
      "text/plain": [
       "  0%|          | 0/50 [00:00<?, ?it/s]"
      ]
     },
     "metadata": {},
     "output_type": "display_data"
    },
    {
     "name": "stdout",
     "output_type": "stream",
     "text": [
      "35 736\n",
      "config.json\n",
      "torch.float32\n",
      "./saved/5000-0.5/counter/ddpm-sub-35-1000-Random-42/unet/diffusion_pytorch_model.bin\n",
      "cuda:0\n",
      "DDIM!\n"
     ]
    },
    {
     "data": {
      "application/vnd.jupyter.widget-view+json": {
       "model_id": "3a06490fd2df4e4ca2844bf5993fcec4",
       "version_major": 2,
       "version_minor": 0
      },
      "text/plain": [
       "  0%|          | 0/50 [00:00<?, ?it/s]"
      ]
     },
     "metadata": {},
     "output_type": "display_data"
    },
    {
     "name": "stdout",
     "output_type": "stream",
     "text": [
      "config.json\n",
      "torch.float32\n",
      "./saved/5000-0.5/counter/ddpm-sub-35-1000-TRAK-42/unet/diffusion_pytorch_model.bin\n",
      "cuda:0\n",
      "DDIM!\n"
     ]
    },
    {
     "data": {
      "application/vnd.jupyter.widget-view+json": {
       "model_id": "c88c57ece44c4f78af78fc63903378fb",
       "version_major": 2,
       "version_minor": 0
      },
      "text/plain": [
       "  0%|          | 0/50 [00:00<?, ?it/s]"
      ]
     },
     "metadata": {},
     "output_type": "display_data"
    },
    {
     "name": "stdout",
     "output_type": "stream",
     "text": [
      "config.json\n",
      "torch.float32\n",
      "./saved/5000-0.5/counter/ddpm-sub-35-1000-Ours-42/unet/diffusion_pytorch_model.bin\n",
      "cuda:0\n",
      "DDIM!\n"
     ]
    },
    {
     "data": {
      "application/vnd.jupyter.widget-view+json": {
       "model_id": "eccd629388744ef2a8399a0294480ee9",
       "version_major": 2,
       "version_minor": 0
      },
      "text/plain": [
       "  0%|          | 0/50 [00:00<?, ?it/s]"
      ]
     },
     "metadata": {},
     "output_type": "display_data"
    },
    {
     "name": "stdout",
     "output_type": "stream",
     "text": [
      "36 957\n",
      "config.json\n",
      "torch.float32\n",
      "./saved/5000-0.5/counter/ddpm-sub-36-1000-Random-42/unet/diffusion_pytorch_model.bin\n",
      "cuda:0\n",
      "DDIM!\n"
     ]
    },
    {
     "data": {
      "application/vnd.jupyter.widget-view+json": {
       "model_id": "7495e685c4df4a089524eab1b84f851d",
       "version_major": 2,
       "version_minor": 0
      },
      "text/plain": [
       "  0%|          | 0/50 [00:00<?, ?it/s]"
      ]
     },
     "metadata": {},
     "output_type": "display_data"
    },
    {
     "name": "stdout",
     "output_type": "stream",
     "text": [
      "config.json\n",
      "torch.float32\n",
      "./saved/5000-0.5/counter/ddpm-sub-36-1000-TRAK-42/unet/diffusion_pytorch_model.bin\n",
      "cuda:0\n",
      "DDIM!\n"
     ]
    },
    {
     "data": {
      "application/vnd.jupyter.widget-view+json": {
       "model_id": "ec77fee6afef4fb0a12346a1701d46b7",
       "version_major": 2,
       "version_minor": 0
      },
      "text/plain": [
       "  0%|          | 0/50 [00:00<?, ?it/s]"
      ]
     },
     "metadata": {},
     "output_type": "display_data"
    },
    {
     "name": "stdout",
     "output_type": "stream",
     "text": [
      "config.json\n",
      "torch.float32\n",
      "./saved/5000-0.5/counter/ddpm-sub-36-1000-Ours-42/unet/diffusion_pytorch_model.bin\n",
      "cuda:0\n",
      "DDIM!\n"
     ]
    },
    {
     "data": {
      "application/vnd.jupyter.widget-view+json": {
       "model_id": "87f39a8382564e6a8f13ccc29ca1775c",
       "version_major": 2,
       "version_minor": 0
      },
      "text/plain": [
       "  0%|          | 0/50 [00:00<?, ?it/s]"
      ]
     },
     "metadata": {},
     "output_type": "display_data"
    },
    {
     "name": "stdout",
     "output_type": "stream",
     "text": [
      "37 366\n",
      "config.json\n",
      "torch.float32\n",
      "./saved/5000-0.5/counter/ddpm-sub-37-1000-Random-42/unet/diffusion_pytorch_model.bin\n",
      "cuda:0\n",
      "DDIM!\n"
     ]
    },
    {
     "data": {
      "application/vnd.jupyter.widget-view+json": {
       "model_id": "c6b96d62d54242bea83c90dec31b9e08",
       "version_major": 2,
       "version_minor": 0
      },
      "text/plain": [
       "  0%|          | 0/50 [00:00<?, ?it/s]"
      ]
     },
     "metadata": {},
     "output_type": "display_data"
    },
    {
     "name": "stdout",
     "output_type": "stream",
     "text": [
      "config.json\n",
      "torch.float32\n",
      "./saved/5000-0.5/counter/ddpm-sub-37-1000-TRAK-42/unet/diffusion_pytorch_model.bin\n",
      "cuda:0\n",
      "DDIM!\n"
     ]
    },
    {
     "data": {
      "application/vnd.jupyter.widget-view+json": {
       "model_id": "00be631207c84ae68481cbf00874311d",
       "version_major": 2,
       "version_minor": 0
      },
      "text/plain": [
       "  0%|          | 0/50 [00:00<?, ?it/s]"
      ]
     },
     "metadata": {},
     "output_type": "display_data"
    },
    {
     "name": "stdout",
     "output_type": "stream",
     "text": [
      "config.json\n",
      "torch.float32\n",
      "./saved/5000-0.5/counter/ddpm-sub-37-1000-Ours-42/unet/diffusion_pytorch_model.bin\n",
      "cuda:0\n",
      "DDIM!\n"
     ]
    },
    {
     "data": {
      "application/vnd.jupyter.widget-view+json": {
       "model_id": "1f69dec0a39a400181d3c979e5c68b11",
       "version_major": 2,
       "version_minor": 0
      },
      "text/plain": [
       "  0%|          | 0/50 [00:00<?, ?it/s]"
      ]
     },
     "metadata": {},
     "output_type": "display_data"
    },
    {
     "name": "stdout",
     "output_type": "stream",
     "text": [
      "38 918\n",
      "config.json\n",
      "torch.float32\n",
      "./saved/5000-0.5/counter/ddpm-sub-38-1000-Random-42/unet/diffusion_pytorch_model.bin\n",
      "cuda:0\n",
      "DDIM!\n"
     ]
    },
    {
     "data": {
      "application/vnd.jupyter.widget-view+json": {
       "model_id": "59d34d23a38c4cca869d8933fd50b026",
       "version_major": 2,
       "version_minor": 0
      },
      "text/plain": [
       "  0%|          | 0/50 [00:00<?, ?it/s]"
      ]
     },
     "metadata": {},
     "output_type": "display_data"
    },
    {
     "name": "stdout",
     "output_type": "stream",
     "text": [
      "config.json\n",
      "torch.float32\n",
      "./saved/5000-0.5/counter/ddpm-sub-38-1000-TRAK-42/unet/diffusion_pytorch_model.bin\n",
      "cuda:0\n",
      "DDIM!\n"
     ]
    },
    {
     "data": {
      "application/vnd.jupyter.widget-view+json": {
       "model_id": "aad1905c86af41cdbb1f2bc74eba38a6",
       "version_major": 2,
       "version_minor": 0
      },
      "text/plain": [
       "  0%|          | 0/50 [00:00<?, ?it/s]"
      ]
     },
     "metadata": {},
     "output_type": "display_data"
    },
    {
     "name": "stdout",
     "output_type": "stream",
     "text": [
      "config.json\n",
      "torch.float32\n",
      "./saved/5000-0.5/counter/ddpm-sub-38-1000-Ours-42/unet/diffusion_pytorch_model.bin\n",
      "cuda:0\n",
      "DDIM!\n"
     ]
    },
    {
     "data": {
      "application/vnd.jupyter.widget-view+json": {
       "model_id": "a35e5c8aa1f74d35822b2877f86d97c6",
       "version_major": 2,
       "version_minor": 0
      },
      "text/plain": [
       "  0%|          | 0/50 [00:00<?, ?it/s]"
      ]
     },
     "metadata": {},
     "output_type": "display_data"
    },
    {
     "name": "stdout",
     "output_type": "stream",
     "text": [
      "39 267\n",
      "config.json\n",
      "torch.float32\n",
      "./saved/5000-0.5/counter/ddpm-sub-39-1000-Random-42/unet/diffusion_pytorch_model.bin\n",
      "cuda:0\n",
      "DDIM!\n"
     ]
    },
    {
     "data": {
      "application/vnd.jupyter.widget-view+json": {
       "model_id": "84f0570a532140e398dbfd84aec6a406",
       "version_major": 2,
       "version_minor": 0
      },
      "text/plain": [
       "  0%|          | 0/50 [00:00<?, ?it/s]"
      ]
     },
     "metadata": {},
     "output_type": "display_data"
    },
    {
     "name": "stdout",
     "output_type": "stream",
     "text": [
      "config.json\n",
      "torch.float32\n",
      "./saved/5000-0.5/counter/ddpm-sub-39-1000-TRAK-42/unet/diffusion_pytorch_model.bin\n",
      "cuda:0\n",
      "DDIM!\n"
     ]
    },
    {
     "data": {
      "application/vnd.jupyter.widget-view+json": {
       "model_id": "7727784014ba4b94b65557816ab653d0",
       "version_major": 2,
       "version_minor": 0
      },
      "text/plain": [
       "  0%|          | 0/50 [00:00<?, ?it/s]"
      ]
     },
     "metadata": {},
     "output_type": "display_data"
    },
    {
     "name": "stdout",
     "output_type": "stream",
     "text": [
      "config.json\n",
      "torch.float32\n",
      "./saved/5000-0.5/counter/ddpm-sub-39-1000-Ours-42/unet/diffusion_pytorch_model.bin\n",
      "cuda:0\n",
      "DDIM!\n"
     ]
    },
    {
     "data": {
      "application/vnd.jupyter.widget-view+json": {
       "model_id": "fab4ad3f6ccf4a688dcf89eb3b19086b",
       "version_major": 2,
       "version_minor": 0
      },
      "text/plain": [
       "  0%|          | 0/50 [00:00<?, ?it/s]"
      ]
     },
     "metadata": {},
     "output_type": "display_data"
    },
    {
     "name": "stdout",
     "output_type": "stream",
     "text": [
      "40 230\n",
      "config.json\n",
      "torch.float32\n",
      "./saved/5000-0.5/counter/ddpm-sub-40-1000-Random-42/unet/diffusion_pytorch_model.bin\n",
      "cuda:0\n",
      "DDIM!\n"
     ]
    },
    {
     "data": {
      "application/vnd.jupyter.widget-view+json": {
       "model_id": "7afa12861ef94192892d073c6b848a84",
       "version_major": 2,
       "version_minor": 0
      },
      "text/plain": [
       "  0%|          | 0/50 [00:00<?, ?it/s]"
      ]
     },
     "metadata": {},
     "output_type": "display_data"
    },
    {
     "name": "stdout",
     "output_type": "stream",
     "text": [
      "config.json\n",
      "torch.float32\n",
      "./saved/5000-0.5/counter/ddpm-sub-40-1000-TRAK-42/unet/diffusion_pytorch_model.bin\n",
      "cuda:0\n",
      "DDIM!\n"
     ]
    },
    {
     "data": {
      "application/vnd.jupyter.widget-view+json": {
       "model_id": "9b4d8eb5fe4e4d8aa0fe96eafc9ad163",
       "version_major": 2,
       "version_minor": 0
      },
      "text/plain": [
       "  0%|          | 0/50 [00:00<?, ?it/s]"
      ]
     },
     "metadata": {},
     "output_type": "display_data"
    },
    {
     "name": "stdout",
     "output_type": "stream",
     "text": [
      "config.json\n",
      "torch.float32\n",
      "./saved/5000-0.5/counter/ddpm-sub-40-1000-Ours-42/unet/diffusion_pytorch_model.bin\n",
      "cuda:0\n",
      "DDIM!\n"
     ]
    },
    {
     "data": {
      "application/vnd.jupyter.widget-view+json": {
       "model_id": "786b3bc577874422ba3ac89f3948f617",
       "version_major": 2,
       "version_minor": 0
      },
      "text/plain": [
       "  0%|          | 0/50 [00:00<?, ?it/s]"
      ]
     },
     "metadata": {},
     "output_type": "display_data"
    },
    {
     "name": "stdout",
     "output_type": "stream",
     "text": [
      "41 996\n",
      "config.json\n",
      "torch.float32\n",
      "./saved/5000-0.5/counter/ddpm-sub-41-1000-Random-42/unet/diffusion_pytorch_model.bin\n",
      "cuda:0\n",
      "DDIM!\n"
     ]
    },
    {
     "data": {
      "application/vnd.jupyter.widget-view+json": {
       "model_id": "3c9b59ac85f14d6d8d9fdaa0f61ca117",
       "version_major": 2,
       "version_minor": 0
      },
      "text/plain": [
       "  0%|          | 0/50 [00:00<?, ?it/s]"
      ]
     },
     "metadata": {},
     "output_type": "display_data"
    },
    {
     "name": "stdout",
     "output_type": "stream",
     "text": [
      "config.json\n",
      "torch.float32\n",
      "./saved/5000-0.5/counter/ddpm-sub-41-1000-TRAK-42/unet/diffusion_pytorch_model.bin\n",
      "cuda:0\n",
      "DDIM!\n"
     ]
    },
    {
     "data": {
      "application/vnd.jupyter.widget-view+json": {
       "model_id": "82891b7b466c4288a1ec656279d73359",
       "version_major": 2,
       "version_minor": 0
      },
      "text/plain": [
       "  0%|          | 0/50 [00:00<?, ?it/s]"
      ]
     },
     "metadata": {},
     "output_type": "display_data"
    },
    {
     "name": "stdout",
     "output_type": "stream",
     "text": [
      "config.json\n",
      "torch.float32\n",
      "./saved/5000-0.5/counter/ddpm-sub-41-1000-Ours-42/unet/diffusion_pytorch_model.bin\n",
      "cuda:0\n",
      "DDIM!\n"
     ]
    },
    {
     "data": {
      "application/vnd.jupyter.widget-view+json": {
       "model_id": "7a3f4746601345d5b0c26f556ec656e3",
       "version_major": 2,
       "version_minor": 0
      },
      "text/plain": [
       "  0%|          | 0/50 [00:00<?, ?it/s]"
      ]
     },
     "metadata": {},
     "output_type": "display_data"
    },
    {
     "name": "stdout",
     "output_type": "stream",
     "text": [
      "42 635\n",
      "config.json\n",
      "torch.float32\n",
      "./saved/5000-0.5/counter/ddpm-sub-42-1000-Random-42/unet/diffusion_pytorch_model.bin\n",
      "cuda:0\n",
      "DDIM!\n"
     ]
    },
    {
     "data": {
      "application/vnd.jupyter.widget-view+json": {
       "model_id": "21c9169b97924c088d9c4012a166b69c",
       "version_major": 2,
       "version_minor": 0
      },
      "text/plain": [
       "  0%|          | 0/50 [00:00<?, ?it/s]"
      ]
     },
     "metadata": {},
     "output_type": "display_data"
    },
    {
     "name": "stdout",
     "output_type": "stream",
     "text": [
      "config.json\n",
      "torch.float32\n",
      "./saved/5000-0.5/counter/ddpm-sub-42-1000-TRAK-42/unet/diffusion_pytorch_model.bin\n",
      "cuda:0\n",
      "DDIM!\n"
     ]
    },
    {
     "data": {
      "application/vnd.jupyter.widget-view+json": {
       "model_id": "db2ef60018094649ab76dd3405017131",
       "version_major": 2,
       "version_minor": 0
      },
      "text/plain": [
       "  0%|          | 0/50 [00:00<?, ?it/s]"
      ]
     },
     "metadata": {},
     "output_type": "display_data"
    },
    {
     "name": "stdout",
     "output_type": "stream",
     "text": [
      "config.json\n",
      "torch.float32\n",
      "./saved/5000-0.5/counter/ddpm-sub-42-1000-Ours-42/unet/diffusion_pytorch_model.bin\n",
      "cuda:0\n",
      "DDIM!\n"
     ]
    },
    {
     "data": {
      "application/vnd.jupyter.widget-view+json": {
       "model_id": "1df1bf051e5e4c61acb3035bfabe14bb",
       "version_major": 2,
       "version_minor": 0
      },
      "text/plain": [
       "  0%|          | 0/50 [00:00<?, ?it/s]"
      ]
     },
     "metadata": {},
     "output_type": "display_data"
    },
    {
     "name": "stdout",
     "output_type": "stream",
     "text": [
      "43 698\n",
      "config.json\n",
      "torch.float32\n",
      "./saved/5000-0.5/counter/ddpm-sub-43-1000-Random-42/unet/diffusion_pytorch_model.bin\n",
      "cuda:0\n",
      "DDIM!\n"
     ]
    },
    {
     "data": {
      "application/vnd.jupyter.widget-view+json": {
       "model_id": "fa8e62f5f2794d93b124db4b195c4c3f",
       "version_major": 2,
       "version_minor": 0
      },
      "text/plain": [
       "  0%|          | 0/50 [00:00<?, ?it/s]"
      ]
     },
     "metadata": {},
     "output_type": "display_data"
    },
    {
     "name": "stdout",
     "output_type": "stream",
     "text": [
      "config.json\n",
      "torch.float32\n",
      "./saved/5000-0.5/counter/ddpm-sub-43-1000-TRAK-42/unet/diffusion_pytorch_model.bin\n",
      "cuda:0\n",
      "DDIM!\n"
     ]
    },
    {
     "data": {
      "application/vnd.jupyter.widget-view+json": {
       "model_id": "92d41808443346c197a317e9a59a3f00",
       "version_major": 2,
       "version_minor": 0
      },
      "text/plain": [
       "  0%|          | 0/50 [00:00<?, ?it/s]"
      ]
     },
     "metadata": {},
     "output_type": "display_data"
    },
    {
     "name": "stdout",
     "output_type": "stream",
     "text": [
      "config.json\n",
      "torch.float32\n",
      "./saved/5000-0.5/counter/ddpm-sub-43-1000-Ours-42/unet/diffusion_pytorch_model.bin\n",
      "cuda:0\n",
      "DDIM!\n"
     ]
    },
    {
     "data": {
      "application/vnd.jupyter.widget-view+json": {
       "model_id": "22e79d74d0b94b8b8896174256b294d2",
       "version_major": 2,
       "version_minor": 0
      },
      "text/plain": [
       "  0%|          | 0/50 [00:00<?, ?it/s]"
      ]
     },
     "metadata": {},
     "output_type": "display_data"
    },
    {
     "name": "stdout",
     "output_type": "stream",
     "text": [
      "44 251\n",
      "config.json\n",
      "torch.float32\n",
      "./saved/5000-0.5/counter/ddpm-sub-44-1000-Random-42/unet/diffusion_pytorch_model.bin\n",
      "cuda:0\n",
      "DDIM!\n"
     ]
    },
    {
     "data": {
      "application/vnd.jupyter.widget-view+json": {
       "model_id": "0f38d5241555462ca66caa4f3b3732d6",
       "version_major": 2,
       "version_minor": 0
      },
      "text/plain": [
       "  0%|          | 0/50 [00:00<?, ?it/s]"
      ]
     },
     "metadata": {},
     "output_type": "display_data"
    },
    {
     "name": "stdout",
     "output_type": "stream",
     "text": [
      "config.json\n",
      "torch.float32\n",
      "./saved/5000-0.5/counter/ddpm-sub-44-1000-TRAK-42/unet/diffusion_pytorch_model.bin\n",
      "cuda:0\n",
      "DDIM!\n"
     ]
    },
    {
     "data": {
      "application/vnd.jupyter.widget-view+json": {
       "model_id": "559c1b05072c42adbd793893c9552274",
       "version_major": 2,
       "version_minor": 0
      },
      "text/plain": [
       "  0%|          | 0/50 [00:00<?, ?it/s]"
      ]
     },
     "metadata": {},
     "output_type": "display_data"
    },
    {
     "name": "stdout",
     "output_type": "stream",
     "text": [
      "config.json\n",
      "torch.float32\n",
      "./saved/5000-0.5/counter/ddpm-sub-44-1000-Ours-42/unet/diffusion_pytorch_model.bin\n",
      "cuda:0\n",
      "DDIM!\n"
     ]
    },
    {
     "data": {
      "application/vnd.jupyter.widget-view+json": {
       "model_id": "35389a47480a4ce2b3b2f9f6735030c5",
       "version_major": 2,
       "version_minor": 0
      },
      "text/plain": [
       "  0%|          | 0/50 [00:00<?, ?it/s]"
      ]
     },
     "metadata": {},
     "output_type": "display_data"
    },
    {
     "name": "stdout",
     "output_type": "stream",
     "text": [
      "45 783\n",
      "config.json\n",
      "torch.float32\n",
      "./saved/5000-0.5/counter/ddpm-sub-45-1000-Random-42/unet/diffusion_pytorch_model.bin\n",
      "cuda:0\n",
      "DDIM!\n"
     ]
    },
    {
     "data": {
      "application/vnd.jupyter.widget-view+json": {
       "model_id": "aea89a4bdcdd4b8e964d7d7f51e620a5",
       "version_major": 2,
       "version_minor": 0
      },
      "text/plain": [
       "  0%|          | 0/50 [00:00<?, ?it/s]"
      ]
     },
     "metadata": {},
     "output_type": "display_data"
    },
    {
     "name": "stdout",
     "output_type": "stream",
     "text": [
      "config.json\n",
      "torch.float32\n",
      "./saved/5000-0.5/counter/ddpm-sub-45-1000-TRAK-42/unet/diffusion_pytorch_model.bin\n",
      "cuda:0\n",
      "DDIM!\n"
     ]
    },
    {
     "data": {
      "application/vnd.jupyter.widget-view+json": {
       "model_id": "474749bd19454f69ad86fa8c1fd394f5",
       "version_major": 2,
       "version_minor": 0
      },
      "text/plain": [
       "  0%|          | 0/50 [00:00<?, ?it/s]"
      ]
     },
     "metadata": {},
     "output_type": "display_data"
    },
    {
     "name": "stdout",
     "output_type": "stream",
     "text": [
      "config.json\n",
      "torch.float32\n",
      "./saved/5000-0.5/counter/ddpm-sub-45-1000-Ours-42/unet/diffusion_pytorch_model.bin\n",
      "cuda:0\n",
      "DDIM!\n"
     ]
    },
    {
     "data": {
      "application/vnd.jupyter.widget-view+json": {
       "model_id": "5bb570b9168845c593fa20908c1e4a2a",
       "version_major": 2,
       "version_minor": 0
      },
      "text/plain": [
       "  0%|          | 0/50 [00:00<?, ?it/s]"
      ]
     },
     "metadata": {},
     "output_type": "display_data"
    },
    {
     "name": "stdout",
     "output_type": "stream",
     "text": [
      "46 819\n",
      "config.json\n",
      "torch.float32\n",
      "./saved/5000-0.5/counter/ddpm-sub-46-1000-Random-42/unet/diffusion_pytorch_model.bin\n",
      "cuda:0\n",
      "DDIM!\n"
     ]
    },
    {
     "data": {
      "application/vnd.jupyter.widget-view+json": {
       "model_id": "64953c29894c4ac39a2125407829c86a",
       "version_major": 2,
       "version_minor": 0
      },
      "text/plain": [
       "  0%|          | 0/50 [00:00<?, ?it/s]"
      ]
     },
     "metadata": {},
     "output_type": "display_data"
    },
    {
     "name": "stdout",
     "output_type": "stream",
     "text": [
      "config.json\n",
      "torch.float32\n",
      "./saved/5000-0.5/counter/ddpm-sub-46-1000-TRAK-42/unet/diffusion_pytorch_model.bin\n",
      "cuda:0\n",
      "DDIM!\n"
     ]
    },
    {
     "data": {
      "application/vnd.jupyter.widget-view+json": {
       "model_id": "dfa9bc14e8b74c8498d824cd63c66baf",
       "version_major": 2,
       "version_minor": 0
      },
      "text/plain": [
       "  0%|          | 0/50 [00:00<?, ?it/s]"
      ]
     },
     "metadata": {},
     "output_type": "display_data"
    },
    {
     "name": "stdout",
     "output_type": "stream",
     "text": [
      "config.json\n",
      "torch.float32\n",
      "./saved/5000-0.5/counter/ddpm-sub-46-1000-Ours-42/unet/diffusion_pytorch_model.bin\n",
      "cuda:0\n",
      "DDIM!\n"
     ]
    },
    {
     "data": {
      "application/vnd.jupyter.widget-view+json": {
       "model_id": "1b462ff12e654405ae1a678b51f8e97c",
       "version_major": 2,
       "version_minor": 0
      },
      "text/plain": [
       "  0%|          | 0/50 [00:00<?, ?it/s]"
      ]
     },
     "metadata": {},
     "output_type": "display_data"
    },
    {
     "name": "stdout",
     "output_type": "stream",
     "text": [
      "47 141\n",
      "config.json\n",
      "torch.float32\n",
      "./saved/5000-0.5/counter/ddpm-sub-47-1000-Random-42/unet/diffusion_pytorch_model.bin\n",
      "cuda:0\n",
      "DDIM!\n"
     ]
    },
    {
     "data": {
      "application/vnd.jupyter.widget-view+json": {
       "model_id": "3fe4487e0cee410ab0b994188c5627e0",
       "version_major": 2,
       "version_minor": 0
      },
      "text/plain": [
       "  0%|          | 0/50 [00:00<?, ?it/s]"
      ]
     },
     "metadata": {},
     "output_type": "display_data"
    },
    {
     "name": "stdout",
     "output_type": "stream",
     "text": [
      "config.json\n",
      "torch.float32\n",
      "./saved/5000-0.5/counter/ddpm-sub-47-1000-TRAK-42/unet/diffusion_pytorch_model.bin\n",
      "cuda:0\n",
      "DDIM!\n"
     ]
    },
    {
     "data": {
      "application/vnd.jupyter.widget-view+json": {
       "model_id": "059a83101c6f47199382f42de4416b63",
       "version_major": 2,
       "version_minor": 0
      },
      "text/plain": [
       "  0%|          | 0/50 [00:00<?, ?it/s]"
      ]
     },
     "metadata": {},
     "output_type": "display_data"
    },
    {
     "name": "stdout",
     "output_type": "stream",
     "text": [
      "config.json\n",
      "torch.float32\n",
      "./saved/5000-0.5/counter/ddpm-sub-47-1000-Ours-42/unet/diffusion_pytorch_model.bin\n",
      "cuda:0\n",
      "DDIM!\n"
     ]
    },
    {
     "data": {
      "application/vnd.jupyter.widget-view+json": {
       "model_id": "5a9f81c3f1a24a94ab708ea570d2e20e",
       "version_major": 2,
       "version_minor": 0
      },
      "text/plain": [
       "  0%|          | 0/50 [00:00<?, ?it/s]"
      ]
     },
     "metadata": {},
     "output_type": "display_data"
    },
    {
     "name": "stdout",
     "output_type": "stream",
     "text": [
      "48 316\n",
      "config.json\n",
      "torch.float32\n",
      "./saved/5000-0.5/counter/ddpm-sub-48-1000-Random-42/unet/diffusion_pytorch_model.bin\n",
      "cuda:0\n",
      "DDIM!\n"
     ]
    },
    {
     "data": {
      "application/vnd.jupyter.widget-view+json": {
       "model_id": "c06589b8dbda464996756c140b821138",
       "version_major": 2,
       "version_minor": 0
      },
      "text/plain": [
       "  0%|          | 0/50 [00:00<?, ?it/s]"
      ]
     },
     "metadata": {},
     "output_type": "display_data"
    },
    {
     "name": "stdout",
     "output_type": "stream",
     "text": [
      "config.json\n",
      "torch.float32\n",
      "./saved/5000-0.5/counter/ddpm-sub-48-1000-TRAK-42/unet/diffusion_pytorch_model.bin\n",
      "cuda:0\n",
      "DDIM!\n"
     ]
    },
    {
     "data": {
      "application/vnd.jupyter.widget-view+json": {
       "model_id": "3fd010fdd1004d919d57f06862b74d91",
       "version_major": 2,
       "version_minor": 0
      },
      "text/plain": [
       "  0%|          | 0/50 [00:00<?, ?it/s]"
      ]
     },
     "metadata": {},
     "output_type": "display_data"
    },
    {
     "name": "stdout",
     "output_type": "stream",
     "text": [
      "config.json\n",
      "torch.float32\n",
      "./saved/5000-0.5/counter/ddpm-sub-48-1000-Ours-42/unet/diffusion_pytorch_model.bin\n",
      "cuda:0\n",
      "DDIM!\n"
     ]
    },
    {
     "data": {
      "application/vnd.jupyter.widget-view+json": {
       "model_id": "6ec1ebd5974d458e92ed828d504f6a3c",
       "version_major": 2,
       "version_minor": 0
      },
      "text/plain": [
       "  0%|          | 0/50 [00:00<?, ?it/s]"
      ]
     },
     "metadata": {},
     "output_type": "display_data"
    },
    {
     "name": "stdout",
     "output_type": "stream",
     "text": [
      "49 587\n",
      "config.json\n",
      "torch.float32\n",
      "./saved/5000-0.5/counter/ddpm-sub-49-1000-Random-42/unet/diffusion_pytorch_model.bin\n",
      "cuda:0\n",
      "DDIM!\n"
     ]
    },
    {
     "data": {
      "application/vnd.jupyter.widget-view+json": {
       "model_id": "f3c8806ea07d4cfbbda6b5875b3814c3",
       "version_major": 2,
       "version_minor": 0
      },
      "text/plain": [
       "  0%|          | 0/50 [00:00<?, ?it/s]"
      ]
     },
     "metadata": {},
     "output_type": "display_data"
    },
    {
     "name": "stdout",
     "output_type": "stream",
     "text": [
      "config.json\n",
      "torch.float32\n",
      "./saved/5000-0.5/counter/ddpm-sub-49-1000-TRAK-42/unet/diffusion_pytorch_model.bin\n",
      "cuda:0\n",
      "DDIM!\n"
     ]
    },
    {
     "data": {
      "application/vnd.jupyter.widget-view+json": {
       "model_id": "f5ae419fddb347c5a06976a14e963305",
       "version_major": 2,
       "version_minor": 0
      },
      "text/plain": [
       "  0%|          | 0/50 [00:00<?, ?it/s]"
      ]
     },
     "metadata": {},
     "output_type": "display_data"
    },
    {
     "name": "stdout",
     "output_type": "stream",
     "text": [
      "config.json\n",
      "torch.float32\n",
      "./saved/5000-0.5/counter/ddpm-sub-49-1000-Ours-42/unet/diffusion_pytorch_model.bin\n",
      "cuda:0\n",
      "DDIM!\n"
     ]
    },
    {
     "data": {
      "application/vnd.jupyter.widget-view+json": {
       "model_id": "3da4cdc4bd684ae3a96a2740b06bb48c",
       "version_major": 2,
       "version_minor": 0
      },
      "text/plain": [
       "  0%|          | 0/50 [00:00<?, ?it/s]"
      ]
     },
     "metadata": {},
     "output_type": "display_data"
    },
    {
     "name": "stdout",
     "output_type": "stream",
     "text": [
      "50 331\n",
      "config.json\n",
      "torch.float32\n",
      "./saved/5000-0.5/counter/ddpm-sub-50-1000-Random-42/unet/diffusion_pytorch_model.bin\n",
      "cuda:0\n",
      "DDIM!\n"
     ]
    },
    {
     "data": {
      "application/vnd.jupyter.widget-view+json": {
       "model_id": "689c6a448f7845099dc0a8a812edb05d",
       "version_major": 2,
       "version_minor": 0
      },
      "text/plain": [
       "  0%|          | 0/50 [00:00<?, ?it/s]"
      ]
     },
     "metadata": {},
     "output_type": "display_data"
    },
    {
     "name": "stdout",
     "output_type": "stream",
     "text": [
      "config.json\n",
      "torch.float32\n",
      "./saved/5000-0.5/counter/ddpm-sub-50-1000-TRAK-42/unet/diffusion_pytorch_model.bin\n",
      "cuda:0\n",
      "DDIM!\n"
     ]
    },
    {
     "data": {
      "application/vnd.jupyter.widget-view+json": {
       "model_id": "39ae2a33e1c443ea94a9c39f50b6c023",
       "version_major": 2,
       "version_minor": 0
      },
      "text/plain": [
       "  0%|          | 0/50 [00:00<?, ?it/s]"
      ]
     },
     "metadata": {},
     "output_type": "display_data"
    },
    {
     "name": "stdout",
     "output_type": "stream",
     "text": [
      "config.json\n",
      "torch.float32\n",
      "./saved/5000-0.5/counter/ddpm-sub-50-1000-Ours-42/unet/diffusion_pytorch_model.bin\n",
      "cuda:0\n",
      "DDIM!\n"
     ]
    },
    {
     "data": {
      "application/vnd.jupyter.widget-view+json": {
       "model_id": "ade8c535739947b7bb98ca4b9e2037b5",
       "version_major": 2,
       "version_minor": 0
      },
      "text/plain": [
       "  0%|          | 0/50 [00:00<?, ?it/s]"
      ]
     },
     "metadata": {},
     "output_type": "display_data"
    },
    {
     "name": "stdout",
     "output_type": "stream",
     "text": [
      "51 295\n",
      "config.json\n",
      "torch.float32\n",
      "./saved/5000-0.5/counter/ddpm-sub-51-1000-Random-42/unet/diffusion_pytorch_model.bin\n",
      "cuda:0\n",
      "DDIM!\n"
     ]
    },
    {
     "data": {
      "application/vnd.jupyter.widget-view+json": {
       "model_id": "bebac4923869476d8567efa1b8aea61d",
       "version_major": 2,
       "version_minor": 0
      },
      "text/plain": [
       "  0%|          | 0/50 [00:00<?, ?it/s]"
      ]
     },
     "metadata": {},
     "output_type": "display_data"
    },
    {
     "name": "stdout",
     "output_type": "stream",
     "text": [
      "config.json\n",
      "torch.float32\n",
      "./saved/5000-0.5/counter/ddpm-sub-51-1000-TRAK-42/unet/diffusion_pytorch_model.bin\n",
      "cuda:0\n",
      "DDIM!\n"
     ]
    },
    {
     "data": {
      "application/vnd.jupyter.widget-view+json": {
       "model_id": "20f1a94a3d3d48d9a6a7f9000a242b11",
       "version_major": 2,
       "version_minor": 0
      },
      "text/plain": [
       "  0%|          | 0/50 [00:00<?, ?it/s]"
      ]
     },
     "metadata": {},
     "output_type": "display_data"
    },
    {
     "name": "stdout",
     "output_type": "stream",
     "text": [
      "config.json\n",
      "torch.float32\n",
      "./saved/5000-0.5/counter/ddpm-sub-51-1000-Ours-42/unet/diffusion_pytorch_model.bin\n",
      "cuda:0\n",
      "DDIM!\n"
     ]
    },
    {
     "data": {
      "application/vnd.jupyter.widget-view+json": {
       "model_id": "e01c2503906540088eccdec480cf0d12",
       "version_major": 2,
       "version_minor": 0
      },
      "text/plain": [
       "  0%|          | 0/50 [00:00<?, ?it/s]"
      ]
     },
     "metadata": {},
     "output_type": "display_data"
    },
    {
     "name": "stdout",
     "output_type": "stream",
     "text": [
      "52 262\n",
      "config.json\n",
      "torch.float32\n",
      "./saved/5000-0.5/counter/ddpm-sub-52-1000-Random-42/unet/diffusion_pytorch_model.bin\n",
      "cuda:0\n",
      "DDIM!\n"
     ]
    },
    {
     "data": {
      "application/vnd.jupyter.widget-view+json": {
       "model_id": "e86086ea34b24e29a00127198b428567",
       "version_major": 2,
       "version_minor": 0
      },
      "text/plain": [
       "  0%|          | 0/50 [00:00<?, ?it/s]"
      ]
     },
     "metadata": {},
     "output_type": "display_data"
    },
    {
     "name": "stdout",
     "output_type": "stream",
     "text": [
      "config.json\n",
      "torch.float32\n",
      "./saved/5000-0.5/counter/ddpm-sub-52-1000-TRAK-42/unet/diffusion_pytorch_model.bin\n",
      "cuda:0\n",
      "DDIM!\n"
     ]
    },
    {
     "data": {
      "application/vnd.jupyter.widget-view+json": {
       "model_id": "cbe2d4c5c9124dcdb04f482a1950dd08",
       "version_major": 2,
       "version_minor": 0
      },
      "text/plain": [
       "  0%|          | 0/50 [00:00<?, ?it/s]"
      ]
     },
     "metadata": {},
     "output_type": "display_data"
    },
    {
     "name": "stdout",
     "output_type": "stream",
     "text": [
      "config.json\n",
      "torch.float32\n",
      "./saved/5000-0.5/counter/ddpm-sub-52-1000-Ours-42/unet/diffusion_pytorch_model.bin\n",
      "cuda:0\n",
      "DDIM!\n"
     ]
    },
    {
     "data": {
      "application/vnd.jupyter.widget-view+json": {
       "model_id": "2e16fa0e9f3742ef9e17f9802c48401e",
       "version_major": 2,
       "version_minor": 0
      },
      "text/plain": [
       "  0%|          | 0/50 [00:00<?, ?it/s]"
      ]
     },
     "metadata": {},
     "output_type": "display_data"
    },
    {
     "name": "stdout",
     "output_type": "stream",
     "text": [
      "53 432\n",
      "config.json\n",
      "torch.float32\n",
      "./saved/5000-0.5/counter/ddpm-sub-53-1000-Random-42/unet/diffusion_pytorch_model.bin\n",
      "cuda:0\n",
      "DDIM!\n"
     ]
    },
    {
     "data": {
      "application/vnd.jupyter.widget-view+json": {
       "model_id": "f3367da8515844ac9cdd5ca5cc286a30",
       "version_major": 2,
       "version_minor": 0
      },
      "text/plain": [
       "  0%|          | 0/50 [00:00<?, ?it/s]"
      ]
     },
     "metadata": {},
     "output_type": "display_data"
    },
    {
     "name": "stdout",
     "output_type": "stream",
     "text": [
      "config.json\n",
      "torch.float32\n",
      "./saved/5000-0.5/counter/ddpm-sub-53-1000-TRAK-42/unet/diffusion_pytorch_model.bin\n",
      "cuda:0\n",
      "DDIM!\n"
     ]
    },
    {
     "data": {
      "application/vnd.jupyter.widget-view+json": {
       "model_id": "1a1d6e4cb22a446a861b5381c03f929d",
       "version_major": 2,
       "version_minor": 0
      },
      "text/plain": [
       "  0%|          | 0/50 [00:00<?, ?it/s]"
      ]
     },
     "metadata": {},
     "output_type": "display_data"
    },
    {
     "name": "stdout",
     "output_type": "stream",
     "text": [
      "config.json\n",
      "torch.float32\n",
      "./saved/5000-0.5/counter/ddpm-sub-53-1000-Ours-42/unet/diffusion_pytorch_model.bin\n",
      "cuda:0\n",
      "DDIM!\n"
     ]
    },
    {
     "data": {
      "application/vnd.jupyter.widget-view+json": {
       "model_id": "d96aa871c5a0403c8c2212c993eeaf1a",
       "version_major": 2,
       "version_minor": 0
      },
      "text/plain": [
       "  0%|          | 0/50 [00:00<?, ?it/s]"
      ]
     },
     "metadata": {},
     "output_type": "display_data"
    },
    {
     "name": "stdout",
     "output_type": "stream",
     "text": [
      "54 862\n",
      "config.json\n",
      "torch.float32\n",
      "./saved/5000-0.5/counter/ddpm-sub-54-1000-Random-42/unet/diffusion_pytorch_model.bin\n",
      "cuda:0\n",
      "DDIM!\n"
     ]
    },
    {
     "data": {
      "application/vnd.jupyter.widget-view+json": {
       "model_id": "32e8a7df1fa84441ba7a0346dec5b27b",
       "version_major": 2,
       "version_minor": 0
      },
      "text/plain": [
       "  0%|          | 0/50 [00:00<?, ?it/s]"
      ]
     },
     "metadata": {},
     "output_type": "display_data"
    },
    {
     "name": "stdout",
     "output_type": "stream",
     "text": [
      "config.json\n",
      "torch.float32\n",
      "./saved/5000-0.5/counter/ddpm-sub-54-1000-TRAK-42/unet/diffusion_pytorch_model.bin\n",
      "cuda:0\n",
      "DDIM!\n"
     ]
    },
    {
     "data": {
      "application/vnd.jupyter.widget-view+json": {
       "model_id": "0f62b6bce7244358a86aa874313c1c58",
       "version_major": 2,
       "version_minor": 0
      },
      "text/plain": [
       "  0%|          | 0/50 [00:00<?, ?it/s]"
      ]
     },
     "metadata": {},
     "output_type": "display_data"
    },
    {
     "name": "stdout",
     "output_type": "stream",
     "text": [
      "config.json\n",
      "torch.float32\n",
      "./saved/5000-0.5/counter/ddpm-sub-54-1000-Ours-42/unet/diffusion_pytorch_model.bin\n",
      "cuda:0\n",
      "DDIM!\n"
     ]
    },
    {
     "data": {
      "application/vnd.jupyter.widget-view+json": {
       "model_id": "906c525ebd7f44679f817d8bc185ae15",
       "version_major": 2,
       "version_minor": 0
      },
      "text/plain": [
       "  0%|          | 0/50 [00:00<?, ?it/s]"
      ]
     },
     "metadata": {},
     "output_type": "display_data"
    },
    {
     "name": "stdout",
     "output_type": "stream",
     "text": [
      "55 582\n",
      "config.json\n",
      "torch.float32\n",
      "./saved/5000-0.5/counter/ddpm-sub-55-1000-Random-42/unet/diffusion_pytorch_model.bin\n",
      "cuda:0\n",
      "DDIM!\n"
     ]
    },
    {
     "data": {
      "application/vnd.jupyter.widget-view+json": {
       "model_id": "0741c026670145bcabda9ad15812155d",
       "version_major": 2,
       "version_minor": 0
      },
      "text/plain": [
       "  0%|          | 0/50 [00:00<?, ?it/s]"
      ]
     },
     "metadata": {},
     "output_type": "display_data"
    },
    {
     "name": "stdout",
     "output_type": "stream",
     "text": [
      "config.json\n",
      "torch.float32\n",
      "./saved/5000-0.5/counter/ddpm-sub-55-1000-TRAK-42/unet/diffusion_pytorch_model.bin\n",
      "cuda:0\n",
      "DDIM!\n"
     ]
    },
    {
     "data": {
      "application/vnd.jupyter.widget-view+json": {
       "model_id": "072c495f132b49a5942c028baf7146f8",
       "version_major": 2,
       "version_minor": 0
      },
      "text/plain": [
       "  0%|          | 0/50 [00:00<?, ?it/s]"
      ]
     },
     "metadata": {},
     "output_type": "display_data"
    },
    {
     "name": "stdout",
     "output_type": "stream",
     "text": [
      "config.json\n",
      "torch.float32\n",
      "./saved/5000-0.5/counter/ddpm-sub-55-1000-Ours-42/unet/diffusion_pytorch_model.bin\n",
      "cuda:0\n",
      "DDIM!\n"
     ]
    },
    {
     "data": {
      "application/vnd.jupyter.widget-view+json": {
       "model_id": "62ef28d1d52841398fb712fe09aadeb1",
       "version_major": 2,
       "version_minor": 0
      },
      "text/plain": [
       "  0%|          | 0/50 [00:00<?, ?it/s]"
      ]
     },
     "metadata": {},
     "output_type": "display_data"
    },
    {
     "name": "stdout",
     "output_type": "stream",
     "text": [
      "56 272\n",
      "config.json\n",
      "torch.float32\n",
      "./saved/5000-0.5/counter/ddpm-sub-56-1000-Random-42/unet/diffusion_pytorch_model.bin\n",
      "cuda:0\n",
      "DDIM!\n"
     ]
    },
    {
     "data": {
      "application/vnd.jupyter.widget-view+json": {
       "model_id": "882ba0dae99f4d7b9b1b4a3c012ee272",
       "version_major": 2,
       "version_minor": 0
      },
      "text/plain": [
       "  0%|          | 0/50 [00:00<?, ?it/s]"
      ]
     },
     "metadata": {},
     "output_type": "display_data"
    },
    {
     "name": "stdout",
     "output_type": "stream",
     "text": [
      "config.json\n",
      "torch.float32\n",
      "./saved/5000-0.5/counter/ddpm-sub-56-1000-TRAK-42/unet/diffusion_pytorch_model.bin\n",
      "cuda:0\n",
      "DDIM!\n"
     ]
    },
    {
     "data": {
      "application/vnd.jupyter.widget-view+json": {
       "model_id": "99e4dbd635ab41f7a2e5b05b7de87c6c",
       "version_major": 2,
       "version_minor": 0
      },
      "text/plain": [
       "  0%|          | 0/50 [00:00<?, ?it/s]"
      ]
     },
     "metadata": {},
     "output_type": "display_data"
    },
    {
     "name": "stdout",
     "output_type": "stream",
     "text": [
      "config.json\n",
      "torch.float32\n",
      "./saved/5000-0.5/counter/ddpm-sub-56-1000-Ours-42/unet/diffusion_pytorch_model.bin\n",
      "cuda:0\n",
      "DDIM!\n"
     ]
    },
    {
     "data": {
      "application/vnd.jupyter.widget-view+json": {
       "model_id": "5267dc0b14b64fe6b367c50f984894e7",
       "version_major": 2,
       "version_minor": 0
      },
      "text/plain": [
       "  0%|          | 0/50 [00:00<?, ?it/s]"
      ]
     },
     "metadata": {},
     "output_type": "display_data"
    },
    {
     "name": "stdout",
     "output_type": "stream",
     "text": [
      "57 270\n",
      "config.json\n",
      "torch.float32\n",
      "./saved/5000-0.5/counter/ddpm-sub-57-1000-Random-42/unet/diffusion_pytorch_model.bin\n",
      "cuda:0\n",
      "DDIM!\n"
     ]
    },
    {
     "data": {
      "application/vnd.jupyter.widget-view+json": {
       "model_id": "0452abebb2724012ab5470e08ad05712",
       "version_major": 2,
       "version_minor": 0
      },
      "text/plain": [
       "  0%|          | 0/50 [00:00<?, ?it/s]"
      ]
     },
     "metadata": {},
     "output_type": "display_data"
    },
    {
     "name": "stdout",
     "output_type": "stream",
     "text": [
      "config.json\n",
      "torch.float32\n",
      "./saved/5000-0.5/counter/ddpm-sub-57-1000-TRAK-42/unet/diffusion_pytorch_model.bin\n",
      "cuda:0\n",
      "DDIM!\n"
     ]
    },
    {
     "data": {
      "application/vnd.jupyter.widget-view+json": {
       "model_id": "86cc6944d7c24acb8f04d4ff9c47fb6d",
       "version_major": 2,
       "version_minor": 0
      },
      "text/plain": [
       "  0%|          | 0/50 [00:00<?, ?it/s]"
      ]
     },
     "metadata": {},
     "output_type": "display_data"
    },
    {
     "name": "stdout",
     "output_type": "stream",
     "text": [
      "config.json\n",
      "torch.float32\n",
      "./saved/5000-0.5/counter/ddpm-sub-57-1000-Ours-42/unet/diffusion_pytorch_model.bin\n",
      "cuda:0\n",
      "DDIM!\n"
     ]
    },
    {
     "data": {
      "application/vnd.jupyter.widget-view+json": {
       "model_id": "fce325560d2249bc8cbac58feafc4838",
       "version_major": 2,
       "version_minor": 0
      },
      "text/plain": [
       "  0%|          | 0/50 [00:00<?, ?it/s]"
      ]
     },
     "metadata": {},
     "output_type": "display_data"
    },
    {
     "name": "stdout",
     "output_type": "stream",
     "text": [
      "58 987\n",
      "config.json\n",
      "torch.float32\n",
      "./saved/5000-0.5/counter/ddpm-sub-58-1000-Random-42/unet/diffusion_pytorch_model.bin\n",
      "cuda:0\n",
      "DDIM!\n"
     ]
    },
    {
     "data": {
      "application/vnd.jupyter.widget-view+json": {
       "model_id": "96b7bd5d01f34eca98e32bf7f2a8569c",
       "version_major": 2,
       "version_minor": 0
      },
      "text/plain": [
       "  0%|          | 0/50 [00:00<?, ?it/s]"
      ]
     },
     "metadata": {},
     "output_type": "display_data"
    },
    {
     "name": "stdout",
     "output_type": "stream",
     "text": [
      "config.json\n",
      "torch.float32\n",
      "./saved/5000-0.5/counter/ddpm-sub-58-1000-TRAK-42/unet/diffusion_pytorch_model.bin\n",
      "cuda:0\n",
      "DDIM!\n"
     ]
    },
    {
     "data": {
      "application/vnd.jupyter.widget-view+json": {
       "model_id": "b8432ecf8b6c4fea9c1a0da321276c3d",
       "version_major": 2,
       "version_minor": 0
      },
      "text/plain": [
       "  0%|          | 0/50 [00:00<?, ?it/s]"
      ]
     },
     "metadata": {},
     "output_type": "display_data"
    },
    {
     "name": "stdout",
     "output_type": "stream",
     "text": [
      "config.json\n",
      "torch.float32\n",
      "./saved/5000-0.5/counter/ddpm-sub-58-1000-Ours-42/unet/diffusion_pytorch_model.bin\n",
      "cuda:0\n",
      "DDIM!\n"
     ]
    },
    {
     "data": {
      "application/vnd.jupyter.widget-view+json": {
       "model_id": "c6dfa1cf1ffa4bd98de12c908c6d75ed",
       "version_major": 2,
       "version_minor": 0
      },
      "text/plain": [
       "  0%|          | 0/50 [00:00<?, ?it/s]"
      ]
     },
     "metadata": {},
     "output_type": "display_data"
    },
    {
     "name": "stdout",
     "output_type": "stream",
     "text": [
      "59 319\n",
      "config.json\n",
      "torch.float32\n",
      "./saved/5000-0.5/counter/ddpm-sub-59-1000-Random-42/unet/diffusion_pytorch_model.bin\n",
      "cuda:0\n",
      "DDIM!\n"
     ]
    },
    {
     "data": {
      "application/vnd.jupyter.widget-view+json": {
       "model_id": "6fa787619a6344c88af7195137f8041e",
       "version_major": 2,
       "version_minor": 0
      },
      "text/plain": [
       "  0%|          | 0/50 [00:00<?, ?it/s]"
      ]
     },
     "metadata": {},
     "output_type": "display_data"
    },
    {
     "name": "stdout",
     "output_type": "stream",
     "text": [
      "config.json\n",
      "torch.float32\n",
      "./saved/5000-0.5/counter/ddpm-sub-59-1000-TRAK-42/unet/diffusion_pytorch_model.bin\n",
      "cuda:0\n",
      "DDIM!\n"
     ]
    },
    {
     "data": {
      "application/vnd.jupyter.widget-view+json": {
       "model_id": "73137f9a069942849d8e2507fc19219d",
       "version_major": 2,
       "version_minor": 0
      },
      "text/plain": [
       "  0%|          | 0/50 [00:00<?, ?it/s]"
      ]
     },
     "metadata": {},
     "output_type": "display_data"
    },
    {
     "name": "stdout",
     "output_type": "stream",
     "text": [
      "config.json\n",
      "torch.float32\n",
      "./saved/5000-0.5/counter/ddpm-sub-59-1000-Ours-42/unet/diffusion_pytorch_model.bin\n",
      "cuda:0\n",
      "DDIM!\n"
     ]
    },
    {
     "data": {
      "application/vnd.jupyter.widget-view+json": {
       "model_id": "de407045d2be4514a68b9473dc1ef251",
       "version_major": 2,
       "version_minor": 0
      },
      "text/plain": [
       "  0%|          | 0/50 [00:00<?, ?it/s]"
      ]
     },
     "metadata": {},
     "output_type": "display_data"
    }
   ],
   "source": [
    "index_image_list = []\n",
    "for index, my_i in enumerate(test_index):\n",
    "    \n",
    "    # if index%10>=1:\n",
    "        # continue\n",
    "    \n",
    "    print(index, my_i)\n",
    "    k_image_list = []\n",
    "    for k in [\n",
    "        # 500, \n",
    "        1000\n",
    "    ]:\n",
    "        method_image_list = []\n",
    "        for method in ['Random', 'TRAK', 'Ours']:\n",
    "            # If passed along, set the training seed now.\n",
    "            if args.seed is not None:\n",
    "                set_seeds(args.seed)\n",
    "            ####    \n",
    "            print(args.model_config_name_or_path)\n",
    "            config = UNet2DModel.load_config(args.model_config_name_or_path)\n",
    "            config['resnet_time_scale_shift'] = 'scale_shift'\n",
    "                \n",
    "            model = UNet2DModel.from_config(config) # model 要不要half？\n",
    "            print(model.dtype)\n",
    "            ####\n",
    "            noise_scheduler = DDPMScheduler(num_train_timesteps=args.ddpm_num_steps, beta_schedule=args.ddpm_beta_schedule)\n",
    "            ddim_noise_scheduler = DDIMScheduler.from_config(noise_scheduler.config)\n",
    "            ####    \n",
    "            args.model_path = \"./saved/5000-0.5/counter/ddpm-sub-{}-{}-{}-42\".format(index, k, method)\n",
    "            model_path = '{}/unet/diffusion_pytorch_model.bin'.format(args.model_path)\n",
    "            print(model_path)\n",
    "            model.load_state_dict(torch.load(model_path))\n",
    "            model.cuda()\n",
    "            model.eval()\n",
    "    ####\n",
    "            set_seeds(42)\n",
    "            pipeline = DDIMPipeline(\n",
    "                unet=model,\n",
    "                scheduler=noise_scheduler,\n",
    "            ).to('cuda')\n",
    "            print(pipeline.device)\n",
    "            print('DDIM!')\n",
    "            \n",
    "            generator = [torch.Generator('cpu').manual_seed(my_i)]\n",
    "                    \n",
    "            images = pipeline(\n",
    "                        generator=generator,\n",
    "                        batch_size=1,\n",
    "                        num_inference_steps=50,\n",
    "                        output_type=\"numpy\",\n",
    "                        eta=0.0,\n",
    "            ).images\n",
    "            images = pipeline.numpy_to_pil(images)\n",
    "        \n",
    "            method_image_list.append(images[0])\n",
    "        k_image_list.append(method_image_list)\n",
    "    index_image_list.append(k_image_list)"
   ]
  },
  {
   "cell_type": "code",
   "execution_count": null,
   "id": "6e7ec7ce-d988-4b88-935b-db4e48dcfc71",
   "metadata": {},
   "outputs": [],
   "source": []
  },
  {
   "cell_type": "code",
   "execution_count": 9,
   "id": "e1d91bf6-3750-49de-b782-c6018d1721dd",
   "metadata": {},
   "outputs": [],
   "source": [
    "with open(\"./counter/saved.pkl\", 'wb') as handle:\n",
    "    pickle.dump(index_image_list, handle)"
   ]
  },
  {
   "cell_type": "code",
   "execution_count": null,
   "id": "df86fcb8-af99-499e-83f9-b60d74b7acc0",
   "metadata": {},
   "outputs": [],
   "source": []
  },
  {
   "cell_type": "code",
   "execution_count": null,
   "id": "6e6287de-5e8e-4c7f-8714-d307f1e0a27f",
   "metadata": {},
   "outputs": [],
   "source": []
  },
  {
   "cell_type": "code",
   "execution_count": null,
   "id": "00ca9848-98bf-4019-85a5-70c7bbbe0308",
   "metadata": {},
   "outputs": [],
   "source": []
  }
 ],
 "metadata": {
  "kernelspec": {
   "display_name": "Python 3 (ipykernel)",
   "language": "python",
   "name": "python3"
  },
  "language_info": {
   "codemirror_mode": {
    "name": "ipython",
    "version": 3
   },
   "file_extension": ".py",
   "mimetype": "text/x-python",
   "name": "python",
   "nbconvert_exporter": "python",
   "pygments_lexer": "ipython3",
   "version": "3.8.10"
  }
 },
 "nbformat": 4,
 "nbformat_minor": 5
}
