{
 "cells": [
  {
   "cell_type": "code",
   "execution_count": 1,
   "id": "f04439e8-3684-4e71-a58d-1b222008c74d",
   "metadata": {},
   "outputs": [],
   "source": [
    "import os\n",
    "\n",
    "os.environ[\"CUDA_DEVICE_ORDER\"]=\"PCI_BUS_ID\"   \n",
    "os.environ[\"CUDA_VISIBLE_DEVICES\"]='0'\n",
    "os.environ[\"HF_HOME\"]=\"~/codes/.cache/huggingface\""
   ]
  },
  {
   "cell_type": "code",
   "execution_count": null,
   "id": "379a0758-ffa9-4c0f-8828-6976b5752918",
   "metadata": {},
   "outputs": [],
   "source": []
  },
  {
   "cell_type": "code",
   "execution_count": 2,
   "id": "a7c672bc-d87e-450e-bf89-86799b5ba6ee",
   "metadata": {},
   "outputs": [],
   "source": [
    "from accelerate.utils import ProjectConfiguration, set_seed"
   ]
  },
  {
   "cell_type": "code",
   "execution_count": 3,
   "id": "8820a3ed-9b69-423b-868b-79c11c67762e",
   "metadata": {},
   "outputs": [],
   "source": [
    "import torch\n",
    "import random\n",
    "import numpy as np\n",
    "\n",
    "def set_seeds(seed):\n",
    "    set_seed(seed)\n",
    "    random.seed(seed)\n",
    "    np.random.seed(seed)\n",
    "    torch.manual_seed(seed)\n",
    "    torch.backends.cudnn.deterministic = True\n",
    "    torch.backends.cudnn.benchmark = False\n",
    "    \n",
    "set_seeds(42)"
   ]
  },
  {
   "cell_type": "code",
   "execution_count": 4,
   "id": "e9bc9238-5dc8-4d43-8551-a2ce62bfd120",
   "metadata": {},
   "outputs": [],
   "source": [
    "from torchvision import transforms\n",
    "from diffusers import DDPMPipeline, DDIMPipeline, DDPMScheduler, DDIMScheduler, UNet2DModel"
   ]
  },
  {
   "cell_type": "code",
   "execution_count": 5,
   "id": "af017ec5-da0e-43ed-b9d1-8544336a4736",
   "metadata": {},
   "outputs": [],
   "source": [
    "import pickle"
   ]
  },
  {
   "cell_type": "code",
   "execution_count": 6,
   "id": "1c7aa6f4-4adf-494a-bfd2-dd414ef7d8e6",
   "metadata": {},
   "outputs": [
    {
     "data": {
      "text/plain": [
       "'config.json'"
      ]
     },
     "execution_count": 6,
     "metadata": {},
     "output_type": "execute_result"
    }
   ],
   "source": [
    "class Args():\n",
    "    \n",
    "    model_config_name_or_path=\"config.json\"\n",
    "    \n",
    "    dataset_name=\"cifar10\"\n",
    "\n",
    "    resolution=32\n",
    "    center_crop=True\n",
    "    random_flip=False\n",
    "\n",
    "    dataloader_num_workers=8\n",
    "    \n",
    "    seed=42\n",
    "    gen_seed=0    \n",
    "\n",
    "    train_batch_size=256\n",
    "\n",
    "    ddpm_num_steps=1000\n",
    "    ddpm_num_inference_steps=50\n",
    "    ddpm_beta_schedule='linear'\n",
    "\n",
    "args=Args()\n",
    "args.model_config_name_or_path"
   ]
  },
  {
   "cell_type": "code",
   "execution_count": 7,
   "id": "11f8d9d3-a6f0-4113-802d-964b459666de",
   "metadata": {
    "scrolled": true
   },
   "outputs": [
    {
     "data": {
      "text/plain": [
       "[521,\n",
       " 737,\n",
       " 740,\n",
       " 660,\n",
       " 411,\n",
       " 678,\n",
       " 626,\n",
       " 513,\n",
       " 859,\n",
       " 136,\n",
       " 811,\n",
       " 76,\n",
       " 636,\n",
       " 973,\n",
       " 938,\n",
       " 899,\n",
       " 280,\n",
       " 883,\n",
       " 761,\n",
       " 319,\n",
       " 549,\n",
       " 174,\n",
       " 371,\n",
       " 527,\n",
       " 210,\n",
       " 235,\n",
       " 101,\n",
       " 986,\n",
       " 902,\n",
       " 947,\n",
       " 346,\n",
       " 139,\n",
       " 621,\n",
       " 499,\n",
       " 370,\n",
       " 198,\n",
       " 687,\n",
       " 584,\n",
       " 901,\n",
       " 59,\n",
       " 328,\n",
       " 96,\n",
       " 312,\n",
       " 974,\n",
       " 299,\n",
       " 277,\n",
       " 924,\n",
       " 601,\n",
       " 439,\n",
       " 837,\n",
       " 570,\n",
       " 879,\n",
       " 261,\n",
       " 578,\n",
       " 23,\n",
       " 30,\n",
       " 617,\n",
       " 10,\n",
       " 221,\n",
       " 820]"
      ]
     },
     "execution_count": 7,
     "metadata": {},
     "output_type": "execute_result"
    }
   ],
   "source": [
    "with open('./data/indices/5000-0.5/counter/idx-gen-sampled.pkl', 'rb') as handle:\n",
    "    test_index = pickle.load(handle)\n",
    "test_index"
   ]
  },
  {
   "cell_type": "code",
   "execution_count": null,
   "id": "3ae2ce82-e7e2-41bc-a208-8c63c4262b38",
   "metadata": {},
   "outputs": [],
   "source": []
  },
  {
   "cell_type": "code",
   "execution_count": null,
   "id": "29da63bc-c8e4-4732-8040-649d6fd8b7a8",
   "metadata": {},
   "outputs": [],
   "source": []
  },
  {
   "cell_type": "code",
   "execution_count": null,
   "id": "0f4b8133-2eda-41cb-9ec9-85b8e964ca55",
   "metadata": {},
   "outputs": [],
   "source": []
  },
  {
   "cell_type": "code",
   "execution_count": 8,
   "id": "4d8b3ad8-531b-4d8a-acbe-c5a83aaca077",
   "metadata": {
    "scrolled": true
   },
   "outputs": [
    {
     "name": "stdout",
     "output_type": "stream",
     "text": [
      "0 521\n",
      "config.json\n",
      "torch.float32\n",
      "./saved/5000-0.5/counter/ddpm-sub-0-1000-Random-42/unet/diffusion_pytorch_model.bin\n",
      "cuda:0\n",
      "DDIM!\n"
     ]
    },
    {
     "data": {
      "application/vnd.jupyter.widget-view+json": {
       "model_id": "21cafc18089747f2a66290301e340789",
       "version_major": 2,
       "version_minor": 0
      },
      "text/plain": [
       "  0%|          | 0/50 [00:00<?, ?it/s]"
      ]
     },
     "metadata": {},
     "output_type": "display_data"
    },
    {
     "name": "stdout",
     "output_type": "stream",
     "text": [
      "config.json\n",
      "torch.float32\n",
      "./saved/5000-0.5/counter/ddpm-sub-0-1000-TRAK-42/unet/diffusion_pytorch_model.bin\n",
      "cuda:0\n",
      "DDIM!\n"
     ]
    },
    {
     "data": {
      "application/vnd.jupyter.widget-view+json": {
       "model_id": "5d7393b71d3b40e8b4a510364efeef82",
       "version_major": 2,
       "version_minor": 0
      },
      "text/plain": [
       "  0%|          | 0/50 [00:00<?, ?it/s]"
      ]
     },
     "metadata": {},
     "output_type": "display_data"
    },
    {
     "name": "stdout",
     "output_type": "stream",
     "text": [
      "config.json\n",
      "torch.float32\n",
      "./saved/5000-0.5/counter/ddpm-sub-0-1000-Ours-42/unet/diffusion_pytorch_model.bin\n",
      "cuda:0\n",
      "DDIM!\n"
     ]
    },
    {
     "data": {
      "application/vnd.jupyter.widget-view+json": {
       "model_id": "c0400411038d4cecb10b47a7ab1ec1f5",
       "version_major": 2,
       "version_minor": 0
      },
      "text/plain": [
       "  0%|          | 0/50 [00:00<?, ?it/s]"
      ]
     },
     "metadata": {},
     "output_type": "display_data"
    },
    {
     "name": "stdout",
     "output_type": "stream",
     "text": [
      "1 737\n",
      "config.json\n",
      "torch.float32\n",
      "./saved/5000-0.5/counter/ddpm-sub-1-1000-Random-42/unet/diffusion_pytorch_model.bin\n",
      "cuda:0\n",
      "DDIM!\n"
     ]
    },
    {
     "data": {
      "application/vnd.jupyter.widget-view+json": {
       "model_id": "a768ade833d341fc97d883c6ce611664",
       "version_major": 2,
       "version_minor": 0
      },
      "text/plain": [
       "  0%|          | 0/50 [00:00<?, ?it/s]"
      ]
     },
     "metadata": {},
     "output_type": "display_data"
    },
    {
     "name": "stdout",
     "output_type": "stream",
     "text": [
      "config.json\n",
      "torch.float32\n",
      "./saved/5000-0.5/counter/ddpm-sub-1-1000-TRAK-42/unet/diffusion_pytorch_model.bin\n",
      "cuda:0\n",
      "DDIM!\n"
     ]
    },
    {
     "data": {
      "application/vnd.jupyter.widget-view+json": {
       "model_id": "c4af66f6a4a84c8eb90302aff6b2d3a6",
       "version_major": 2,
       "version_minor": 0
      },
      "text/plain": [
       "  0%|          | 0/50 [00:00<?, ?it/s]"
      ]
     },
     "metadata": {},
     "output_type": "display_data"
    },
    {
     "name": "stdout",
     "output_type": "stream",
     "text": [
      "config.json\n",
      "torch.float32\n",
      "./saved/5000-0.5/counter/ddpm-sub-1-1000-Ours-42/unet/diffusion_pytorch_model.bin\n",
      "cuda:0\n",
      "DDIM!\n"
     ]
    },
    {
     "data": {
      "application/vnd.jupyter.widget-view+json": {
       "model_id": "6abc1fb214f640f4a3e00a2e24f668df",
       "version_major": 2,
       "version_minor": 0
      },
      "text/plain": [
       "  0%|          | 0/50 [00:00<?, ?it/s]"
      ]
     },
     "metadata": {},
     "output_type": "display_data"
    },
    {
     "name": "stdout",
     "output_type": "stream",
     "text": [
      "2 740\n",
      "config.json\n",
      "torch.float32\n",
      "./saved/5000-0.5/counter/ddpm-sub-2-1000-Random-42/unet/diffusion_pytorch_model.bin\n",
      "cuda:0\n",
      "DDIM!\n"
     ]
    },
    {
     "data": {
      "application/vnd.jupyter.widget-view+json": {
       "model_id": "093820f2fb4747eea43162413535f566",
       "version_major": 2,
       "version_minor": 0
      },
      "text/plain": [
       "  0%|          | 0/50 [00:00<?, ?it/s]"
      ]
     },
     "metadata": {},
     "output_type": "display_data"
    },
    {
     "name": "stdout",
     "output_type": "stream",
     "text": [
      "config.json\n",
      "torch.float32\n",
      "./saved/5000-0.5/counter/ddpm-sub-2-1000-TRAK-42/unet/diffusion_pytorch_model.bin\n",
      "cuda:0\n",
      "DDIM!\n"
     ]
    },
    {
     "data": {
      "application/vnd.jupyter.widget-view+json": {
       "model_id": "ee112417e2f4411cb27e4bc1c9ca845d",
       "version_major": 2,
       "version_minor": 0
      },
      "text/plain": [
       "  0%|          | 0/50 [00:00<?, ?it/s]"
      ]
     },
     "metadata": {},
     "output_type": "display_data"
    },
    {
     "name": "stdout",
     "output_type": "stream",
     "text": [
      "config.json\n",
      "torch.float32\n",
      "./saved/5000-0.5/counter/ddpm-sub-2-1000-Ours-42/unet/diffusion_pytorch_model.bin\n",
      "cuda:0\n",
      "DDIM!\n"
     ]
    },
    {
     "data": {
      "application/vnd.jupyter.widget-view+json": {
       "model_id": "472f7885ec5744ee86136b148b6c35d7",
       "version_major": 2,
       "version_minor": 0
      },
      "text/plain": [
       "  0%|          | 0/50 [00:00<?, ?it/s]"
      ]
     },
     "metadata": {},
     "output_type": "display_data"
    },
    {
     "name": "stdout",
     "output_type": "stream",
     "text": [
      "3 660\n",
      "config.json\n",
      "torch.float32\n",
      "./saved/5000-0.5/counter/ddpm-sub-3-1000-Random-42/unet/diffusion_pytorch_model.bin\n",
      "cuda:0\n",
      "DDIM!\n"
     ]
    },
    {
     "data": {
      "application/vnd.jupyter.widget-view+json": {
       "model_id": "0940362b6d094535a87fbb4a68d16ee6",
       "version_major": 2,
       "version_minor": 0
      },
      "text/plain": [
       "  0%|          | 0/50 [00:00<?, ?it/s]"
      ]
     },
     "metadata": {},
     "output_type": "display_data"
    },
    {
     "name": "stdout",
     "output_type": "stream",
     "text": [
      "config.json\n",
      "torch.float32\n",
      "./saved/5000-0.5/counter/ddpm-sub-3-1000-TRAK-42/unet/diffusion_pytorch_model.bin\n",
      "cuda:0\n",
      "DDIM!\n"
     ]
    },
    {
     "data": {
      "application/vnd.jupyter.widget-view+json": {
       "model_id": "7ea6fb6468744383abd0a5784702604c",
       "version_major": 2,
       "version_minor": 0
      },
      "text/plain": [
       "  0%|          | 0/50 [00:00<?, ?it/s]"
      ]
     },
     "metadata": {},
     "output_type": "display_data"
    },
    {
     "name": "stdout",
     "output_type": "stream",
     "text": [
      "config.json\n",
      "torch.float32\n",
      "./saved/5000-0.5/counter/ddpm-sub-3-1000-Ours-42/unet/diffusion_pytorch_model.bin\n",
      "cuda:0\n",
      "DDIM!\n"
     ]
    },
    {
     "data": {
      "application/vnd.jupyter.widget-view+json": {
       "model_id": "ba74abcf950345b7bb2319a90e71c5b2",
       "version_major": 2,
       "version_minor": 0
      },
      "text/plain": [
       "  0%|          | 0/50 [00:00<?, ?it/s]"
      ]
     },
     "metadata": {},
     "output_type": "display_data"
    },
    {
     "name": "stdout",
     "output_type": "stream",
     "text": [
      "4 411\n",
      "config.json\n",
      "torch.float32\n",
      "./saved/5000-0.5/counter/ddpm-sub-4-1000-Random-42/unet/diffusion_pytorch_model.bin\n",
      "cuda:0\n",
      "DDIM!\n"
     ]
    },
    {
     "data": {
      "application/vnd.jupyter.widget-view+json": {
       "model_id": "02492734d7c047de8da66c2e6867ddb6",
       "version_major": 2,
       "version_minor": 0
      },
      "text/plain": [
       "  0%|          | 0/50 [00:00<?, ?it/s]"
      ]
     },
     "metadata": {},
     "output_type": "display_data"
    },
    {
     "name": "stdout",
     "output_type": "stream",
     "text": [
      "config.json\n",
      "torch.float32\n",
      "./saved/5000-0.5/counter/ddpm-sub-4-1000-TRAK-42/unet/diffusion_pytorch_model.bin\n",
      "cuda:0\n",
      "DDIM!\n"
     ]
    },
    {
     "data": {
      "application/vnd.jupyter.widget-view+json": {
       "model_id": "fbb72297d63e453a8e638362d772c250",
       "version_major": 2,
       "version_minor": 0
      },
      "text/plain": [
       "  0%|          | 0/50 [00:00<?, ?it/s]"
      ]
     },
     "metadata": {},
     "output_type": "display_data"
    },
    {
     "name": "stdout",
     "output_type": "stream",
     "text": [
      "config.json\n",
      "torch.float32\n",
      "./saved/5000-0.5/counter/ddpm-sub-4-1000-Ours-42/unet/diffusion_pytorch_model.bin\n",
      "cuda:0\n",
      "DDIM!\n"
     ]
    },
    {
     "data": {
      "application/vnd.jupyter.widget-view+json": {
       "model_id": "1a4605c39f0c46cbb19ea7ed56c44e49",
       "version_major": 2,
       "version_minor": 0
      },
      "text/plain": [
       "  0%|          | 0/50 [00:00<?, ?it/s]"
      ]
     },
     "metadata": {},
     "output_type": "display_data"
    },
    {
     "name": "stdout",
     "output_type": "stream",
     "text": [
      "5 678\n",
      "config.json\n",
      "torch.float32\n",
      "./saved/5000-0.5/counter/ddpm-sub-5-1000-Random-42/unet/diffusion_pytorch_model.bin\n",
      "cuda:0\n",
      "DDIM!\n"
     ]
    },
    {
     "data": {
      "application/vnd.jupyter.widget-view+json": {
       "model_id": "9ab70a37e6844166b1324087281a02ee",
       "version_major": 2,
       "version_minor": 0
      },
      "text/plain": [
       "  0%|          | 0/50 [00:00<?, ?it/s]"
      ]
     },
     "metadata": {},
     "output_type": "display_data"
    },
    {
     "name": "stdout",
     "output_type": "stream",
     "text": [
      "config.json\n",
      "torch.float32\n",
      "./saved/5000-0.5/counter/ddpm-sub-5-1000-TRAK-42/unet/diffusion_pytorch_model.bin\n",
      "cuda:0\n",
      "DDIM!\n"
     ]
    },
    {
     "data": {
      "application/vnd.jupyter.widget-view+json": {
       "model_id": "aaf00d34202140f39e6660a190eb5050",
       "version_major": 2,
       "version_minor": 0
      },
      "text/plain": [
       "  0%|          | 0/50 [00:00<?, ?it/s]"
      ]
     },
     "metadata": {},
     "output_type": "display_data"
    },
    {
     "name": "stdout",
     "output_type": "stream",
     "text": [
      "config.json\n",
      "torch.float32\n",
      "./saved/5000-0.5/counter/ddpm-sub-5-1000-Ours-42/unet/diffusion_pytorch_model.bin\n",
      "cuda:0\n",
      "DDIM!\n"
     ]
    },
    {
     "data": {
      "application/vnd.jupyter.widget-view+json": {
       "model_id": "95efdef345e848f78add8185b2610baa",
       "version_major": 2,
       "version_minor": 0
      },
      "text/plain": [
       "  0%|          | 0/50 [00:00<?, ?it/s]"
      ]
     },
     "metadata": {},
     "output_type": "display_data"
    },
    {
     "name": "stdout",
     "output_type": "stream",
     "text": [
      "6 626\n",
      "config.json\n",
      "torch.float32\n",
      "./saved/5000-0.5/counter/ddpm-sub-6-1000-Random-42/unet/diffusion_pytorch_model.bin\n",
      "cuda:0\n",
      "DDIM!\n"
     ]
    },
    {
     "data": {
      "application/vnd.jupyter.widget-view+json": {
       "model_id": "dcfe8a0794c64293970ce6ac53987633",
       "version_major": 2,
       "version_minor": 0
      },
      "text/plain": [
       "  0%|          | 0/50 [00:00<?, ?it/s]"
      ]
     },
     "metadata": {},
     "output_type": "display_data"
    },
    {
     "name": "stdout",
     "output_type": "stream",
     "text": [
      "config.json\n",
      "torch.float32\n",
      "./saved/5000-0.5/counter/ddpm-sub-6-1000-TRAK-42/unet/diffusion_pytorch_model.bin\n",
      "cuda:0\n",
      "DDIM!\n"
     ]
    },
    {
     "data": {
      "application/vnd.jupyter.widget-view+json": {
       "model_id": "b474252f94424b2f923e45c4b8fbd157",
       "version_major": 2,
       "version_minor": 0
      },
      "text/plain": [
       "  0%|          | 0/50 [00:00<?, ?it/s]"
      ]
     },
     "metadata": {},
     "output_type": "display_data"
    },
    {
     "name": "stdout",
     "output_type": "stream",
     "text": [
      "config.json\n",
      "torch.float32\n",
      "./saved/5000-0.5/counter/ddpm-sub-6-1000-Ours-42/unet/diffusion_pytorch_model.bin\n",
      "cuda:0\n",
      "DDIM!\n"
     ]
    },
    {
     "data": {
      "application/vnd.jupyter.widget-view+json": {
       "model_id": "be1a594eb7954d388e36e0750d88a969",
       "version_major": 2,
       "version_minor": 0
      },
      "text/plain": [
       "  0%|          | 0/50 [00:00<?, ?it/s]"
      ]
     },
     "metadata": {},
     "output_type": "display_data"
    },
    {
     "name": "stdout",
     "output_type": "stream",
     "text": [
      "7 513\n",
      "config.json\n",
      "torch.float32\n",
      "./saved/5000-0.5/counter/ddpm-sub-7-1000-Random-42/unet/diffusion_pytorch_model.bin\n",
      "cuda:0\n",
      "DDIM!\n"
     ]
    },
    {
     "data": {
      "application/vnd.jupyter.widget-view+json": {
       "model_id": "12e4f997bd794dd8839dd05ab938d706",
       "version_major": 2,
       "version_minor": 0
      },
      "text/plain": [
       "  0%|          | 0/50 [00:00<?, ?it/s]"
      ]
     },
     "metadata": {},
     "output_type": "display_data"
    },
    {
     "name": "stdout",
     "output_type": "stream",
     "text": [
      "config.json\n",
      "torch.float32\n",
      "./saved/5000-0.5/counter/ddpm-sub-7-1000-TRAK-42/unet/diffusion_pytorch_model.bin\n",
      "cuda:0\n",
      "DDIM!\n"
     ]
    },
    {
     "data": {
      "application/vnd.jupyter.widget-view+json": {
       "model_id": "13a8be8936ee468ebfd7cc64eac76714",
       "version_major": 2,
       "version_minor": 0
      },
      "text/plain": [
       "  0%|          | 0/50 [00:00<?, ?it/s]"
      ]
     },
     "metadata": {},
     "output_type": "display_data"
    },
    {
     "name": "stdout",
     "output_type": "stream",
     "text": [
      "config.json\n",
      "torch.float32\n",
      "./saved/5000-0.5/counter/ddpm-sub-7-1000-Ours-42/unet/diffusion_pytorch_model.bin\n",
      "cuda:0\n",
      "DDIM!\n"
     ]
    },
    {
     "data": {
      "application/vnd.jupyter.widget-view+json": {
       "model_id": "33eaab4fd6a74b74ab74706f7e7f6dd5",
       "version_major": 2,
       "version_minor": 0
      },
      "text/plain": [
       "  0%|          | 0/50 [00:00<?, ?it/s]"
      ]
     },
     "metadata": {},
     "output_type": "display_data"
    },
    {
     "name": "stdout",
     "output_type": "stream",
     "text": [
      "8 859\n",
      "config.json\n",
      "torch.float32\n",
      "./saved/5000-0.5/counter/ddpm-sub-8-1000-Random-42/unet/diffusion_pytorch_model.bin\n",
      "cuda:0\n",
      "DDIM!\n"
     ]
    },
    {
     "data": {
      "application/vnd.jupyter.widget-view+json": {
       "model_id": "723ff177dbd74cb5b658dc1175588257",
       "version_major": 2,
       "version_minor": 0
      },
      "text/plain": [
       "  0%|          | 0/50 [00:00<?, ?it/s]"
      ]
     },
     "metadata": {},
     "output_type": "display_data"
    },
    {
     "name": "stdout",
     "output_type": "stream",
     "text": [
      "config.json\n",
      "torch.float32\n",
      "./saved/5000-0.5/counter/ddpm-sub-8-1000-TRAK-42/unet/diffusion_pytorch_model.bin\n",
      "cuda:0\n",
      "DDIM!\n"
     ]
    },
    {
     "data": {
      "application/vnd.jupyter.widget-view+json": {
       "model_id": "59d3016a19a2447d9515c07e336ee49c",
       "version_major": 2,
       "version_minor": 0
      },
      "text/plain": [
       "  0%|          | 0/50 [00:00<?, ?it/s]"
      ]
     },
     "metadata": {},
     "output_type": "display_data"
    },
    {
     "name": "stdout",
     "output_type": "stream",
     "text": [
      "config.json\n",
      "torch.float32\n",
      "./saved/5000-0.5/counter/ddpm-sub-8-1000-Ours-42/unet/diffusion_pytorch_model.bin\n",
      "cuda:0\n",
      "DDIM!\n"
     ]
    },
    {
     "data": {
      "application/vnd.jupyter.widget-view+json": {
       "model_id": "6cbc1ced3d0f429aa971c2f5b5264774",
       "version_major": 2,
       "version_minor": 0
      },
      "text/plain": [
       "  0%|          | 0/50 [00:00<?, ?it/s]"
      ]
     },
     "metadata": {},
     "output_type": "display_data"
    },
    {
     "name": "stdout",
     "output_type": "stream",
     "text": [
      "9 136\n",
      "config.json\n",
      "torch.float32\n",
      "./saved/5000-0.5/counter/ddpm-sub-9-1000-Random-42/unet/diffusion_pytorch_model.bin\n",
      "cuda:0\n",
      "DDIM!\n"
     ]
    },
    {
     "data": {
      "application/vnd.jupyter.widget-view+json": {
       "model_id": "8b073dfdce6143dea3a1a00eec30c84c",
       "version_major": 2,
       "version_minor": 0
      },
      "text/plain": [
       "  0%|          | 0/50 [00:00<?, ?it/s]"
      ]
     },
     "metadata": {},
     "output_type": "display_data"
    },
    {
     "name": "stdout",
     "output_type": "stream",
     "text": [
      "config.json\n",
      "torch.float32\n",
      "./saved/5000-0.5/counter/ddpm-sub-9-1000-TRAK-42/unet/diffusion_pytorch_model.bin\n",
      "cuda:0\n",
      "DDIM!\n"
     ]
    },
    {
     "data": {
      "application/vnd.jupyter.widget-view+json": {
       "model_id": "81046f28a79c4e6ea4079ae2323477ec",
       "version_major": 2,
       "version_minor": 0
      },
      "text/plain": [
       "  0%|          | 0/50 [00:00<?, ?it/s]"
      ]
     },
     "metadata": {},
     "output_type": "display_data"
    },
    {
     "name": "stdout",
     "output_type": "stream",
     "text": [
      "config.json\n",
      "torch.float32\n",
      "./saved/5000-0.5/counter/ddpm-sub-9-1000-Ours-42/unet/diffusion_pytorch_model.bin\n",
      "cuda:0\n",
      "DDIM!\n"
     ]
    },
    {
     "data": {
      "application/vnd.jupyter.widget-view+json": {
       "model_id": "4dba951b27934b059156ee6ec9ccafd9",
       "version_major": 2,
       "version_minor": 0
      },
      "text/plain": [
       "  0%|          | 0/50 [00:00<?, ?it/s]"
      ]
     },
     "metadata": {},
     "output_type": "display_data"
    },
    {
     "name": "stdout",
     "output_type": "stream",
     "text": [
      "10 811\n",
      "config.json\n",
      "torch.float32\n",
      "./saved/5000-0.5/counter/ddpm-sub-10-1000-Random-42/unet/diffusion_pytorch_model.bin\n",
      "cuda:0\n",
      "DDIM!\n"
     ]
    },
    {
     "data": {
      "application/vnd.jupyter.widget-view+json": {
       "model_id": "97f9aa587159437d943049d9ee54b883",
       "version_major": 2,
       "version_minor": 0
      },
      "text/plain": [
       "  0%|          | 0/50 [00:00<?, ?it/s]"
      ]
     },
     "metadata": {},
     "output_type": "display_data"
    },
    {
     "name": "stdout",
     "output_type": "stream",
     "text": [
      "config.json\n",
      "torch.float32\n",
      "./saved/5000-0.5/counter/ddpm-sub-10-1000-TRAK-42/unet/diffusion_pytorch_model.bin\n",
      "cuda:0\n",
      "DDIM!\n"
     ]
    },
    {
     "data": {
      "application/vnd.jupyter.widget-view+json": {
       "model_id": "beffc2b8f88a4a4e88fff9176cdf97d4",
       "version_major": 2,
       "version_minor": 0
      },
      "text/plain": [
       "  0%|          | 0/50 [00:00<?, ?it/s]"
      ]
     },
     "metadata": {},
     "output_type": "display_data"
    },
    {
     "name": "stdout",
     "output_type": "stream",
     "text": [
      "config.json\n",
      "torch.float32\n",
      "./saved/5000-0.5/counter/ddpm-sub-10-1000-Ours-42/unet/diffusion_pytorch_model.bin\n",
      "cuda:0\n",
      "DDIM!\n"
     ]
    },
    {
     "data": {
      "application/vnd.jupyter.widget-view+json": {
       "model_id": "9e2d5de33b944653ad52ee678c211761",
       "version_major": 2,
       "version_minor": 0
      },
      "text/plain": [
       "  0%|          | 0/50 [00:00<?, ?it/s]"
      ]
     },
     "metadata": {},
     "output_type": "display_data"
    },
    {
     "name": "stdout",
     "output_type": "stream",
     "text": [
      "11 76\n",
      "config.json\n",
      "torch.float32\n",
      "./saved/5000-0.5/counter/ddpm-sub-11-1000-Random-42/unet/diffusion_pytorch_model.bin\n",
      "cuda:0\n",
      "DDIM!\n"
     ]
    },
    {
     "data": {
      "application/vnd.jupyter.widget-view+json": {
       "model_id": "495cca48c8f34dae922d392458005e26",
       "version_major": 2,
       "version_minor": 0
      },
      "text/plain": [
       "  0%|          | 0/50 [00:00<?, ?it/s]"
      ]
     },
     "metadata": {},
     "output_type": "display_data"
    },
    {
     "name": "stdout",
     "output_type": "stream",
     "text": [
      "config.json\n",
      "torch.float32\n",
      "./saved/5000-0.5/counter/ddpm-sub-11-1000-TRAK-42/unet/diffusion_pytorch_model.bin\n",
      "cuda:0\n",
      "DDIM!\n"
     ]
    },
    {
     "data": {
      "application/vnd.jupyter.widget-view+json": {
       "model_id": "a25fd3001cab4261819313abe05864e2",
       "version_major": 2,
       "version_minor": 0
      },
      "text/plain": [
       "  0%|          | 0/50 [00:00<?, ?it/s]"
      ]
     },
     "metadata": {},
     "output_type": "display_data"
    },
    {
     "name": "stdout",
     "output_type": "stream",
     "text": [
      "config.json\n",
      "torch.float32\n",
      "./saved/5000-0.5/counter/ddpm-sub-11-1000-Ours-42/unet/diffusion_pytorch_model.bin\n",
      "cuda:0\n",
      "DDIM!\n"
     ]
    },
    {
     "data": {
      "application/vnd.jupyter.widget-view+json": {
       "model_id": "25f7cde1ac9641cb8e4dbb2677b8ac3b",
       "version_major": 2,
       "version_minor": 0
      },
      "text/plain": [
       "  0%|          | 0/50 [00:00<?, ?it/s]"
      ]
     },
     "metadata": {},
     "output_type": "display_data"
    },
    {
     "name": "stdout",
     "output_type": "stream",
     "text": [
      "12 636\n",
      "config.json\n",
      "torch.float32\n",
      "./saved/5000-0.5/counter/ddpm-sub-12-1000-Random-42/unet/diffusion_pytorch_model.bin\n",
      "cuda:0\n",
      "DDIM!\n"
     ]
    },
    {
     "data": {
      "application/vnd.jupyter.widget-view+json": {
       "model_id": "0185212ed0054244bf2b732499fc0e7e",
       "version_major": 2,
       "version_minor": 0
      },
      "text/plain": [
       "  0%|          | 0/50 [00:00<?, ?it/s]"
      ]
     },
     "metadata": {},
     "output_type": "display_data"
    },
    {
     "name": "stdout",
     "output_type": "stream",
     "text": [
      "config.json\n",
      "torch.float32\n",
      "./saved/5000-0.5/counter/ddpm-sub-12-1000-TRAK-42/unet/diffusion_pytorch_model.bin\n",
      "cuda:0\n",
      "DDIM!\n"
     ]
    },
    {
     "data": {
      "application/vnd.jupyter.widget-view+json": {
       "model_id": "6e6c26c4cc034c0e9fb7bc1fed6f713b",
       "version_major": 2,
       "version_minor": 0
      },
      "text/plain": [
       "  0%|          | 0/50 [00:00<?, ?it/s]"
      ]
     },
     "metadata": {},
     "output_type": "display_data"
    },
    {
     "name": "stdout",
     "output_type": "stream",
     "text": [
      "config.json\n",
      "torch.float32\n",
      "./saved/5000-0.5/counter/ddpm-sub-12-1000-Ours-42/unet/diffusion_pytorch_model.bin\n",
      "cuda:0\n",
      "DDIM!\n"
     ]
    },
    {
     "data": {
      "application/vnd.jupyter.widget-view+json": {
       "model_id": "a3f0cb6577b6436d99db6380a4698e54",
       "version_major": 2,
       "version_minor": 0
      },
      "text/plain": [
       "  0%|          | 0/50 [00:00<?, ?it/s]"
      ]
     },
     "metadata": {},
     "output_type": "display_data"
    },
    {
     "name": "stdout",
     "output_type": "stream",
     "text": [
      "13 973\n",
      "config.json\n",
      "torch.float32\n",
      "./saved/5000-0.5/counter/ddpm-sub-13-1000-Random-42/unet/diffusion_pytorch_model.bin\n",
      "cuda:0\n",
      "DDIM!\n"
     ]
    },
    {
     "data": {
      "application/vnd.jupyter.widget-view+json": {
       "model_id": "70d7191dabeb48c5ae8dbcf7efd388c3",
       "version_major": 2,
       "version_minor": 0
      },
      "text/plain": [
       "  0%|          | 0/50 [00:00<?, ?it/s]"
      ]
     },
     "metadata": {},
     "output_type": "display_data"
    },
    {
     "name": "stdout",
     "output_type": "stream",
     "text": [
      "config.json\n",
      "torch.float32\n",
      "./saved/5000-0.5/counter/ddpm-sub-13-1000-TRAK-42/unet/diffusion_pytorch_model.bin\n",
      "cuda:0\n",
      "DDIM!\n"
     ]
    },
    {
     "data": {
      "application/vnd.jupyter.widget-view+json": {
       "model_id": "ece780bbab744f3cb29eace89c85df42",
       "version_major": 2,
       "version_minor": 0
      },
      "text/plain": [
       "  0%|          | 0/50 [00:00<?, ?it/s]"
      ]
     },
     "metadata": {},
     "output_type": "display_data"
    },
    {
     "name": "stdout",
     "output_type": "stream",
     "text": [
      "config.json\n",
      "torch.float32\n",
      "./saved/5000-0.5/counter/ddpm-sub-13-1000-Ours-42/unet/diffusion_pytorch_model.bin\n",
      "cuda:0\n",
      "DDIM!\n"
     ]
    },
    {
     "data": {
      "application/vnd.jupyter.widget-view+json": {
       "model_id": "8fb3ee35641444b0be75f8d1868c6cfb",
       "version_major": 2,
       "version_minor": 0
      },
      "text/plain": [
       "  0%|          | 0/50 [00:00<?, ?it/s]"
      ]
     },
     "metadata": {},
     "output_type": "display_data"
    },
    {
     "name": "stdout",
     "output_type": "stream",
     "text": [
      "14 938\n",
      "config.json\n",
      "torch.float32\n",
      "./saved/5000-0.5/counter/ddpm-sub-14-1000-Random-42/unet/diffusion_pytorch_model.bin\n",
      "cuda:0\n",
      "DDIM!\n"
     ]
    },
    {
     "data": {
      "application/vnd.jupyter.widget-view+json": {
       "model_id": "503df7f6315e4266807500d69a827001",
       "version_major": 2,
       "version_minor": 0
      },
      "text/plain": [
       "  0%|          | 0/50 [00:00<?, ?it/s]"
      ]
     },
     "metadata": {},
     "output_type": "display_data"
    },
    {
     "name": "stdout",
     "output_type": "stream",
     "text": [
      "config.json\n",
      "torch.float32\n",
      "./saved/5000-0.5/counter/ddpm-sub-14-1000-TRAK-42/unet/diffusion_pytorch_model.bin\n",
      "cuda:0\n",
      "DDIM!\n"
     ]
    },
    {
     "data": {
      "application/vnd.jupyter.widget-view+json": {
       "model_id": "2691ef82c2fe4cca857f648e15027b4a",
       "version_major": 2,
       "version_minor": 0
      },
      "text/plain": [
       "  0%|          | 0/50 [00:00<?, ?it/s]"
      ]
     },
     "metadata": {},
     "output_type": "display_data"
    },
    {
     "name": "stdout",
     "output_type": "stream",
     "text": [
      "config.json\n",
      "torch.float32\n",
      "./saved/5000-0.5/counter/ddpm-sub-14-1000-Ours-42/unet/diffusion_pytorch_model.bin\n",
      "cuda:0\n",
      "DDIM!\n"
     ]
    },
    {
     "data": {
      "application/vnd.jupyter.widget-view+json": {
       "model_id": "8f4e40d6baef4871925926bbdbcbb3dd",
       "version_major": 2,
       "version_minor": 0
      },
      "text/plain": [
       "  0%|          | 0/50 [00:00<?, ?it/s]"
      ]
     },
     "metadata": {},
     "output_type": "display_data"
    },
    {
     "name": "stdout",
     "output_type": "stream",
     "text": [
      "15 899\n",
      "config.json\n",
      "torch.float32\n",
      "./saved/5000-0.5/counter/ddpm-sub-15-1000-Random-42/unet/diffusion_pytorch_model.bin\n",
      "cuda:0\n",
      "DDIM!\n"
     ]
    },
    {
     "data": {
      "application/vnd.jupyter.widget-view+json": {
       "model_id": "e13b1f004f6a4a3c8bc00f9feb4d60e0",
       "version_major": 2,
       "version_minor": 0
      },
      "text/plain": [
       "  0%|          | 0/50 [00:00<?, ?it/s]"
      ]
     },
     "metadata": {},
     "output_type": "display_data"
    },
    {
     "name": "stdout",
     "output_type": "stream",
     "text": [
      "config.json\n",
      "torch.float32\n",
      "./saved/5000-0.5/counter/ddpm-sub-15-1000-TRAK-42/unet/diffusion_pytorch_model.bin\n",
      "cuda:0\n",
      "DDIM!\n"
     ]
    },
    {
     "data": {
      "application/vnd.jupyter.widget-view+json": {
       "model_id": "2481f28683104aeda2efa422eecdbbce",
       "version_major": 2,
       "version_minor": 0
      },
      "text/plain": [
       "  0%|          | 0/50 [00:00<?, ?it/s]"
      ]
     },
     "metadata": {},
     "output_type": "display_data"
    },
    {
     "name": "stdout",
     "output_type": "stream",
     "text": [
      "config.json\n",
      "torch.float32\n",
      "./saved/5000-0.5/counter/ddpm-sub-15-1000-Ours-42/unet/diffusion_pytorch_model.bin\n",
      "cuda:0\n",
      "DDIM!\n"
     ]
    },
    {
     "data": {
      "application/vnd.jupyter.widget-view+json": {
       "model_id": "db0566383e4e4c7eb676c97b514a6713",
       "version_major": 2,
       "version_minor": 0
      },
      "text/plain": [
       "  0%|          | 0/50 [00:00<?, ?it/s]"
      ]
     },
     "metadata": {},
     "output_type": "display_data"
    },
    {
     "name": "stdout",
     "output_type": "stream",
     "text": [
      "16 280\n",
      "config.json\n",
      "torch.float32\n",
      "./saved/5000-0.5/counter/ddpm-sub-16-1000-Random-42/unet/diffusion_pytorch_model.bin\n",
      "cuda:0\n",
      "DDIM!\n"
     ]
    },
    {
     "data": {
      "application/vnd.jupyter.widget-view+json": {
       "model_id": "c29f303222a049feb2e583fa88a04249",
       "version_major": 2,
       "version_minor": 0
      },
      "text/plain": [
       "  0%|          | 0/50 [00:00<?, ?it/s]"
      ]
     },
     "metadata": {},
     "output_type": "display_data"
    },
    {
     "name": "stdout",
     "output_type": "stream",
     "text": [
      "config.json\n",
      "torch.float32\n",
      "./saved/5000-0.5/counter/ddpm-sub-16-1000-TRAK-42/unet/diffusion_pytorch_model.bin\n",
      "cuda:0\n",
      "DDIM!\n"
     ]
    },
    {
     "data": {
      "application/vnd.jupyter.widget-view+json": {
       "model_id": "346a960558cb4c96bb912be703a11561",
       "version_major": 2,
       "version_minor": 0
      },
      "text/plain": [
       "  0%|          | 0/50 [00:00<?, ?it/s]"
      ]
     },
     "metadata": {},
     "output_type": "display_data"
    },
    {
     "name": "stdout",
     "output_type": "stream",
     "text": [
      "config.json\n",
      "torch.float32\n",
      "./saved/5000-0.5/counter/ddpm-sub-16-1000-Ours-42/unet/diffusion_pytorch_model.bin\n",
      "cuda:0\n",
      "DDIM!\n"
     ]
    },
    {
     "data": {
      "application/vnd.jupyter.widget-view+json": {
       "model_id": "89401256d0f4496597e254bb308990b3",
       "version_major": 2,
       "version_minor": 0
      },
      "text/plain": [
       "  0%|          | 0/50 [00:00<?, ?it/s]"
      ]
     },
     "metadata": {},
     "output_type": "display_data"
    },
    {
     "name": "stdout",
     "output_type": "stream",
     "text": [
      "17 883\n",
      "config.json\n",
      "torch.float32\n",
      "./saved/5000-0.5/counter/ddpm-sub-17-1000-Random-42/unet/diffusion_pytorch_model.bin\n",
      "cuda:0\n",
      "DDIM!\n"
     ]
    },
    {
     "data": {
      "application/vnd.jupyter.widget-view+json": {
       "model_id": "f0a44a2c40c24c6e8daa1edea33804f8",
       "version_major": 2,
       "version_minor": 0
      },
      "text/plain": [
       "  0%|          | 0/50 [00:00<?, ?it/s]"
      ]
     },
     "metadata": {},
     "output_type": "display_data"
    },
    {
     "name": "stdout",
     "output_type": "stream",
     "text": [
      "config.json\n",
      "torch.float32\n",
      "./saved/5000-0.5/counter/ddpm-sub-17-1000-TRAK-42/unet/diffusion_pytorch_model.bin\n",
      "cuda:0\n",
      "DDIM!\n"
     ]
    },
    {
     "data": {
      "application/vnd.jupyter.widget-view+json": {
       "model_id": "493798745a85459ab92426c2a8099737",
       "version_major": 2,
       "version_minor": 0
      },
      "text/plain": [
       "  0%|          | 0/50 [00:00<?, ?it/s]"
      ]
     },
     "metadata": {},
     "output_type": "display_data"
    },
    {
     "name": "stdout",
     "output_type": "stream",
     "text": [
      "config.json\n",
      "torch.float32\n",
      "./saved/5000-0.5/counter/ddpm-sub-17-1000-Ours-42/unet/diffusion_pytorch_model.bin\n",
      "cuda:0\n",
      "DDIM!\n"
     ]
    },
    {
     "data": {
      "application/vnd.jupyter.widget-view+json": {
       "model_id": "2f33b1233eee4b57922fa632b0a78bb3",
       "version_major": 2,
       "version_minor": 0
      },
      "text/plain": [
       "  0%|          | 0/50 [00:00<?, ?it/s]"
      ]
     },
     "metadata": {},
     "output_type": "display_data"
    },
    {
     "name": "stdout",
     "output_type": "stream",
     "text": [
      "18 761\n",
      "config.json\n",
      "torch.float32\n",
      "./saved/5000-0.5/counter/ddpm-sub-18-1000-Random-42/unet/diffusion_pytorch_model.bin\n",
      "cuda:0\n",
      "DDIM!\n"
     ]
    },
    {
     "data": {
      "application/vnd.jupyter.widget-view+json": {
       "model_id": "dc49d3dc8ae14ce78258834f14feca60",
       "version_major": 2,
       "version_minor": 0
      },
      "text/plain": [
       "  0%|          | 0/50 [00:00<?, ?it/s]"
      ]
     },
     "metadata": {},
     "output_type": "display_data"
    },
    {
     "name": "stdout",
     "output_type": "stream",
     "text": [
      "config.json\n",
      "torch.float32\n",
      "./saved/5000-0.5/counter/ddpm-sub-18-1000-TRAK-42/unet/diffusion_pytorch_model.bin\n",
      "cuda:0\n",
      "DDIM!\n"
     ]
    },
    {
     "data": {
      "application/vnd.jupyter.widget-view+json": {
       "model_id": "5c35cdc75a224d5cbefaf0dfaafa9da2",
       "version_major": 2,
       "version_minor": 0
      },
      "text/plain": [
       "  0%|          | 0/50 [00:00<?, ?it/s]"
      ]
     },
     "metadata": {},
     "output_type": "display_data"
    },
    {
     "name": "stdout",
     "output_type": "stream",
     "text": [
      "config.json\n",
      "torch.float32\n",
      "./saved/5000-0.5/counter/ddpm-sub-18-1000-Ours-42/unet/diffusion_pytorch_model.bin\n",
      "cuda:0\n",
      "DDIM!\n"
     ]
    },
    {
     "data": {
      "application/vnd.jupyter.widget-view+json": {
       "model_id": "cdc1263c4ec64e5882ea0e7cdcfaffbb",
       "version_major": 2,
       "version_minor": 0
      },
      "text/plain": [
       "  0%|          | 0/50 [00:00<?, ?it/s]"
      ]
     },
     "metadata": {},
     "output_type": "display_data"
    },
    {
     "name": "stdout",
     "output_type": "stream",
     "text": [
      "19 319\n",
      "config.json\n",
      "torch.float32\n",
      "./saved/5000-0.5/counter/ddpm-sub-19-1000-Random-42/unet/diffusion_pytorch_model.bin\n",
      "cuda:0\n",
      "DDIM!\n"
     ]
    },
    {
     "data": {
      "application/vnd.jupyter.widget-view+json": {
       "model_id": "f9682e11c3744f58adb4cb9053a0b2d8",
       "version_major": 2,
       "version_minor": 0
      },
      "text/plain": [
       "  0%|          | 0/50 [00:00<?, ?it/s]"
      ]
     },
     "metadata": {},
     "output_type": "display_data"
    },
    {
     "name": "stdout",
     "output_type": "stream",
     "text": [
      "config.json\n",
      "torch.float32\n",
      "./saved/5000-0.5/counter/ddpm-sub-19-1000-TRAK-42/unet/diffusion_pytorch_model.bin\n",
      "cuda:0\n",
      "DDIM!\n"
     ]
    },
    {
     "data": {
      "application/vnd.jupyter.widget-view+json": {
       "model_id": "46f73835231d40f682d10d3f45ccca21",
       "version_major": 2,
       "version_minor": 0
      },
      "text/plain": [
       "  0%|          | 0/50 [00:00<?, ?it/s]"
      ]
     },
     "metadata": {},
     "output_type": "display_data"
    },
    {
     "name": "stdout",
     "output_type": "stream",
     "text": [
      "config.json\n",
      "torch.float32\n",
      "./saved/5000-0.5/counter/ddpm-sub-19-1000-Ours-42/unet/diffusion_pytorch_model.bin\n",
      "cuda:0\n",
      "DDIM!\n"
     ]
    },
    {
     "data": {
      "application/vnd.jupyter.widget-view+json": {
       "model_id": "103bcd8878864d579d86cb122becdfeb",
       "version_major": 2,
       "version_minor": 0
      },
      "text/plain": [
       "  0%|          | 0/50 [00:00<?, ?it/s]"
      ]
     },
     "metadata": {},
     "output_type": "display_data"
    },
    {
     "name": "stdout",
     "output_type": "stream",
     "text": [
      "20 549\n",
      "config.json\n",
      "torch.float32\n",
      "./saved/5000-0.5/counter/ddpm-sub-20-1000-Random-42/unet/diffusion_pytorch_model.bin\n",
      "cuda:0\n",
      "DDIM!\n"
     ]
    },
    {
     "data": {
      "application/vnd.jupyter.widget-view+json": {
       "model_id": "5bf984704e9a471395538b1a56933f6b",
       "version_major": 2,
       "version_minor": 0
      },
      "text/plain": [
       "  0%|          | 0/50 [00:00<?, ?it/s]"
      ]
     },
     "metadata": {},
     "output_type": "display_data"
    },
    {
     "name": "stdout",
     "output_type": "stream",
     "text": [
      "config.json\n",
      "torch.float32\n",
      "./saved/5000-0.5/counter/ddpm-sub-20-1000-TRAK-42/unet/diffusion_pytorch_model.bin\n",
      "cuda:0\n",
      "DDIM!\n"
     ]
    },
    {
     "data": {
      "application/vnd.jupyter.widget-view+json": {
       "model_id": "b9b451c9e85f4ff9866f55a78cb5da4d",
       "version_major": 2,
       "version_minor": 0
      },
      "text/plain": [
       "  0%|          | 0/50 [00:00<?, ?it/s]"
      ]
     },
     "metadata": {},
     "output_type": "display_data"
    },
    {
     "name": "stdout",
     "output_type": "stream",
     "text": [
      "config.json\n",
      "torch.float32\n",
      "./saved/5000-0.5/counter/ddpm-sub-20-1000-Ours-42/unet/diffusion_pytorch_model.bin\n",
      "cuda:0\n",
      "DDIM!\n"
     ]
    },
    {
     "data": {
      "application/vnd.jupyter.widget-view+json": {
       "model_id": "b5d8e401c187488884e6c48ffa961009",
       "version_major": 2,
       "version_minor": 0
      },
      "text/plain": [
       "  0%|          | 0/50 [00:00<?, ?it/s]"
      ]
     },
     "metadata": {},
     "output_type": "display_data"
    },
    {
     "name": "stdout",
     "output_type": "stream",
     "text": [
      "21 174\n",
      "config.json\n",
      "torch.float32\n",
      "./saved/5000-0.5/counter/ddpm-sub-21-1000-Random-42/unet/diffusion_pytorch_model.bin\n",
      "cuda:0\n",
      "DDIM!\n"
     ]
    },
    {
     "data": {
      "application/vnd.jupyter.widget-view+json": {
       "model_id": "00c7753be0114f678803f0ba5152d5c0",
       "version_major": 2,
       "version_minor": 0
      },
      "text/plain": [
       "  0%|          | 0/50 [00:00<?, ?it/s]"
      ]
     },
     "metadata": {},
     "output_type": "display_data"
    },
    {
     "name": "stdout",
     "output_type": "stream",
     "text": [
      "config.json\n",
      "torch.float32\n",
      "./saved/5000-0.5/counter/ddpm-sub-21-1000-TRAK-42/unet/diffusion_pytorch_model.bin\n",
      "cuda:0\n",
      "DDIM!\n"
     ]
    },
    {
     "data": {
      "application/vnd.jupyter.widget-view+json": {
       "model_id": "63cb2df2720b43368dd8aad6a470cada",
       "version_major": 2,
       "version_minor": 0
      },
      "text/plain": [
       "  0%|          | 0/50 [00:00<?, ?it/s]"
      ]
     },
     "metadata": {},
     "output_type": "display_data"
    },
    {
     "name": "stdout",
     "output_type": "stream",
     "text": [
      "config.json\n",
      "torch.float32\n",
      "./saved/5000-0.5/counter/ddpm-sub-21-1000-Ours-42/unet/diffusion_pytorch_model.bin\n",
      "cuda:0\n",
      "DDIM!\n"
     ]
    },
    {
     "data": {
      "application/vnd.jupyter.widget-view+json": {
       "model_id": "41525ecf5d4242eda2363b347f92e6ee",
       "version_major": 2,
       "version_minor": 0
      },
      "text/plain": [
       "  0%|          | 0/50 [00:00<?, ?it/s]"
      ]
     },
     "metadata": {},
     "output_type": "display_data"
    },
    {
     "name": "stdout",
     "output_type": "stream",
     "text": [
      "22 371\n",
      "config.json\n",
      "torch.float32\n",
      "./saved/5000-0.5/counter/ddpm-sub-22-1000-Random-42/unet/diffusion_pytorch_model.bin\n",
      "cuda:0\n",
      "DDIM!\n"
     ]
    },
    {
     "data": {
      "application/vnd.jupyter.widget-view+json": {
       "model_id": "b7298c147c3148679fce0c4ee7f2aaa1",
       "version_major": 2,
       "version_minor": 0
      },
      "text/plain": [
       "  0%|          | 0/50 [00:00<?, ?it/s]"
      ]
     },
     "metadata": {},
     "output_type": "display_data"
    },
    {
     "name": "stdout",
     "output_type": "stream",
     "text": [
      "config.json\n",
      "torch.float32\n",
      "./saved/5000-0.5/counter/ddpm-sub-22-1000-TRAK-42/unet/diffusion_pytorch_model.bin\n",
      "cuda:0\n",
      "DDIM!\n"
     ]
    },
    {
     "data": {
      "application/vnd.jupyter.widget-view+json": {
       "model_id": "24b80bd3f639416ab54a374ded736182",
       "version_major": 2,
       "version_minor": 0
      },
      "text/plain": [
       "  0%|          | 0/50 [00:00<?, ?it/s]"
      ]
     },
     "metadata": {},
     "output_type": "display_data"
    },
    {
     "name": "stdout",
     "output_type": "stream",
     "text": [
      "config.json\n",
      "torch.float32\n",
      "./saved/5000-0.5/counter/ddpm-sub-22-1000-Ours-42/unet/diffusion_pytorch_model.bin\n",
      "cuda:0\n",
      "DDIM!\n"
     ]
    },
    {
     "data": {
      "application/vnd.jupyter.widget-view+json": {
       "model_id": "d592e2a16cd949f5b113d1d755176fb1",
       "version_major": 2,
       "version_minor": 0
      },
      "text/plain": [
       "  0%|          | 0/50 [00:00<?, ?it/s]"
      ]
     },
     "metadata": {},
     "output_type": "display_data"
    },
    {
     "name": "stdout",
     "output_type": "stream",
     "text": [
      "23 527\n",
      "config.json\n",
      "torch.float32\n",
      "./saved/5000-0.5/counter/ddpm-sub-23-1000-Random-42/unet/diffusion_pytorch_model.bin\n",
      "cuda:0\n",
      "DDIM!\n"
     ]
    },
    {
     "data": {
      "application/vnd.jupyter.widget-view+json": {
       "model_id": "0416516e89b549abbfcc41e719ede50f",
       "version_major": 2,
       "version_minor": 0
      },
      "text/plain": [
       "  0%|          | 0/50 [00:00<?, ?it/s]"
      ]
     },
     "metadata": {},
     "output_type": "display_data"
    },
    {
     "name": "stdout",
     "output_type": "stream",
     "text": [
      "config.json\n",
      "torch.float32\n",
      "./saved/5000-0.5/counter/ddpm-sub-23-1000-TRAK-42/unet/diffusion_pytorch_model.bin\n",
      "cuda:0\n",
      "DDIM!\n"
     ]
    },
    {
     "data": {
      "application/vnd.jupyter.widget-view+json": {
       "model_id": "70c702429d86436c877048f01eb752ad",
       "version_major": 2,
       "version_minor": 0
      },
      "text/plain": [
       "  0%|          | 0/50 [00:00<?, ?it/s]"
      ]
     },
     "metadata": {},
     "output_type": "display_data"
    },
    {
     "name": "stdout",
     "output_type": "stream",
     "text": [
      "config.json\n",
      "torch.float32\n",
      "./saved/5000-0.5/counter/ddpm-sub-23-1000-Ours-42/unet/diffusion_pytorch_model.bin\n",
      "cuda:0\n",
      "DDIM!\n"
     ]
    },
    {
     "data": {
      "application/vnd.jupyter.widget-view+json": {
       "model_id": "d380b49f1fac4fe3ab1f7e42acaf43c6",
       "version_major": 2,
       "version_minor": 0
      },
      "text/plain": [
       "  0%|          | 0/50 [00:00<?, ?it/s]"
      ]
     },
     "metadata": {},
     "output_type": "display_data"
    },
    {
     "name": "stdout",
     "output_type": "stream",
     "text": [
      "24 210\n",
      "config.json\n",
      "torch.float32\n",
      "./saved/5000-0.5/counter/ddpm-sub-24-1000-Random-42/unet/diffusion_pytorch_model.bin\n",
      "cuda:0\n",
      "DDIM!\n"
     ]
    },
    {
     "data": {
      "application/vnd.jupyter.widget-view+json": {
       "model_id": "9593286531eb4a9f802a08eb180635a8",
       "version_major": 2,
       "version_minor": 0
      },
      "text/plain": [
       "  0%|          | 0/50 [00:00<?, ?it/s]"
      ]
     },
     "metadata": {},
     "output_type": "display_data"
    },
    {
     "name": "stdout",
     "output_type": "stream",
     "text": [
      "config.json\n",
      "torch.float32\n",
      "./saved/5000-0.5/counter/ddpm-sub-24-1000-TRAK-42/unet/diffusion_pytorch_model.bin\n",
      "cuda:0\n",
      "DDIM!\n"
     ]
    },
    {
     "data": {
      "application/vnd.jupyter.widget-view+json": {
       "model_id": "bfc20356c6024590bc8c9e02a2253ad8",
       "version_major": 2,
       "version_minor": 0
      },
      "text/plain": [
       "  0%|          | 0/50 [00:00<?, ?it/s]"
      ]
     },
     "metadata": {},
     "output_type": "display_data"
    },
    {
     "name": "stdout",
     "output_type": "stream",
     "text": [
      "config.json\n",
      "torch.float32\n",
      "./saved/5000-0.5/counter/ddpm-sub-24-1000-Ours-42/unet/diffusion_pytorch_model.bin\n",
      "cuda:0\n",
      "DDIM!\n"
     ]
    },
    {
     "data": {
      "application/vnd.jupyter.widget-view+json": {
       "model_id": "c2a8e3d33c044b44bdb4ba881ce3ad5b",
       "version_major": 2,
       "version_minor": 0
      },
      "text/plain": [
       "  0%|          | 0/50 [00:00<?, ?it/s]"
      ]
     },
     "metadata": {},
     "output_type": "display_data"
    },
    {
     "name": "stdout",
     "output_type": "stream",
     "text": [
      "25 235\n",
      "config.json\n",
      "torch.float32\n",
      "./saved/5000-0.5/counter/ddpm-sub-25-1000-Random-42/unet/diffusion_pytorch_model.bin\n",
      "cuda:0\n",
      "DDIM!\n"
     ]
    },
    {
     "data": {
      "application/vnd.jupyter.widget-view+json": {
       "model_id": "2f44ada33b35460c96cc7ce8db81010a",
       "version_major": 2,
       "version_minor": 0
      },
      "text/plain": [
       "  0%|          | 0/50 [00:00<?, ?it/s]"
      ]
     },
     "metadata": {},
     "output_type": "display_data"
    },
    {
     "name": "stdout",
     "output_type": "stream",
     "text": [
      "config.json\n",
      "torch.float32\n",
      "./saved/5000-0.5/counter/ddpm-sub-25-1000-TRAK-42/unet/diffusion_pytorch_model.bin\n",
      "cuda:0\n",
      "DDIM!\n"
     ]
    },
    {
     "data": {
      "application/vnd.jupyter.widget-view+json": {
       "model_id": "6d518d69f7644b329a1d9f09a3fc9e4a",
       "version_major": 2,
       "version_minor": 0
      },
      "text/plain": [
       "  0%|          | 0/50 [00:00<?, ?it/s]"
      ]
     },
     "metadata": {},
     "output_type": "display_data"
    },
    {
     "name": "stdout",
     "output_type": "stream",
     "text": [
      "config.json\n",
      "torch.float32\n",
      "./saved/5000-0.5/counter/ddpm-sub-25-1000-Ours-42/unet/diffusion_pytorch_model.bin\n",
      "cuda:0\n",
      "DDIM!\n"
     ]
    },
    {
     "data": {
      "application/vnd.jupyter.widget-view+json": {
       "model_id": "e84f0c8318f14cd58a0e9b8cf1ef65c4",
       "version_major": 2,
       "version_minor": 0
      },
      "text/plain": [
       "  0%|          | 0/50 [00:00<?, ?it/s]"
      ]
     },
     "metadata": {},
     "output_type": "display_data"
    },
    {
     "name": "stdout",
     "output_type": "stream",
     "text": [
      "26 101\n",
      "config.json\n",
      "torch.float32\n",
      "./saved/5000-0.5/counter/ddpm-sub-26-1000-Random-42/unet/diffusion_pytorch_model.bin\n",
      "cuda:0\n",
      "DDIM!\n"
     ]
    },
    {
     "data": {
      "application/vnd.jupyter.widget-view+json": {
       "model_id": "2a1278a90aeb483ca330058e00336bc5",
       "version_major": 2,
       "version_minor": 0
      },
      "text/plain": [
       "  0%|          | 0/50 [00:00<?, ?it/s]"
      ]
     },
     "metadata": {},
     "output_type": "display_data"
    },
    {
     "name": "stdout",
     "output_type": "stream",
     "text": [
      "config.json\n",
      "torch.float32\n",
      "./saved/5000-0.5/counter/ddpm-sub-26-1000-TRAK-42/unet/diffusion_pytorch_model.bin\n",
      "cuda:0\n",
      "DDIM!\n"
     ]
    },
    {
     "data": {
      "application/vnd.jupyter.widget-view+json": {
       "model_id": "5803c6d6dc074b7891f4b9e468f9d580",
       "version_major": 2,
       "version_minor": 0
      },
      "text/plain": [
       "  0%|          | 0/50 [00:00<?, ?it/s]"
      ]
     },
     "metadata": {},
     "output_type": "display_data"
    },
    {
     "name": "stdout",
     "output_type": "stream",
     "text": [
      "config.json\n",
      "torch.float32\n",
      "./saved/5000-0.5/counter/ddpm-sub-26-1000-Ours-42/unet/diffusion_pytorch_model.bin\n",
      "cuda:0\n",
      "DDIM!\n"
     ]
    },
    {
     "data": {
      "application/vnd.jupyter.widget-view+json": {
       "model_id": "17ad1d26210c494b874b98f384480f16",
       "version_major": 2,
       "version_minor": 0
      },
      "text/plain": [
       "  0%|          | 0/50 [00:00<?, ?it/s]"
      ]
     },
     "metadata": {},
     "output_type": "display_data"
    },
    {
     "name": "stdout",
     "output_type": "stream",
     "text": [
      "27 986\n",
      "config.json\n",
      "torch.float32\n",
      "./saved/5000-0.5/counter/ddpm-sub-27-1000-Random-42/unet/diffusion_pytorch_model.bin\n",
      "cuda:0\n",
      "DDIM!\n"
     ]
    },
    {
     "data": {
      "application/vnd.jupyter.widget-view+json": {
       "model_id": "7eb3d66c49004ebc975da150b880d73c",
       "version_major": 2,
       "version_minor": 0
      },
      "text/plain": [
       "  0%|          | 0/50 [00:00<?, ?it/s]"
      ]
     },
     "metadata": {},
     "output_type": "display_data"
    },
    {
     "name": "stdout",
     "output_type": "stream",
     "text": [
      "config.json\n",
      "torch.float32\n",
      "./saved/5000-0.5/counter/ddpm-sub-27-1000-TRAK-42/unet/diffusion_pytorch_model.bin\n",
      "cuda:0\n",
      "DDIM!\n"
     ]
    },
    {
     "data": {
      "application/vnd.jupyter.widget-view+json": {
       "model_id": "29ea6919074344e4b646a0c2331b58cc",
       "version_major": 2,
       "version_minor": 0
      },
      "text/plain": [
       "  0%|          | 0/50 [00:00<?, ?it/s]"
      ]
     },
     "metadata": {},
     "output_type": "display_data"
    },
    {
     "name": "stdout",
     "output_type": "stream",
     "text": [
      "config.json\n",
      "torch.float32\n",
      "./saved/5000-0.5/counter/ddpm-sub-27-1000-Ours-42/unet/diffusion_pytorch_model.bin\n",
      "cuda:0\n",
      "DDIM!\n"
     ]
    },
    {
     "data": {
      "application/vnd.jupyter.widget-view+json": {
       "model_id": "ad0d8f9a9a3f4ffbb6967aa412b86c14",
       "version_major": 2,
       "version_minor": 0
      },
      "text/plain": [
       "  0%|          | 0/50 [00:00<?, ?it/s]"
      ]
     },
     "metadata": {},
     "output_type": "display_data"
    },
    {
     "name": "stdout",
     "output_type": "stream",
     "text": [
      "28 902\n",
      "config.json\n",
      "torch.float32\n",
      "./saved/5000-0.5/counter/ddpm-sub-28-1000-Random-42/unet/diffusion_pytorch_model.bin\n",
      "cuda:0\n",
      "DDIM!\n"
     ]
    },
    {
     "data": {
      "application/vnd.jupyter.widget-view+json": {
       "model_id": "facdcaad093645d0bceab6380188f4b9",
       "version_major": 2,
       "version_minor": 0
      },
      "text/plain": [
       "  0%|          | 0/50 [00:00<?, ?it/s]"
      ]
     },
     "metadata": {},
     "output_type": "display_data"
    },
    {
     "name": "stdout",
     "output_type": "stream",
     "text": [
      "config.json\n",
      "torch.float32\n",
      "./saved/5000-0.5/counter/ddpm-sub-28-1000-TRAK-42/unet/diffusion_pytorch_model.bin\n",
      "cuda:0\n",
      "DDIM!\n"
     ]
    },
    {
     "data": {
      "application/vnd.jupyter.widget-view+json": {
       "model_id": "d6311a532600403e89eec98c51372b96",
       "version_major": 2,
       "version_minor": 0
      },
      "text/plain": [
       "  0%|          | 0/50 [00:00<?, ?it/s]"
      ]
     },
     "metadata": {},
     "output_type": "display_data"
    },
    {
     "name": "stdout",
     "output_type": "stream",
     "text": [
      "config.json\n",
      "torch.float32\n",
      "./saved/5000-0.5/counter/ddpm-sub-28-1000-Ours-42/unet/diffusion_pytorch_model.bin\n",
      "cuda:0\n",
      "DDIM!\n"
     ]
    },
    {
     "data": {
      "application/vnd.jupyter.widget-view+json": {
       "model_id": "44e6f9f902c941c1a07eab9d2aa1ccbf",
       "version_major": 2,
       "version_minor": 0
      },
      "text/plain": [
       "  0%|          | 0/50 [00:00<?, ?it/s]"
      ]
     },
     "metadata": {},
     "output_type": "display_data"
    },
    {
     "name": "stdout",
     "output_type": "stream",
     "text": [
      "29 947\n",
      "config.json\n",
      "torch.float32\n",
      "./saved/5000-0.5/counter/ddpm-sub-29-1000-Random-42/unet/diffusion_pytorch_model.bin\n",
      "cuda:0\n",
      "DDIM!\n"
     ]
    },
    {
     "data": {
      "application/vnd.jupyter.widget-view+json": {
       "model_id": "73aa25aa6cca49168e0c77f7764608d8",
       "version_major": 2,
       "version_minor": 0
      },
      "text/plain": [
       "  0%|          | 0/50 [00:00<?, ?it/s]"
      ]
     },
     "metadata": {},
     "output_type": "display_data"
    },
    {
     "name": "stdout",
     "output_type": "stream",
     "text": [
      "config.json\n",
      "torch.float32\n",
      "./saved/5000-0.5/counter/ddpm-sub-29-1000-TRAK-42/unet/diffusion_pytorch_model.bin\n",
      "cuda:0\n",
      "DDIM!\n"
     ]
    },
    {
     "data": {
      "application/vnd.jupyter.widget-view+json": {
       "model_id": "d3cc40393e6441ccad41902316a6d3d7",
       "version_major": 2,
       "version_minor": 0
      },
      "text/plain": [
       "  0%|          | 0/50 [00:00<?, ?it/s]"
      ]
     },
     "metadata": {},
     "output_type": "display_data"
    },
    {
     "name": "stdout",
     "output_type": "stream",
     "text": [
      "config.json\n",
      "torch.float32\n",
      "./saved/5000-0.5/counter/ddpm-sub-29-1000-Ours-42/unet/diffusion_pytorch_model.bin\n",
      "cuda:0\n",
      "DDIM!\n"
     ]
    },
    {
     "data": {
      "application/vnd.jupyter.widget-view+json": {
       "model_id": "5062a73cd0c04776b7f5b0f59b905104",
       "version_major": 2,
       "version_minor": 0
      },
      "text/plain": [
       "  0%|          | 0/50 [00:00<?, ?it/s]"
      ]
     },
     "metadata": {},
     "output_type": "display_data"
    },
    {
     "name": "stdout",
     "output_type": "stream",
     "text": [
      "30 346\n",
      "config.json\n",
      "torch.float32\n",
      "./saved/5000-0.5/counter/ddpm-sub-30-1000-Random-42/unet/diffusion_pytorch_model.bin\n",
      "cuda:0\n",
      "DDIM!\n"
     ]
    },
    {
     "data": {
      "application/vnd.jupyter.widget-view+json": {
       "model_id": "e219a00026434755b697557ff62ed2be",
       "version_major": 2,
       "version_minor": 0
      },
      "text/plain": [
       "  0%|          | 0/50 [00:00<?, ?it/s]"
      ]
     },
     "metadata": {},
     "output_type": "display_data"
    },
    {
     "name": "stdout",
     "output_type": "stream",
     "text": [
      "config.json\n",
      "torch.float32\n",
      "./saved/5000-0.5/counter/ddpm-sub-30-1000-TRAK-42/unet/diffusion_pytorch_model.bin\n",
      "cuda:0\n",
      "DDIM!\n"
     ]
    },
    {
     "data": {
      "application/vnd.jupyter.widget-view+json": {
       "model_id": "2e5cc6fc18ba4965a1ad8ea931a40289",
       "version_major": 2,
       "version_minor": 0
      },
      "text/plain": [
       "  0%|          | 0/50 [00:00<?, ?it/s]"
      ]
     },
     "metadata": {},
     "output_type": "display_data"
    },
    {
     "name": "stdout",
     "output_type": "stream",
     "text": [
      "config.json\n",
      "torch.float32\n",
      "./saved/5000-0.5/counter/ddpm-sub-30-1000-Ours-42/unet/diffusion_pytorch_model.bin\n",
      "cuda:0\n",
      "DDIM!\n"
     ]
    },
    {
     "data": {
      "application/vnd.jupyter.widget-view+json": {
       "model_id": "1555005cc8b5422bba417262aa1b60de",
       "version_major": 2,
       "version_minor": 0
      },
      "text/plain": [
       "  0%|          | 0/50 [00:00<?, ?it/s]"
      ]
     },
     "metadata": {},
     "output_type": "display_data"
    },
    {
     "name": "stdout",
     "output_type": "stream",
     "text": [
      "31 139\n",
      "config.json\n",
      "torch.float32\n",
      "./saved/5000-0.5/counter/ddpm-sub-31-1000-Random-42/unet/diffusion_pytorch_model.bin\n",
      "cuda:0\n",
      "DDIM!\n"
     ]
    },
    {
     "data": {
      "application/vnd.jupyter.widget-view+json": {
       "model_id": "afa2c69962814c179c901d687b43e20d",
       "version_major": 2,
       "version_minor": 0
      },
      "text/plain": [
       "  0%|          | 0/50 [00:00<?, ?it/s]"
      ]
     },
     "metadata": {},
     "output_type": "display_data"
    },
    {
     "name": "stdout",
     "output_type": "stream",
     "text": [
      "config.json\n",
      "torch.float32\n",
      "./saved/5000-0.5/counter/ddpm-sub-31-1000-TRAK-42/unet/diffusion_pytorch_model.bin\n",
      "cuda:0\n",
      "DDIM!\n"
     ]
    },
    {
     "data": {
      "application/vnd.jupyter.widget-view+json": {
       "model_id": "bb3e95c45d304b658f3fbfe79c03192d",
       "version_major": 2,
       "version_minor": 0
      },
      "text/plain": [
       "  0%|          | 0/50 [00:00<?, ?it/s]"
      ]
     },
     "metadata": {},
     "output_type": "display_data"
    },
    {
     "name": "stdout",
     "output_type": "stream",
     "text": [
      "config.json\n",
      "torch.float32\n",
      "./saved/5000-0.5/counter/ddpm-sub-31-1000-Ours-42/unet/diffusion_pytorch_model.bin\n",
      "cuda:0\n",
      "DDIM!\n"
     ]
    },
    {
     "data": {
      "application/vnd.jupyter.widget-view+json": {
       "model_id": "fbaa924b13264879ac31ece04b2e92f5",
       "version_major": 2,
       "version_minor": 0
      },
      "text/plain": [
       "  0%|          | 0/50 [00:00<?, ?it/s]"
      ]
     },
     "metadata": {},
     "output_type": "display_data"
    },
    {
     "name": "stdout",
     "output_type": "stream",
     "text": [
      "32 621\n",
      "config.json\n",
      "torch.float32\n",
      "./saved/5000-0.5/counter/ddpm-sub-32-1000-Random-42/unet/diffusion_pytorch_model.bin\n",
      "cuda:0\n",
      "DDIM!\n"
     ]
    },
    {
     "data": {
      "application/vnd.jupyter.widget-view+json": {
       "model_id": "913927ae0f734451ac28b4d75dc69a3b",
       "version_major": 2,
       "version_minor": 0
      },
      "text/plain": [
       "  0%|          | 0/50 [00:00<?, ?it/s]"
      ]
     },
     "metadata": {},
     "output_type": "display_data"
    },
    {
     "name": "stdout",
     "output_type": "stream",
     "text": [
      "config.json\n",
      "torch.float32\n",
      "./saved/5000-0.5/counter/ddpm-sub-32-1000-TRAK-42/unet/diffusion_pytorch_model.bin\n",
      "cuda:0\n",
      "DDIM!\n"
     ]
    },
    {
     "data": {
      "application/vnd.jupyter.widget-view+json": {
       "model_id": "384abc93f76c4f2f9473337527c84569",
       "version_major": 2,
       "version_minor": 0
      },
      "text/plain": [
       "  0%|          | 0/50 [00:00<?, ?it/s]"
      ]
     },
     "metadata": {},
     "output_type": "display_data"
    },
    {
     "name": "stdout",
     "output_type": "stream",
     "text": [
      "config.json\n",
      "torch.float32\n",
      "./saved/5000-0.5/counter/ddpm-sub-32-1000-Ours-42/unet/diffusion_pytorch_model.bin\n",
      "cuda:0\n",
      "DDIM!\n"
     ]
    },
    {
     "data": {
      "application/vnd.jupyter.widget-view+json": {
       "model_id": "b1b15539a1e74c919b96d71e84cdbab9",
       "version_major": 2,
       "version_minor": 0
      },
      "text/plain": [
       "  0%|          | 0/50 [00:00<?, ?it/s]"
      ]
     },
     "metadata": {},
     "output_type": "display_data"
    },
    {
     "name": "stdout",
     "output_type": "stream",
     "text": [
      "33 499\n",
      "config.json\n",
      "torch.float32\n",
      "./saved/5000-0.5/counter/ddpm-sub-33-1000-Random-42/unet/diffusion_pytorch_model.bin\n",
      "cuda:0\n",
      "DDIM!\n"
     ]
    },
    {
     "data": {
      "application/vnd.jupyter.widget-view+json": {
       "model_id": "552a6a7688b242a0a32bfc9fb7fb3370",
       "version_major": 2,
       "version_minor": 0
      },
      "text/plain": [
       "  0%|          | 0/50 [00:00<?, ?it/s]"
      ]
     },
     "metadata": {},
     "output_type": "display_data"
    },
    {
     "name": "stdout",
     "output_type": "stream",
     "text": [
      "config.json\n",
      "torch.float32\n",
      "./saved/5000-0.5/counter/ddpm-sub-33-1000-TRAK-42/unet/diffusion_pytorch_model.bin\n",
      "cuda:0\n",
      "DDIM!\n"
     ]
    },
    {
     "data": {
      "application/vnd.jupyter.widget-view+json": {
       "model_id": "5bc02f74b5ae4f5fb445c7128b959fc3",
       "version_major": 2,
       "version_minor": 0
      },
      "text/plain": [
       "  0%|          | 0/50 [00:00<?, ?it/s]"
      ]
     },
     "metadata": {},
     "output_type": "display_data"
    },
    {
     "name": "stdout",
     "output_type": "stream",
     "text": [
      "config.json\n",
      "torch.float32\n",
      "./saved/5000-0.5/counter/ddpm-sub-33-1000-Ours-42/unet/diffusion_pytorch_model.bin\n",
      "cuda:0\n",
      "DDIM!\n"
     ]
    },
    {
     "data": {
      "application/vnd.jupyter.widget-view+json": {
       "model_id": "5ca9daa39adf4638a4b58fa45a53e5a1",
       "version_major": 2,
       "version_minor": 0
      },
      "text/plain": [
       "  0%|          | 0/50 [00:00<?, ?it/s]"
      ]
     },
     "metadata": {},
     "output_type": "display_data"
    },
    {
     "name": "stdout",
     "output_type": "stream",
     "text": [
      "34 370\n",
      "config.json\n",
      "torch.float32\n",
      "./saved/5000-0.5/counter/ddpm-sub-34-1000-Random-42/unet/diffusion_pytorch_model.bin\n",
      "cuda:0\n",
      "DDIM!\n"
     ]
    },
    {
     "data": {
      "application/vnd.jupyter.widget-view+json": {
       "model_id": "6b89131c23814038b04d5a151c3e22a8",
       "version_major": 2,
       "version_minor": 0
      },
      "text/plain": [
       "  0%|          | 0/50 [00:00<?, ?it/s]"
      ]
     },
     "metadata": {},
     "output_type": "display_data"
    },
    {
     "name": "stdout",
     "output_type": "stream",
     "text": [
      "config.json\n",
      "torch.float32\n",
      "./saved/5000-0.5/counter/ddpm-sub-34-1000-TRAK-42/unet/diffusion_pytorch_model.bin\n",
      "cuda:0\n",
      "DDIM!\n"
     ]
    },
    {
     "data": {
      "application/vnd.jupyter.widget-view+json": {
       "model_id": "cefeead82d8440f79a9b4bd8ef48ca95",
       "version_major": 2,
       "version_minor": 0
      },
      "text/plain": [
       "  0%|          | 0/50 [00:00<?, ?it/s]"
      ]
     },
     "metadata": {},
     "output_type": "display_data"
    },
    {
     "name": "stdout",
     "output_type": "stream",
     "text": [
      "config.json\n",
      "torch.float32\n",
      "./saved/5000-0.5/counter/ddpm-sub-34-1000-Ours-42/unet/diffusion_pytorch_model.bin\n",
      "cuda:0\n",
      "DDIM!\n"
     ]
    },
    {
     "data": {
      "application/vnd.jupyter.widget-view+json": {
       "model_id": "3d2aa8a7d67f459c833e827c5e2e3475",
       "version_major": 2,
       "version_minor": 0
      },
      "text/plain": [
       "  0%|          | 0/50 [00:00<?, ?it/s]"
      ]
     },
     "metadata": {},
     "output_type": "display_data"
    },
    {
     "name": "stdout",
     "output_type": "stream",
     "text": [
      "35 198\n",
      "config.json\n",
      "torch.float32\n",
      "./saved/5000-0.5/counter/ddpm-sub-35-1000-Random-42/unet/diffusion_pytorch_model.bin\n",
      "cuda:0\n",
      "DDIM!\n"
     ]
    },
    {
     "data": {
      "application/vnd.jupyter.widget-view+json": {
       "model_id": "591618658f994b7a8bb5fe4d3d5e3a51",
       "version_major": 2,
       "version_minor": 0
      },
      "text/plain": [
       "  0%|          | 0/50 [00:00<?, ?it/s]"
      ]
     },
     "metadata": {},
     "output_type": "display_data"
    },
    {
     "name": "stdout",
     "output_type": "stream",
     "text": [
      "config.json\n",
      "torch.float32\n",
      "./saved/5000-0.5/counter/ddpm-sub-35-1000-TRAK-42/unet/diffusion_pytorch_model.bin\n",
      "cuda:0\n",
      "DDIM!\n"
     ]
    },
    {
     "data": {
      "application/vnd.jupyter.widget-view+json": {
       "model_id": "c739f579a795414ca8c730f7a23fa0da",
       "version_major": 2,
       "version_minor": 0
      },
      "text/plain": [
       "  0%|          | 0/50 [00:00<?, ?it/s]"
      ]
     },
     "metadata": {},
     "output_type": "display_data"
    },
    {
     "name": "stdout",
     "output_type": "stream",
     "text": [
      "config.json\n",
      "torch.float32\n",
      "./saved/5000-0.5/counter/ddpm-sub-35-1000-Ours-42/unet/diffusion_pytorch_model.bin\n",
      "cuda:0\n",
      "DDIM!\n"
     ]
    },
    {
     "data": {
      "application/vnd.jupyter.widget-view+json": {
       "model_id": "0aeb77e09f4141a6adde3a97cf2d9f0d",
       "version_major": 2,
       "version_minor": 0
      },
      "text/plain": [
       "  0%|          | 0/50 [00:00<?, ?it/s]"
      ]
     },
     "metadata": {},
     "output_type": "display_data"
    },
    {
     "name": "stdout",
     "output_type": "stream",
     "text": [
      "36 687\n",
      "config.json\n",
      "torch.float32\n",
      "./saved/5000-0.5/counter/ddpm-sub-36-1000-Random-42/unet/diffusion_pytorch_model.bin\n",
      "cuda:0\n",
      "DDIM!\n"
     ]
    },
    {
     "data": {
      "application/vnd.jupyter.widget-view+json": {
       "model_id": "ae37a05e0b9a41fe8f88c53704498610",
       "version_major": 2,
       "version_minor": 0
      },
      "text/plain": [
       "  0%|          | 0/50 [00:00<?, ?it/s]"
      ]
     },
     "metadata": {},
     "output_type": "display_data"
    },
    {
     "name": "stdout",
     "output_type": "stream",
     "text": [
      "config.json\n",
      "torch.float32\n",
      "./saved/5000-0.5/counter/ddpm-sub-36-1000-TRAK-42/unet/diffusion_pytorch_model.bin\n",
      "cuda:0\n",
      "DDIM!\n"
     ]
    },
    {
     "data": {
      "application/vnd.jupyter.widget-view+json": {
       "model_id": "5f55cb423ee946a997d37ec447dffcce",
       "version_major": 2,
       "version_minor": 0
      },
      "text/plain": [
       "  0%|          | 0/50 [00:00<?, ?it/s]"
      ]
     },
     "metadata": {},
     "output_type": "display_data"
    },
    {
     "name": "stdout",
     "output_type": "stream",
     "text": [
      "config.json\n",
      "torch.float32\n",
      "./saved/5000-0.5/counter/ddpm-sub-36-1000-Ours-42/unet/diffusion_pytorch_model.bin\n",
      "cuda:0\n",
      "DDIM!\n"
     ]
    },
    {
     "data": {
      "application/vnd.jupyter.widget-view+json": {
       "model_id": "6cd0078401d24def9b007d9cdb22d81c",
       "version_major": 2,
       "version_minor": 0
      },
      "text/plain": [
       "  0%|          | 0/50 [00:00<?, ?it/s]"
      ]
     },
     "metadata": {},
     "output_type": "display_data"
    },
    {
     "name": "stdout",
     "output_type": "stream",
     "text": [
      "37 584\n",
      "config.json\n",
      "torch.float32\n",
      "./saved/5000-0.5/counter/ddpm-sub-37-1000-Random-42/unet/diffusion_pytorch_model.bin\n",
      "cuda:0\n",
      "DDIM!\n"
     ]
    },
    {
     "data": {
      "application/vnd.jupyter.widget-view+json": {
       "model_id": "6f7ff3c82ac3433a9a1d1ffc43b7100d",
       "version_major": 2,
       "version_minor": 0
      },
      "text/plain": [
       "  0%|          | 0/50 [00:00<?, ?it/s]"
      ]
     },
     "metadata": {},
     "output_type": "display_data"
    },
    {
     "name": "stdout",
     "output_type": "stream",
     "text": [
      "config.json\n",
      "torch.float32\n",
      "./saved/5000-0.5/counter/ddpm-sub-37-1000-TRAK-42/unet/diffusion_pytorch_model.bin\n",
      "cuda:0\n",
      "DDIM!\n"
     ]
    },
    {
     "data": {
      "application/vnd.jupyter.widget-view+json": {
       "model_id": "d323135f104e40c1a9cb39b2dda066b5",
       "version_major": 2,
       "version_minor": 0
      },
      "text/plain": [
       "  0%|          | 0/50 [00:00<?, ?it/s]"
      ]
     },
     "metadata": {},
     "output_type": "display_data"
    },
    {
     "name": "stdout",
     "output_type": "stream",
     "text": [
      "config.json\n",
      "torch.float32\n",
      "./saved/5000-0.5/counter/ddpm-sub-37-1000-Ours-42/unet/diffusion_pytorch_model.bin\n",
      "cuda:0\n",
      "DDIM!\n"
     ]
    },
    {
     "data": {
      "application/vnd.jupyter.widget-view+json": {
       "model_id": "1863d7fcdaca4a7b91441150a8dd5a56",
       "version_major": 2,
       "version_minor": 0
      },
      "text/plain": [
       "  0%|          | 0/50 [00:00<?, ?it/s]"
      ]
     },
     "metadata": {},
     "output_type": "display_data"
    },
    {
     "name": "stdout",
     "output_type": "stream",
     "text": [
      "38 901\n",
      "config.json\n",
      "torch.float32\n",
      "./saved/5000-0.5/counter/ddpm-sub-38-1000-Random-42/unet/diffusion_pytorch_model.bin\n",
      "cuda:0\n",
      "DDIM!\n"
     ]
    },
    {
     "data": {
      "application/vnd.jupyter.widget-view+json": {
       "model_id": "750bee19a3ea4028bc4180707227c190",
       "version_major": 2,
       "version_minor": 0
      },
      "text/plain": [
       "  0%|          | 0/50 [00:00<?, ?it/s]"
      ]
     },
     "metadata": {},
     "output_type": "display_data"
    },
    {
     "name": "stdout",
     "output_type": "stream",
     "text": [
      "config.json\n",
      "torch.float32\n",
      "./saved/5000-0.5/counter/ddpm-sub-38-1000-TRAK-42/unet/diffusion_pytorch_model.bin\n",
      "cuda:0\n",
      "DDIM!\n"
     ]
    },
    {
     "data": {
      "application/vnd.jupyter.widget-view+json": {
       "model_id": "3dfd5b34fda3415eaf5412f49e59aad1",
       "version_major": 2,
       "version_minor": 0
      },
      "text/plain": [
       "  0%|          | 0/50 [00:00<?, ?it/s]"
      ]
     },
     "metadata": {},
     "output_type": "display_data"
    },
    {
     "name": "stdout",
     "output_type": "stream",
     "text": [
      "config.json\n",
      "torch.float32\n",
      "./saved/5000-0.5/counter/ddpm-sub-38-1000-Ours-42/unet/diffusion_pytorch_model.bin\n",
      "cuda:0\n",
      "DDIM!\n"
     ]
    },
    {
     "data": {
      "application/vnd.jupyter.widget-view+json": {
       "model_id": "eaab99d6341a4af39ba6e22183834c66",
       "version_major": 2,
       "version_minor": 0
      },
      "text/plain": [
       "  0%|          | 0/50 [00:00<?, ?it/s]"
      ]
     },
     "metadata": {},
     "output_type": "display_data"
    },
    {
     "name": "stdout",
     "output_type": "stream",
     "text": [
      "39 59\n",
      "config.json\n",
      "torch.float32\n",
      "./saved/5000-0.5/counter/ddpm-sub-39-1000-Random-42/unet/diffusion_pytorch_model.bin\n",
      "cuda:0\n",
      "DDIM!\n"
     ]
    },
    {
     "data": {
      "application/vnd.jupyter.widget-view+json": {
       "model_id": "8800dfedb9d04832b8c74ad31bfd6d09",
       "version_major": 2,
       "version_minor": 0
      },
      "text/plain": [
       "  0%|          | 0/50 [00:00<?, ?it/s]"
      ]
     },
     "metadata": {},
     "output_type": "display_data"
    },
    {
     "name": "stdout",
     "output_type": "stream",
     "text": [
      "config.json\n",
      "torch.float32\n",
      "./saved/5000-0.5/counter/ddpm-sub-39-1000-TRAK-42/unet/diffusion_pytorch_model.bin\n",
      "cuda:0\n",
      "DDIM!\n"
     ]
    },
    {
     "data": {
      "application/vnd.jupyter.widget-view+json": {
       "model_id": "c1cfc479df464f9197de21e3949b1903",
       "version_major": 2,
       "version_minor": 0
      },
      "text/plain": [
       "  0%|          | 0/50 [00:00<?, ?it/s]"
      ]
     },
     "metadata": {},
     "output_type": "display_data"
    },
    {
     "name": "stdout",
     "output_type": "stream",
     "text": [
      "config.json\n",
      "torch.float32\n",
      "./saved/5000-0.5/counter/ddpm-sub-39-1000-Ours-42/unet/diffusion_pytorch_model.bin\n",
      "cuda:0\n",
      "DDIM!\n"
     ]
    },
    {
     "data": {
      "application/vnd.jupyter.widget-view+json": {
       "model_id": "f58ea05ef2ec4e6fb720e22020eac066",
       "version_major": 2,
       "version_minor": 0
      },
      "text/plain": [
       "  0%|          | 0/50 [00:00<?, ?it/s]"
      ]
     },
     "metadata": {},
     "output_type": "display_data"
    },
    {
     "name": "stdout",
     "output_type": "stream",
     "text": [
      "40 328\n",
      "config.json\n",
      "torch.float32\n",
      "./saved/5000-0.5/counter/ddpm-sub-40-1000-Random-42/unet/diffusion_pytorch_model.bin\n",
      "cuda:0\n",
      "DDIM!\n"
     ]
    },
    {
     "data": {
      "application/vnd.jupyter.widget-view+json": {
       "model_id": "5e09471d211641cbb76813e7d13f155f",
       "version_major": 2,
       "version_minor": 0
      },
      "text/plain": [
       "  0%|          | 0/50 [00:00<?, ?it/s]"
      ]
     },
     "metadata": {},
     "output_type": "display_data"
    },
    {
     "name": "stdout",
     "output_type": "stream",
     "text": [
      "config.json\n",
      "torch.float32\n",
      "./saved/5000-0.5/counter/ddpm-sub-40-1000-TRAK-42/unet/diffusion_pytorch_model.bin\n",
      "cuda:0\n",
      "DDIM!\n"
     ]
    },
    {
     "data": {
      "application/vnd.jupyter.widget-view+json": {
       "model_id": "048efdd02c5f4f19a0c8cd36a2246ca4",
       "version_major": 2,
       "version_minor": 0
      },
      "text/plain": [
       "  0%|          | 0/50 [00:00<?, ?it/s]"
      ]
     },
     "metadata": {},
     "output_type": "display_data"
    },
    {
     "name": "stdout",
     "output_type": "stream",
     "text": [
      "config.json\n",
      "torch.float32\n",
      "./saved/5000-0.5/counter/ddpm-sub-40-1000-Ours-42/unet/diffusion_pytorch_model.bin\n",
      "cuda:0\n",
      "DDIM!\n"
     ]
    },
    {
     "data": {
      "application/vnd.jupyter.widget-view+json": {
       "model_id": "95d8a921005a4f3a9529bc65171dc77f",
       "version_major": 2,
       "version_minor": 0
      },
      "text/plain": [
       "  0%|          | 0/50 [00:00<?, ?it/s]"
      ]
     },
     "metadata": {},
     "output_type": "display_data"
    },
    {
     "name": "stdout",
     "output_type": "stream",
     "text": [
      "41 96\n",
      "config.json\n",
      "torch.float32\n",
      "./saved/5000-0.5/counter/ddpm-sub-41-1000-Random-42/unet/diffusion_pytorch_model.bin\n",
      "cuda:0\n",
      "DDIM!\n"
     ]
    },
    {
     "data": {
      "application/vnd.jupyter.widget-view+json": {
       "model_id": "ac9be25f435a468e87f016ef8ca0b28a",
       "version_major": 2,
       "version_minor": 0
      },
      "text/plain": [
       "  0%|          | 0/50 [00:00<?, ?it/s]"
      ]
     },
     "metadata": {},
     "output_type": "display_data"
    },
    {
     "name": "stdout",
     "output_type": "stream",
     "text": [
      "config.json\n",
      "torch.float32\n",
      "./saved/5000-0.5/counter/ddpm-sub-41-1000-TRAK-42/unet/diffusion_pytorch_model.bin\n",
      "cuda:0\n",
      "DDIM!\n"
     ]
    },
    {
     "data": {
      "application/vnd.jupyter.widget-view+json": {
       "model_id": "ad201d2970ce432fa4a0f0f712f0dc35",
       "version_major": 2,
       "version_minor": 0
      },
      "text/plain": [
       "  0%|          | 0/50 [00:00<?, ?it/s]"
      ]
     },
     "metadata": {},
     "output_type": "display_data"
    },
    {
     "name": "stdout",
     "output_type": "stream",
     "text": [
      "config.json\n",
      "torch.float32\n",
      "./saved/5000-0.5/counter/ddpm-sub-41-1000-Ours-42/unet/diffusion_pytorch_model.bin\n",
      "cuda:0\n",
      "DDIM!\n"
     ]
    },
    {
     "data": {
      "application/vnd.jupyter.widget-view+json": {
       "model_id": "0b2434f2d9cf4ddc82f77b442ad0db92",
       "version_major": 2,
       "version_minor": 0
      },
      "text/plain": [
       "  0%|          | 0/50 [00:00<?, ?it/s]"
      ]
     },
     "metadata": {},
     "output_type": "display_data"
    },
    {
     "name": "stdout",
     "output_type": "stream",
     "text": [
      "42 312\n",
      "config.json\n",
      "torch.float32\n",
      "./saved/5000-0.5/counter/ddpm-sub-42-1000-Random-42/unet/diffusion_pytorch_model.bin\n",
      "cuda:0\n",
      "DDIM!\n"
     ]
    },
    {
     "data": {
      "application/vnd.jupyter.widget-view+json": {
       "model_id": "2c8865c16d754ab5aa76a8cc0bdc1b13",
       "version_major": 2,
       "version_minor": 0
      },
      "text/plain": [
       "  0%|          | 0/50 [00:00<?, ?it/s]"
      ]
     },
     "metadata": {},
     "output_type": "display_data"
    },
    {
     "name": "stdout",
     "output_type": "stream",
     "text": [
      "config.json\n",
      "torch.float32\n",
      "./saved/5000-0.5/counter/ddpm-sub-42-1000-TRAK-42/unet/diffusion_pytorch_model.bin\n",
      "cuda:0\n",
      "DDIM!\n"
     ]
    },
    {
     "data": {
      "application/vnd.jupyter.widget-view+json": {
       "model_id": "947a827c360a491689a662da38d5a370",
       "version_major": 2,
       "version_minor": 0
      },
      "text/plain": [
       "  0%|          | 0/50 [00:00<?, ?it/s]"
      ]
     },
     "metadata": {},
     "output_type": "display_data"
    },
    {
     "name": "stdout",
     "output_type": "stream",
     "text": [
      "config.json\n",
      "torch.float32\n",
      "./saved/5000-0.5/counter/ddpm-sub-42-1000-Ours-42/unet/diffusion_pytorch_model.bin\n",
      "cuda:0\n",
      "DDIM!\n"
     ]
    },
    {
     "data": {
      "application/vnd.jupyter.widget-view+json": {
       "model_id": "481896d7f6a348bc9daf6fbe6abb72a7",
       "version_major": 2,
       "version_minor": 0
      },
      "text/plain": [
       "  0%|          | 0/50 [00:00<?, ?it/s]"
      ]
     },
     "metadata": {},
     "output_type": "display_data"
    },
    {
     "name": "stdout",
     "output_type": "stream",
     "text": [
      "43 974\n",
      "config.json\n",
      "torch.float32\n",
      "./saved/5000-0.5/counter/ddpm-sub-43-1000-Random-42/unet/diffusion_pytorch_model.bin\n",
      "cuda:0\n",
      "DDIM!\n"
     ]
    },
    {
     "data": {
      "application/vnd.jupyter.widget-view+json": {
       "model_id": "fa1c2cbd029244c6a5f8c7953062e1d1",
       "version_major": 2,
       "version_minor": 0
      },
      "text/plain": [
       "  0%|          | 0/50 [00:00<?, ?it/s]"
      ]
     },
     "metadata": {},
     "output_type": "display_data"
    },
    {
     "name": "stdout",
     "output_type": "stream",
     "text": [
      "config.json\n",
      "torch.float32\n",
      "./saved/5000-0.5/counter/ddpm-sub-43-1000-TRAK-42/unet/diffusion_pytorch_model.bin\n",
      "cuda:0\n",
      "DDIM!\n"
     ]
    },
    {
     "data": {
      "application/vnd.jupyter.widget-view+json": {
       "model_id": "221efc1dec394d53a3d7809c2fbe4e73",
       "version_major": 2,
       "version_minor": 0
      },
      "text/plain": [
       "  0%|          | 0/50 [00:00<?, ?it/s]"
      ]
     },
     "metadata": {},
     "output_type": "display_data"
    },
    {
     "name": "stdout",
     "output_type": "stream",
     "text": [
      "config.json\n",
      "torch.float32\n",
      "./saved/5000-0.5/counter/ddpm-sub-43-1000-Ours-42/unet/diffusion_pytorch_model.bin\n",
      "cuda:0\n",
      "DDIM!\n"
     ]
    },
    {
     "data": {
      "application/vnd.jupyter.widget-view+json": {
       "model_id": "2b88f200693b4bcbad724acff0675013",
       "version_major": 2,
       "version_minor": 0
      },
      "text/plain": [
       "  0%|          | 0/50 [00:00<?, ?it/s]"
      ]
     },
     "metadata": {},
     "output_type": "display_data"
    },
    {
     "name": "stdout",
     "output_type": "stream",
     "text": [
      "44 299\n",
      "config.json\n",
      "torch.float32\n",
      "./saved/5000-0.5/counter/ddpm-sub-44-1000-Random-42/unet/diffusion_pytorch_model.bin\n",
      "cuda:0\n",
      "DDIM!\n"
     ]
    },
    {
     "data": {
      "application/vnd.jupyter.widget-view+json": {
       "model_id": "f8e956341f4e41bdb79c9b0ed434c650",
       "version_major": 2,
       "version_minor": 0
      },
      "text/plain": [
       "  0%|          | 0/50 [00:00<?, ?it/s]"
      ]
     },
     "metadata": {},
     "output_type": "display_data"
    },
    {
     "name": "stdout",
     "output_type": "stream",
     "text": [
      "config.json\n",
      "torch.float32\n",
      "./saved/5000-0.5/counter/ddpm-sub-44-1000-TRAK-42/unet/diffusion_pytorch_model.bin\n",
      "cuda:0\n",
      "DDIM!\n"
     ]
    },
    {
     "data": {
      "application/vnd.jupyter.widget-view+json": {
       "model_id": "2da06be0f30a4c4bb234f18326db63ee",
       "version_major": 2,
       "version_minor": 0
      },
      "text/plain": [
       "  0%|          | 0/50 [00:00<?, ?it/s]"
      ]
     },
     "metadata": {},
     "output_type": "display_data"
    },
    {
     "name": "stdout",
     "output_type": "stream",
     "text": [
      "config.json\n",
      "torch.float32\n",
      "./saved/5000-0.5/counter/ddpm-sub-44-1000-Ours-42/unet/diffusion_pytorch_model.bin\n",
      "cuda:0\n",
      "DDIM!\n"
     ]
    },
    {
     "data": {
      "application/vnd.jupyter.widget-view+json": {
       "model_id": "5e0a5d4fc34b42afa85fbca571c580e2",
       "version_major": 2,
       "version_minor": 0
      },
      "text/plain": [
       "  0%|          | 0/50 [00:00<?, ?it/s]"
      ]
     },
     "metadata": {},
     "output_type": "display_data"
    },
    {
     "name": "stdout",
     "output_type": "stream",
     "text": [
      "45 277\n",
      "config.json\n",
      "torch.float32\n",
      "./saved/5000-0.5/counter/ddpm-sub-45-1000-Random-42/unet/diffusion_pytorch_model.bin\n",
      "cuda:0\n",
      "DDIM!\n"
     ]
    },
    {
     "data": {
      "application/vnd.jupyter.widget-view+json": {
       "model_id": "7266e70b4a9e4b25897831aadad65b07",
       "version_major": 2,
       "version_minor": 0
      },
      "text/plain": [
       "  0%|          | 0/50 [00:00<?, ?it/s]"
      ]
     },
     "metadata": {},
     "output_type": "display_data"
    },
    {
     "name": "stdout",
     "output_type": "stream",
     "text": [
      "config.json\n",
      "torch.float32\n",
      "./saved/5000-0.5/counter/ddpm-sub-45-1000-TRAK-42/unet/diffusion_pytorch_model.bin\n",
      "cuda:0\n",
      "DDIM!\n"
     ]
    },
    {
     "data": {
      "application/vnd.jupyter.widget-view+json": {
       "model_id": "fad9fabb9b144e329f7d1b2d30275460",
       "version_major": 2,
       "version_minor": 0
      },
      "text/plain": [
       "  0%|          | 0/50 [00:00<?, ?it/s]"
      ]
     },
     "metadata": {},
     "output_type": "display_data"
    },
    {
     "name": "stdout",
     "output_type": "stream",
     "text": [
      "config.json\n",
      "torch.float32\n",
      "./saved/5000-0.5/counter/ddpm-sub-45-1000-Ours-42/unet/diffusion_pytorch_model.bin\n",
      "cuda:0\n",
      "DDIM!\n"
     ]
    },
    {
     "data": {
      "application/vnd.jupyter.widget-view+json": {
       "model_id": "03ef47b79c624d5fa2b2e54bbbea8f96",
       "version_major": 2,
       "version_minor": 0
      },
      "text/plain": [
       "  0%|          | 0/50 [00:00<?, ?it/s]"
      ]
     },
     "metadata": {},
     "output_type": "display_data"
    },
    {
     "name": "stdout",
     "output_type": "stream",
     "text": [
      "46 924\n",
      "config.json\n",
      "torch.float32\n",
      "./saved/5000-0.5/counter/ddpm-sub-46-1000-Random-42/unet/diffusion_pytorch_model.bin\n",
      "cuda:0\n",
      "DDIM!\n"
     ]
    },
    {
     "data": {
      "application/vnd.jupyter.widget-view+json": {
       "model_id": "b421b2c1dec040b581d1409ef5b222d1",
       "version_major": 2,
       "version_minor": 0
      },
      "text/plain": [
       "  0%|          | 0/50 [00:00<?, ?it/s]"
      ]
     },
     "metadata": {},
     "output_type": "display_data"
    },
    {
     "name": "stdout",
     "output_type": "stream",
     "text": [
      "config.json\n",
      "torch.float32\n",
      "./saved/5000-0.5/counter/ddpm-sub-46-1000-TRAK-42/unet/diffusion_pytorch_model.bin\n",
      "cuda:0\n",
      "DDIM!\n"
     ]
    },
    {
     "data": {
      "application/vnd.jupyter.widget-view+json": {
       "model_id": "49a5d4ed66344c3898f55addd53aa170",
       "version_major": 2,
       "version_minor": 0
      },
      "text/plain": [
       "  0%|          | 0/50 [00:00<?, ?it/s]"
      ]
     },
     "metadata": {},
     "output_type": "display_data"
    },
    {
     "name": "stdout",
     "output_type": "stream",
     "text": [
      "config.json\n",
      "torch.float32\n",
      "./saved/5000-0.5/counter/ddpm-sub-46-1000-Ours-42/unet/diffusion_pytorch_model.bin\n",
      "cuda:0\n",
      "DDIM!\n"
     ]
    },
    {
     "data": {
      "application/vnd.jupyter.widget-view+json": {
       "model_id": "0dc0bc871b8a4ecd99c11117ca531ff4",
       "version_major": 2,
       "version_minor": 0
      },
      "text/plain": [
       "  0%|          | 0/50 [00:00<?, ?it/s]"
      ]
     },
     "metadata": {},
     "output_type": "display_data"
    },
    {
     "name": "stdout",
     "output_type": "stream",
     "text": [
      "47 601\n",
      "config.json\n",
      "torch.float32\n",
      "./saved/5000-0.5/counter/ddpm-sub-47-1000-Random-42/unet/diffusion_pytorch_model.bin\n",
      "cuda:0\n",
      "DDIM!\n"
     ]
    },
    {
     "data": {
      "application/vnd.jupyter.widget-view+json": {
       "model_id": "fa4e7a338646430d8f6b148258775d77",
       "version_major": 2,
       "version_minor": 0
      },
      "text/plain": [
       "  0%|          | 0/50 [00:00<?, ?it/s]"
      ]
     },
     "metadata": {},
     "output_type": "display_data"
    },
    {
     "name": "stdout",
     "output_type": "stream",
     "text": [
      "config.json\n",
      "torch.float32\n",
      "./saved/5000-0.5/counter/ddpm-sub-47-1000-TRAK-42/unet/diffusion_pytorch_model.bin\n",
      "cuda:0\n",
      "DDIM!\n"
     ]
    },
    {
     "data": {
      "application/vnd.jupyter.widget-view+json": {
       "model_id": "ff0ddd26d27048099d4cf9fffa7461f9",
       "version_major": 2,
       "version_minor": 0
      },
      "text/plain": [
       "  0%|          | 0/50 [00:00<?, ?it/s]"
      ]
     },
     "metadata": {},
     "output_type": "display_data"
    },
    {
     "name": "stdout",
     "output_type": "stream",
     "text": [
      "config.json\n",
      "torch.float32\n",
      "./saved/5000-0.5/counter/ddpm-sub-47-1000-Ours-42/unet/diffusion_pytorch_model.bin\n",
      "cuda:0\n",
      "DDIM!\n"
     ]
    },
    {
     "data": {
      "application/vnd.jupyter.widget-view+json": {
       "model_id": "e8d91ae43a954b289ec65f53aac9bfa1",
       "version_major": 2,
       "version_minor": 0
      },
      "text/plain": [
       "  0%|          | 0/50 [00:00<?, ?it/s]"
      ]
     },
     "metadata": {},
     "output_type": "display_data"
    },
    {
     "name": "stdout",
     "output_type": "stream",
     "text": [
      "48 439\n",
      "config.json\n",
      "torch.float32\n",
      "./saved/5000-0.5/counter/ddpm-sub-48-1000-Random-42/unet/diffusion_pytorch_model.bin\n",
      "cuda:0\n",
      "DDIM!\n"
     ]
    },
    {
     "data": {
      "application/vnd.jupyter.widget-view+json": {
       "model_id": "76dc7afa7be1468ba8b841ecfccde385",
       "version_major": 2,
       "version_minor": 0
      },
      "text/plain": [
       "  0%|          | 0/50 [00:00<?, ?it/s]"
      ]
     },
     "metadata": {},
     "output_type": "display_data"
    },
    {
     "name": "stdout",
     "output_type": "stream",
     "text": [
      "config.json\n",
      "torch.float32\n",
      "./saved/5000-0.5/counter/ddpm-sub-48-1000-TRAK-42/unet/diffusion_pytorch_model.bin\n",
      "cuda:0\n",
      "DDIM!\n"
     ]
    },
    {
     "data": {
      "application/vnd.jupyter.widget-view+json": {
       "model_id": "b095e45a503c4683a009459645fea63e",
       "version_major": 2,
       "version_minor": 0
      },
      "text/plain": [
       "  0%|          | 0/50 [00:00<?, ?it/s]"
      ]
     },
     "metadata": {},
     "output_type": "display_data"
    },
    {
     "name": "stdout",
     "output_type": "stream",
     "text": [
      "config.json\n",
      "torch.float32\n",
      "./saved/5000-0.5/counter/ddpm-sub-48-1000-Ours-42/unet/diffusion_pytorch_model.bin\n",
      "cuda:0\n",
      "DDIM!\n"
     ]
    },
    {
     "data": {
      "application/vnd.jupyter.widget-view+json": {
       "model_id": "73063d3dacf246e5ae02ad0c958ad151",
       "version_major": 2,
       "version_minor": 0
      },
      "text/plain": [
       "  0%|          | 0/50 [00:00<?, ?it/s]"
      ]
     },
     "metadata": {},
     "output_type": "display_data"
    },
    {
     "name": "stdout",
     "output_type": "stream",
     "text": [
      "49 837\n",
      "config.json\n",
      "torch.float32\n",
      "./saved/5000-0.5/counter/ddpm-sub-49-1000-Random-42/unet/diffusion_pytorch_model.bin\n",
      "cuda:0\n",
      "DDIM!\n"
     ]
    },
    {
     "data": {
      "application/vnd.jupyter.widget-view+json": {
       "model_id": "fb16f36704674e69883e55b0cd863e9f",
       "version_major": 2,
       "version_minor": 0
      },
      "text/plain": [
       "  0%|          | 0/50 [00:00<?, ?it/s]"
      ]
     },
     "metadata": {},
     "output_type": "display_data"
    },
    {
     "name": "stdout",
     "output_type": "stream",
     "text": [
      "config.json\n",
      "torch.float32\n",
      "./saved/5000-0.5/counter/ddpm-sub-49-1000-TRAK-42/unet/diffusion_pytorch_model.bin\n",
      "cuda:0\n",
      "DDIM!\n"
     ]
    },
    {
     "data": {
      "application/vnd.jupyter.widget-view+json": {
       "model_id": "07a2af77b009499981874f9673b09df5",
       "version_major": 2,
       "version_minor": 0
      },
      "text/plain": [
       "  0%|          | 0/50 [00:00<?, ?it/s]"
      ]
     },
     "metadata": {},
     "output_type": "display_data"
    },
    {
     "name": "stdout",
     "output_type": "stream",
     "text": [
      "config.json\n",
      "torch.float32\n",
      "./saved/5000-0.5/counter/ddpm-sub-49-1000-Ours-42/unet/diffusion_pytorch_model.bin\n",
      "cuda:0\n",
      "DDIM!\n"
     ]
    },
    {
     "data": {
      "application/vnd.jupyter.widget-view+json": {
       "model_id": "0f5ca931a16f47568cf50295bc6fdca8",
       "version_major": 2,
       "version_minor": 0
      },
      "text/plain": [
       "  0%|          | 0/50 [00:00<?, ?it/s]"
      ]
     },
     "metadata": {},
     "output_type": "display_data"
    },
    {
     "name": "stdout",
     "output_type": "stream",
     "text": [
      "50 570\n",
      "config.json\n",
      "torch.float32\n",
      "./saved/5000-0.5/counter/ddpm-sub-50-1000-Random-42/unet/diffusion_pytorch_model.bin\n",
      "cuda:0\n",
      "DDIM!\n"
     ]
    },
    {
     "data": {
      "application/vnd.jupyter.widget-view+json": {
       "model_id": "0a1ce316eb4c4e91bd3757c0259ac48a",
       "version_major": 2,
       "version_minor": 0
      },
      "text/plain": [
       "  0%|          | 0/50 [00:00<?, ?it/s]"
      ]
     },
     "metadata": {},
     "output_type": "display_data"
    },
    {
     "name": "stdout",
     "output_type": "stream",
     "text": [
      "config.json\n",
      "torch.float32\n",
      "./saved/5000-0.5/counter/ddpm-sub-50-1000-TRAK-42/unet/diffusion_pytorch_model.bin\n",
      "cuda:0\n",
      "DDIM!\n"
     ]
    },
    {
     "data": {
      "application/vnd.jupyter.widget-view+json": {
       "model_id": "5f38584be2da4802b19ae99bbd475531",
       "version_major": 2,
       "version_minor": 0
      },
      "text/plain": [
       "  0%|          | 0/50 [00:00<?, ?it/s]"
      ]
     },
     "metadata": {},
     "output_type": "display_data"
    },
    {
     "name": "stdout",
     "output_type": "stream",
     "text": [
      "config.json\n",
      "torch.float32\n",
      "./saved/5000-0.5/counter/ddpm-sub-50-1000-Ours-42/unet/diffusion_pytorch_model.bin\n",
      "cuda:0\n",
      "DDIM!\n"
     ]
    },
    {
     "data": {
      "application/vnd.jupyter.widget-view+json": {
       "model_id": "54629cbe0443439b91d3340800f2c8b2",
       "version_major": 2,
       "version_minor": 0
      },
      "text/plain": [
       "  0%|          | 0/50 [00:00<?, ?it/s]"
      ]
     },
     "metadata": {},
     "output_type": "display_data"
    },
    {
     "name": "stdout",
     "output_type": "stream",
     "text": [
      "51 879\n",
      "config.json\n",
      "torch.float32\n",
      "./saved/5000-0.5/counter/ddpm-sub-51-1000-Random-42/unet/diffusion_pytorch_model.bin\n",
      "cuda:0\n",
      "DDIM!\n"
     ]
    },
    {
     "data": {
      "application/vnd.jupyter.widget-view+json": {
       "model_id": "1c81d2100ad2424db318106767cb597e",
       "version_major": 2,
       "version_minor": 0
      },
      "text/plain": [
       "  0%|          | 0/50 [00:00<?, ?it/s]"
      ]
     },
     "metadata": {},
     "output_type": "display_data"
    },
    {
     "name": "stdout",
     "output_type": "stream",
     "text": [
      "config.json\n",
      "torch.float32\n",
      "./saved/5000-0.5/counter/ddpm-sub-51-1000-TRAK-42/unet/diffusion_pytorch_model.bin\n",
      "cuda:0\n",
      "DDIM!\n"
     ]
    },
    {
     "data": {
      "application/vnd.jupyter.widget-view+json": {
       "model_id": "96ea279bbf61440d93b060889cd6eed5",
       "version_major": 2,
       "version_minor": 0
      },
      "text/plain": [
       "  0%|          | 0/50 [00:00<?, ?it/s]"
      ]
     },
     "metadata": {},
     "output_type": "display_data"
    },
    {
     "name": "stdout",
     "output_type": "stream",
     "text": [
      "config.json\n",
      "torch.float32\n",
      "./saved/5000-0.5/counter/ddpm-sub-51-1000-Ours-42/unet/diffusion_pytorch_model.bin\n",
      "cuda:0\n",
      "DDIM!\n"
     ]
    },
    {
     "data": {
      "application/vnd.jupyter.widget-view+json": {
       "model_id": "9af4461c35864e228ce292d86ef1c2b8",
       "version_major": 2,
       "version_minor": 0
      },
      "text/plain": [
       "  0%|          | 0/50 [00:00<?, ?it/s]"
      ]
     },
     "metadata": {},
     "output_type": "display_data"
    },
    {
     "name": "stdout",
     "output_type": "stream",
     "text": [
      "52 261\n",
      "config.json\n",
      "torch.float32\n",
      "./saved/5000-0.5/counter/ddpm-sub-52-1000-Random-42/unet/diffusion_pytorch_model.bin\n",
      "cuda:0\n",
      "DDIM!\n"
     ]
    },
    {
     "data": {
      "application/vnd.jupyter.widget-view+json": {
       "model_id": "600bb01bd4494c2b849426890d6544ab",
       "version_major": 2,
       "version_minor": 0
      },
      "text/plain": [
       "  0%|          | 0/50 [00:00<?, ?it/s]"
      ]
     },
     "metadata": {},
     "output_type": "display_data"
    },
    {
     "name": "stdout",
     "output_type": "stream",
     "text": [
      "config.json\n",
      "torch.float32\n",
      "./saved/5000-0.5/counter/ddpm-sub-52-1000-TRAK-42/unet/diffusion_pytorch_model.bin\n",
      "cuda:0\n",
      "DDIM!\n"
     ]
    },
    {
     "data": {
      "application/vnd.jupyter.widget-view+json": {
       "model_id": "6d2df347a45d4a1aa6d97a5fef0482d6",
       "version_major": 2,
       "version_minor": 0
      },
      "text/plain": [
       "  0%|          | 0/50 [00:00<?, ?it/s]"
      ]
     },
     "metadata": {},
     "output_type": "display_data"
    },
    {
     "name": "stdout",
     "output_type": "stream",
     "text": [
      "config.json\n",
      "torch.float32\n",
      "./saved/5000-0.5/counter/ddpm-sub-52-1000-Ours-42/unet/diffusion_pytorch_model.bin\n",
      "cuda:0\n",
      "DDIM!\n"
     ]
    },
    {
     "data": {
      "application/vnd.jupyter.widget-view+json": {
       "model_id": "b785aaa134554dc3b1ab3fef3f37864f",
       "version_major": 2,
       "version_minor": 0
      },
      "text/plain": [
       "  0%|          | 0/50 [00:00<?, ?it/s]"
      ]
     },
     "metadata": {},
     "output_type": "display_data"
    },
    {
     "name": "stdout",
     "output_type": "stream",
     "text": [
      "53 578\n",
      "config.json\n",
      "torch.float32\n",
      "./saved/5000-0.5/counter/ddpm-sub-53-1000-Random-42/unet/diffusion_pytorch_model.bin\n",
      "cuda:0\n",
      "DDIM!\n"
     ]
    },
    {
     "data": {
      "application/vnd.jupyter.widget-view+json": {
       "model_id": "baa9db4cc5584c6bbac0893f4732fd63",
       "version_major": 2,
       "version_minor": 0
      },
      "text/plain": [
       "  0%|          | 0/50 [00:00<?, ?it/s]"
      ]
     },
     "metadata": {},
     "output_type": "display_data"
    },
    {
     "name": "stdout",
     "output_type": "stream",
     "text": [
      "config.json\n",
      "torch.float32\n",
      "./saved/5000-0.5/counter/ddpm-sub-53-1000-TRAK-42/unet/diffusion_pytorch_model.bin\n",
      "cuda:0\n",
      "DDIM!\n"
     ]
    },
    {
     "data": {
      "application/vnd.jupyter.widget-view+json": {
       "model_id": "b908809e172e4d69948d27957cfdae23",
       "version_major": 2,
       "version_minor": 0
      },
      "text/plain": [
       "  0%|          | 0/50 [00:00<?, ?it/s]"
      ]
     },
     "metadata": {},
     "output_type": "display_data"
    },
    {
     "name": "stdout",
     "output_type": "stream",
     "text": [
      "config.json\n",
      "torch.float32\n",
      "./saved/5000-0.5/counter/ddpm-sub-53-1000-Ours-42/unet/diffusion_pytorch_model.bin\n",
      "cuda:0\n",
      "DDIM!\n"
     ]
    },
    {
     "data": {
      "application/vnd.jupyter.widget-view+json": {
       "model_id": "33fc78ca2e374dc8905104cd42c9d9a4",
       "version_major": 2,
       "version_minor": 0
      },
      "text/plain": [
       "  0%|          | 0/50 [00:00<?, ?it/s]"
      ]
     },
     "metadata": {},
     "output_type": "display_data"
    },
    {
     "name": "stdout",
     "output_type": "stream",
     "text": [
      "54 23\n",
      "config.json\n",
      "torch.float32\n",
      "./saved/5000-0.5/counter/ddpm-sub-54-1000-Random-42/unet/diffusion_pytorch_model.bin\n",
      "cuda:0\n",
      "DDIM!\n"
     ]
    },
    {
     "data": {
      "application/vnd.jupyter.widget-view+json": {
       "model_id": "954bac3250964d97a0d2d7f28c222cf0",
       "version_major": 2,
       "version_minor": 0
      },
      "text/plain": [
       "  0%|          | 0/50 [00:00<?, ?it/s]"
      ]
     },
     "metadata": {},
     "output_type": "display_data"
    },
    {
     "name": "stdout",
     "output_type": "stream",
     "text": [
      "config.json\n",
      "torch.float32\n",
      "./saved/5000-0.5/counter/ddpm-sub-54-1000-TRAK-42/unet/diffusion_pytorch_model.bin\n",
      "cuda:0\n",
      "DDIM!\n"
     ]
    },
    {
     "data": {
      "application/vnd.jupyter.widget-view+json": {
       "model_id": "16517632662e44dcac6f40dc62548e42",
       "version_major": 2,
       "version_minor": 0
      },
      "text/plain": [
       "  0%|          | 0/50 [00:00<?, ?it/s]"
      ]
     },
     "metadata": {},
     "output_type": "display_data"
    },
    {
     "name": "stdout",
     "output_type": "stream",
     "text": [
      "config.json\n",
      "torch.float32\n",
      "./saved/5000-0.5/counter/ddpm-sub-54-1000-Ours-42/unet/diffusion_pytorch_model.bin\n",
      "cuda:0\n",
      "DDIM!\n"
     ]
    },
    {
     "data": {
      "application/vnd.jupyter.widget-view+json": {
       "model_id": "c1467f5858454501883d5ac72a8a9ff9",
       "version_major": 2,
       "version_minor": 0
      },
      "text/plain": [
       "  0%|          | 0/50 [00:00<?, ?it/s]"
      ]
     },
     "metadata": {},
     "output_type": "display_data"
    },
    {
     "name": "stdout",
     "output_type": "stream",
     "text": [
      "55 30\n",
      "config.json\n",
      "torch.float32\n",
      "./saved/5000-0.5/counter/ddpm-sub-55-1000-Random-42/unet/diffusion_pytorch_model.bin\n",
      "cuda:0\n",
      "DDIM!\n"
     ]
    },
    {
     "data": {
      "application/vnd.jupyter.widget-view+json": {
       "model_id": "cf957deb66294d918d121ffcf2503bc9",
       "version_major": 2,
       "version_minor": 0
      },
      "text/plain": [
       "  0%|          | 0/50 [00:00<?, ?it/s]"
      ]
     },
     "metadata": {},
     "output_type": "display_data"
    },
    {
     "name": "stdout",
     "output_type": "stream",
     "text": [
      "config.json\n",
      "torch.float32\n",
      "./saved/5000-0.5/counter/ddpm-sub-55-1000-TRAK-42/unet/diffusion_pytorch_model.bin\n",
      "cuda:0\n",
      "DDIM!\n"
     ]
    },
    {
     "data": {
      "application/vnd.jupyter.widget-view+json": {
       "model_id": "a5aa943f4c26476aa4b99e4972f8832d",
       "version_major": 2,
       "version_minor": 0
      },
      "text/plain": [
       "  0%|          | 0/50 [00:00<?, ?it/s]"
      ]
     },
     "metadata": {},
     "output_type": "display_data"
    },
    {
     "name": "stdout",
     "output_type": "stream",
     "text": [
      "config.json\n",
      "torch.float32\n",
      "./saved/5000-0.5/counter/ddpm-sub-55-1000-Ours-42/unet/diffusion_pytorch_model.bin\n",
      "cuda:0\n",
      "DDIM!\n"
     ]
    },
    {
     "data": {
      "application/vnd.jupyter.widget-view+json": {
       "model_id": "143e3ded24864fd0a23775d42e466538",
       "version_major": 2,
       "version_minor": 0
      },
      "text/plain": [
       "  0%|          | 0/50 [00:00<?, ?it/s]"
      ]
     },
     "metadata": {},
     "output_type": "display_data"
    },
    {
     "name": "stdout",
     "output_type": "stream",
     "text": [
      "56 617\n",
      "config.json\n",
      "torch.float32\n",
      "./saved/5000-0.5/counter/ddpm-sub-56-1000-Random-42/unet/diffusion_pytorch_model.bin\n",
      "cuda:0\n",
      "DDIM!\n"
     ]
    },
    {
     "data": {
      "application/vnd.jupyter.widget-view+json": {
       "model_id": "eac65b7126af4936851b085ddd44c8ee",
       "version_major": 2,
       "version_minor": 0
      },
      "text/plain": [
       "  0%|          | 0/50 [00:00<?, ?it/s]"
      ]
     },
     "metadata": {},
     "output_type": "display_data"
    },
    {
     "name": "stdout",
     "output_type": "stream",
     "text": [
      "config.json\n",
      "torch.float32\n",
      "./saved/5000-0.5/counter/ddpm-sub-56-1000-TRAK-42/unet/diffusion_pytorch_model.bin\n",
      "cuda:0\n",
      "DDIM!\n"
     ]
    },
    {
     "data": {
      "application/vnd.jupyter.widget-view+json": {
       "model_id": "30d681cdf83b4ceca95fb66e44070170",
       "version_major": 2,
       "version_minor": 0
      },
      "text/plain": [
       "  0%|          | 0/50 [00:00<?, ?it/s]"
      ]
     },
     "metadata": {},
     "output_type": "display_data"
    },
    {
     "name": "stdout",
     "output_type": "stream",
     "text": [
      "config.json\n",
      "torch.float32\n",
      "./saved/5000-0.5/counter/ddpm-sub-56-1000-Ours-42/unet/diffusion_pytorch_model.bin\n",
      "cuda:0\n",
      "DDIM!\n"
     ]
    },
    {
     "data": {
      "application/vnd.jupyter.widget-view+json": {
       "model_id": "122d9b9bc82a43c588bfbd17dfa7fa0e",
       "version_major": 2,
       "version_minor": 0
      },
      "text/plain": [
       "  0%|          | 0/50 [00:00<?, ?it/s]"
      ]
     },
     "metadata": {},
     "output_type": "display_data"
    },
    {
     "name": "stdout",
     "output_type": "stream",
     "text": [
      "57 10\n",
      "config.json\n",
      "torch.float32\n",
      "./saved/5000-0.5/counter/ddpm-sub-57-1000-Random-42/unet/diffusion_pytorch_model.bin\n",
      "cuda:0\n",
      "DDIM!\n"
     ]
    },
    {
     "data": {
      "application/vnd.jupyter.widget-view+json": {
       "model_id": "25f6f9d2f8c84f5a9542c654869ddda1",
       "version_major": 2,
       "version_minor": 0
      },
      "text/plain": [
       "  0%|          | 0/50 [00:00<?, ?it/s]"
      ]
     },
     "metadata": {},
     "output_type": "display_data"
    },
    {
     "name": "stdout",
     "output_type": "stream",
     "text": [
      "config.json\n",
      "torch.float32\n",
      "./saved/5000-0.5/counter/ddpm-sub-57-1000-TRAK-42/unet/diffusion_pytorch_model.bin\n",
      "cuda:0\n",
      "DDIM!\n"
     ]
    },
    {
     "data": {
      "application/vnd.jupyter.widget-view+json": {
       "model_id": "88c24f4ef91648d0a9c8502c4bc7fc04",
       "version_major": 2,
       "version_minor": 0
      },
      "text/plain": [
       "  0%|          | 0/50 [00:00<?, ?it/s]"
      ]
     },
     "metadata": {},
     "output_type": "display_data"
    },
    {
     "name": "stdout",
     "output_type": "stream",
     "text": [
      "config.json\n",
      "torch.float32\n",
      "./saved/5000-0.5/counter/ddpm-sub-57-1000-Ours-42/unet/diffusion_pytorch_model.bin\n",
      "cuda:0\n",
      "DDIM!\n"
     ]
    },
    {
     "data": {
      "application/vnd.jupyter.widget-view+json": {
       "model_id": "493592703dfa4dd6a0c9e23b90a59c99",
       "version_major": 2,
       "version_minor": 0
      },
      "text/plain": [
       "  0%|          | 0/50 [00:00<?, ?it/s]"
      ]
     },
     "metadata": {},
     "output_type": "display_data"
    },
    {
     "name": "stdout",
     "output_type": "stream",
     "text": [
      "58 221\n",
      "config.json\n",
      "torch.float32\n",
      "./saved/5000-0.5/counter/ddpm-sub-58-1000-Random-42/unet/diffusion_pytorch_model.bin\n",
      "cuda:0\n",
      "DDIM!\n"
     ]
    },
    {
     "data": {
      "application/vnd.jupyter.widget-view+json": {
       "model_id": "64b88422cfd14cbaad237207d238f7e2",
       "version_major": 2,
       "version_minor": 0
      },
      "text/plain": [
       "  0%|          | 0/50 [00:00<?, ?it/s]"
      ]
     },
     "metadata": {},
     "output_type": "display_data"
    },
    {
     "name": "stdout",
     "output_type": "stream",
     "text": [
      "config.json\n",
      "torch.float32\n",
      "./saved/5000-0.5/counter/ddpm-sub-58-1000-TRAK-42/unet/diffusion_pytorch_model.bin\n",
      "cuda:0\n",
      "DDIM!\n"
     ]
    },
    {
     "data": {
      "application/vnd.jupyter.widget-view+json": {
       "model_id": "e0ab1b004fb4464c99f1b5263054a10f",
       "version_major": 2,
       "version_minor": 0
      },
      "text/plain": [
       "  0%|          | 0/50 [00:00<?, ?it/s]"
      ]
     },
     "metadata": {},
     "output_type": "display_data"
    },
    {
     "name": "stdout",
     "output_type": "stream",
     "text": [
      "config.json\n",
      "torch.float32\n",
      "./saved/5000-0.5/counter/ddpm-sub-58-1000-Ours-42/unet/diffusion_pytorch_model.bin\n",
      "cuda:0\n",
      "DDIM!\n"
     ]
    },
    {
     "data": {
      "application/vnd.jupyter.widget-view+json": {
       "model_id": "c1697cf31f474f9bae4e27149cf5f27d",
       "version_major": 2,
       "version_minor": 0
      },
      "text/plain": [
       "  0%|          | 0/50 [00:00<?, ?it/s]"
      ]
     },
     "metadata": {},
     "output_type": "display_data"
    },
    {
     "name": "stdout",
     "output_type": "stream",
     "text": [
      "59 820\n",
      "config.json\n",
      "torch.float32\n",
      "./saved/5000-0.5/counter/ddpm-sub-59-1000-Random-42/unet/diffusion_pytorch_model.bin\n",
      "cuda:0\n",
      "DDIM!\n"
     ]
    },
    {
     "data": {
      "application/vnd.jupyter.widget-view+json": {
       "model_id": "2399ecbe642544ce91650138b44ee683",
       "version_major": 2,
       "version_minor": 0
      },
      "text/plain": [
       "  0%|          | 0/50 [00:00<?, ?it/s]"
      ]
     },
     "metadata": {},
     "output_type": "display_data"
    },
    {
     "name": "stdout",
     "output_type": "stream",
     "text": [
      "config.json\n",
      "torch.float32\n",
      "./saved/5000-0.5/counter/ddpm-sub-59-1000-TRAK-42/unet/diffusion_pytorch_model.bin\n",
      "cuda:0\n",
      "DDIM!\n"
     ]
    },
    {
     "data": {
      "application/vnd.jupyter.widget-view+json": {
       "model_id": "9f406598baa349428bca0be075dd9349",
       "version_major": 2,
       "version_minor": 0
      },
      "text/plain": [
       "  0%|          | 0/50 [00:00<?, ?it/s]"
      ]
     },
     "metadata": {},
     "output_type": "display_data"
    },
    {
     "name": "stdout",
     "output_type": "stream",
     "text": [
      "config.json\n",
      "torch.float32\n",
      "./saved/5000-0.5/counter/ddpm-sub-59-1000-Ours-42/unet/diffusion_pytorch_model.bin\n",
      "cuda:0\n",
      "DDIM!\n"
     ]
    },
    {
     "data": {
      "application/vnd.jupyter.widget-view+json": {
       "model_id": "1938b04fed884a87a1a5b4ac83c7ae75",
       "version_major": 2,
       "version_minor": 0
      },
      "text/plain": [
       "  0%|          | 0/50 [00:00<?, ?it/s]"
      ]
     },
     "metadata": {},
     "output_type": "display_data"
    }
   ],
   "source": [
    "index_image_list = []\n",
    "for index, my_i in enumerate(test_index):\n",
    "        \n",
    "    print(index, my_i)\n",
    "    k_image_list = []\n",
    "    for k in [\n",
    "        1000\n",
    "    ]:\n",
    "        method_image_list = []\n",
    "        for method in ['Random', 'TRAK', 'Ours']:\n",
    "            # If passed along, set the training seed now.\n",
    "            if args.seed is not None:\n",
    "                set_seeds(args.seed)\n",
    "            ####    \n",
    "            print(args.model_config_name_or_path)\n",
    "            config = UNet2DModel.load_config(args.model_config_name_or_path)\n",
    "            config['resnet_time_scale_shift'] = 'scale_shift'\n",
    "                \n",
    "            model = UNet2DModel.from_config(config)\n",
    "            print(model.dtype)\n",
    "            ####\n",
    "            noise_scheduler = DDPMScheduler(num_train_timesteps=args.ddpm_num_steps, beta_schedule=args.ddpm_beta_schedule)\n",
    "            ddim_noise_scheduler = DDIMScheduler.from_config(noise_scheduler.config)\n",
    "            ####    \n",
    "            args.model_path = \"./saved/5000-0.5/counter/ddpm-sub-{}-{}-{}-42\".format(index, k, method)\n",
    "            model_path = '{}/unet/diffusion_pytorch_model.bin'.format(args.model_path)\n",
    "            print(model_path)\n",
    "            model.load_state_dict(torch.load(model_path))\n",
    "            model.cuda()\n",
    "            model.eval()\n",
    "    ####\n",
    "            set_seeds(42)\n",
    "            pipeline = DDIMPipeline(\n",
    "                unet=model,\n",
    "                scheduler=noise_scheduler,\n",
    "            ).to('cuda')\n",
    "            print(pipeline.device)\n",
    "            print('DDIM!')\n",
    "            \n",
    "            generator = [torch.Generator('cpu').manual_seed(my_i)]\n",
    "                    \n",
    "            images = pipeline(\n",
    "                        generator=generator,\n",
    "                        batch_size=1,\n",
    "                        num_inference_steps=50,\n",
    "                        output_type=\"numpy\",\n",
    "                        eta=0.0,\n",
    "            ).images\n",
    "            images = pipeline.numpy_to_pil(images)\n",
    "        \n",
    "            method_image_list.append(images[0])\n",
    "        k_image_list.append(method_image_list)\n",
    "    index_image_list.append(k_image_list)"
   ]
  },
  {
   "cell_type": "code",
   "execution_count": null,
   "id": "6e7ec7ce-d988-4b88-935b-db4e48dcfc71",
   "metadata": {},
   "outputs": [],
   "source": []
  },
  {
   "cell_type": "code",
   "execution_count": 9,
   "id": "e1d91bf6-3750-49de-b782-c6018d1721dd",
   "metadata": {},
   "outputs": [],
   "source": [
    "with open(\"./counter/saved.pkl\", 'wb') as handle:\n",
    "    pickle.dump(index_image_list, handle)"
   ]
  },
  {
   "cell_type": "code",
   "execution_count": null,
   "id": "df86fcb8-af99-499e-83f9-b60d74b7acc0",
   "metadata": {},
   "outputs": [],
   "source": []
  },
  {
   "cell_type": "code",
   "execution_count": null,
   "id": "6e6287de-5e8e-4c7f-8714-d307f1e0a27f",
   "metadata": {},
   "outputs": [],
   "source": []
  },
  {
   "cell_type": "code",
   "execution_count": null,
   "id": "00ca9848-98bf-4019-85a5-70c7bbbe0308",
   "metadata": {},
   "outputs": [],
   "source": []
  }
 ],
 "metadata": {
  "kernelspec": {
   "display_name": "Python 3 (ipykernel)",
   "language": "python",
   "name": "python3"
  },
  "language_info": {
   "codemirror_mode": {
    "name": "ipython",
    "version": 3
   },
   "file_extension": ".py",
   "mimetype": "text/x-python",
   "name": "python",
   "nbconvert_exporter": "python",
   "pygments_lexer": "ipython3",
   "version": "3.8.10"
  }
 },
 "nbformat": 4,
 "nbformat_minor": 5
}
