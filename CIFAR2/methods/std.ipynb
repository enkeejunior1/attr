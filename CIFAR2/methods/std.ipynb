{
 "cells": [
  {
   "cell_type": "code",
   "execution_count": 1,
   "id": "8b66521a-f880-4ee0-991e-3a994dc75fca",
   "metadata": {},
   "outputs": [],
   "source": [
    "import pickle"
   ]
  },
  {
   "cell_type": "code",
   "execution_count": 19,
   "id": "a5afbcc7-acfb-46a5-9774-efcb039024c7",
   "metadata": {},
   "outputs": [
    {
     "name": "stdout",
     "output_type": "stream",
     "text": [
      "0.039\n",
      "0.059\n",
      "4.89\n",
      "0.58\n",
      "\n",
      "0.045\n",
      "0.065\n",
      "5.44\n",
      "0.57\n",
      "\n"
     ]
    }
   ],
   "source": [
    "with open('./-1_raw/gen_res_list.pkl', 'rb') as handle:\n",
    "    gen_res_list = pickle.load(handle)\n",
    "for res in gen_res_list:\n",
    "    print(f'{res[0]:.3f}')\n",
    "    print(f'{res[1]:.3f}')\n",
    "    \n",
    "    print(f'{res[2].mean()*100:.2f}')\n",
    "    print(f'{res[2].std()*100:.2f}')\n",
    "\n",
    "    print()"
   ]
  },
  {
   "cell_type": "code",
   "execution_count": 21,
   "id": "eda6be2e-68ca-43ec-86e9-140cd692291f",
   "metadata": {},
   "outputs": [
    {
     "name": "stdout",
     "output_type": "stream",
     "text": [
      "0.069\n",
      "0.092\n",
      "7.77\n",
      "0.57\n",
      "\n",
      "0.068\n",
      "0.089\n",
      "7.87\n",
      "0.57\n",
      "\n"
     ]
    }
   ],
   "source": [
    "with open('./-1_raw/val_res_list.pkl', 'rb') as handle:\n",
    "    val_res_list = pickle.load(handle)\n",
    "for res in val_res_list:\n",
    "    print(f'{res[0]:.3f}')\n",
    "    print(f'{res[1]:.3f}')\n",
    "\n",
    "    print(f'{res[2].mean()*100:.2f}')\n",
    "    print(f'{res[2].std()*100:.2f}')\n",
    "\n",
    "    print()"
   ]
  },
  {
   "cell_type": "code",
   "execution_count": null,
   "id": "d2a9b48d-2f03-48a5-9a93-ae5673cc3313",
   "metadata": {},
   "outputs": [],
   "source": []
  },
  {
   "cell_type": "code",
   "execution_count": 17,
   "id": "68fe9d57-8ee1-4c53-ab27-4f2c48846090",
   "metadata": {},
   "outputs": [
    {
     "name": "stdout",
     "output_type": "stream",
     "text": [
      "0.020\n",
      "0.056\n",
      "3.00\n",
      "0.95\n",
      "\n",
      "0.028\n",
      "0.063\n",
      "4.01\n",
      "0.85\n",
      "\n"
     ]
    }
   ],
   "source": [
    "with open('./00_clip/gen_res_list.pkl', 'rb') as handle:\n",
    "    gen_res_list = pickle.load(handle)\n",
    "for res in gen_res_list:\n",
    "    print(f'{res[0]:.3f}')\n",
    "    print(f'{res[1]:.3f}')\n",
    "    \n",
    "    print(f'{res[2].mean()*100:.2f}')\n",
    "    print(f'{res[2].std()*100:.2f}')\n",
    "\n",
    "    print()"
   ]
  },
  {
   "cell_type": "code",
   "execution_count": 18,
   "id": "be22b5ad-d728-492c-90e7-46ea9563181e",
   "metadata": {},
   "outputs": [
    {
     "name": "stdout",
     "output_type": "stream",
     "text": [
      "0.049\n",
      "0.087\n",
      "6.51\n",
      "1.06\n",
      "\n",
      "0.069\n",
      "0.105\n",
      "8.54\n",
      "1.01\n",
      "\n"
     ]
    }
   ],
   "source": [
    "with open('./00_clip/val_res_list.pkl', 'rb') as handle:\n",
    "    val_res_list = pickle.load(handle)\n",
    "for res in val_res_list:\n",
    "    print(f'{res[0]:.3f}')\n",
    "    print(f'{res[1]:.3f}')\n",
    "\n",
    "    print(f'{res[2].mean()*100:.2f}')\n",
    "    print(f'{res[2].std()*100:.2f}')\n",
    "\n",
    "    print()"
   ]
  },
  {
   "cell_type": "code",
   "execution_count": null,
   "id": "fd569a84-05f4-4993-8154-5f34f5fcb424",
   "metadata": {},
   "outputs": [],
   "source": []
  },
  {
   "cell_type": "code",
   "execution_count": 2,
   "id": "c6487dc6-bc9d-4578-8d3d-b28b3beaf1eb",
   "metadata": {
    "scrolled": true
   },
   "outputs": [
    {
     "name": "stdout",
     "output_type": "stream",
     "text": [
      "0.020\n",
      "0.039\n",
      "2.80\n",
      "0.55\n",
      "\n",
      "0.029\n",
      "0.046\n",
      "4.03\n",
      "0.51\n",
      "\n",
      "0.029\n",
      "0.052\n",
      "3.76\n",
      "0.61\n",
      "\n",
      "0.027\n",
      "0.051\n",
      "3.70\n",
      "0.66\n",
      "\n",
      "0.020\n",
      "0.038\n",
      "2.78\n",
      "0.54\n",
      "\n",
      "0.028\n",
      "0.045\n",
      "3.92\n",
      "0.49\n",
      "\n",
      "0.025\n",
      "0.045\n",
      "3.34\n",
      "0.56\n",
      "\n",
      "0.019\n",
      "0.042\n",
      "3.30\n",
      "0.68\n",
      "\n"
     ]
    }
   ],
   "source": [
    "with open('./01_tracin/gen_res_list.pkl', 'rb') as handle:\n",
    "    gen_res_list = pickle.load(handle)\n",
    "for res in gen_res_list:\n",
    "    print(f'{res[0]:.3f}')\n",
    "    print(f'{res[1]:.3f}')\n",
    "    \n",
    "    print(f'{res[2].mean()*100:.2f}')\n",
    "    print(f'{res[2].std()*100:.2f}')\n",
    "\n",
    "    print()"
   ]
  },
  {
   "cell_type": "code",
   "execution_count": null,
   "id": "8011656a-a074-4db8-8859-2c0da4c074d7",
   "metadata": {},
   "outputs": [],
   "source": []
  },
  {
   "cell_type": "code",
   "execution_count": 3,
   "id": "0f369389-34b1-4c6b-934b-e1c75b8d74b3",
   "metadata": {},
   "outputs": [
    {
     "name": "stdout",
     "output_type": "stream",
     "text": [
      "0.040\n",
      "0.061\n",
      "5.14\n",
      "0.60\n",
      "\n",
      "0.042\n",
      "0.060\n",
      "5.07\n",
      "0.55\n",
      "\n",
      "0.051\n",
      "0.081\n",
      "6.26\n",
      "0.84\n",
      "\n",
      "0.042\n",
      "0.072\n",
      "5.47\n",
      "0.87\n",
      "\n",
      "0.040\n",
      "0.061\n",
      "5.08\n",
      "0.59\n",
      "\n",
      "0.040\n",
      "0.057\n",
      "4.89\n",
      "0.50\n",
      "\n",
      "0.046\n",
      "0.075\n",
      "5.78\n",
      "0.82\n",
      "\n",
      "0.038\n",
      "0.066\n",
      "5.15\n",
      "0.87\n",
      "\n"
     ]
    }
   ],
   "source": [
    "with open('./01_tracin/val_res_list.pkl', 'rb') as handle:\n",
    "    val_res_list = pickle.load(handle)\n",
    "for res in val_res_list:\n",
    "    print(f'{res[0]:.3f}')\n",
    "    print(f'{res[1]:.3f}')\n",
    "\n",
    "    print(f'{res[2].mean()*100:.2f}')\n",
    "    print(f'{res[2].std()*100:.2f}')\n",
    "\n",
    "    print()"
   ]
  },
  {
   "cell_type": "code",
   "execution_count": null,
   "id": "a2970fd4-db99-45c4-be95-62ad85a25419",
   "metadata": {},
   "outputs": [],
   "source": []
  },
  {
   "cell_type": "code",
   "execution_count": null,
   "id": "6d5d6355-87e1-4966-8bff-440e7f74d147",
   "metadata": {},
   "outputs": [],
   "source": []
  },
  {
   "cell_type": "code",
   "execution_count": 4,
   "id": "ca60059f-5d87-43e6-9105-6c0beb3c4f16",
   "metadata": {},
   "outputs": [
    {
     "name": "stdout",
     "output_type": "stream",
     "text": [
      "0.050\n",
      "0.067\n",
      "5.86\n",
      "0.48\n",
      "\n",
      "0.157\n",
      "0.168\n",
      "15.91\n",
      "0.39\n",
      "\n"
     ]
    }
   ],
   "source": [
    "with open('./02_relative_if/gen_res_list.pkl', 'rb') as handle:\n",
    "    gen_res_list = pickle.load(handle)\n",
    "for res in gen_res_list:\n",
    "    print(f'{res[0]:.3f}')\n",
    "    print(f'{res[1]:.3f}')\n",
    "    \n",
    "    print(f'{res[2].mean()*100:.2f}')\n",
    "    print(f'{res[2].std()*100:.2f}')\n",
    "\n",
    "    print()"
   ]
  },
  {
   "cell_type": "code",
   "execution_count": 5,
   "id": "f350432a-7b27-4931-8f58-51056d30be23",
   "metadata": {},
   "outputs": [
    {
     "name": "stdout",
     "output_type": "stream",
     "text": [
      "0.103\n",
      "0.121\n",
      "11.20\n",
      "0.51\n",
      "\n",
      "0.234\n",
      "0.245\n",
      "23.43\n",
      "0.46\n",
      "\n"
     ]
    }
   ],
   "source": [
    "with open('./02_relative_if/val_res_list.pkl', 'rb') as handle:\n",
    "    val_res_list = pickle.load(handle)\n",
    "for res in val_res_list:\n",
    "    print(f'{res[0]:.3f}')\n",
    "    print(f'{res[1]:.3f}')\n",
    "\n",
    "    print(f'{res[2].mean()*100:.2f}')\n",
    "    print(f'{res[2].std()*100:.2f}')\n",
    "\n",
    "    print()"
   ]
  },
  {
   "cell_type": "code",
   "execution_count": null,
   "id": "c9c22d09-d711-4b94-9e62-ad836f141e98",
   "metadata": {},
   "outputs": [],
   "source": []
  },
  {
   "cell_type": "code",
   "execution_count": null,
   "id": "271044dc-3738-4ec4-b39d-bbf0a830faee",
   "metadata": {},
   "outputs": [],
   "source": []
  },
  {
   "cell_type": "code",
   "execution_count": 6,
   "id": "1550fb80-0c3c-4453-9d37-8e63204ed703",
   "metadata": {},
   "outputs": [
    {
     "name": "stdout",
     "output_type": "stream",
     "text": [
      "0.049\n",
      "0.065\n",
      "5.69\n",
      "0.45\n",
      "\n",
      "0.145\n",
      "0.156\n",
      "14.65\n",
      "0.37\n",
      "\n"
     ]
    }
   ],
   "source": [
    "with open('./03_norm_if/gen_res_list.pkl', 'rb') as handle:\n",
    "    gen_res_list = pickle.load(handle)\n",
    "for res in gen_res_list:\n",
    "    print(f'{res[0]:.3f}')\n",
    "    print(f'{res[1]:.3f}')\n",
    "    \n",
    "    print(f'{res[2].mean()*100:.2f}')\n",
    "    print(f'{res[2].std()*100:.2f}')\n",
    "\n",
    "    print()"
   ]
  },
  {
   "cell_type": "code",
   "execution_count": 7,
   "id": "c75f2477-6ea4-47eb-aaae-053b0ef3393c",
   "metadata": {},
   "outputs": [
    {
     "name": "stdout",
     "output_type": "stream",
     "text": [
      "0.101\n",
      "0.117\n",
      "10.89\n",
      "0.46\n",
      "\n",
      "0.214\n",
      "0.224\n",
      "21.46\n",
      "0.42\n",
      "\n"
     ]
    }
   ],
   "source": [
    "with open('./03_norm_if/val_res_list.pkl', 'rb') as handle:\n",
    "    val_res_list = pickle.load(handle)\n",
    "for res in val_res_list:\n",
    "    print(f'{res[0]:.3f}')\n",
    "    print(f'{res[1]:.3f}')\n",
    "\n",
    "    print(f'{res[2].mean()*100:.2f}')\n",
    "    print(f'{res[2].std()*100:.2f}')\n",
    "\n",
    "    print()"
   ]
  },
  {
   "cell_type": "code",
   "execution_count": null,
   "id": "2bfd6f51-36b1-4ec8-9cad-58847fc0af2d",
   "metadata": {},
   "outputs": [],
   "source": []
  },
  {
   "cell_type": "code",
   "execution_count": null,
   "id": "bb9d6566-469e-4643-8420-0b4b91b7730b",
   "metadata": {},
   "outputs": [],
   "source": []
  },
  {
   "cell_type": "code",
   "execution_count": 8,
   "id": "fa09e695-eebb-4082-a648-3875082a5377",
   "metadata": {},
   "outputs": [
    {
     "name": "stdout",
     "output_type": "stream",
     "text": [
      "0.049\n",
      "0.067\n",
      "5.78\n",
      "0.48\n",
      "\n",
      "0.157\n",
      "0.168\n",
      "15.87\n",
      "0.39\n",
      "\n",
      "0.185\n",
      "0.196\n",
      "18.82\n",
      "0.43\n",
      "\n",
      "0.254\n",
      "0.265\n",
      "25.67\n",
      "0.40\n",
      "\n"
     ]
    }
   ],
   "source": [
    "with open('./04_if/gen_res_list.pkl', 'rb') as handle:\n",
    "    gen_res_list = pickle.load(handle)\n",
    "for res in gen_res_list:\n",
    "    print(f'{res[0]:.3f}')\n",
    "    print(f'{res[1]:.3f}')\n",
    "    \n",
    "    print(f'{res[2].mean()*100:.2f}')\n",
    "    print(f'{res[2].std()*100:.2f}')\n",
    "\n",
    "    print()"
   ]
  },
  {
   "cell_type": "code",
   "execution_count": 9,
   "id": "7a0d5255-9d37-4e3b-93d0-1ec7050dee47",
   "metadata": {},
   "outputs": [
    {
     "name": "stdout",
     "output_type": "stream",
     "text": [
      "0.106\n",
      "0.124\n",
      "11.42\n",
      "0.49\n",
      "\n",
      "0.236\n",
      "0.247\n",
      "23.59\n",
      "0.46\n",
      "\n",
      "0.271\n",
      "0.275\n",
      "26.79\n",
      "0.33\n",
      "\n",
      "0.339\n",
      "0.345\n",
      "33.74\n",
      "0.37\n",
      "\n"
     ]
    }
   ],
   "source": [
    "with open('./04_if/val_res_list.pkl', 'rb') as handle:\n",
    "    val_res_list = pickle.load(handle)\n",
    "for res in val_res_list:\n",
    "    print(f'{res[0]:.3f}')\n",
    "    print(f'{res[1]:.3f}')\n",
    "\n",
    "    print(f'{res[2].mean()*100:.2f}')\n",
    "    print(f'{res[2].std()*100:.2f}')\n",
    "\n",
    "    print()"
   ]
  },
  {
   "cell_type": "code",
   "execution_count": null,
   "id": "26f8d08b-c3ac-4b98-8e6e-5f73e35b61f4",
   "metadata": {},
   "outputs": [],
   "source": []
  },
  {
   "cell_type": "code",
   "execution_count": null,
   "id": "14a2a9ab-d346-4aec-a61c-f434b0ee18d4",
   "metadata": {},
   "outputs": [],
   "source": []
  },
  {
   "cell_type": "code",
   "execution_count": 10,
   "id": "6a899de5-ade7-4016-a1de-fcfeb9a7e5c1",
   "metadata": {},
   "outputs": [
    {
     "name": "stdout",
     "output_type": "stream",
     "text": [
      "0.065\n",
      "0.090\n",
      "7.73\n",
      "0.65\n",
      "\n",
      "0.117\n",
      "0.132\n",
      "12.21\n",
      "0.46\n",
      "\n"
     ]
    }
   ],
   "source": [
    "with open('./09_workshop/gen_res_list.pkl', 'rb') as handle:\n",
    "    gen_res_list = pickle.load(handle)\n",
    "for res in gen_res_list:\n",
    "    print(f'{res[0]:.3f}')\n",
    "    print(f'{res[1]:.3f}')\n",
    "    \n",
    "    print(f'{res[2].mean()*100:.2f}')\n",
    "    print(f'{res[2].std()*100:.2f}')\n",
    "\n",
    "    print()"
   ]
  },
  {
   "cell_type": "code",
   "execution_count": null,
   "id": "d4810786-55a7-42a5-979d-5bc202a6c2c4",
   "metadata": {},
   "outputs": [],
   "source": []
  },
  {
   "cell_type": "code",
   "execution_count": null,
   "id": "f1d12d79-893f-4db3-af90-9d2db867802a",
   "metadata": {},
   "outputs": [],
   "source": []
  },
  {
   "cell_type": "code",
   "execution_count": null,
   "id": "eb52f4ce-0b56-4d29-96ed-9b852d95e9a7",
   "metadata": {},
   "outputs": [],
   "source": []
  },
  {
   "cell_type": "code",
   "execution_count": 11,
   "id": "2c954952-1e12-4b8b-a308-34fe4f4b1e69",
   "metadata": {
    "scrolled": true
   },
   "outputs": [
    {
     "name": "stdout",
     "output_type": "stream",
     "text": [
      "0.064\n",
      "0.078\n",
      "6.91\n",
      "0.44\n",
      "\n",
      "0.065\n",
      "0.079\n",
      "7.00\n",
      "0.41\n",
      "\n",
      "0.066\n",
      "0.080\n",
      "7.08\n",
      "0.41\n",
      "\n",
      "0.067\n",
      "0.080\n",
      "7.13\n",
      "0.41\n",
      "\n",
      "0.189\n",
      "0.200\n",
      "18.90\n",
      "0.47\n",
      "\n",
      "0.199\n",
      "0.212\n",
      "20.05\n",
      "0.49\n",
      "\n",
      "0.205\n",
      "0.215\n",
      "20.59\n",
      "0.46\n",
      "\n",
      "0.209\n",
      "0.217\n",
      "20.82\n",
      "0.44\n",
      "\n",
      "0.171\n",
      "0.188\n",
      "17.50\n",
      "0.43\n",
      "\n",
      "0.190\n",
      "0.205\n",
      "19.23\n",
      "0.42\n",
      "\n",
      "0.199\n",
      "0.212\n",
      "20.12\n",
      "0.41\n",
      "\n",
      "0.205\n",
      "0.220\n",
      "20.67\n",
      "0.41\n",
      "\n",
      "0.250\n",
      "0.257\n",
      "24.92\n",
      "0.42\n",
      "\n",
      "0.265\n",
      "0.273\n",
      "26.61\n",
      "0.43\n",
      "\n",
      "0.273\n",
      "0.281\n",
      "27.30\n",
      "0.45\n",
      "\n",
      "0.277\n",
      "0.286\n",
      "27.75\n",
      "0.43\n",
      "\n"
     ]
    }
   ],
   "source": [
    "with open('./06_ensemble/gen_res_list.pkl', 'rb') as handle:\n",
    "    gen_res_list = pickle.load(handle)\n",
    "for res in gen_res_list:\n",
    "    print(f'{res[0]:.3f}')\n",
    "    print(f'{res[1]:.3f}')\n",
    "    \n",
    "    print(f'{res[2].mean()*100:.2f}')\n",
    "    print(f'{res[2].std()*100:.2f}')\n",
    "\n",
    "    print()"
   ]
  },
  {
   "cell_type": "code",
   "execution_count": 12,
   "id": "6474ceb0-a05e-4b8e-8f61-da9bde0243b2",
   "metadata": {
    "scrolled": true
   },
   "outputs": [
    {
     "name": "stdout",
     "output_type": "stream",
     "text": [
      "0.123\n",
      "0.138\n",
      "12.85\n",
      "0.41\n",
      "\n",
      "0.126\n",
      "0.142\n",
      "13.19\n",
      "0.43\n",
      "\n",
      "0.128\n",
      "0.143\n",
      "13.27\n",
      "0.43\n",
      "\n",
      "0.128\n",
      "0.143\n",
      "13.36\n",
      "0.42\n",
      "\n",
      "0.258\n",
      "0.265\n",
      "25.71\n",
      "0.37\n",
      "\n",
      "0.272\n",
      "0.279\n",
      "27.12\n",
      "0.38\n",
      "\n",
      "0.279\n",
      "0.285\n",
      "27.77\n",
      "0.36\n",
      "\n",
      "0.283\n",
      "0.287\n",
      "28.07\n",
      "0.32\n",
      "\n",
      "0.254\n",
      "0.265\n",
      "25.52\n",
      "0.43\n",
      "\n",
      "0.274\n",
      "0.283\n",
      "27.29\n",
      "0.43\n",
      "\n",
      "0.280\n",
      "0.290\n",
      "27.98\n",
      "0.43\n",
      "\n",
      "0.286\n",
      "0.295\n",
      "28.59\n",
      "0.43\n",
      "\n",
      "0.327\n",
      "0.328\n",
      "32.26\n",
      "0.28\n",
      "\n",
      "0.343\n",
      "0.346\n",
      "34.09\n",
      "0.32\n",
      "\n",
      "0.353\n",
      "0.354\n",
      "34.88\n",
      "0.31\n",
      "\n",
      "0.358\n",
      "0.360\n",
      "35.42\n",
      "0.33\n",
      "\n"
     ]
    }
   ],
   "source": [
    "with open('./06_ensemble/val_res_list.pkl', 'rb') as handle:\n",
    "    val_res_list = pickle.load(handle)\n",
    "for res in val_res_list:\n",
    "    print(f'{res[0]:.3f}')\n",
    "    print(f'{res[1]:.3f}')\n",
    "\n",
    "    print(f'{res[2].mean()*100:.2f}')\n",
    "    print(f'{res[2].std()*100:.2f}')\n",
    "\n",
    "    print()"
   ]
  },
  {
   "cell_type": "code",
   "execution_count": null,
   "id": "08c07c1a-e686-4f2c-8691-d192a7583d08",
   "metadata": {},
   "outputs": [],
   "source": []
  },
  {
   "cell_type": "code",
   "execution_count": null,
   "id": "d285dc46-f20f-42ed-837b-524c9fa317bb",
   "metadata": {},
   "outputs": [],
   "source": []
  },
  {
   "cell_type": "code",
   "execution_count": 13,
   "id": "67b77b1f-0731-480b-b7f0-5e62992143ac",
   "metadata": {},
   "outputs": [
    {
     "name": "stdout",
     "output_type": "stream",
     "text": [
      "0.033\n",
      "0.050\n",
      "4.12\n",
      "0.46\n",
      "\n",
      "0.054\n",
      "0.070\n",
      "6.10\n",
      "0.43\n",
      "\n",
      "0.089\n",
      "0.106\n",
      "9.47\n",
      "0.55\n",
      "\n",
      "0.126\n",
      "0.142\n",
      "12.97\n",
      "0.47\n",
      "\n"
     ]
    }
   ],
   "source": [
    "with open('./07_emp_infl/gen_res_list.pkl', 'rb') as handle:\n",
    "    gen_res_list = pickle.load(handle)\n",
    "for res in gen_res_list:\n",
    "    print(f'{res[0]:.3f}')\n",
    "    print(f'{res[1]:.3f}')\n",
    "    \n",
    "    print(f'{res[2].mean()*100:.2f}')\n",
    "    print(f'{res[2].std()*100:.2f}')\n",
    "\n",
    "    print()"
   ]
  },
  {
   "cell_type": "code",
   "execution_count": 14,
   "id": "7c30e8f0-13a6-4b83-806f-429876ad7d96",
   "metadata": {},
   "outputs": [
    {
     "name": "stdout",
     "output_type": "stream",
     "text": [
      "0.051\n",
      "0.072\n",
      "6.00\n",
      "0.50\n",
      "\n",
      "0.084\n",
      "0.097\n",
      "8.83\n",
      "0.43\n",
      "\n",
      "0.118\n",
      "0.133\n",
      "12.17\n",
      "0.47\n",
      "\n",
      "0.163\n",
      "0.182\n",
      "16.69\n",
      "0.51\n",
      "\n"
     ]
    }
   ],
   "source": [
    "with open('./07_emp_infl/val_res_list.pkl', 'rb') as handle:\n",
    "    val_res_list = pickle.load(handle)\n",
    "for res in val_res_list:\n",
    "    print(f'{res[0]:.3f}')\n",
    "    print(f'{res[1]:.3f}')\n",
    "\n",
    "    print(f'{res[2].mean()*100:.2f}')\n",
    "    print(f'{res[2].std()*100:.2f}')\n",
    "\n",
    "    print()"
   ]
  },
  {
   "cell_type": "code",
   "execution_count": null,
   "id": "4d8aa0ad-e69f-4aa3-a72a-7bfc36d12337",
   "metadata": {},
   "outputs": [],
   "source": []
  },
  {
   "cell_type": "code",
   "execution_count": null,
   "id": "16aaf81d-5642-446d-8da2-7a581d33fb59",
   "metadata": {},
   "outputs": [],
   "source": []
  },
  {
   "cell_type": "code",
   "execution_count": 15,
   "id": "fb58e477-45f7-45ce-8498-950f3c7e1bcc",
   "metadata": {},
   "outputs": [
    {
     "name": "stdout",
     "output_type": "stream",
     "text": [
      "0.032\n",
      "0.049\n",
      "4.08\n",
      "0.45\n",
      "\n",
      "0.054\n",
      "0.071\n",
      "6.08\n",
      "0.45\n",
      "\n",
      "0.089\n",
      "0.107\n",
      "9.55\n",
      "0.54\n",
      "\n",
      "0.124\n",
      "0.138\n",
      "12.81\n",
      "0.41\n",
      "\n"
     ]
    }
   ],
   "source": [
    "with open('./08_datamodel/gen_res_list.pkl', 'rb') as handle:\n",
    "    gen_res_list = pickle.load(handle)\n",
    "for res in gen_res_list:\n",
    "    print(f'{res[0]:.3f}')\n",
    "    print(f'{res[1]:.3f}')\n",
    "    \n",
    "    print(f'{res[2].mean()*100:.2f}')\n",
    "    print(f'{res[2].std()*100:.2f}')\n",
    "\n",
    "    print()"
   ]
  },
  {
   "cell_type": "code",
   "execution_count": 16,
   "id": "ae592568-e298-4a13-a363-e0f75bc60c84",
   "metadata": {},
   "outputs": [
    {
     "name": "stdout",
     "output_type": "stream",
     "text": [
      "0.052\n",
      "0.072\n",
      "5.99\n",
      "0.50\n",
      "\n",
      "0.083\n",
      "0.098\n",
      "8.86\n",
      "0.44\n",
      "\n",
      "0.120\n",
      "0.133\n",
      "12.25\n",
      "0.46\n",
      "\n",
      "0.167\n",
      "0.182\n",
      "16.94\n",
      "0.50\n",
      "\n"
     ]
    }
   ],
   "source": [
    "with open('./08_datamodel/val_res_list.pkl', 'rb') as handle:\n",
    "    val_res_list = pickle.load(handle)\n",
    "for res in val_res_list:\n",
    "    print(f'{res[0]:.3f}')\n",
    "    print(f'{res[1]:.3f}')\n",
    "\n",
    "    print(f'{res[2].mean()*100:.2f}')\n",
    "    print(f'{res[2].std()*100:.2f}')\n",
    "\n",
    "    print()"
   ]
  },
  {
   "cell_type": "code",
   "execution_count": null,
   "id": "966d5bf7-1592-4986-b64e-0082897681cc",
   "metadata": {},
   "outputs": [],
   "source": []
  }
 ],
 "metadata": {
  "kernelspec": {
   "display_name": "Python 3 (ipykernel)",
   "language": "python",
   "name": "python3"
  },
  "language_info": {
   "codemirror_mode": {
    "name": "ipython",
    "version": 3
   },
   "file_extension": ".py",
   "mimetype": "text/x-python",
   "name": "python",
   "nbconvert_exporter": "python",
   "pygments_lexer": "ipython3",
   "version": "3.8.10"
  }
 },
 "nbformat": 4,
 "nbformat_minor": 5
}
