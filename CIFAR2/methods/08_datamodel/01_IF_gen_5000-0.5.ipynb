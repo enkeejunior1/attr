{
 "cells": [
  {
   "cell_type": "code",
   "execution_count": null,
   "id": "31e0858d-12e5-4eaf-8cc3-f461d2aff756",
   "metadata": {},
   "outputs": [],
   "source": []
  },
  {
   "cell_type": "code",
   "execution_count": null,
   "id": "974ba093-b42b-4ee9-a8c0-cd79d161435c",
   "metadata": {},
   "outputs": [],
   "source": []
  },
  {
   "cell_type": "code",
   "execution_count": null,
   "id": "8c2f5efb-631c-4083-84ae-dc219c6a75a1",
   "metadata": {},
   "outputs": [],
   "source": []
  },
  {
   "cell_type": "code",
   "execution_count": null,
   "id": "fde1d3d3-3ae3-4194-b2e8-596809be9636",
   "metadata": {},
   "outputs": [],
   "source": []
  },
  {
   "cell_type": "code",
   "execution_count": null,
   "id": "9e3a5e70-ec86-4af6-ad75-bdc4351b4d40",
   "metadata": {},
   "outputs": [],
   "source": []
  },
  {
   "cell_type": "code",
   "execution_count": null,
   "id": "723df846-36f4-433c-99cf-044b96c870ec",
   "metadata": {},
   "outputs": [],
   "source": []
  },
  {
   "cell_type": "code",
   "execution_count": null,
   "id": "cf1854ba-184b-4c9f-9a5c-9158e786e404",
   "metadata": {},
   "outputs": [],
   "source": []
  },
  {
   "cell_type": "code",
   "execution_count": 1,
   "id": "c4cadde9-8859-435a-b6ba-09aa42bb468d",
   "metadata": {},
   "outputs": [],
   "source": [
    "import os\n",
    "\n",
    "os.environ[\"CUDA_DEVICE_ORDER\"]=\"PCI_BUS_ID\"   \n",
    "os.environ[\"CUDA_VISIBLE_DEVICES\"]='0'\n",
    "\n",
    "os.environ[\"HF_HOME\"]=\"~/codes/.cache/huggingface\""
   ]
  },
  {
   "cell_type": "code",
   "execution_count": 2,
   "id": "2f7cd96b-ca27-4ce1-ac2d-c3dd67e069b7",
   "metadata": {},
   "outputs": [],
   "source": [
    "import torch\n",
    "import random\n",
    "import numpy as np\n",
    "\n",
    "def set_seeds(seed):\n",
    "    random.seed(seed)\n",
    "    np.random.seed(seed)\n",
    "    torch.manual_seed(seed)\n",
    "    torch.backends.cudnn.deterministic = True\n",
    "    torch.backends.cudnn.benchmark = False\n",
    "    \n",
    "set_seeds(42)"
   ]
  },
  {
   "cell_type": "code",
   "execution_count": 3,
   "id": "4ff495b8-8df0-49e8-a409-4ed9601c8143",
   "metadata": {},
   "outputs": [],
   "source": [
    "import matplotlib.pyplot as plt\n",
    "def show_images(images, scores, test_artist, train_artists):\n",
    "    n: int = len(images)\n",
    "    f = plt.figure(figsize=(16, 2))\n",
    "    for i in range(n):\n",
    "        # Debug, plot figure\n",
    "        ax = f.add_subplot(1, n, i + 1)\n",
    "        if i==0:\n",
    "            pass\n",
    "            ax.title.set_text(test_artist)\n",
    "        else:\n",
    "            ax.title.set_text(str(np.round(scores[i-1], 4))+'\\n'+train_artists[i-1])\n",
    "            ax.axis('off')\n",
    "        if images[i]==None:\n",
    "            pass\n",
    "        else:\n",
    "            plt.imshow(images[i])\n",
    "\n",
    "    plt.show(block=True)"
   ]
  },
  {
   "cell_type": "code",
   "execution_count": 4,
   "id": "c4e89a09-d6ff-46a1-8a9e-9c6f9c167114",
   "metadata": {},
   "outputs": [],
   "source": [
    "from datasets import load_dataset"
   ]
  },
  {
   "cell_type": "code",
   "execution_count": null,
   "id": "2682e2c4-9275-4bae-a732-74b981a358d2",
   "metadata": {},
   "outputs": [],
   "source": []
  },
  {
   "cell_type": "code",
   "execution_count": 6,
   "id": "fb2dc562-293c-4e74-8e97-141fc7465938",
   "metadata": {},
   "outputs": [],
   "source": [
    "import pickle"
   ]
  },
  {
   "cell_type": "code",
   "execution_count": 7,
   "id": "bda41875-8976-4852-823a-91dc1f42aebf",
   "metadata": {},
   "outputs": [
    {
     "data": {
      "text/plain": [
       "5000"
      ]
     },
     "execution_count": 7,
     "metadata": {},
     "output_type": "execute_result"
    }
   ],
   "source": [
    "with open('../../data/indices/5000-0.5/idx-train.pkl', 'rb')  as handle:\n",
    "    idx_train = pickle.load(handle)\n",
    "len(idx_train)   "
   ]
  },
  {
   "cell_type": "code",
   "execution_count": null,
   "id": "773b1a12-d60d-4ed8-8f61-b03a3af61e71",
   "metadata": {},
   "outputs": [],
   "source": []
  },
  {
   "cell_type": "code",
   "execution_count": 1,
   "id": "40c86797-31d5-45d0-b46f-52f8c84dd130",
   "metadata": {},
   "outputs": [
    {
     "ename": "NameError",
     "evalue": "name 'load_dataset' is not defined",
     "output_type": "error",
     "traceback": [
      "\u001b[0;31m---------------------------------------------------------------------------\u001b[0m",
      "\u001b[0;31mNameError\u001b[0m                                 Traceback (most recent call last)",
      "Cell \u001b[0;32mIn[1], line 3\u001b[0m\n\u001b[1;32m      1\u001b[0m \u001b[38;5;66;03m# from datasets import load_dataset\u001b[39;00m\n\u001b[0;32m----> 3\u001b[0m dataset \u001b[38;5;241m=\u001b[39m \u001b[43mload_dataset\u001b[49m(\n\u001b[1;32m      4\u001b[0m     \u001b[38;5;124m'\u001b[39m\u001b[38;5;124mcifar10\u001b[39m\u001b[38;5;124m'\u001b[39m,\n\u001b[1;32m      5\u001b[0m     \u001b[38;5;66;03m# args.dataset_config_name,\u001b[39;00m\n\u001b[1;32m      6\u001b[0m     \u001b[38;5;66;03m# cache_dir=args.cache_dir,\u001b[39;00m\n\u001b[1;32m      7\u001b[0m     \u001b[38;5;66;03m# split=\"train\",\u001b[39;00m\n\u001b[1;32m      8\u001b[0m )\n",
      "\u001b[0;31mNameError\u001b[0m: name 'load_dataset' is not defined"
     ]
    }
   ],
   "source": [
    "from datasets import load_dataset\n",
    "\n",
    "dataset = load_dataset(\n",
    "    'cifar10',\n",
    "    # args.dataset_config_name,\n",
    "    # cache_dir=args.cache_dir,\n",
    "    # split=\"train\",\n",
    ")"
   ]
  },
  {
   "cell_type": "code",
   "execution_count": null,
   "id": "c6632d56-9134-4720-99a9-1853fe349039",
   "metadata": {},
   "outputs": [],
   "source": []
  },
  {
   "cell_type": "code",
   "execution_count": null,
   "id": "b2e50aae-335f-457d-bfb7-e3991f19fb50",
   "metadata": {},
   "outputs": [],
   "source": []
  },
  {
   "cell_type": "code",
   "execution_count": null,
   "id": "5df420e1-7166-4e5b-baa3-a012fe7e32e1",
   "metadata": {},
   "outputs": [],
   "source": []
  },
  {
   "cell_type": "code",
   "execution_count": 10,
   "id": "f2ce6b6b-ff45-4156-9606-7c87046e751a",
   "metadata": {},
   "outputs": [
    {
     "data": {
      "image/png": "[encoded data removed]",
      "text/plain": [
       "<PIL.PngImagePlugin.PngImageFile image mode=RGB size=32x32>"
      ]
     },
     "execution_count": 10,
     "metadata": {},
     "output_type": "execute_result"
    }
   ],
   "source": [
    "from datasets import DatasetDict, Dataset, load_dataset, Image\n",
    "\n",
    "train_dataset = dataset['train'].select(idx_train)\n",
    "train_dataset[0][\"img\"]"
   ]
  },
  {
   "cell_type": "code",
   "execution_count": null,
   "id": "26b8b800-7147-4c3b-9f62-b99110392974",
   "metadata": {},
   "outputs": [],
   "source": []
  },
  {
   "cell_type": "code",
   "execution_count": 11,
   "id": "8c2e0980-d551-48f4-8b1f-3f9d4ac788cb",
   "metadata": {},
   "outputs": [],
   "source": [
    "import pandas as pd\n",
    "df = pd.DataFrame()\n",
    "df['path'] = ['{}/{}.png'.format('../../saved/5000-0.5/gen', i) for i in range(1000)]\n",
    "\n",
    "from datasets import DatasetDict, Dataset, load_dataset, Image\n",
    "dataset = DatasetDict({\n",
    "\"train\": Dataset.from_dict({\n",
    "    \"img\": df['path'].tolist(),\n",
    "}).cast_column(\"img\", Image()),})\n",
    "val_dataset = dataset[\"train\"]"
   ]
  },
  {
   "cell_type": "code",
   "execution_count": 12,
   "id": "5b522cfd-98f6-488c-be5b-4314ff16a91b",
   "metadata": {},
   "outputs": [
    {
     "data": {
      "image/png": "[encoded data removed]",
      "text/plain": [
       "<PIL.PngImagePlugin.PngImageFile image mode=RGB size=32x32>"
      ]
     },
     "execution_count": 12,
     "metadata": {},
     "output_type": "execute_result"
    }
   ],
   "source": [
    "val_dataset[0]['img']"
   ]
  },
  {
   "cell_type": "code",
   "execution_count": 13,
   "id": "bdada2c1-66b5-4d5e-b959-e80b30420b2f",
   "metadata": {},
   "outputs": [
    {
     "data": {
      "image/png": "[encoded data removed]",
      "text/plain": [
       "<PIL.PngImagePlugin.PngImageFile image mode=RGB size=32x32>"
      ]
     },
     "execution_count": 13,
     "metadata": {},
     "output_type": "execute_result"
    }
   ],
   "source": [
    "val_dataset[1]['img']"
   ]
  },
  {
   "cell_type": "code",
   "execution_count": 14,
   "id": "087ea1db-01c9-4e6a-a402-8b8a9aa93e8b",
   "metadata": {},
   "outputs": [],
   "source": [
    "# val_dataset =  dataset['test'].select(idx_val)\n",
    "# val_dataset[0][\"img\"]"
   ]
  },
  {
   "cell_type": "code",
   "execution_count": 15,
   "id": "e16837b7-8ddd-46ab-9d0a-c988f2ca9514",
   "metadata": {},
   "outputs": [],
   "source": [
    "# idx_val[0:5]"
   ]
  },
  {
   "cell_type": "code",
   "execution_count": null,
   "id": "0dd5e770-1fed-4f65-b4e7-5373e2adcb10",
   "metadata": {},
   "outputs": [],
   "source": []
  },
  {
   "cell_type": "code",
   "execution_count": null,
   "id": "04be809b-6fd9-4a8a-9d64-94c6ef3b4f85",
   "metadata": {},
   "outputs": [],
   "source": []
  },
  {
   "cell_type": "code",
   "execution_count": null,
   "id": "ad307d24-057d-43bc-9772-5ae5d62c9fa1",
   "metadata": {},
   "outputs": [],
   "source": []
  },
  {
   "cell_type": "code",
   "execution_count": 22,
   "id": "c37c6ab7-8c07-416a-b7b1-4b2c03a82cfa",
   "metadata": {},
   "outputs": [],
   "source": [
    "# load ground truth\n",
    "my_list = [\n",
    "    0,1,2,3,\n",
    "    4,5,6,7,\n",
    "    8,9,10,11,\n",
    "    12,13,14,15,\n",
    "    16,17,18,19,\n",
    "    20,21,22,23,\n",
    "    24,25,26,27,\n",
    "    28,29,30,31,\n",
    "    32,33,34,35,\n",
    "    36,37,38,39,\n",
    "    40,41,42,43,\n",
    "    44,45,46,47,\n",
    "    48,49,50,51,\n",
    "    52,53,54,55,\n",
    "    56,57,58,59,\n",
    "    60,61,62,63,\n",
    "          ]"
   ]
  },
  {
   "cell_type": "code",
   "execution_count": 23,
   "id": "7e5b270b-c5df-4b5d-a8fd-2a924a6edad6",
   "metadata": {},
   "outputs": [
    {
     "data": {
      "text/plain": [
       "(64, 1000, 1000)"
      ]
     },
     "execution_count": 23,
     "metadata": {},
     "output_type": "execute_result"
    }
   ],
   "source": [
    "loss_array_list = []\n",
    "\n",
    "for i in my_list:\n",
    "    for seed in [\n",
    "        0,\n",
    "                 1,\n",
    "                 2,\n",
    "                 # 3,\n",
    "                 # 4,\n",
    "                ]:\n",
    "        for e_seed in [\n",
    "            0, \n",
    "                       1, \n",
    "                       2\n",
    "                      ]:\n",
    "            with open('../../saved/5000-0.5/lds-val/ddpm-sub-{}-{}/e-{}-gen.pkl'.format(i, seed, e_seed), 'rb')  as handle:\n",
    "                loss_list = pickle.load(handle)\n",
    "            margins = np.concatenate(loss_list, axis=-1) # -logp\n",
    "            ####\n",
    "            if (seed==0) and (e_seed)==0:\n",
    "                loss_array = margins\n",
    "            else:\n",
    "                loss_array += margins\n",
    "            \n",
    "    loss_array = loss_array/(3*3)\n",
    "    \n",
    "    loss_array_list.append(loss_array)\n",
    "lds_loss_array = np.stack(loss_array_list)\n",
    "lds_loss_array.shape"
   ]
  },
  {
   "cell_type": "code",
   "execution_count": 24,
   "id": "d823ef7b-9d53-4f31-ab11-864274554493",
   "metadata": {},
   "outputs": [
    {
     "data": {
      "image/png": "[encoded data removed]",
      "text/plain": [
       "<Figure size 640x480 with 1 Axes>"
      ]
     },
     "metadata": {},
     "output_type": "display_data"
    }
   ],
   "source": [
    "for i in range(1):\n",
    "    for j in range(8):\n",
    "        plt.plot(lds_loss_array[i, :, j], color=\"C{}\".format(j))\n",
    "    # break"
   ]
  },
  {
   "cell_type": "code",
   "execution_count": 25,
   "id": "874a332c-29b1-46fe-bf83-12e7c8f64e28",
   "metadata": {},
   "outputs": [
    {
     "data": {
      "text/plain": [
       "(64, 5000)"
      ]
     },
     "execution_count": 25,
     "metadata": {},
     "output_type": "execute_result"
    }
   ],
   "source": [
    "mask_array_list = []\n",
    "\n",
    "for i in my_list:\n",
    "    # print(i)\n",
    "    with open('../../data/indices/5000-0.5/lds-val/sub-idx-{}.pkl'.format(i), 'rb')  as handle:\n",
    "        sub_idx_train = pickle.load(handle)\n",
    "    # print(len(sub_idx_train))\n",
    "    mask_array = np.in1d(idx_train, sub_idx_train)\n",
    "        \n",
    "    mask_array_list.append(mask_array)\n",
    "    \n",
    "lds_mask_array = np.stack(mask_array_list)\n",
    "lds_mask_array.shape"
   ]
  },
  {
   "cell_type": "code",
   "execution_count": 26,
   "id": "41ebfcfb-5789-44f0-99d0-0dddc7c6f32f",
   "metadata": {},
   "outputs": [
    {
     "data": {
      "text/plain": [
       "(64, 1000)"
      ]
     },
     "execution_count": 26,
     "metadata": {},
     "output_type": "execute_result"
    }
   ],
   "source": [
    "lds_testset_correctness = lds_loss_array.mean(axis=1)\n",
    "lds_testset_correctness.shape"
   ]
  },
  {
   "cell_type": "code",
   "execution_count": 27,
   "id": "46afee77-65eb-4023-8077-d11ed785d406",
   "metadata": {},
   "outputs": [
    {
     "data": {
      "image/png": "[encoded data removed]",
      "text/plain": [
       "<Figure size 640x480 with 1 Axes>"
      ]
     },
     "metadata": {},
     "output_type": "display_data"
    }
   ],
   "source": [
    "for j in range(4):\n",
    "    plt.plot(lds_testset_correctness[:, j], color=\"C{}\".format(j))\n",
    "    # break\n",
    "# plt.ylim(0.15, 0.2)"
   ]
  },
  {
   "cell_type": "code",
   "execution_count": null,
   "id": "8d92c4b4-5b21-434f-b6cc-96e968cbe495",
   "metadata": {},
   "outputs": [],
   "source": []
  },
  {
   "cell_type": "code",
   "execution_count": null,
   "id": "a3d25153-1e82-49bc-a551-ea14d2040df8",
   "metadata": {},
   "outputs": [],
   "source": []
  },
  {
   "cell_type": "code",
   "execution_count": null,
   "id": "a9c6d79c-2be9-463a-9d20-0de440a29d1b",
   "metadata": {},
   "outputs": [],
   "source": []
  },
  {
   "cell_type": "code",
   "execution_count": 28,
   "id": "b5b49da1-7199-4fa1-bbda-b5c1aad8bd43",
   "metadata": {},
   "outputs": [
    {
     "data": {
      "text/plain": [
       "(512, 1000, 1000)"
      ]
     },
     "execution_count": 28,
     "metadata": {},
     "output_type": "execute_result"
    }
   ],
   "source": [
    "loss_array_list = []\n",
    "\n",
    "for i in range(512):\n",
    "    for seed in [\n",
    "        0,\n",
    "                 # 1,\n",
    "                 # 2,\n",
    "                 # 3,\n",
    "                 # 4,\n",
    "                ]:\n",
    "        for e_seed in [\n",
    "            0, \n",
    "                       1, \n",
    "                       2\n",
    "                      ]:\n",
    "            with open('../../saved/5000-0.5/retrain/ddpm-sub-{}-{}/e-{}-gen.pkl'.format(i, seed, e_seed), 'rb')  as handle:\n",
    "                loss_list = pickle.load(handle)\n",
    "            margins = np.concatenate(loss_list, axis=-1) # -logp\n",
    "            ####\n",
    "            if (seed==0) and (e_seed)==0:\n",
    "                loss_array = margins\n",
    "            else:\n",
    "                loss_array += margins\n",
    "            \n",
    "    loss_array = loss_array/(3)\n",
    "    \n",
    "    loss_array_list.append(loss_array)\n",
    "retrain_loss_array = np.stack(loss_array_list)\n",
    "retrain_loss_array.shape"
   ]
  },
  {
   "cell_type": "code",
   "execution_count": 29,
   "id": "29f67809-fd80-46d1-95c8-fbba23ab4344",
   "metadata": {},
   "outputs": [
    {
     "data": {
      "text/plain": [
       "(512, 5000)"
      ]
     },
     "execution_count": 29,
     "metadata": {},
     "output_type": "execute_result"
    }
   ],
   "source": [
    "mask_array_list = []\n",
    "\n",
    "for i in range(512):\n",
    "    # print(i)\n",
    "    with open('../../data/indices/5000-0.5/retrain/sub-idx-{}.pkl'.format(i), 'rb')  as handle:\n",
    "        sub_idx_train = pickle.load(handle)\n",
    "    # print(len(sub_idx_train))\n",
    "    mask_array = np.in1d(idx_train, sub_idx_train)\n",
    "        \n",
    "    mask_array_list.append(mask_array)\n",
    "    \n",
    "retrain_mask_array = np.stack(mask_array_list)\n",
    "retrain_mask_array.shape"
   ]
  },
  {
   "cell_type": "code",
   "execution_count": 30,
   "id": "212b7c27-78ab-4686-bb2b-c2ad62016ffc",
   "metadata": {},
   "outputs": [
    {
     "data": {
      "text/plain": [
       "(512, 1000)"
      ]
     },
     "execution_count": 30,
     "metadata": {},
     "output_type": "execute_result"
    }
   ],
   "source": [
    "retrain_testset_correctness = retrain_loss_array.mean(axis=1)\n",
    "retrain_testset_correctness.shape"
   ]
  },
  {
   "cell_type": "code",
   "execution_count": 31,
   "id": "4c17b43f-7bb7-4b87-9bc0-776b999ca0ed",
   "metadata": {},
   "outputs": [
    {
     "data": {
      "image/png": "[encoded data removed]",
      "text/plain": [
       "<Figure size 640x480 with 1 Axes>"
      ]
     },
     "metadata": {},
     "output_type": "display_data"
    }
   ],
   "source": [
    "for j in range(4):\n",
    "    plt.plot(retrain_testset_correctness[:, j], color=\"C{}\".format(j))\n",
    "    # break\n",
    "# plt.ylim(0.15, 0.2)"
   ]
  },
  {
   "cell_type": "code",
   "execution_count": null,
   "id": "69f9c7e3-fe80-4896-b5e8-b860bf4ebd06",
   "metadata": {},
   "outputs": [],
   "source": []
  },
  {
   "cell_type": "code",
   "execution_count": null,
   "id": "213ddc1e-1b37-48f0-906e-0d5f3cf5bfdc",
   "metadata": {},
   "outputs": [],
   "source": []
  },
  {
   "cell_type": "code",
   "execution_count": null,
   "id": "37e49b04-da8c-4cad-b9d6-d8321caaf448",
   "metadata": {},
   "outputs": [],
   "source": []
  },
  {
   "cell_type": "code",
   "execution_count": null,
   "id": "d1e15006-57be-466e-8dcb-e6fb4d7833ca",
   "metadata": {},
   "outputs": [],
   "source": []
  },
  {
   "cell_type": "code",
   "execution_count": 32,
   "id": "992dc09b-d060-4665-8429-334c44f9191a",
   "metadata": {},
   "outputs": [],
   "source": [
    "emp_scores_list = []"
   ]
  },
  {
   "cell_type": "code",
   "execution_count": null,
   "id": "9ffd055b-961c-4319-8c1a-7dea89e25d9a",
   "metadata": {},
   "outputs": [],
   "source": []
  },
  {
   "cell_type": "code",
   "execution_count": null,
   "id": "bdf0db63-8afc-40d6-92f9-3a18a32633e0",
   "metadata": {},
   "outputs": [],
   "source": []
  },
  {
   "cell_type": "code",
   "execution_count": null,
   "id": "8d2709ed-3499-4651-98eb-0cf583cff5b2",
   "metadata": {},
   "outputs": [],
   "source": []
  },
  {
   "cell_type": "code",
   "execution_count": 33,
   "id": "ffcf2bce-eecd-419b-94d9-7fb8d6475cf4",
   "metadata": {},
   "outputs": [],
   "source": [
    "from sklearn.linear_model import Ridge, Lasso, RidgeCV, LassoCV"
   ]
  },
  {
   "cell_type": "code",
   "execution_count": 34,
   "id": "81d3dd3b-458a-4aec-af5c-9e6880114bb6",
   "metadata": {},
   "outputs": [],
   "source": [
    "import time"
   ]
  },
  {
   "cell_type": "code",
   "execution_count": null,
   "id": "3e8b26f1-ed5b-4138-99cd-29759ed761df",
   "metadata": {},
   "outputs": [],
   "source": []
  },
  {
   "cell_type": "code",
   "execution_count": 35,
   "id": "d24904e0-e1cb-401a-a2f4-433a1ceda1ac",
   "metadata": {},
   "outputs": [
    {
     "data": {
      "text/plain": [
       "(512, 5000)"
      ]
     },
     "execution_count": 35,
     "metadata": {},
     "output_type": "execute_result"
    }
   ],
   "source": [
    "retrain_mask_array.shape"
   ]
  },
  {
   "cell_type": "code",
   "execution_count": 36,
   "id": "5f97b0a0-bf4b-49e6-b49e-717e16fd6486",
   "metadata": {},
   "outputs": [
    {
     "data": {
      "text/plain": [
       "(512, 1000)"
      ]
     },
     "execution_count": 36,
     "metadata": {},
     "output_type": "execute_result"
    }
   ],
   "source": [
    "retrain_testset_correctness.shape"
   ]
  },
  {
   "cell_type": "code",
   "execution_count": null,
   "id": "00fabebf-efef-4f43-aed7-5bb83bde0fae",
   "metadata": {},
   "outputs": [],
   "source": []
  },
  {
   "cell_type": "code",
   "execution_count": null,
   "id": "ad41d851-d6f2-435f-b0df-bb2d0400baf3",
   "metadata": {},
   "outputs": [],
   "source": []
  },
  {
   "cell_type": "code",
   "execution_count": null,
   "id": "9dc78b9d-5b47-4438-8577-0918f3cc3f84",
   "metadata": {},
   "outputs": [],
   "source": []
  },
  {
   "cell_type": "code",
   "execution_count": 37,
   "id": "caa578c3-ca08-496c-9ade-62b4e58c1e01",
   "metadata": {},
   "outputs": [
    {
     "name": "stdout",
     "output_type": "stream",
     "text": [
      "65.64179158210754\n",
      "(1000, 5000)\n",
      "Correlation: 0.041590465764536934 (avg p value 0.468456)\n",
      "Correlation: 0.042 (avg p value 0.468456)\n",
      "Correlation: 0.0416 (avg p value 0.468456)\n",
      "Correlation: 0.04159 (avg p value 0.468456)\n"
     ]
    }
   ],
   "source": [
    "if True:\n",
    "    s = time.time()\n",
    "    infl_est_ = []\n",
    "    for i in range(1000):\n",
    "        # print(i)\n",
    "        reg = RidgeCV(cv=5, alphas=[0.1, 1.0, 1e1], \n",
    "                      # random_state=42, \n",
    "                      # n_jobs=-1\n",
    "                     ).fit(\n",
    "            retrain_mask_array[0:64], retrain_testset_correctness[0:64, i])\n",
    "        infl_est_.append(reg.coef_)\n",
    "        # break\n",
    "    print(time.time()-s)\n",
    "    \n",
    "    infl_est_ = np.stack(infl_est_)\n",
    "    print(infl_est_.shape)\n",
    "    emp_scores_list.append(infl_est_)\n",
    "\n",
    "    # compute lds\n",
    "    from scipy.stats import spearmanr\n",
    "    ####\n",
    "    margins = lds_testset_correctness[:]\n",
    "    preds = lds_mask_array[:] @ infl_est_.T\n",
    "    ####\n",
    "    rs = []\n",
    "    ps = []\n",
    "    \n",
    "    for ind in range(1000):\n",
    "        r, p = spearmanr(preds[:, ind], margins[:, ind])\n",
    "        rs.append(r)\n",
    "        ps.append(p)\n",
    "        \n",
    "    rs, ps = np.array(rs), np.array(ps)\n",
    "    \n",
    "    print(f'Correlation: {rs.mean()} (avg p value {ps.mean():.6f})')\n",
    "    print(f'Correlation: {rs.mean():.3f} (avg p value {ps.mean():.6f})')\n",
    "    print(f'Correlation: {rs.mean():.4f} (avg p value {ps.mean():.6f})')\n",
    "    print(f'Correlation: {rs.mean():.5f} (avg p value {ps.mean():.6f})')"
   ]
  },
  {
   "cell_type": "code",
   "execution_count": null,
   "id": "ec35c03c-1b86-451d-b2cd-ba871e8a7e2d",
   "metadata": {},
   "outputs": [],
   "source": []
  },
  {
   "cell_type": "code",
   "execution_count": null,
   "id": "9974e119-a84e-444a-8807-e5ce9ecc0328",
   "metadata": {},
   "outputs": [],
   "source": []
  },
  {
   "cell_type": "code",
   "execution_count": null,
   "id": "6238f386-7b27-47df-ac16-4be8c0178f9a",
   "metadata": {},
   "outputs": [],
   "source": []
  },
  {
   "cell_type": "code",
   "execution_count": 38,
   "id": "23572f8d-28c6-4773-afac-270500bb83f8",
   "metadata": {},
   "outputs": [
    {
     "name": "stdout",
     "output_type": "stream",
     "text": [
      "358.94524097442627\n",
      "(1000, 5000)\n",
      "Correlation: 0.061770436930650444 (avg p value 0.456383)\n",
      "Correlation: 0.062 (avg p value 0.456383)\n",
      "Correlation: 0.0618 (avg p value 0.456383)\n",
      "Correlation: 0.06177 (avg p value 0.456383)\n"
     ]
    }
   ],
   "source": [
    "if True:\n",
    "    s = time.time()\n",
    "    infl_est_ = []\n",
    "    for i in range(1000):\n",
    "        # print(i)\n",
    "        reg = RidgeCV(cv=5, alphas=[0.1, 1.0, 1e1], \n",
    "                      # random_state=42, \n",
    "                      # n_jobs=-1\n",
    "                     ).fit(\n",
    "            retrain_mask_array[0:128], retrain_testset_correctness[0:128, i])\n",
    "        infl_est_.append(reg.coef_)\n",
    "        # break\n",
    "    print(time.time()-s)\n",
    "    \n",
    "    infl_est_ = np.stack(infl_est_)\n",
    "    print(infl_est_.shape)\n",
    "    emp_scores_list.append(infl_est_)\n",
    "\n",
    "    # compute lds\n",
    "    from scipy.stats import spearmanr\n",
    "    ####\n",
    "    margins = lds_testset_correctness[:]\n",
    "    preds = lds_mask_array[:] @ infl_est_.T\n",
    "    ####\n",
    "    rs = []\n",
    "    ps = []\n",
    "    \n",
    "    for ind in range(1000):\n",
    "        r, p = spearmanr(preds[:, ind], margins[:, ind])\n",
    "        rs.append(r)\n",
    "        ps.append(p)\n",
    "        \n",
    "    rs, ps = np.array(rs), np.array(ps)\n",
    "    \n",
    "    print(f'Correlation: {rs.mean()} (avg p value {ps.mean():.6f})')\n",
    "    print(f'Correlation: {rs.mean():.3f} (avg p value {ps.mean():.6f})')\n",
    "    print(f'Correlation: {rs.mean():.4f} (avg p value {ps.mean():.6f})')\n",
    "    print(f'Correlation: {rs.mean():.5f} (avg p value {ps.mean():.6f})')"
   ]
  },
  {
   "cell_type": "code",
   "execution_count": null,
   "id": "71e72dc0-579f-47d1-87d2-b1da09de43e4",
   "metadata": {},
   "outputs": [],
   "source": []
  },
  {
   "cell_type": "code",
   "execution_count": null,
   "id": "0858899c-8a03-419b-b7d1-e0315940f1d8",
   "metadata": {},
   "outputs": [],
   "source": []
  },
  {
   "cell_type": "code",
   "execution_count": null,
   "id": "d30dcce7-d392-4741-bace-c2e5b11b5ac5",
   "metadata": {},
   "outputs": [],
   "source": []
  },
  {
   "cell_type": "code",
   "execution_count": 39,
   "id": "9200985b-f0f7-46b4-bec0-47ff772713c2",
   "metadata": {},
   "outputs": [],
   "source": [
    "# if True:\n",
    "#     s = time.time()\n",
    "#     infl_est_ = []\n",
    "#     for i in range(1000):\n",
    "#         # print(i)\n",
    "#         reg = RidgeCV(cv=5, alphas=[0.1, 1.0, 1e1], \n",
    "#                       # random_state=42, \n",
    "#                       # n_jobs=-1\n",
    "#                      ).fit(\n",
    "#             retrain_mask_array[0:192], retrain_testset_correctness[0:192, i])\n",
    "#         infl_est_.append(reg.coef_)\n",
    "#         # break\n",
    "#     print(time.time()-s)\n",
    "    \n",
    "#     infl_est_ = np.stack(infl_est_)\n",
    "\n",
    "#     # compute lds\n",
    "#     from scipy.stats import spearmanr\n",
    "#     ####\n",
    "#     margins = lds_testset_correctness[:]\n",
    "#     preds = lds_mask_array[:] @ infl_est_.T\n",
    "#     ####\n",
    "#     rs = []\n",
    "#     ps = []\n",
    "    \n",
    "#     for ind in range(1000):\n",
    "#         r, p = spearmanr(preds[:, ind], margins[:, ind])\n",
    "#         rs.append(r)\n",
    "#         ps.append(p)\n",
    "        \n",
    "#     rs, ps = np.array(rs), np.array(ps)\n",
    "    \n",
    "#     print(f'Correlation: {rs.mean()} (avg p value {ps.mean():.6f})')\n",
    "#     print(f'Correlation: {rs.mean():.3f} (avg p value {ps.mean():.6f})')\n",
    "#     print(f'Correlation: {rs.mean():.4f} (avg p value {ps.mean():.6f})')\n",
    "#     print(f'Correlation: {rs.mean():.5f} (avg p value {ps.mean():.6f})')"
   ]
  },
  {
   "cell_type": "code",
   "execution_count": null,
   "id": "ffbe657f-feda-43af-94be-b79e74d7e9fb",
   "metadata": {},
   "outputs": [],
   "source": []
  },
  {
   "cell_type": "code",
   "execution_count": null,
   "id": "ab13bd42-3af2-45dd-83f4-9c7625bcb0b8",
   "metadata": {},
   "outputs": [],
   "source": []
  },
  {
   "cell_type": "code",
   "execution_count": 40,
   "id": "8acd0777-4c4a-41a9-a453-fd1c0e785a59",
   "metadata": {},
   "outputs": [
    {
     "name": "stdout",
     "output_type": "stream",
     "text": [
      "801.1566777229309\n",
      "(1000, 5000)\n",
      "Correlation: 0.09675125795134616 (avg p value 0.411529)\n",
      "Correlation: 0.097 (avg p value 0.411529)\n",
      "Correlation: 0.0968 (avg p value 0.411529)\n",
      "Correlation: 0.09675 (avg p value 0.411529)\n"
     ]
    }
   ],
   "source": [
    "if True:\n",
    "    s = time.time()\n",
    "    infl_est_ = []\n",
    "    for i in range(1000):\n",
    "        # print(i)\n",
    "        reg = RidgeCV(cv=5, alphas=[0.1, 1.0, 1e1], \n",
    "                      # random_state=42, \n",
    "                      # n_jobs=-1\n",
    "                     ).fit(\n",
    "            retrain_mask_array[0:256], retrain_testset_correctness[0:256, i])\n",
    "        infl_est_.append(reg.coef_)\n",
    "        # break\n",
    "    print(time.time()-s)\n",
    "    \n",
    "    infl_est_ = np.stack(infl_est_)\n",
    "    print(infl_est_.shape)\n",
    "    emp_scores_list.append(infl_est_)\n",
    "\n",
    "    # compute lds\n",
    "    from scipy.stats import spearmanr\n",
    "    ####\n",
    "    margins = lds_testset_correctness[:]\n",
    "    preds = lds_mask_array[:] @ infl_est_.T\n",
    "    ####\n",
    "    rs = []\n",
    "    ps = []\n",
    "    \n",
    "    for ind in range(1000):\n",
    "        r, p = spearmanr(preds[:, ind], margins[:, ind])\n",
    "        rs.append(r)\n",
    "        ps.append(p)\n",
    "        \n",
    "    rs, ps = np.array(rs), np.array(ps)\n",
    "    \n",
    "    print(f'Correlation: {rs.mean()} (avg p value {ps.mean():.6f})')\n",
    "    print(f'Correlation: {rs.mean():.3f} (avg p value {ps.mean():.6f})')\n",
    "    print(f'Correlation: {rs.mean():.4f} (avg p value {ps.mean():.6f})')\n",
    "    print(f'Correlation: {rs.mean():.5f} (avg p value {ps.mean():.6f})')"
   ]
  },
  {
   "cell_type": "code",
   "execution_count": null,
   "id": "0f245fea-f323-4285-a61a-836d687a9261",
   "metadata": {},
   "outputs": [],
   "source": []
  },
  {
   "cell_type": "code",
   "execution_count": null,
   "id": "5c207717-6a3f-4399-ba62-fc510553f305",
   "metadata": {},
   "outputs": [],
   "source": []
  },
  {
   "cell_type": "code",
   "execution_count": 41,
   "id": "9d1256d5-f327-440e-a698-da374f86c30b",
   "metadata": {},
   "outputs": [
    {
     "name": "stdout",
     "output_type": "stream",
     "text": [
      "2836.0363433361053\n",
      "(1000, 5000)\n",
      "Correlation: 0.13018823130310825 (avg p value 0.362545)\n",
      "Correlation: 0.130 (avg p value 0.362545)\n",
      "Correlation: 0.1302 (avg p value 0.362545)\n",
      "Correlation: 0.13019 (avg p value 0.362545)\n"
     ]
    }
   ],
   "source": [
    "if True:\n",
    "    s = time.time()\n",
    "    infl_est_ = []\n",
    "    for i in range(1000):\n",
    "        # print(i)\n",
    "        reg = RidgeCV(cv=5, alphas=[0.1, 1.0, 1e1], \n",
    "                      # random_state=42, \n",
    "                      # n_jobs=-1\n",
    "                     ).fit(\n",
    "            retrain_mask_array[0:512], retrain_testset_correctness[0:512, i])\n",
    "        infl_est_.append(reg.coef_)\n",
    "        # break\n",
    "    print(time.time()-s)\n",
    "    \n",
    "    infl_est_ = np.stack(infl_est_)\n",
    "    print(infl_est_.shape)\n",
    "    emp_scores_list.append(infl_est_)\n",
    "\n",
    "    # compute lds\n",
    "    from scipy.stats import spearmanr\n",
    "    ####\n",
    "    margins = lds_testset_correctness[:]\n",
    "    preds = lds_mask_array[:] @ infl_est_.T\n",
    "    ####\n",
    "    rs = []\n",
    "    ps = []\n",
    "    \n",
    "    for ind in range(1000):\n",
    "        r, p = spearmanr(preds[:, ind], margins[:, ind])\n",
    "        rs.append(r)\n",
    "        ps.append(p)\n",
    "        \n",
    "    rs, ps = np.array(rs), np.array(ps)\n",
    "    \n",
    "    print(f'Correlation: {rs.mean()} (avg p value {ps.mean():.6f})')\n",
    "    print(f'Correlation: {rs.mean():.3f} (avg p value {ps.mean():.6f})')\n",
    "    print(f'Correlation: {rs.mean():.4f} (avg p value {ps.mean():.6f})')\n",
    "    print(f'Correlation: {rs.mean():.5f} (avg p value {ps.mean():.6f})')"
   ]
  },
  {
   "cell_type": "code",
   "execution_count": null,
   "id": "b163b5fa-dc3d-4b5c-b047-47906e9bbab8",
   "metadata": {},
   "outputs": [],
   "source": []
  },
  {
   "cell_type": "code",
   "execution_count": null,
   "id": "f096c9bd-f807-4068-b4a8-44862ced8945",
   "metadata": {},
   "outputs": [],
   "source": []
  },
  {
   "cell_type": "code",
   "execution_count": 42,
   "id": "be2bd708-dcf1-4e56-afbd-fa199361a364",
   "metadata": {},
   "outputs": [],
   "source": [
    "with open('./gen_emp.pkl', 'wb') as handle:\n",
    "    pickle.dump(emp_scores_list, handle)"
   ]
  },
  {
   "cell_type": "code",
   "execution_count": null,
   "id": "11f5d899-0614-4c74-a0c7-1cbd602e1862",
   "metadata": {},
   "outputs": [],
   "source": []
  },
  {
   "cell_type": "code",
   "execution_count": null,
   "id": "39636db8-134e-4855-98e9-b6a95873a254",
   "metadata": {},
   "outputs": [],
   "source": []
  },
  {
   "cell_type": "code",
   "execution_count": null,
   "id": "5e6a1886-7931-47c6-a7e7-0e08887d8cd2",
   "metadata": {},
   "outputs": [],
   "source": []
  },
  {
   "cell_type": "code",
   "execution_count": null,
   "id": "a6ba53d3-bf8c-4d58-aa81-f9907592302b",
   "metadata": {},
   "outputs": [],
   "source": []
  },
  {
   "cell_type": "code",
   "execution_count": null,
   "id": "a2704ec4-78ed-4a18-83dd-edd141bfdc7d",
   "metadata": {},
   "outputs": [],
   "source": []
  },
  {
   "cell_type": "code",
   "execution_count": null,
   "id": "f9294856-dd53-429b-a966-7b6f3a5652e1",
   "metadata": {},
   "outputs": [],
   "source": []
  },
  {
   "cell_type": "code",
   "execution_count": null,
   "id": "b232286f-2b4d-4f9f-b2d5-83b1bfee9e32",
   "metadata": {},
   "outputs": [],
   "source": []
  },
  {
   "cell_type": "code",
   "execution_count": null,
   "id": "68383713-7efc-437d-a733-f308708d263e",
   "metadata": {},
   "outputs": [],
   "source": []
  },
  {
   "cell_type": "code",
   "execution_count": 64,
   "id": "ee94d3e8-94db-4fdd-b169-b6a864a396ff",
   "metadata": {
    "tags": []
   },
   "outputs": [
    {
     "name": "stdout",
     "output_type": "stream",
     "text": [
      "224.11421060562134\n",
      "Correlation: 0.042724889453491094 (avg p value 0.462270)\n",
      "Correlation: 0.043 (avg p value 0.462270)\n",
      "Correlation: 0.0427 (avg p value 0.462270)\n",
      "Correlation: 0.04272 (avg p value 0.462270)\n"
     ]
    }
   ],
   "source": [
    "# if True:\n",
    "#     s = time.time()\n",
    "#     infl_est_ = []\n",
    "#     for i in range(1000):\n",
    "#         # print(i)\n",
    "#         reg = Lasso(\n",
    "#                     alpha=1e-6, # 1e-5 nan 1e-4 nan\n",
    "#                       # random_state=42, \n",
    "#                       # n_jobs=-1\n",
    "#                      ).fit(\n",
    "#             retrain_mask_array[0:192], retrain_testset_correctness[0:192, i])\n",
    "#         infl_est_.append(reg.coef_)\n",
    "#         # break\n",
    "#     print(time.time()-s)\n",
    "    \n",
    "#     infl_est_ = np.stack(infl_est_)\n",
    "\n",
    "#     # compute lds\n",
    "#     from scipy.stats import spearmanr\n",
    "#     ####\n",
    "#     margins = lds_testset_correctness[:]\n",
    "#     preds = lds_mask_array[:] @ infl_est_.T\n",
    "#     ####\n",
    "#     rs = []\n",
    "#     ps = []\n",
    "    \n",
    "#     for ind in range(1000):\n",
    "#         r, p = spearmanr(preds[:, ind], margins[:, ind])\n",
    "#         rs.append(r)\n",
    "#         ps.append(p)\n",
    "        \n",
    "#     rs, ps = np.array(rs), np.array(ps)\n",
    "    \n",
    "#     print(f'Correlation: {rs.mean()} (avg p value {ps.mean():.6f})')\n",
    "#     print(f'Correlation: {rs.mean():.3f} (avg p value {ps.mean():.6f})')\n",
    "#     print(f'Correlation: {rs.mean():.4f} (avg p value {ps.mean():.6f})')\n",
    "#     print(f'Correlation: {rs.mean():.5f} (avg p value {ps.mean():.6f})')"
   ]
  },
  {
   "cell_type": "code",
   "execution_count": null,
   "id": "fc389a8e-ebe8-4c52-8847-d0a7a151b182",
   "metadata": {},
   "outputs": [],
   "source": []
  },
  {
   "cell_type": "code",
   "execution_count": null,
   "id": "1671877e-eb13-48f8-9570-9016a4d1ce91",
   "metadata": {},
   "outputs": [],
   "source": []
  },
  {
   "cell_type": "code",
   "execution_count": null,
   "id": "9832b48f-6a02-4e18-a571-27cf3f9a2605",
   "metadata": {},
   "outputs": [],
   "source": []
  },
  {
   "cell_type": "code",
   "execution_count": null,
   "id": "6819e7f2-9018-4d64-8906-d7f552a0ae29",
   "metadata": {},
   "outputs": [],
   "source": []
  },
  {
   "cell_type": "code",
   "execution_count": null,
   "id": "3846cb22-f582-4c69-aab9-45350bfb272a",
   "metadata": {},
   "outputs": [],
   "source": []
  },
  {
   "cell_type": "code",
   "execution_count": null,
   "id": "40593257-fe82-402a-b93b-2774a248a0f5",
   "metadata": {},
   "outputs": [],
   "source": []
  },
  {
   "cell_type": "code",
   "execution_count": null,
   "id": "8bfa538b-1b98-421e-9349-b000ee86b52c",
   "metadata": {},
   "outputs": [],
   "source": []
  }
 ],
 "metadata": {
  "kernelspec": {
   "display_name": "Python 3 (ipykernel)",
   "language": "python",
   "name": "python3"
  },
  "language_info": {
   "codemirror_mode": {
    "name": "ipython",
    "version": 3
   },
   "file_extension": ".py",
   "mimetype": "text/x-python",
   "name": "python",
   "nbconvert_exporter": "python",
   "pygments_lexer": "ipython3",
   "version": "3.8.10"
  }
 },
 "nbformat": 4,
 "nbformat_minor": 5
}
