{
 "cells": [
  {
   "cell_type": "code",
   "execution_count": null,
   "id": "9c58e928-3b34-44c8-894a-458bff33d6e9",
   "metadata": {},
   "outputs": [],
   "source": []
  },
  {
   "cell_type": "code",
   "execution_count": null,
   "id": "245db4ad-9e11-41df-8fca-0bab14c60e25",
   "metadata": {},
   "outputs": [],
   "source": []
  },
  {
   "cell_type": "code",
   "execution_count": null,
   "id": "0737dcf0-06e0-4f2b-afb2-77f4d2225706",
   "metadata": {},
   "outputs": [],
   "source": []
  },
  {
   "cell_type": "code",
   "execution_count": null,
   "id": "641323a8-3ea1-4e42-9e95-4d5da7cf95fc",
   "metadata": {},
   "outputs": [],
   "source": []
  },
  {
   "cell_type": "code",
   "execution_count": 1,
   "id": "561527f8-aff9-4445-9c7e-47fa01b2676e",
   "metadata": {},
   "outputs": [],
   "source": [
    "import os\n",
    "\n",
    "os.environ[\"CUDA_DEVICE_ORDER\"]=\"PCI_BUS_ID\"   \n",
    "os.environ[\"CUDA_VISIBLE_DEVICES\"]='0'\n",
    "\n",
    "os.environ[\"HF_HOME\"]=\"~/codes/.cache/huggingface\""
   ]
  },
  {
   "cell_type": "code",
   "execution_count": 2,
   "id": "0e2fef04-47f7-4e77-9328-e51281539152",
   "metadata": {},
   "outputs": [],
   "source": [
    "import numpy as np"
   ]
  },
  {
   "cell_type": "code",
   "execution_count": 3,
   "id": "af2782e7-72c5-4287-8100-fb615760485c",
   "metadata": {},
   "outputs": [],
   "source": [
    "import matplotlib.pyplot as plt\n",
    "def show_images(images, scores, test_artist, train_artists):\n",
    "    n: int = len(images)\n",
    "    f = plt.figure(figsize=(16, 2))\n",
    "    for i in range(n):\n",
    "        # Debug, plot figure\n",
    "        ax = f.add_subplot(1, n, i + 1)\n",
    "        if i==0:\n",
    "            pass\n",
    "            ax.title.set_text(test_artist)\n",
    "        else:\n",
    "            ax.title.set_text(str(np.round(scores[i-1], 4))+'\\n'+train_artists[i-1])\n",
    "            ax.axis('off')\n",
    "        if images[i]==None:\n",
    "            pass\n",
    "        else:\n",
    "            plt.imshow(images[i])\n",
    "\n",
    "    plt.show(block=True)"
   ]
  },
  {
   "cell_type": "code",
   "execution_count": 4,
   "id": "41675e7f-8365-4f94-a0ba-4a3c89d3f23c",
   "metadata": {},
   "outputs": [],
   "source": [
    "from datasets import load_dataset"
   ]
  },
  {
   "cell_type": "code",
   "execution_count": 5,
   "id": "ff902dbc-45c6-442e-be2f-d5a8e65d1355",
   "metadata": {},
   "outputs": [],
   "source": [
    "import pickle"
   ]
  },
  {
   "cell_type": "code",
   "execution_count": 6,
   "id": "0e00606e-2565-4ac8-b6bd-93d4c0bac37d",
   "metadata": {},
   "outputs": [
    {
     "data": {
      "text/plain": [
       "5000"
      ]
     },
     "execution_count": 6,
     "metadata": {},
     "output_type": "execute_result"
    }
   ],
   "source": [
    "with open('../../data/indices/5000-0.5/idx-train.pkl', 'rb')  as handle:\n",
    "    idx_train = pickle.load(handle)\n",
    "len(idx_train)   "
   ]
  },
  {
   "cell_type": "code",
   "execution_count": 7,
   "id": "a012e677-0046-4b39-a2a1-275465caa000",
   "metadata": {},
   "outputs": [
    {
     "data": {
      "text/plain": [
       "1000"
      ]
     },
     "execution_count": 7,
     "metadata": {},
     "output_type": "execute_result"
    }
   ],
   "source": [
    "with open('../../data/indices/5000-0.5/idx-val.pkl', 'rb')  as handle:\n",
    "    idx_val = pickle.load(handle)\n",
    "len(idx_val)"
   ]
  },
  {
   "cell_type": "code",
   "execution_count": 8,
   "id": "b8d9cb60-42c0-4559-8496-2e788515ab5b",
   "metadata": {},
   "outputs": [
    {
     "data": {
      "text/html": [
       "<div>\n",
       "<style scoped>\n",
       "    .dataframe tbody tr th:only-of-type {\n",
       "        vertical-align: middle;\n",
       "    }\n",
       "\n",
       "    .dataframe tbody tr th {\n",
       "        vertical-align: top;\n",
       "    }\n",
       "\n",
       "    .dataframe thead th {\n",
       "        text-align: right;\n",
       "    }\n",
       "</style>\n",
       "<table border=\"1\" class=\"dataframe\">\n",
       "  <thead>\n",
       "    <tr style=\"text-align: right;\">\n",
       "      <th></th>\n",
       "      <th>path</th>\n",
       "      <th>split</th>\n",
       "    </tr>\n",
       "  </thead>\n",
       "  <tbody>\n",
       "    <tr>\n",
       "      <th>0</th>\n",
       "      <td>../../../../codes/celeba/data/celeba/img_align...</td>\n",
       "      <td>0</td>\n",
       "    </tr>\n",
       "    <tr>\n",
       "      <th>1</th>\n",
       "      <td>../../../../codes/celeba/data/celeba/img_align...</td>\n",
       "      <td>0</td>\n",
       "    </tr>\n",
       "    <tr>\n",
       "      <th>2</th>\n",
       "      <td>../../../../codes/celeba/data/celeba/img_align...</td>\n",
       "      <td>0</td>\n",
       "    </tr>\n",
       "    <tr>\n",
       "      <th>3</th>\n",
       "      <td>../../../../codes/celeba/data/celeba/img_align...</td>\n",
       "      <td>0</td>\n",
       "    </tr>\n",
       "    <tr>\n",
       "      <th>4</th>\n",
       "      <td>../../../../codes/celeba/data/celeba/img_align...</td>\n",
       "      <td>0</td>\n",
       "    </tr>\n",
       "  </tbody>\n",
       "</table>\n",
       "</div>"
      ],
      "text/plain": [
       "                                                path  split\n",
       "0  ../../../../codes/celeba/data/celeba/img_align...      0\n",
       "1  ../../../../codes/celeba/data/celeba/img_align...      0\n",
       "2  ../../../../codes/celeba/data/celeba/img_align...      0\n",
       "3  ../../../../codes/celeba/data/celeba/img_align...      0\n",
       "4  ../../../../codes/celeba/data/celeba/img_align...      0"
      ]
     },
     "execution_count": 8,
     "metadata": {},
     "output_type": "execute_result"
    }
   ],
   "source": [
    "import pandas as pd\n",
    "df = pd.read_csv('../../../../codes/celeba/data/celeba/list_eval_partition.txt', delimiter=\" \", \n",
    "                 names=['path', 'split'],\n",
    "                 header=None, skipinitialspace=True)\n",
    "df['path'] = df.apply(lambda x: \"../../../../codes/celeba/data/celeba/img_align_celeba/{}\".format(x['path']), axis=1)\n",
    "df.head()    "
   ]
  },
  {
   "cell_type": "code",
   "execution_count": 9,
   "id": "a8ab5978-ec28-4d35-a3d2-d54d10c0cdea",
   "metadata": {},
   "outputs": [
    {
     "data": {
      "image/png": "[encoded data removed]",
      "text/plain": [
       "<PIL.JpegImagePlugin.JpegImageFile image mode=RGB size=178x218>"
      ]
     },
     "execution_count": 9,
     "metadata": {},
     "output_type": "execute_result"
    }
   ],
   "source": [
    "from datasets import Dataset, load_dataset, Image\n",
    "\n",
    "train_dataset = Dataset.from_dict({\"img\": df.loc[idx_train]['path'].tolist(),\n",
    "                                  }).cast_column(\"img\", Image())\n",
    "train_dataset[0][\"img\"]"
   ]
  },
  {
   "cell_type": "code",
   "execution_count": 10,
   "id": "1080aec7-09fe-4123-bb26-2ab750860b53",
   "metadata": {},
   "outputs": [
    {
     "data": {
      "image/png": "[encoded data removed]",
      "text/plain": [
       "<PIL.PngImagePlugin.PngImageFile image mode=RGB size=64x64>"
      ]
     },
     "execution_count": 10,
     "metadata": {},
     "output_type": "execute_result"
    }
   ],
   "source": [
    "import pandas as pd\n",
    "df = pd.DataFrame()\n",
    "df['path'] = ['{}/{}.png'.format('../../saved/5000-0.5/gen', i) for i in range(1000)]\n",
    "\n",
    "from datasets import DatasetDict, Dataset, load_dataset, Image\n",
    "dataset = DatasetDict({\n",
    "\"train\": Dataset.from_dict({\n",
    "    \"img\": df['path'].tolist(),\n",
    "}).cast_column(\"img\", Image()),})\n",
    "gen_dataset = dataset[\"train\"]\n",
    "gen_dataset[0][\"img\"]"
   ]
  },
  {
   "cell_type": "code",
   "execution_count": null,
   "id": "dc29a64c-cca3-4b54-b147-cfdeeab35be9",
   "metadata": {},
   "outputs": [],
   "source": []
  },
  {
   "cell_type": "code",
   "execution_count": 73,
   "id": "34f3123f-606c-40f0-b85a-df861cab66e1",
   "metadata": {
    "scrolled": true
   },
   "outputs": [
    {
     "data": {
      "text/plain": [
       "[993,\n",
       " 859,\n",
       " 298,\n",
       " 553,\n",
       " 672,\n",
       " 971,\n",
       " 27,\n",
       " 231,\n",
       " 306,\n",
       " 706,\n",
       " 496,\n",
       " 558,\n",
       " 784,\n",
       " 239,\n",
       " 578,\n",
       " 55,\n",
       " 906,\n",
       " 175,\n",
       " 14,\n",
       " 77,\n",
       " 31,\n",
       " 481,\n",
       " 310,\n",
       " 311,\n",
       " 883,\n",
       " 788,\n",
       " 45,\n",
       " 103,\n",
       " 760,\n",
       " 1,\n",
       " 823,\n",
       " 710,\n",
       " 614,\n",
       " 790,\n",
       " 408,\n",
       " 736,\n",
       " 957,\n",
       " 366,\n",
       " 918,\n",
       " 267,\n",
       " 230,\n",
       " 996,\n",
       " 635,\n",
       " 698,\n",
       " 251,\n",
       " 783,\n",
       " 819,\n",
       " 141,\n",
       " 316,\n",
       " 587,\n",
       " 331,\n",
       " 295,\n",
       " 262,\n",
       " 432,\n",
       " 862,\n",
       " 582,\n",
       " 272,\n",
       " 270,\n",
       " 987,\n",
       " 319]"
      ]
     },
     "execution_count": 73,
     "metadata": {},
     "output_type": "execute_result"
    }
   ],
   "source": [
    "from sklearn.model_selection import train_test_split\n",
    "_, test_index = train_test_split(range(1000), test_size=60, random_state=0)\n",
    "test_index"
   ]
  },
  {
   "cell_type": "code",
   "execution_count": null,
   "id": "d53af53a-8a61-4569-b7bd-4f3fe30417d7",
   "metadata": {},
   "outputs": [],
   "source": []
  },
  {
   "cell_type": "code",
   "execution_count": 74,
   "id": "72ce01c9-1426-400c-86bb-4ffe5f0257cf",
   "metadata": {},
   "outputs": [],
   "source": [
    "with open(\"../../data/indices/5000-0.5/counter/idx-gen-sampled.pkl\", 'wb') as handle:\n",
    "    pickle.dump(test_index, handle)"
   ]
  },
  {
   "cell_type": "code",
   "execution_count": 75,
   "id": "34e7940e-c1b4-4e62-82ea-1cf787a3326f",
   "metadata": {
    "scrolled": true
   },
   "outputs": [
    {
     "data": {
      "text/plain": [
       "[993,\n",
       " 859,\n",
       " 298,\n",
       " 553,\n",
       " 672,\n",
       " 971,\n",
       " 27,\n",
       " 231,\n",
       " 306,\n",
       " 706,\n",
       " 496,\n",
       " 558,\n",
       " 784,\n",
       " 239,\n",
       " 578,\n",
       " 55,\n",
       " 906,\n",
       " 175,\n",
       " 14,\n",
       " 77,\n",
       " 31,\n",
       " 481,\n",
       " 310,\n",
       " 311,\n",
       " 883,\n",
       " 788,\n",
       " 45,\n",
       " 103,\n",
       " 760,\n",
       " 1,\n",
       " 823,\n",
       " 710,\n",
       " 614,\n",
       " 790,\n",
       " 408,\n",
       " 736,\n",
       " 957,\n",
       " 366,\n",
       " 918,\n",
       " 267,\n",
       " 230,\n",
       " 996,\n",
       " 635,\n",
       " 698,\n",
       " 251,\n",
       " 783,\n",
       " 819,\n",
       " 141,\n",
       " 316,\n",
       " 587,\n",
       " 331,\n",
       " 295,\n",
       " 262,\n",
       " 432,\n",
       " 862,\n",
       " 582,\n",
       " 272,\n",
       " 270,\n",
       " 987,\n",
       " 319]"
      ]
     },
     "execution_count": 75,
     "metadata": {},
     "output_type": "execute_result"
    }
   ],
   "source": [
    "test_index"
   ]
  },
  {
   "cell_type": "code",
   "execution_count": null,
   "id": "ff4dd931-ff12-4ef1-b872-0619333e9bfa",
   "metadata": {},
   "outputs": [],
   "source": []
  },
  {
   "cell_type": "code",
   "execution_count": 76,
   "id": "824bf26e-99dd-4f42-aa04-63e184f24e6b",
   "metadata": {},
   "outputs": [
    {
     "data": {
      "image/png": "[encoded data removed]",
      "text/plain": [
       "<PIL.PngImagePlugin.PngImageFile image mode=RGB size=64x64>"
      ]
     },
     "execution_count": 76,
     "metadata": {},
     "output_type": "execute_result"
    }
   ],
   "source": [
    "gen_dataset[test_index[0]]['img']"
   ]
  },
  {
   "cell_type": "code",
   "execution_count": 77,
   "id": "df83f924-97c1-4855-a53b-44187af73fe5",
   "metadata": {},
   "outputs": [
    {
     "data": {
      "image/png": "[encoded data removed]",
      "text/plain": [
       "<PIL.PngImagePlugin.PngImageFile image mode=RGB size=64x64>"
      ]
     },
     "execution_count": 77,
     "metadata": {},
     "output_type": "execute_result"
    }
   ],
   "source": [
    "gen_dataset[test_index[1]]['img']"
   ]
  },
  {
   "cell_type": "code",
   "execution_count": 78,
   "id": "e0babcbd-5655-4eae-8a94-14960dbb3f96",
   "metadata": {},
   "outputs": [
    {
     "data": {
      "image/png": "[encoded data removed]",
      "text/plain": [
       "<PIL.PngImagePlugin.PngImageFile image mode=RGB size=64x64>"
      ]
     },
     "execution_count": 78,
     "metadata": {},
     "output_type": "execute_result"
    }
   ],
   "source": [
    "gen_dataset[test_index[2]]['img']"
   ]
  },
  {
   "cell_type": "code",
   "execution_count": 79,
   "id": "0961c88d-c5bd-478d-ae5d-fc96eb5d84b4",
   "metadata": {},
   "outputs": [
    {
     "data": {
      "image/png": "[encoded data removed]",
      "text/plain": [
       "<PIL.PngImagePlugin.PngImageFile image mode=RGB size=64x64>"
      ]
     },
     "execution_count": 79,
     "metadata": {},
     "output_type": "execute_result"
    }
   ],
   "source": [
    "gen_dataset[test_index[3]]['img']"
   ]
  },
  {
   "cell_type": "code",
   "execution_count": 80,
   "id": "b77ea35a-d78e-4c13-8e47-249d7b3b5a31",
   "metadata": {},
   "outputs": [
    {
     "data": {
      "image/png": "[encoded data removed]",
      "text/plain": [
       "<PIL.PngImagePlugin.PngImageFile image mode=RGB size=64x64>"
      ]
     },
     "execution_count": 80,
     "metadata": {},
     "output_type": "execute_result"
    }
   ],
   "source": [
    "gen_dataset[test_index[4]]['img']"
   ]
  },
  {
   "cell_type": "code",
   "execution_count": null,
   "id": "ac29c8bf-20cc-42f3-82e3-7c559d469526",
   "metadata": {},
   "outputs": [],
   "source": []
  },
  {
   "cell_type": "code",
   "execution_count": null,
   "id": "9357fae4-9636-4a91-ad77-209629fb1af4",
   "metadata": {},
   "outputs": [],
   "source": []
  },
  {
   "cell_type": "code",
   "execution_count": null,
   "id": "4695603e-b3f0-4ca8-97fd-fcdb298b0473",
   "metadata": {},
   "outputs": [],
   "source": []
  },
  {
   "cell_type": "code",
   "execution_count": 81,
   "id": "bb932ea8-0d72-426b-9eb4-971295bfdb56",
   "metadata": {},
   "outputs": [],
   "source": [
    "scores_list = []"
   ]
  },
  {
   "cell_type": "code",
   "execution_count": 82,
   "id": "bca3e398-bc9a-438f-bd47-7a34f2daa01a",
   "metadata": {},
   "outputs": [
    {
     "data": {
      "text/plain": [
       "(1000, 5000)"
      ]
     },
     "execution_count": 82,
     "metadata": {},
     "output_type": "execute_result"
    }
   ],
   "source": [
    "with open(\"gen_5000_0.5_loss_100_5000000.0_0.14938357625426477.pkl\", 'rb') as handle:\n",
    "    scores = pickle.load(handle)\n",
    "scores_list.append(scores)\n",
    "scores.shape"
   ]
  },
  {
   "cell_type": "code",
   "execution_count": 83,
   "id": "26da60aa-8030-4bf9-be0c-f96431cbab78",
   "metadata": {},
   "outputs": [
    {
     "data": {
      "text/plain": [
       "(1000, 5000)"
      ]
     },
     "execution_count": 83,
     "metadata": {},
     "output_type": "execute_result"
    }
   ],
   "source": [
    "with open(\"gen_5000_0.5_mean-squared-l2-norm_100_5000000.0_0.21735084378640995.pkl\", 'rb') as handle:\n",
    "    scores = pickle.load(handle)\n",
    "scores_list.append(scores)\n",
    "scores.shape"
   ]
  },
  {
   "cell_type": "code",
   "execution_count": null,
   "id": "c23a1528-6b9c-4ab0-8bc8-66720d521cdc",
   "metadata": {},
   "outputs": [],
   "source": []
  },
  {
   "cell_type": "code",
   "execution_count": null,
   "id": "c45180c1-e3fd-4b71-976f-52b6f3bf9fd2",
   "metadata": {},
   "outputs": [],
   "source": []
  },
  {
   "cell_type": "code",
   "execution_count": null,
   "id": "3c4c9e4e-4e90-47e3-ba29-f8d0ba3d8f22",
   "metadata": {},
   "outputs": [],
   "source": []
  },
  {
   "cell_type": "code",
   "execution_count": 84,
   "id": "6ea0894f-d8d0-41f1-b04d-fa65a7b3774f",
   "metadata": {},
   "outputs": [],
   "source": [
    "# load ground truth\n",
    "my_list = [\n",
    "    0,1,2,3,\n",
    "    4,5,6,7,\n",
    "    8,9,10,11,\n",
    "    12,13,14,15,\n",
    "    16,17,18,19,\n",
    "    20,21,22,23,\n",
    "    24,25,26,27,\n",
    "    28,29,30,31,\n",
    "    32,33,34,35,\n",
    "    36,37,38,39,\n",
    "    40,41,42,43,\n",
    "    44,45,46,47,\n",
    "    48,49,50,51,\n",
    "    52,53,54,55,\n",
    "    56,57,58,59,\n",
    "    60,61,62,63,\n",
    "          ]"
   ]
  },
  {
   "cell_type": "code",
   "execution_count": 85,
   "id": "89ea4842-d7a9-4215-a464-25471d7127be",
   "metadata": {},
   "outputs": [
    {
     "data": {
      "text/plain": [
       "(64, 1000, 1000)"
      ]
     },
     "execution_count": 85,
     "metadata": {},
     "output_type": "execute_result"
    }
   ],
   "source": [
    "loss_array_list = []\n",
    "\n",
    "for i in my_list:\n",
    "    for seed in [\n",
    "        0,\n",
    "                 1,\n",
    "                 2,\n",
    "                 # 3,\n",
    "                 # 4,\n",
    "                ]:\n",
    "        for e_seed in [\n",
    "            0, \n",
    "                       1, \n",
    "                       2\n",
    "                      ]:\n",
    "            with open('../../saved/5000-0.5/lds-val/ddpm-sub-{}-{}/e-{}-gen.pkl'.format(i, seed, e_seed), 'rb')  as handle:\n",
    "                loss_list = pickle.load(handle)\n",
    "            margins = np.concatenate(loss_list, axis=-1) # -logp\n",
    "            ####\n",
    "            if (seed==0) and (e_seed)==0:\n",
    "                loss_array = margins\n",
    "            else:\n",
    "                loss_array += margins\n",
    "            \n",
    "    loss_array = loss_array/(3*3)\n",
    "    \n",
    "    loss_array_list.append(loss_array)\n",
    "lds_loss_array = np.stack(loss_array_list)\n",
    "lds_loss_array.shape"
   ]
  },
  {
   "cell_type": "code",
   "execution_count": 86,
   "id": "e71e1ab2-0b85-4dcc-a6a5-480ff9c8b608",
   "metadata": {},
   "outputs": [
    {
     "data": {
      "image/png": "[encoded data removed]",
      "text/plain": [
       "<Figure size 640x480 with 1 Axes>"
      ]
     },
     "metadata": {},
     "output_type": "display_data"
    }
   ],
   "source": [
    "for i in range(1):\n",
    "    for j in range(8):\n",
    "        plt.plot(lds_loss_array[i, :, j], color=\"C{}\".format(j))\n",
    "    # break"
   ]
  },
  {
   "cell_type": "code",
   "execution_count": 87,
   "id": "af28cad4-eb5b-40ca-bcda-dbdd678b416e",
   "metadata": {},
   "outputs": [
    {
     "data": {
      "text/plain": [
       "(64, 5000)"
      ]
     },
     "execution_count": 87,
     "metadata": {},
     "output_type": "execute_result"
    }
   ],
   "source": [
    "mask_array_list = []\n",
    "\n",
    "for i in my_list:\n",
    "    # print(i)\n",
    "    with open('../../data/indices/5000-0.5/lds-val/sub-idx-{}.pkl'.format(i), 'rb')  as handle:\n",
    "        sub_idx_train = pickle.load(handle)\n",
    "    # print(len(sub_idx_train))\n",
    "    mask_array = np.in1d(idx_train, sub_idx_train)\n",
    "        \n",
    "    mask_array_list.append(mask_array)\n",
    "    \n",
    "lds_mask_array = np.stack(mask_array_list)\n",
    "lds_mask_array.shape"
   ]
  },
  {
   "cell_type": "code",
   "execution_count": 88,
   "id": "f677d157-4449-4abb-9007-ea2aee116eb7",
   "metadata": {},
   "outputs": [
    {
     "data": {
      "text/plain": [
       "(64, 1000)"
      ]
     },
     "execution_count": 88,
     "metadata": {},
     "output_type": "execute_result"
    }
   ],
   "source": [
    "lds_testset_correctness = lds_loss_array.mean(axis=1)\n",
    "lds_testset_correctness.shape"
   ]
  },
  {
   "cell_type": "code",
   "execution_count": 89,
   "id": "8b779648-2442-4313-a237-ef27b79b71ba",
   "metadata": {},
   "outputs": [
    {
     "data": {
      "image/png": "[encoded data removed]",
      "text/plain": [
       "<Figure size 640x480 with 1 Axes>"
      ]
     },
     "metadata": {},
     "output_type": "display_data"
    }
   ],
   "source": [
    "for j in range(4):\n",
    "    plt.plot(lds_testset_correctness[:, j], color=\"C{}\".format(j))\n",
    "    # break\n",
    "# plt.ylim(0.15, 0.2)"
   ]
  },
  {
   "cell_type": "code",
   "execution_count": null,
   "id": "faf7d1b8-7115-46d0-aa8a-2f01e3026f65",
   "metadata": {},
   "outputs": [],
   "source": []
  },
  {
   "cell_type": "code",
   "execution_count": 90,
   "id": "8a86cfd1-167c-48ed-8d22-f02199d7eaf8",
   "metadata": {},
   "outputs": [
    {
     "name": "stdout",
     "output_type": "stream",
     "text": [
      "Correlation: 0.149 (avg p value 0.322115)\n"
     ]
    }
   ],
   "source": [
    "# compute lds\n",
    "from scipy.stats import spearmanr, pearsonr\n",
    "####\n",
    "margins = lds_testset_correctness\n",
    "infl_est_ = -scores_list[0]\n",
    "# infl_est_ = -tmp\n",
    "preds = lds_mask_array @ infl_est_.T\n",
    "####\n",
    "rs = []\n",
    "ps = []\n",
    "\n",
    "for ind in range(1000):\n",
    "    r, p = spearmanr(preds[:, ind], margins[:, ind])\n",
    "    # r, p = pearsonr(preds[:, ind], margins[:, ind])\n",
    "    rs.append(r)\n",
    "    ps.append(p)\n",
    "    \n",
    "rs, ps = np.array(rs), np.array(ps)\n",
    "print(f'Correlation: {rs.mean():.3f} (avg p value {ps.mean():.6f})')\n",
    "\n",
    "# tmp_1 = rs"
   ]
  },
  {
   "cell_type": "code",
   "execution_count": 91,
   "id": "c8cf0a77-c261-452c-af49-f86a0f0496f1",
   "metadata": {},
   "outputs": [
    {
     "name": "stdout",
     "output_type": "stream",
     "text": [
      "Correlation: 0.139 (avg p value 0.304911)\n"
     ]
    }
   ],
   "source": [
    "# compute lds\n",
    "from scipy.stats import spearmanr, pearsonr\n",
    "####\n",
    "margins = lds_testset_correctness\n",
    "infl_est_ = -scores_list[0]\n",
    "# infl_est_ = -tmp\n",
    "preds = lds_mask_array @ infl_est_.T\n",
    "####\n",
    "rs = []\n",
    "ps = []\n",
    "\n",
    "for ind in test_index:\n",
    "    r, p = spearmanr(preds[:, ind], margins[:, ind])\n",
    "    # r, p = pearsonr(preds[:, ind], margins[:, ind])\n",
    "    rs.append(r)\n",
    "    ps.append(p)\n",
    "    \n",
    "rs, ps = np.array(rs), np.array(ps)\n",
    "print(f'Correlation: {rs.mean():.3f} (avg p value {ps.mean():.6f})')\n",
    "\n",
    "tmp_1 = rs"
   ]
  },
  {
   "cell_type": "code",
   "execution_count": 92,
   "id": "f0cd9ac3-05ff-4729-a705-029ff53894ad",
   "metadata": {},
   "outputs": [
    {
     "data": {
      "text/plain": [
       "array([ 0.35320513,  0.0834707 ,  0.03150183,  0.07490842,  0.10448718,\n",
       "        0.11149267,  0.14615385,  0.00444139,  0.15393773, -0.09546703,\n",
       "        0.19020147,  0.19249084,  0.30540293,  0.23795788,  0.37122678,\n",
       "       -0.14322344, -0.03878205,  0.1706044 ,  0.22394689,  0.22486264,\n",
       "        0.18218864,  0.13067766,  0.04065934,  0.08406593,  0.16776557,\n",
       "        0.2275641 , -0.01836081,  0.21895604,  0.08191392,  0.20338828,\n",
       "        0.02596184,  0.14157509,  0.10549451,  0.133837  ,  0.15444139,\n",
       "        0.33141026,  0.32284799,  0.13763736,  0.20845019,  0.13402015,\n",
       "        0.32971612,  0.02541209,  0.2014652 ,  0.08150183,  0.08598901,\n",
       "        0.23237179,  0.12129121, -0.17028388,  0.20746337,  0.14052198,\n",
       "        0.42774725,  0.18466117,  0.09065934, -0.01845238,  0.18054029,\n",
       "        0.18882784,  0.11414835,  0.12600733, -0.14171245,  0.2114011 ])"
      ]
     },
     "execution_count": 92,
     "metadata": {},
     "output_type": "execute_result"
    }
   ],
   "source": [
    "tmp_1"
   ]
  },
  {
   "cell_type": "code",
   "execution_count": 93,
   "id": "6d2b8bd8-a821-474c-8cce-4d2c21f35b39",
   "metadata": {},
   "outputs": [
    {
     "name": "stdout",
     "output_type": "stream",
     "text": [
      "Correlation: 0.217 (avg p value 0.192988)\n"
     ]
    }
   ],
   "source": [
    "# compute lds\n",
    "from scipy.stats import spearmanr, pearsonr\n",
    "####\n",
    "margins = lds_testset_correctness\n",
    "infl_est_ = -scores_list[1]\n",
    "# infl_est_ = -tmp\n",
    "preds = lds_mask_array @ infl_est_.T\n",
    "####\n",
    "rs = []\n",
    "ps = []\n",
    "\n",
    "for ind in range(1000):\n",
    "    r, p = spearmanr(preds[:, ind], margins[:, ind])\n",
    "    # r, p = pearsonr(preds[:, ind], margins[:, ind])\n",
    "    rs.append(r)\n",
    "    ps.append(p)\n",
    "    \n",
    "rs, ps = np.array(rs), np.array(ps)\n",
    "print(f'Correlation: {rs.mean():.3f} (avg p value {ps.mean():.6f})')\n",
    "\n",
    "# tmp_2 = rs"
   ]
  },
  {
   "cell_type": "code",
   "execution_count": 94,
   "id": "dfa113fd-76d0-4c52-86cc-38bc894a3e04",
   "metadata": {},
   "outputs": [
    {
     "name": "stdout",
     "output_type": "stream",
     "text": [
      "Correlation: 0.240 (avg p value 0.148755)\n"
     ]
    }
   ],
   "source": [
    "# compute lds\n",
    "from scipy.stats import spearmanr, pearsonr\n",
    "####\n",
    "margins = lds_testset_correctness\n",
    "infl_est_ = -scores_list[1]\n",
    "# infl_est_ = -tmp\n",
    "preds = lds_mask_array @ infl_est_.T\n",
    "####\n",
    "rs = []\n",
    "ps = []\n",
    "\n",
    "for ind in test_index:\n",
    "    r, p = spearmanr(preds[:, ind], margins[:, ind])\n",
    "    # r, p = pearsonr(preds[:, ind], margins[:, ind])\n",
    "    rs.append(r)\n",
    "    ps.append(p)\n",
    "    \n",
    "rs, ps = np.array(rs), np.array(ps)\n",
    "print(f'Correlation: {rs.mean():.3f} (avg p value {ps.mean():.6f})')\n",
    "\n",
    "tmp_2 = rs"
   ]
  },
  {
   "cell_type": "code",
   "execution_count": 95,
   "id": "6a840cef-578b-4343-9a47-66d9b5eb05d7",
   "metadata": {},
   "outputs": [
    {
     "data": {
      "text/plain": [
       "array([ 0.11804029,  0.18576007,  0.20027473,  0.33466117,  0.37957875,\n",
       "        0.37358059,  0.08415751,  0.20778388, -0.00563187,  0.19180403,\n",
       "        0.40077839,  0.27284799,  0.43223443,  0.41419414,  0.18019895,\n",
       "        0.21195055,  0.38772894,  0.29945055,  0.19468864,  0.35691392,\n",
       "        0.3040293 ,  0.2467033 ,  0.27083333, -0.00604396,  0.18205128,\n",
       "        0.36781136,  0.13388278,  0.27403846,  0.41451465,  0.24281136,\n",
       "        0.25394064,  0.291163  ,  0.22495421,  0.26959707,  0.25343407,\n",
       "        0.32655678,  0.27380952,  0.21987179,  0.26103779,  0.21717033,\n",
       "        0.31630037,  0.25448718,  0.14624542,  0.02467949,  0.35819597,\n",
       "        0.20389194,  0.13827839, -0.04528388,  0.23150183,  0.29340659,\n",
       "        0.31346154,  0.15192308,  0.39194139,  0.13191392,  0.13049451,\n",
       "        0.04739011,  0.26620879,  0.21822344,  0.19020147,  0.37838828])"
      ]
     },
     "execution_count": 95,
     "metadata": {},
     "output_type": "execute_result"
    }
   ],
   "source": [
    "tmp_2"
   ]
  },
  {
   "cell_type": "code",
   "execution_count": 96,
   "id": "6e828ff0-a5f3-4f71-b47e-e2a6b274b559",
   "metadata": {},
   "outputs": [
    {
     "data": {
      "text/plain": [
       "(60, 5000)"
      ]
     },
     "execution_count": 96,
     "metadata": {},
     "output_type": "execute_result"
    }
   ],
   "source": [
    "scores_list[0][test_index].shape"
   ]
  },
  {
   "cell_type": "code",
   "execution_count": 97,
   "id": "dc2e0f02-d5bc-41f4-8065-3b9770d18aba",
   "metadata": {},
   "outputs": [
    {
     "data": {
      "text/plain": [
       "<matplotlib.image.AxesImage at 0x7fafe3dc1f10>"
      ]
     },
     "execution_count": 97,
     "metadata": {},
     "output_type": "execute_result"
    },
    {
     "data": {
      "image/png": "[encoded data removed]",
      "text/plain": [
       "<Figure size 640x480 with 1 Axes>"
      ]
     },
     "metadata": {},
     "output_type": "display_data"
    }
   ],
   "source": [
    "plt.imshow(scores_list[0][test_index][:, 0:128])"
   ]
  },
  {
   "cell_type": "code",
   "execution_count": 98,
   "id": "631e1fcb-51ec-402d-8ce1-e58bcc48e724",
   "metadata": {},
   "outputs": [
    {
     "data": {
      "text/plain": [
       "<matplotlib.image.AxesImage at 0x7fafe3e1fee0>"
      ]
     },
     "execution_count": 98,
     "metadata": {},
     "output_type": "execute_result"
    },
    {
     "data": {
      "image/png": "[encoded data removed]",
      "text/plain": [
       "<Figure size 640x480 with 1 Axes>"
      ]
     },
     "metadata": {},
     "output_type": "display_data"
    }
   ],
   "source": [
    "plt.imshow(scores_list[1][test_index][:, 0:128])"
   ]
  },
  {
   "cell_type": "code",
   "execution_count": null,
   "id": "9320714c-bec4-4295-8f79-9138ff55319d",
   "metadata": {},
   "outputs": [],
   "source": []
  },
  {
   "cell_type": "code",
   "execution_count": 99,
   "id": "b829670a-1150-487d-ad48-698c52b7fd14",
   "metadata": {},
   "outputs": [
    {
     "data": {
      "text/plain": [
       "3"
      ]
     },
     "execution_count": 99,
     "metadata": {},
     "output_type": "execute_result"
    }
   ],
   "source": [
    "np.random.seed(42)\n",
    "scores_list.append(np.random.rand(1000, 5000))\n",
    "len(scores_list)"
   ]
  },
  {
   "cell_type": "code",
   "execution_count": 100,
   "id": "71b4fb24-558b-4338-b58d-7d4c0f8f44d5",
   "metadata": {
    "scrolled": true
   },
   "outputs": [
    {
     "name": "stdout",
     "output_type": "stream",
     "text": [
      "0 993\n",
      "0.20048019207683074\n",
      "[ 48803 118843  86803 153263  45256]\n",
      "[ 48803  28992 118843  86803 153263]\n",
      "[ 28992 118843  86803 153263  45256]\n",
      "0.22249388753056235\n",
      "[ 48803 118843  86803 153263  45256]\n",
      "[ 48803  28992 118843  86803 153263]\n",
      "[ 28992  86803 153263  45256  51033]\n",
      "0.4212620807276862\n",
      "[153263  45256   5543  87592 121585]\n",
      "[118843 153263  21067 113985  43169]\n",
      "[ 28992 153263  51033   5543 113985]\n",
      "1 859\n",
      "0.19474313022700118\n",
      "[ 48803  28992 118843  86803 153263]\n",
      "[ 48803  28992  86803 153263  45256]\n",
      "[ 48803  28992 118843  86803 153263]\n",
      "0.23304562268803947\n",
      "[ 48803  28992 118843  86803 153263]\n",
      "[ 48803  28992  86803 153263  45256]\n",
      "[ 48803  28992 118843  86803  45256]\n",
      "0.43225436837582354\n",
      "[ 48803  28992 153263  45256 113985]\n",
      "[ 48803  28992  86803 153263  45256]\n",
      "[48803 28992 86803 45256 21067]\n",
      "2 298\n",
      "0.18203309692671396\n",
      "[ 28992 118843  86803 153263  45256]\n",
      "[ 48803  28992 118843  86803 153263]\n",
      "[ 28992 118843  86803 153263  51033]\n",
      "0.2084592145015106\n",
      "[ 28992 118843  86803 153263  51033]\n",
      "[ 28992 118843  86803  45256  51033]\n",
      "[ 28992  86803 153263  21067   5543]\n",
      "0.4112334180073384\n",
      "[ 28992 118843  86803  21067   5543]\n",
      "[ 28992 118843  86803  45256  51033]\n",
      "[153263 113985 110168  54745  43169]\n",
      "3 553\n",
      "0.15606936416184972\n",
      "[ 48803  28992 118843  86803  45256]\n",
      "[ 48803  28992 118843  86803 153263]\n",
      "[ 48803  28992 118843  86803 153263]\n",
      "0.2026458208057727\n",
      "[ 48803  28992 118843  86803  45256]\n",
      "[ 48803  28992 118843  86803  45256]\n",
      "[ 48803  28992 118843  86803 153263]\n",
      "0.41683196372910175\n",
      "[ 48803  86803  45256   5543 113985]\n",
      "[ 48803 118843  59754 121585 148725]\n",
      "[ 48803  28992 118843  45256 110168]\n",
      "4 672\n",
      "0.1806375442739079\n",
      "[ 48803  28992 118843  86803 153263]\n",
      "[ 48803  28992 153263  45256  51033]\n",
      "[ 48803  28992 118843  86803 153263]\n",
      "0.2547051442910916\n",
      "[ 48803  28992 118843  86803 153263]\n",
      "[48803 28992 45256 51033 21067]\n",
      "[ 48803  28992 118843  86803 153263]\n",
      "0.4334862385321101\n",
      "[ 48803  86803  45256  21067 113985]\n",
      "[ 48803  28992  45256  21067 113985]\n",
      "[ 48803 118843  86803 153263  51033]\n",
      "5 971\n",
      "0.15207373271889402\n",
      "[ 28992 118843  86803 153263  45256]\n",
      "[ 48803  28992 118843  86803 153263]\n",
      "[ 48803  28992 118843  86803 153263]\n",
      "0.1848341232227488\n",
      "[ 28992 118843  86803  45256  51033]\n",
      "[ 48803 118843  86803 153263  45256]\n",
      "[ 48803 118843  86803 153263  45256]\n",
      "0.3873473917869034\n",
      "[ 28992  45256  21067   5543 110168]\n",
      "[ 48803  86803 153263  45256 113985]\n",
      "[ 48803 153263  51033  21067 110168]\n",
      "6 27\n",
      "0.1655011655011655\n",
      "[ 48803  28992 118843  86803 153263]\n",
      "[ 48803  28992 118843  86803 153263]\n",
      "[ 48803  28992 118843  86803 153263]\n",
      "0.20481927710843373\n",
      "[ 48803  28992 118843 153263  45256]\n",
      "[ 48803  28992 118843 153263  45256]\n",
      "[ 48803  28992 118843  86803 153263]\n",
      "0.4188422247446084\n",
      "[118843 153263  21067 113985  54745]\n",
      "[ 28992 118843 153263  51033  21067]\n",
      "[ 28992 118843  86803  45256  51033]\n",
      "7 231\n",
      "0.20481927710843373\n",
      "[ 48803  28992 118843  86803 153263]\n",
      "[ 48803  28992 118843  86803 153263]\n",
      "[ 48803  28992  86803 153263  45256]\n",
      "0.26262626262626265\n",
      "[ 48803  28992 118843  86803 153263]\n",
      "[ 48803  28992 118843  86803 153263]\n",
      "[ 48803  86803 153263  45256  51033]\n",
      "0.422475106685633\n",
      "[118843  86803 153263  45256  21067]\n",
      "[48803 86803 45256 51033 43169]\n",
      "[153263 110168  54745  86483  29092]\n",
      "8 306\n",
      "0.19617224880382775\n",
      "[ 48803  28992 118843  86803 153263]\n",
      "[ 48803  28992 118843  86803 153263]\n",
      "[ 48803  28992 118843  86803 153263]\n",
      "0.2414649286157666\n",
      "[ 48803  28992 118843  86803 153263]\n",
      "[ 48803  28992 118843  86803 153263]\n",
      "[ 28992 118843  86803 153263  45256]\n",
      "0.42287990893568583\n",
      "[ 28992 118843  51033 113985  86483]\n",
      "[ 48803  28992  86803 153263  45256]\n",
      "[ 28992 118843  86803  45256  51033]\n",
      "9 706\n",
      "0.17233294255568582\n",
      "[ 48803  28992 118843  86803 153263]\n",
      "[ 48803  28992 118843  86803 153263]\n",
      "[ 48803  86803 153263  45256  51033]\n",
      "0.22699386503067484\n",
      "[ 48803  28992 118843  86803 153263]\n",
      "[ 48803  28992 118843  86803 153263]\n",
      "[ 48803  86803 153263  45256  51033]\n",
      "0.4136273678258411\n",
      "[ 48803  28992 118843 153263  21067]\n",
      "[ 48803  28992 118843  86803 153263]\n",
      "[ 86803 153263  51033  21067   5543]\n",
      "10 496\n",
      "0.18906064209274673\n",
      "[118843  86803 153263  45256  51033]\n",
      "[ 28992 118843  86803 153263  45256]\n",
      "[ 28992 118843  86803 153263  45256]\n",
      "0.23839009287925697\n",
      "[118843  86803 153263  45256  51033]\n",
      "[ 28992 118843  86803 153263  45256]\n",
      "[ 28992 118843  86803 153263  45256]\n",
      "0.41683196372910175\n",
      "[118843  86803  51033  21067 110168]\n",
      "[ 28992  86803 110168  54745  43169]\n",
      "[118843  86803 153263  45256  51033]\n",
      "11 558\n",
      "0.19331742243436753\n",
      "[ 48803  28992 118843  86803 153263]\n",
      "[ 48803  28992 118843  86803 153263]\n",
      "[ 48803  28992 118843  86803 153263]\n",
      "0.23533045089561458\n",
      "[ 48803  28992 118843  86803 153263]\n",
      "[ 48803  28992 118843  86803 153263]\n",
      "[ 48803  28992 118843  86803 153263]\n",
      "0.4330753797649756\n",
      "[28992 86803 45256 51033  5543]\n",
      "[ 48803  28992  86803 153263  45256]\n",
      "[ 48803  28992  45256   5543 113985]\n",
      "12 784\n",
      "0.20918984280532044\n",
      "[ 48803  28992 118843  86803 153263]\n",
      "[ 48803  28992 118843  86803 153263]\n",
      "[ 28992 118843 153263  45256  51033]\n",
      "0.24688279301745636\n",
      "[ 48803  28992 118843  86803 153263]\n",
      "[ 48803  28992 118843  86803 153263]\n",
      "[ 28992 118843 153263  45256  51033]\n",
      "0.4343086632243259\n",
      "[ 48803  28992 118843  86803 153263]\n",
      "[ 28992 118843  86803 153263  21067]\n",
      "[ 28992 153263  51033  21067 113985]\n",
      "13 239\n",
      "0.14285714285714285\n",
      "[ 48803 118843  86803 153263  45256]\n",
      "[ 48803  28992 118843  86803 153263]\n",
      "[ 48803  28992 118843  86803 153263]\n",
      "0.18623962040332148\n",
      "[118843  86803 153263  45256  51033]\n",
      "[ 48803  28992  86803 153263  45256]\n",
      "[ 48803  28992 118843  86803 153263]\n",
      "0.37438152831225946\n",
      "[153263  45256   5543 110168  54745]\n",
      "[ 86803 153263  45256  21067 113985]\n",
      "[ 48803 118843 153263  51033  21067]\n",
      "14 578\n",
      "0.1876484560570071\n",
      "[ 48803 118843  86803 153263  45256]\n",
      "[ 48803 118843  86803 153263  45256]\n",
      "[ 48803  28992 118843  86803 153263]\n",
      "0.22549019607843138\n",
      "[ 48803 118843  86803 153263  51033]\n",
      "[ 48803 118843  86803 153263  45256]\n",
      "[ 48803  28992 118843  86803 153263]\n",
      "0.42045454545454547\n",
      "[ 86803  21067 110168  54745  86483]\n",
      "[ 48803  86803 153263  45256  21067]\n",
      "[ 48803  28992  86803 153263  51033]\n",
      "15 55\n",
      "0.17233294255568582\n",
      "[ 48803  28992 118843  86803 153263]\n",
      "[ 48803  28992 118843  86803 153263]\n",
      "[ 48803  28992 118843  86803 153263]\n",
      "0.21285627653123104\n",
      "[ 48803 118843  86803 153263  45256]\n",
      "[ 48803  28992 118843  86803 153263]\n",
      "[ 48803  28992 153263  45256  51033]\n",
      "0.4273479874393377\n",
      "[118843  86803 153263  21067 113985]\n",
      "[ 28992 118843  86803 153263  45256]\n",
      "[28992  5543 54745 94543 87592]\n",
      "16 906\n",
      "0.17785630153121318\n",
      "[ 48803 118843  86803 153263  45256]\n",
      "[ 48803  28992 118843  86803 153263]\n",
      "[ 48803  28992 118843  86803 153263]\n",
      "0.21876904326630103\n",
      "[ 48803 118843  86803 153263  45256]\n",
      "[ 48803  28992 118843  86803 153263]\n",
      "[ 48803  28992  86803 153263  45256]\n",
      "0.42005112184038623\n",
      "[ 48803 153263  45256  51033   5543]\n",
      "[ 48803  28992 153263  45256  51033]\n",
      "[ 86803 153263  45256  51033 113985]\n",
      "17 175\n",
      "0.16009280742459397\n",
      "[ 48803  28992 118843  86803 153263]\n",
      "[ 28992 118843  86803 153263  45256]\n",
      "[ 48803  28992 118843  86803 153263]\n",
      "0.20918984280532044\n",
      "[ 48803  28992  86803 153263  45256]\n",
      "[ 28992 118843  86803 153263  45256]\n",
      "[ 48803  28992 118843  86803 153263]\n",
      "0.4021312394840157\n",
      "[ 48803  28992  86803 153263  45256]\n",
      "[118843  86803  45256   5543 113985]\n",
      "[86803 45256 51033 21067  5543]\n",
      "18 14\n",
      "0.21212121212121213\n",
      "[ 48803  28992 118843  86803 153263]\n",
      "[ 48803  28992 118843  86803 153263]\n",
      "[ 48803  28992 118843  86803 153263]\n",
      "0.2345679012345679\n",
      "[ 48803  28992 118843  86803 153263]\n",
      "[ 48803  28992 118843  86803 153263]\n",
      "[ 48803 118843  86803 153263  21067]\n",
      "0.4092446448703495\n",
      "[ 28992 118843  45256  21067   5543]\n",
      "[ 28992 118843  45256  21067   5543]\n",
      "[ 48803 118843  86803 153263  43169]\n",
      "19 77\n",
      "0.14416475972540047\n",
      "[ 48803  28992 118843  86803 153263]\n",
      "[ 48803  28992  86803 153263  45256]\n",
      "[ 48803  28992 118843  86803 153263]\n",
      "0.17233294255568582\n",
      "[ 48803  28992  86803 153263  51033]\n",
      "[48803 86803 45256 51033 21067]\n",
      "[118843  86803 153263  51033  21067]\n",
      "0.39625802848366376\n",
      "[ 48803  28992  86803 153263  51033]\n",
      "[ 51033   5543 110168  54745 107340]\n",
      "[118843  86803 153263   5543 113985]\n",
      "20 31\n",
      "0.19617224880382775\n",
      "[ 28992 118843  86803  45256  51033]\n",
      "[ 48803  28992 118843 153263  45256]\n",
      "[ 28992 118843  86803 153263  45256]\n",
      "0.23992560446373218\n",
      "[ 28992 118843  45256  51033  21067]\n",
      "[ 28992 118843 153263  45256  51033]\n",
      "[ 28992 118843  86803 153263  45256]\n",
      "0.4455044810638913\n",
      "[118843  45256  21067  54745  94543]\n",
      "[118843  45256  21067 110168  54745]\n",
      "[ 28992 118843  45256  51033 113985]\n",
      "21 481\n",
      "0.14810562571756603\n",
      "[ 48803 118843  86803 153263  45256]\n",
      "[ 48803  28992 118843  86803 153263]\n",
      "[ 48803  28992 118843  86803  45256]\n",
      "0.2285012285012285\n",
      "[ 48803 118843  86803 153263  45256]\n",
      "[ 48803 118843  86803 153263  45256]\n",
      "[48803 28992 86803 45256 51033]\n",
      "0.422475106685633\n",
      "[ 48803 153263  45256 110168  54745]\n",
      "[118843  86803  45256  21067 110168]\n",
      "[48803 28992 86803 51033 21067]\n",
      "22 310\n",
      "0.15074798619102417\n",
      "[ 48803 118843  86803 153263  45256]\n",
      "[ 48803  28992 118843  86803 153263]\n",
      "[ 48803  28992 118843  86803 153263]\n",
      "0.19189511323003575\n",
      "[ 48803 118843  86803 153263  45256]\n",
      "[ 48803  28992 118843  86803 153263]\n",
      "[ 48803  28992 118843  86803 153263]\n",
      "0.3943112102621305\n",
      "[ 48803  86803 153263  45256  51033]\n",
      "[ 28992  86803 153263  21067   5543]\n",
      "[ 28992 118843  86803  45256  21067]\n",
      "23 311\n",
      "0.18623962040332148\n",
      "[ 48803  28992 118843  86803 153263]\n",
      "[ 48803  28992 118843  86803 153263]\n",
      "[ 48803  28992 118843  86803 153263]\n",
      "0.20992135511191773\n",
      "[ 48803 118843  86803  45256  51033]\n",
      "[ 28992 118843  86803 153263  45256]\n",
      "[ 48803  28992 118843  86803  45256]\n",
      "0.4212620807276862\n",
      "[ 48803 118843  45256  51033   5543]\n",
      "[ 28992 118843  86803  45256  51033]\n",
      "[48803 86803 51033 21067 54745]\n",
      "24 883\n",
      "0.16009280742459397\n",
      "[ 48803  28992 118843  86803 153263]\n",
      "[ 48803  28992 118843  86803 153263]\n",
      "[ 48803  28992 118843  86803 153263]\n",
      "0.2217470983506414\n",
      "[ 48803  28992 153263  45256  51033]\n",
      "[ 48803  28992  86803 153263  45256]\n",
      "[ 48803  28992 118843  86803 153263]\n",
      "0.4176353841791891\n",
      "[ 28992 153263  45256  51033  54745]\n",
      "[ 48803  28992  86803 153263  45256]\n",
      "[ 28992 118843 113985 110168  94543]\n",
      "25 788\n",
      "0.21951219512195122\n",
      "[ 28992 118843  86803 153263  45256]\n",
      "[ 28992 118843  86803 153263  45256]\n",
      "[ 48803  28992 118843 153263  45256]\n",
      "0.2445550715619166\n",
      "[ 28992 118843  86803 153263  45256]\n",
      "[ 28992 118843  86803 153263  45256]\n",
      "[ 48803 118843 153263  45256  51033]\n",
      "0.41282848262220967\n",
      "[118843  45256  21067  54745  43169]\n",
      "[ 28992 118843  86803  45256 113985]\n",
      "[118843 153263  45256  21067  43169]\n",
      "26 45\n",
      "0.19474313022700118\n",
      "[ 48803  28992  86803 153263  45256]\n",
      "[ 48803  28992  86803 153263  51033]\n",
      "[ 48803  28992 118843  86803 153263]\n",
      "0.23839009287925697\n",
      "[ 48803  28992  86803 153263   5543]\n",
      "[ 48803  28992  86803 153263  51033]\n",
      "[ 48803 118843  86803 153263  45256]\n",
      "0.42409569923098833\n",
      "[ 86803 153263 113985 110168  54745]\n",
      "[ 48803  28992  86803 153263   5543]\n",
      "[ 48803 118843 153263  45256  51033]\n",
      "27 103\n",
      "0.17370892018779344\n",
      "[ 48803  28992  86803 153263  45256]\n",
      "[ 48803  28992 118843  86803 153263]\n",
      "[ 48803  28992 118843 153263  45256]\n",
      "0.24921923797626483\n",
      "[ 48803  28992  86803 153263  45256]\n",
      "[ 48803  28992 153263  45256  51033]\n",
      "[ 48803  28992 118843 153263  45256]\n",
      "0.42857142857142855\n",
      "[ 48803  28992  86803  21067 110168]\n",
      "[ 48803  28992  51033 110168  59754]\n",
      "[118843 153263  45256  51033  21067]\n",
      "28 760\n",
      "0.1792452830188679\n",
      "[ 48803  28992 118843  86803 153263]\n",
      "[ 48803 118843  86803 153263  45256]\n",
      "[ 48803  28992 153263  45256  51033]\n",
      "0.2338062924120913\n",
      "[ 48803  28992  86803 153263  45256]\n",
      "[ 48803 118843  86803 153263  45256]\n",
      "[ 48803  28992 153263  51033 113985]\n",
      "0.41322781232334654\n",
      "[ 28992  86803 153263  51033  21067]\n",
      "[ 48803 118843  86803 153263  51033]\n",
      "[ 48803  28992  51033 110168  87592]\n",
      "29 1\n",
      "0.19760479041916168\n",
      "[ 48803  28992 118843  86803 153263]\n",
      "[ 48803  28992 118843  86803 153263]\n",
      "[ 48803  28992 118843  86803 153263]\n",
      "0.23304562268803947\n",
      "[ 48803  28992 118843  86803 153263]\n",
      "[ 48803  28992 118843  86803 153263]\n",
      "[48803 28992 86803 45256 51033]\n",
      "0.4208581983518045\n",
      "[ 48803 118843 153263   5543 110168]\n",
      "[ 48803 118843 153263  45256   5543]\n",
      "[48803 28992 86803 45256  5543]\n",
      "30 823\n",
      "0.15606936416184972\n",
      "[ 48803  28992 118843  86803 153263]\n",
      "[ 48803  28992 118843  86803 153263]\n",
      "[ 48803  28992 118843  86803 153263]\n",
      "0.2113870381586917\n",
      "[ 48803  28992 118843  86803 153263]\n",
      "[ 28992 118843  86803  45256  51033]\n",
      "[ 48803  28992 118843  86803 153263]\n",
      "0.4212620807276862\n",
      "[153263  45256  21067 110168  54745]\n",
      "[28992 86803 45256 51033  5543]\n",
      "[ 28992  86803  51033   5543 113985]\n",
      "31 710\n",
      "0.19047619047619047\n",
      "[ 48803  28992 118843  86803 153263]\n",
      "[ 48803  28992 118843  86803 153263]\n",
      "[ 48803  28992 118843  86803 153263]\n",
      "0.23076923076923078\n",
      "[ 48803 118843  86803 153263  45256]\n",
      "[ 28992 118843 153263  45256  51033]\n",
      "[ 28992 118843  86803 153263  45256]\n",
      "0.4116318464144551\n",
      "[153263  45256  54745  43169  94543]\n",
      "[ 28992 153263  45256  21067 113985]\n",
      "[ 86803 153263  45256 113985  54745]\n",
      "32 614\n",
      "0.20627261761158022\n",
      "[ 48803  28992 118843  86803 153263]\n",
      "[ 48803  28992 118843  86803 153263]\n",
      "[ 48803  28992 118843  86803 153263]\n",
      "0.25234815278647466\n",
      "[ 48803 118843  86803 153263  45256]\n",
      "[ 48803  28992 118843  86803 153263]\n",
      "[ 48803  28992 118843  86803 153263]\n",
      "0.43967751223725887\n",
      "[ 48803  86803  45256   5543 110168]\n",
      "[ 48803  28992  45256  51033 110168]\n",
      "[ 48803 118843  86803  45256  51033]\n",
      "33 790\n",
      "0.18203309692671396\n",
      "[ 48803  28992 118843 153263  45256]\n",
      "[ 48803  28992 118843  86803  45256]\n",
      "[ 48803  28992 118843  86803 153263]\n",
      "0.23685837971552257\n",
      "[ 48803  28992 118843 153263  45256]\n",
      "[ 48803 118843  86803  45256  21067]\n",
      "[ 48803  28992 118843  86803 153263]\n",
      "0.43719459614831846\n",
      "[ 28992   5543 113985  54745  43169]\n",
      "[ 48803 118843  86803  21067   5543]\n",
      "[ 48803 118843  86803  51033   5543]\n",
      "34 408\n",
      "0.16414435389988358\n",
      "[ 48803  28992 118843  86803 153263]\n",
      "[ 28992 118843  86803 153263  45256]\n",
      "[ 48803  28992 118843  86803 153263]\n",
      "0.2106537530266344\n",
      "[ 48803 118843  86803 153263  45256]\n",
      "[ 28992 118843  86803 153263  45256]\n",
      "[ 48803  28992 118843  86803 153263]\n",
      "0.40726146918097383\n",
      "[ 48803 153263  45256   5543 113985]\n",
      "[118843  45256 113985  54745  94543]\n",
      "[ 48803  86803 153263  45256  51033]\n",
      "35 736\n",
      "0.1695906432748538\n",
      "[ 28992  86803 153263  45256  51033]\n",
      "[ 28992 118843  86803 153263  45256]\n",
      "[ 48803  28992 118843  86803  45256]\n",
      "0.2202562538133008\n",
      "[ 28992  86803 153263  45256  51033]\n",
      "[ 28992 118843  86803 153263  45256]\n",
      "[ 48803  28992 118843  86803  45256]\n",
      "0.40607424071991\n",
      "[ 86803  45256  21067 113985  54745]\n",
      "[ 28992  86803 153263  45256  51033]\n",
      "[ 48803 118843  86803  45256  21067]\n",
      "36 957\n",
      "0.1834319526627219\n",
      "[ 48803  28992 118843  86803 153263]\n",
      "[ 48803  28992 118843  86803  45256]\n",
      "[ 48803  28992 118843  86803 153263]\n",
      "0.25234815278647466\n",
      "[ 48803  28992  86803 153263  21067]\n",
      "[ 48803  28992 118843  86803  45256]\n",
      "[ 48803  28992 118843  86803 153263]\n",
      "0.4400921658986175\n",
      "[48803 28992 86803 21067  5543]\n",
      "[48803 28992 45256 21067  5543]\n",
      "[ 48803  86803 153263  45256   5543]\n",
      "37 366\n",
      "0.15340253748558247\n",
      "[ 48803  28992 118843  86803 153263]\n",
      "[ 48803 118843  86803 153263  45256]\n",
      "[ 48803  28992 118843  86803  45256]\n",
      "0.20700060350030175\n",
      "[ 48803  28992  86803 153263  21067]\n",
      "[ 48803 118843  86803 153263  45256]\n",
      "[ 48803  28992 118843  86803  45256]\n",
      "0.4116318464144551\n",
      "[ 28992  86803 153263  21067   5543]\n",
      "[118843  86803 153263  45256  21067]\n",
      "[ 48803  28992 118843  45256 113985]\n",
      "38 918\n",
      "0.1695906432748538\n",
      "[ 48803  28992 118843  86803 153263]\n",
      "[ 48803  28992 118843  86803 153263]\n",
      "[ 48803  28992  86803 153263  45256]\n",
      "0.224739742804654\n",
      "[ 48803  28992 118843  86803 153263]\n",
      "[ 48803  28992 118843  86803 153263]\n",
      "[ 48803  28992  86803 153263  45256]\n",
      "0.42450142450142453\n",
      "[ 28992 153263  51033  21067   5543]\n",
      "[ 28992  86803 153263  21067   5543]\n",
      "[ 86803 153263  51033 113985 110168]\n",
      "39 267\n",
      "0.19047619047619047\n",
      "[ 48803  28992 118843  86803 153263]\n",
      "[ 48803  28992 118843  86803 153263]\n",
      "[ 48803  28992 118843  86803 153263]\n",
      "0.2445550715619166\n",
      "[ 48803  28992 118843  86803 153263]\n",
      "[ 48803  28992 118843  86803 153263]\n",
      "[ 48803  28992 118843  86803 153263]\n",
      "0.42450142450142453\n",
      "[ 48803  28992 118843  86803  21067]\n",
      "[48803 28992 86803  5543 87592]\n",
      "[ 48803  28992 153263  51033   5543]\n",
      "40 230\n",
      "0.20481927710843373\n",
      "[ 48803  28992 118843  86803 153263]\n",
      "[ 48803  28992 118843  86803 153263]\n",
      "[ 48803  28992 118843  86803 153263]\n",
      "0.25865324103209564\n",
      "[ 28992 118843  86803 153263  45256]\n",
      "[ 28992 118843  86803 153263  45256]\n",
      "[ 48803  28992 118843  86803 153263]\n",
      "0.43225436837582354\n",
      "[ 86803  45256  21067   5543 110168]\n",
      "[118843  86803  45256  21067   5543]\n",
      "[ 48803  28992 153263  51033  21067]\n",
      "41 996\n",
      "0.16686114352392065\n",
      "[ 48803  28992 118843  86803 153263]\n",
      "[ 48803  28992 118843  86803 153263]\n",
      "[ 48803  28992 118843  86803 153263]\n",
      "0.1848341232227488\n",
      "[ 28992 118843  86803  45256  51033]\n",
      "[ 48803  28992 118843  86803 153263]\n",
      "[ 48803  28992  86803 153263  45256]\n",
      "0.3947001394700139\n",
      "[ 28992 118843  45256  51033  21067]\n",
      "[118843  86803 153263  45256  51033]\n",
      "[48803 28992 86803 45256 51033]\n",
      "42 635\n",
      "0.19904076738609114\n",
      "[ 48803  28992 118843  86803 153263]\n",
      "[ 48803  28992 118843  86803 153263]\n",
      "[ 48803  28992 118843  86803 153263]\n",
      "0.2338062924120913\n",
      "[ 48803 118843  86803 153263  21067]\n",
      "[ 48803  28992 118843  86803 153263]\n",
      "[ 48803  28992 118843  86803 153263]\n",
      "0.4188422247446084\n",
      "[ 86803  21067 110168  43169  94543]\n",
      "[ 48803 118843  86803  21067   5543]\n",
      "[ 48803  51033  21067 110168  43169]\n",
      "43 698\n",
      "0.16009280742459397\n",
      "[ 48803  28992 118843  86803 153263]\n",
      "[ 48803  28992 118843  86803 153263]\n",
      "[ 48803  28992 118843  86803 153263]\n",
      "0.2113870381586917\n",
      "[ 48803  28992 118843  86803 153263]\n",
      "[ 28992 118843  86803 153263  51033]\n",
      "[ 28992 118843  86803 153263  45256]\n",
      "0.41322781232334654\n",
      "[48803 28992 86803 45256  5543]\n",
      "[ 28992  86803 153263   5543 113985]\n",
      "[ 28992 118843  86803  51033  21067]\n",
      "44 251\n",
      "0.1806375442739079\n",
      "[ 48803 118843  86803 153263  45256]\n",
      "[ 48803  28992 118843  86803 153263]\n",
      "[ 48803  28992 118843  86803 153263]\n",
      "0.2338062924120913\n",
      "[ 48803 118843  86803 153263  45256]\n",
      "[ 48803  28992 118843  86803 153263]\n",
      "[ 28992 118843  86803 153263  51033]\n",
      "0.4269406392694064\n",
      "[118843  86803 153263  45256  21067]\n",
      "[ 48803 118843  45256  21067 113985]\n",
      "[118843  86803  51033  21067 110168]\n",
      "45 783\n",
      "0.17785630153121318\n",
      "[ 48803 118843  86803 153263  45256]\n",
      "[ 48803  28992 118843  86803 153263]\n",
      "[ 48803  28992 118843  86803 153263]\n",
      "0.21212121212121213\n",
      "[118843  86803 153263  45256  21067]\n",
      "[ 48803  28992 118843  86803 153263]\n",
      "[ 48803  28992 118843  86803 153263]\n",
      "0.4188422247446084\n",
      "[118843  86803 153263  45256  21067]\n",
      "[ 48803  28992 118843  86803 153263]\n",
      "[ 48803 118843 153263  45256  21067]\n",
      "46 819\n",
      "0.17647058823529413\n",
      "[ 48803  28992 118843  86803 153263]\n",
      "[ 48803  28992 118843  86803 153263]\n",
      "[ 48803  28992 118843  86803 153263]\n",
      "0.21876904326630103\n",
      "[ 48803  28992 118843  86803 153263]\n",
      "[ 48803 118843  86803 153263  45256]\n",
      "[ 48803  28992 118843  86803 153263]\n",
      "0.4249073810202337\n",
      "[28992 45256 51033 21067  5543]\n",
      "[ 86803 110168  54745  43169  87592]\n",
      "[118843  86803 153263  45256  51033]\n",
      "47 141\n",
      "0.2106537530266344\n",
      "[ 48803  28992 118843  86803 153263]\n",
      "[ 48803  28992 118843  86803 153263]\n",
      "[ 48803 118843  86803 153263  45256]\n",
      "0.2634238787113076\n",
      "[ 48803  28992 118843  86803 153263]\n",
      "[ 48803  28992 118843  86803 153263]\n",
      "[ 48803 118843  86803 153263  45256]\n",
      "0.43967751223725887\n",
      "[ 28992 118843  86803  45256   5543]\n",
      "[ 28992 118843  86803 153263  21067]\n",
      "[ 86803  51033  21067 110168  54745]\n",
      "48 316\n",
      "0.19904076738609114\n",
      "[ 48803  28992 118843  86803 153263]\n",
      "[ 48803  28992 118843  86803 153263]\n",
      "[ 48803  28992  86803 153263  51033]\n",
      "0.2430080795525171\n",
      "[ 48803  28992 118843  86803 153263]\n",
      "[ 28992 118843  86803 153263  45256]\n",
      "[ 48803  28992 153263  51033   5543]\n",
      "0.42166619277793577\n",
      "[ 48803  28992 118843  86803  45256]\n",
      "[118843 153263  45256  21067 113985]\n",
      "[ 48803 153263  51033   5543 110168]\n",
      "49 587\n",
      "0.19189511323003575\n",
      "[ 48803  28992 118843  86803 153263]\n",
      "[ 48803  28992 118843  86803 153263]\n",
      "[ 48803  86803 153263  45256  51033]\n",
      "0.2345679012345679\n",
      "[ 48803  28992 118843  86803 153263]\n",
      "[ 48803  28992 118843  86803 153263]\n",
      "[ 48803  86803 153263  45256  51033]\n",
      "0.4273479874393377\n",
      "[ 48803  86803 153263  45256  21067]\n",
      "[ 28992 118843 153263  45256  21067]\n",
      "[48803 86803 45256 21067 54745]\n",
      "50 331\n",
      "0.21212121212121213\n",
      "[ 48803  28992 118843  86803 153263]\n",
      "[ 48803  28992 118843  86803 153263]\n",
      "[ 48803  28992 118843  86803 153263]\n",
      "0.2484394506866417\n",
      "[ 48803 118843  86803 153263  45256]\n",
      "[ 48803 118843  86803 153263  45256]\n",
      "[ 48803  28992 118843  86803 153263]\n",
      "0.43061516452074394\n",
      "[ 48803  86803 153263  45256  21067]\n",
      "[118843 153263  51033   5543  87592]\n",
      "[ 48803 118843  86803 153263  45256]\n",
      "51 295\n",
      "0.14416475972540047\n",
      "[ 48803  28992 118843  86803 153263]\n",
      "[ 48803  28992 118843  86803 153263]\n",
      "[ 28992  86803 153263  45256  51033]\n",
      "0.19189511323003575\n",
      "[ 48803  28992 118843  86803 153263]\n",
      "[ 48803  28992 118843  86803 153263]\n",
      "[ 28992  86803 153263  51033   5543]\n",
      "0.39625802848366376\n",
      "[ 48803  28992 118843  86803 153263]\n",
      "[ 48803  28992 118843  86803 153263]\n",
      "[ 28992  86803  51033 110168  43169]\n",
      "52 262\n",
      "0.16686114352392065\n",
      "[ 48803  28992 118843  86803 153263]\n",
      "[ 48803  28992 118843  86803 153263]\n",
      "[ 48803  28992 118843  86803 153263]\n",
      "0.2113870381586917\n",
      "[ 48803  28992 118843  86803 153263]\n",
      "[ 48803  28992 118843  86803  51033]\n",
      "[ 48803  28992 118843  86803 153263]\n",
      "0.4056789429294349\n",
      "[ 48803  28992  86803 153263  45256]\n",
      "[48803 28992 86803 21067  5543]\n",
      "[ 48803 118843  45256  21067   5543]\n",
      "53 432\n",
      "0.18203309692671396\n",
      "[ 28992 118843  86803 153263  51033]\n",
      "[ 28992 118843 153263  45256  51033]\n",
      "[ 48803  28992 118843  86803 153263]\n",
      "0.24378109452736318\n",
      "[118843  51033  21067   5543 110168]\n",
      "[ 28992 118843 153263  45256  51033]\n",
      "[ 48803  28992 118843  86803  45256]\n",
      "0.42653352353780316\n",
      "[118843  51033  21067   5543  54745]\n",
      "[ 28992 118843  45256  21067   5543]\n",
      "[ 48803  28992 118843  45256  51033]\n",
      "54 862\n",
      "0.18623962040332148\n",
      "[ 48803  28992 118843  86803 153263]\n",
      "[ 48803  28992 118843  86803 153263]\n",
      "[ 28992 118843  86803 153263  45256]\n",
      "0.2345679012345679\n",
      "[ 48803  28992 118843  86803 153263]\n",
      "[ 48803  28992 118843  86803 153263]\n",
      "[ 28992 118843  86803 153263  45256]\n",
      "0.43061516452074394\n",
      "[ 86803  54745  87592  59754 121585]\n",
      "[ 48803  28992 118843  86803 153263]\n",
      "[ 28992  86803 153263  21067 110168]\n",
      "55 582\n",
      "0.20336943441636582\n",
      "[ 48803  28992 118843  86803  45256]\n",
      "[ 48803  28992 118843  86803 153263]\n",
      "[ 48803  28992 118843  86803 153263]\n",
      "0.27145581691036236\n",
      "[48803 28992 86803 45256 51033]\n",
      "[ 48803  28992 118843  86803 153263]\n",
      "[ 48803 118843  86803 153263  45256]\n",
      "0.444669170759896\n",
      "[86803 45256 51033 21067  5543]\n",
      "[ 48803  28992  86803 153263  45256]\n",
      "[118843  86803 153263  45256  51033]\n",
      "56 272\n",
      "0.20918984280532044\n",
      "[ 28992 118843  86803 153263  45256]\n",
      "[ 28992 118843  86803 153263  45256]\n",
      "[ 48803  28992 118843  86803 153263]\n",
      "0.23001230012300122\n",
      "[ 28992 118843  86803  51033  21067]\n",
      "[ 28992 118843  86803 153263  51033]\n",
      "[ 48803  28992 118843  86803 153263]\n",
      "0.42653352353780316\n",
      "[ 28992 118843  86803  51033  21067]\n",
      "[ 28992 118843  86803  21067  43169]\n",
      "[ 48803  28992  86803  51033 110168]\n",
      "57 270\n",
      "0.1574074074074074\n",
      "[ 48803  28992 118843  86803 153263]\n",
      "[ 48803 118843  86803 153263  45256]\n",
      "[ 48803  28992 118843  86803 153263]\n",
      "0.2012012012012012\n",
      "[ 48803 118843  86803 153263  45256]\n",
      "[ 48803 118843  86803 153263  45256]\n",
      "[ 48803  28992  86803 153263  45256]\n",
      "0.3986013986013986\n",
      "[153263  45256  21067 110168  54745]\n",
      "[118843  86803  45256  21067   5543]\n",
      "[28992 86803 45256 51033 21067]\n",
      "58 987\n",
      "0.16144018583042974\n",
      "[ 48803  28992 118843  86803  45256]\n",
      "[ 48803  28992 118843  86803 153263]\n",
      "[ 48803  28992 118843  86803 153263]\n",
      "0.19402985074626866\n",
      "[ 48803  28992 118843  86803  45256]\n",
      "[ 48803  28992 118843  86803  45256]\n",
      "[ 28992 118843  86803 153263  45256]\n",
      "0.39392249790911626\n",
      "[ 48803 118843  45256  21067   5543]\n",
      "[ 48803 118843  86803  45256  51033]\n",
      "[ 28992 118843  86803 153263  45256]\n",
      "59 319\n",
      "0.21359223300970873\n",
      "[ 48803 118843  86803 153263  45256]\n",
      "[ 48803  28992 118843  86803 153263]\n",
      "[ 48803 118843  86803 153263  45256]\n",
      "0.2338062924120913\n",
      "[ 86803 153263  21067   5543 113985]\n",
      "[ 48803  28992 118843  86803  45256]\n",
      "[ 48803 118843  86803  51033  21067]\n",
      "0.42005112184038623\n",
      "[153263  21067   5543 113985  54745]\n",
      "[ 28992 118843  86803   5543  54745]\n",
      "[ 48803 118843  86803  51033   5543]\n"
     ]
    }
   ],
   "source": [
    "for index, my_i in enumerate(test_index):\n",
    "    print(index, my_i)\n",
    "    for k in [\n",
    "        # 250, \n",
    "        500, 1000, 2500, \n",
    "              # 5000\n",
    "             ]:\n",
    "        D_trak=-scores_list[0][my_i]\n",
    "        topK_trak = np.arange(10000)[D_trak.argsort()[0:k]]\n",
    "\n",
    "        D_ours=-scores_list[1][my_i]\n",
    "        topK_ours = np.arange(10000)[D_ours.argsort()[0:k]]\n",
    "\n",
    "        ####\n",
    "        D_random=-scores_list[2][my_i]\n",
    "        topK_random = np.arange(10000)[D_random.argsort()[0:k]]\n",
    "        ####\n",
    "\n",
    "        # print(len(np.intersect1d(topK_trak, topK_ours)))\n",
    "        # print(len(np.union1d(topK_trak, topK_ours)))\n",
    "        print(len(np.intersect1d(topK_trak, topK_ours))/len(np.union1d(topK_trak, topK_ours))) # Jaccard similarity\n",
    "\n",
    "        ####\n",
    "        new_idx_trak = np.delete(idx_train, topK_trak)\n",
    "        # print(len(new_idx_trak))\n",
    "        print(new_idx_trak[0:5])\n",
    "\n",
    "        with open(\"../../data/indices/5000-0.5/counter/{}-{}-TRAK.pkl\".format(index, k), 'wb') as handle:\n",
    "            pickle.dump(new_idx_trak, handle)\n",
    "        ####\n",
    "        new_idx_ours = np.delete(idx_train, topK_ours)\n",
    "        # print(len(new_idx_ours))\n",
    "        print(new_idx_ours[0:5])\n",
    "\n",
    "        with open(\"../../data/indices/5000-0.5/counter/{}-{}-Ours.pkl\".format(index, k), 'wb') as handle:\n",
    "            pickle.dump(new_idx_ours, handle)\n",
    "        ####\n",
    "        new_idx_random = np.delete(idx_train, topK_random)\n",
    "        # print(len(new_idx_random))\n",
    "        print(new_idx_random[0:5])\n",
    "\n",
    "        with open(\"../../data/indices/5000-0.5/counter/{}-{}-Random.pkl\".format(index, k), 'wb') as handle:\n",
    "            pickle.dump(new_idx_random, handle)"
   ]
  },
  {
   "cell_type": "code",
   "execution_count": null,
   "id": "e00e5ae2-1db4-438b-ab6d-41a62c54c7b9",
   "metadata": {},
   "outputs": [],
   "source": []
  },
  {
   "cell_type": "code",
   "execution_count": null,
   "id": "758611c8-ea34-4974-a9b3-7c520389e8b6",
   "metadata": {},
   "outputs": [],
   "source": []
  },
  {
   "cell_type": "code",
   "execution_count": null,
   "id": "54f156ae-8b5a-487f-905f-36f6efe25542",
   "metadata": {},
   "outputs": [],
   "source": []
  }
 ],
 "metadata": {
  "kernelspec": {
   "display_name": "Python 3 (ipykernel)",
   "language": "python",
   "name": "python3"
  },
  "language_info": {
   "codemirror_mode": {
    "name": "ipython",
    "version": 3
   },
   "file_extension": ".py",
   "mimetype": "text/x-python",
   "name": "python",
   "nbconvert_exporter": "python",
   "pygments_lexer": "ipython3",
   "version": "3.8.10"
  }
 },
 "nbformat": 4,
 "nbformat_minor": 5
}
