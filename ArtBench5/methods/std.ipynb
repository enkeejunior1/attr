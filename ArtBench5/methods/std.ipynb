{
 "cells": [
  {
   "cell_type": "code",
   "execution_count": 1,
   "id": "8b66521a-f880-4ee0-991e-3a994dc75fca",
   "metadata": {},
   "outputs": [],
   "source": [
    "import pickle"
   ]
  },
  {
   "cell_type": "code",
   "execution_count": 2,
   "id": "4eacfe56-27c9-49e1-a489-834caabaef63",
   "metadata": {},
   "outputs": [
    {
     "name": "stdout",
     "output_type": "stream",
     "text": [
      "0.017\n",
      "0.042\n",
      "2.77\n",
      "0.80\n",
      "\n",
      "0.020\n",
      "0.046\n",
      "3.22\n",
      "0.78\n",
      "\n"
     ]
    }
   ],
   "source": [
    "with open('./-1_raw/gen_res_list.pkl', 'rb') as handle:\n",
    "    gen_res_list = pickle.load(handle)\n",
    "for res in gen_res_list:\n",
    "    print(f'{res[0]:.3f}')\n",
    "    print(f'{res[1]:.3f}')\n",
    "    \n",
    "    print(f'{res[2].mean()*100:.2f}')\n",
    "    print(f'{res[2].std()*100:.2f}')\n",
    "\n",
    "    print()"
   ]
  },
  {
   "cell_type": "code",
   "execution_count": 3,
   "id": "9f168bf4-afdb-4c60-8568-a040eedc5855",
   "metadata": {},
   "outputs": [
    {
     "name": "stdout",
     "output_type": "stream",
     "text": [
      "0.011\n",
      "0.027\n",
      "1.84\n",
      "0.42\n",
      "\n",
      "0.013\n",
      "0.028\n",
      "1.97\n",
      "0.41\n",
      "\n"
     ]
    }
   ],
   "source": [
    "with open('./-1_raw/val_res_list.pkl', 'rb') as handle:\n",
    "    val_res_list = pickle.load(handle)\n",
    "for res in val_res_list:\n",
    "    print(f'{res[0]:.3f}')\n",
    "    print(f'{res[1]:.3f}')\n",
    "\n",
    "    print(f'{res[2].mean()*100:.2f}')\n",
    "    print(f'{res[2].std()*100:.2f}')\n",
    "\n",
    "    print()"
   ]
  },
  {
   "cell_type": "code",
   "execution_count": null,
   "id": "0d7cc94c-261c-4540-868c-45fcb6a1d4dd",
   "metadata": {},
   "outputs": [],
   "source": []
  },
  {
   "cell_type": "code",
   "execution_count": 4,
   "id": "f5c62f73-7c76-49f0-8182-a35074c17229",
   "metadata": {},
   "outputs": [
    {
     "name": "stdout",
     "output_type": "stream",
     "text": [
      "0.026\n",
      "0.066\n",
      "4.47\n",
      "1.09\n",
      "\n",
      "0.044\n",
      "0.083\n",
      "6.63\n",
      "1.14\n",
      "\n"
     ]
    }
   ],
   "source": [
    "with open('./00_clip/gen_res_list.pkl', 'rb') as handle:\n",
    "    gen_res_list = pickle.load(handle)\n",
    "for res in gen_res_list:\n",
    "    print(f'{res[0]:.3f}')\n",
    "    print(f'{res[1]:.3f}')\n",
    "    \n",
    "    print(f'{res[2].mean()*100:.2f}')\n",
    "    print(f'{res[2].std()*100:.2f}')\n",
    "\n",
    "    print()"
   ]
  },
  {
   "cell_type": "code",
   "execution_count": 5,
   "id": "7ef12d3b-3840-4815-8705-ae6a573174ff",
   "metadata": {},
   "outputs": [
    {
     "name": "stdout",
     "output_type": "stream",
     "text": [
      "0.048\n",
      "0.062\n",
      "5.29\n",
      "0.45\n",
      "\n",
      "0.060\n",
      "0.074\n",
      "6.57\n",
      "0.44\n",
      "\n"
     ]
    }
   ],
   "source": [
    "with open('./00_clip/val_res_list.pkl', 'rb') as handle:\n",
    "    val_res_list = pickle.load(handle)\n",
    "for res in val_res_list:\n",
    "    print(f'{res[0]:.3f}')\n",
    "    print(f'{res[1]:.3f}')\n",
    "\n",
    "    print(f'{res[2].mean()*100:.2f}')\n",
    "    print(f'{res[2].std()*100:.2f}')\n",
    "\n",
    "    print()"
   ]
  },
  {
   "cell_type": "code",
   "execution_count": null,
   "id": "2dd59535-8ba4-4564-bd2f-3afc9e09db78",
   "metadata": {},
   "outputs": [],
   "source": []
  },
  {
   "cell_type": "code",
   "execution_count": null,
   "id": "3ca98bfd-ba41-4e01-b6f5-551683757cfa",
   "metadata": {},
   "outputs": [],
   "source": []
  },
  {
   "cell_type": "code",
   "execution_count": null,
   "id": "56943653-fe3d-495c-ac44-639c09e852f9",
   "metadata": {},
   "outputs": [],
   "source": []
  },
  {
   "cell_type": "code",
   "execution_count": 6,
   "id": "c6487dc6-bc9d-4578-8d3d-b28b3beaf1eb",
   "metadata": {
    "scrolled": true
   },
   "outputs": [
    {
     "name": "stdout",
     "output_type": "stream",
     "text": [
      "0.022\n",
      "0.053\n",
      "3.89\n",
      "0.88\n",
      "\n",
      "0.066\n",
      "0.101\n",
      "8.17\n",
      "1.02\n",
      "\n",
      "0.027\n",
      "0.059\n",
      "4.34\n",
      "0.84\n",
      "\n",
      "0.074\n",
      "0.111\n",
      "9.02\n",
      "1.04\n",
      "\n",
      "0.026\n",
      "0.055\n",
      "4.14\n",
      "0.86\n",
      "\n",
      "0.065\n",
      "0.099\n",
      "8.18\n",
      "1.01\n",
      "\n",
      "0.030\n",
      "0.059\n",
      "4.48\n",
      "0.83\n",
      "\n",
      "0.074\n",
      "0.109\n",
      "9.13\n",
      "1.01\n",
      "\n"
     ]
    }
   ],
   "source": [
    "with open('./01_tracin/gen_res_list.pkl', 'rb') as handle:\n",
    "    gen_res_list = pickle.load(handle)\n",
    "for res in gen_res_list:\n",
    "    print(f'{res[0]:.3f}')\n",
    "    print(f'{res[1]:.3f}')\n",
    "    \n",
    "    print(f'{res[2].mean()*100:.2f}')\n",
    "    print(f'{res[2].std()*100:.2f}')\n",
    "\n",
    "    print()"
   ]
  },
  {
   "cell_type": "code",
   "execution_count": null,
   "id": "8011656a-a074-4db8-8859-2c0da4c074d7",
   "metadata": {},
   "outputs": [],
   "source": []
  },
  {
   "cell_type": "code",
   "execution_count": 7,
   "id": "0f369389-34b1-4c6b-934b-e1c75b8d74b3",
   "metadata": {
    "scrolled": true
   },
   "outputs": [
    {
     "name": "stdout",
     "output_type": "stream",
     "text": [
      "0.044\n",
      "0.055\n",
      "4.77\n",
      "0.36\n",
      "\n",
      "0.096\n",
      "0.112\n",
      "10.02\n",
      "0.45\n",
      "\n",
      "0.049\n",
      "0.063\n",
      "5.33\n",
      "0.37\n",
      "\n",
      "0.105\n",
      "0.120\n",
      "10.87\n",
      "0.47\n",
      "\n",
      "0.044\n",
      "0.056\n",
      "4.96\n",
      "0.35\n",
      "\n",
      "0.094\n",
      "0.110\n",
      "9.85\n",
      "0.44\n",
      "\n",
      "0.052\n",
      "0.065\n",
      "5.52\n",
      "0.38\n",
      "\n",
      "0.103\n",
      "0.119\n",
      "10.71\n",
      "0.48\n",
      "\n"
     ]
    }
   ],
   "source": [
    "with open('./01_tracin/val_res_list.pkl', 'rb') as handle:\n",
    "    val_res_list = pickle.load(handle)\n",
    "for res in val_res_list:\n",
    "    print(f'{res[0]:.3f}')\n",
    "    print(f'{res[1]:.3f}')\n",
    "\n",
    "    print(f'{res[2].mean()*100:.2f}')\n",
    "    print(f'{res[2].std()*100:.2f}')\n",
    "\n",
    "    print()"
   ]
  },
  {
   "cell_type": "code",
   "execution_count": null,
   "id": "a2970fd4-db99-45c4-be95-62ad85a25419",
   "metadata": {},
   "outputs": [],
   "source": []
  },
  {
   "cell_type": "code",
   "execution_count": null,
   "id": "6d5d6355-87e1-4966-8bff-440e7f74d147",
   "metadata": {},
   "outputs": [],
   "source": []
  },
  {
   "cell_type": "code",
   "execution_count": null,
   "id": "6c8558c9-d555-4c9e-842c-4616d69cf618",
   "metadata": {},
   "outputs": [],
   "source": []
  },
  {
   "cell_type": "code",
   "execution_count": 8,
   "id": "ca60059f-5d87-43e6-9105-6c0beb3c4f16",
   "metadata": {},
   "outputs": [
    {
     "name": "stdout",
     "output_type": "stream",
     "text": [
      "0.079\n",
      "0.100\n",
      "8.89\n",
      "0.59\n",
      "\n",
      "0.189\n",
      "0.210\n",
      "19.56\n",
      "0.62\n",
      "\n"
     ]
    }
   ],
   "source": [
    "with open('./02_relative_if/gen_res_list.pkl', 'rb') as handle:\n",
    "    gen_res_list = pickle.load(handle)\n",
    "for res in gen_res_list:\n",
    "    print(f'{res[0]:.3f}')\n",
    "    print(f'{res[1]:.3f}')\n",
    "    \n",
    "    print(f'{res[2].mean()*100:.2f}')\n",
    "    print(f'{res[2].std()*100:.2f}')\n",
    "\n",
    "    print()"
   ]
  },
  {
   "cell_type": "code",
   "execution_count": 9,
   "id": "f350432a-7b27-4931-8f58-51056d30be23",
   "metadata": {
    "scrolled": true
   },
   "outputs": [
    {
     "name": "stdout",
     "output_type": "stream",
     "text": [
      "0.094\n",
      "0.107\n",
      "9.77\n",
      "0.34\n",
      "\n",
      "0.208\n",
      "0.220\n",
      "20.97\n",
      "0.41\n",
      "\n"
     ]
    }
   ],
   "source": [
    "with open('./02_relative_if/val_res_list.pkl', 'rb') as handle:\n",
    "    val_res_list = pickle.load(handle)\n",
    "for res in val_res_list:\n",
    "    print(f'{res[0]:.3f}')\n",
    "    print(f'{res[1]:.3f}')\n",
    "\n",
    "    print(f'{res[2].mean()*100:.2f}')\n",
    "    print(f'{res[2].std()*100:.2f}')\n",
    "\n",
    "    print()"
   ]
  },
  {
   "cell_type": "code",
   "execution_count": null,
   "id": "c9c22d09-d711-4b94-9e62-ad836f141e98",
   "metadata": {},
   "outputs": [],
   "source": []
  },
  {
   "cell_type": "code",
   "execution_count": null,
   "id": "271044dc-3738-4ec4-b39d-bbf0a830faee",
   "metadata": {},
   "outputs": [],
   "source": []
  },
  {
   "cell_type": "code",
   "execution_count": 10,
   "id": "1550fb80-0c3c-4453-9d37-8e63204ed703",
   "metadata": {},
   "outputs": [
    {
     "name": "stdout",
     "output_type": "stream",
     "text": [
      "0.081\n",
      "0.102\n",
      "8.97\n",
      "0.58\n",
      "\n",
      "0.185\n",
      "0.207\n",
      "19.38\n",
      "0.66\n",
      "\n"
     ]
    }
   ],
   "source": [
    "with open('./03_norm_if/gen_res_list.pkl', 'rb') as handle:\n",
    "    gen_res_list = pickle.load(handle)\n",
    "for res in gen_res_list:\n",
    "    print(f'{res[0]:.3f}')\n",
    "    print(f'{res[1]:.3f}')\n",
    "    \n",
    "    print(f'{res[2].mean()*100:.2f}')\n",
    "    print(f'{res[2].std()*100:.2f}')\n",
    "\n",
    "    print()"
   ]
  },
  {
   "cell_type": "code",
   "execution_count": 11,
   "id": "c75f2477-6ea4-47eb-aaae-053b0ef3393c",
   "metadata": {},
   "outputs": [
    {
     "name": "stdout",
     "output_type": "stream",
     "text": [
      "0.092\n",
      "0.103\n",
      "9.57\n",
      "0.32\n",
      "\n",
      "0.205\n",
      "0.218\n",
      "20.72\n",
      "0.40\n",
      "\n"
     ]
    }
   ],
   "source": [
    "with open('./03_norm_if/val_res_list.pkl', 'rb') as handle:\n",
    "    val_res_list = pickle.load(handle)\n",
    "for res in val_res_list:\n",
    "    print(f'{res[0]:.3f}')\n",
    "    print(f'{res[1]:.3f}')\n",
    "\n",
    "    print(f'{res[2].mean()*100:.2f}')\n",
    "    print(f'{res[2].std()*100:.2f}')\n",
    "\n",
    "    print()"
   ]
  },
  {
   "cell_type": "code",
   "execution_count": null,
   "id": "2bfd6f51-36b1-4ec8-9cad-58847fc0af2d",
   "metadata": {},
   "outputs": [],
   "source": []
  },
  {
   "cell_type": "code",
   "execution_count": null,
   "id": "bb9d6566-469e-4643-8420-0b4b91b7730b",
   "metadata": {},
   "outputs": [],
   "source": []
  },
  {
   "cell_type": "code",
   "execution_count": 12,
   "id": "fa09e695-eebb-4082-a648-3875082a5377",
   "metadata": {},
   "outputs": [
    {
     "name": "stdout",
     "output_type": "stream",
     "text": [
      "0.078\n",
      "0.099\n",
      "8.79\n",
      "0.59\n",
      "\n",
      "0.190\n",
      "0.210\n",
      "19.54\n",
      "0.61\n",
      "\n",
      "0.209\n",
      "0.232\n",
      "21.56\n",
      "0.71\n",
      "\n",
      "0.233\n",
      "0.255\n",
      "23.85\n",
      "0.74\n",
      "\n"
     ]
    }
   ],
   "source": [
    "with open('./04_if/gen_res_list.pkl', 'rb') as handle:\n",
    "    gen_res_list = pickle.load(handle)\n",
    "for res in gen_res_list:\n",
    "    print(f'{res[0]:.3f}')\n",
    "    print(f'{res[1]:.3f}')\n",
    "    \n",
    "    print(f'{res[2].mean()*100:.2f}')\n",
    "    print(f'{res[2].std()*100:.2f}')\n",
    "\n",
    "    print()"
   ]
  },
  {
   "cell_type": "code",
   "execution_count": 13,
   "id": "7a0d5255-9d37-4e3b-93d0-1ec7050dee47",
   "metadata": {},
   "outputs": [
    {
     "name": "stdout",
     "output_type": "stream",
     "text": [
      "0.094\n",
      "0.107\n",
      "9.79\n",
      "0.33\n",
      "\n",
      "0.208\n",
      "0.221\n",
      "21.03\n",
      "0.42\n",
      "\n",
      "0.226\n",
      "0.236\n",
      "22.84\n",
      "0.37\n",
      "\n",
      "0.273\n",
      "0.282\n",
      "27.46\n",
      "0.37\n",
      "\n"
     ]
    }
   ],
   "source": [
    "with open('./04_if/val_res_list.pkl', 'rb') as handle:\n",
    "    val_res_list = pickle.load(handle)\n",
    "for res in val_res_list:\n",
    "    print(f'{res[0]:.3f}')\n",
    "    print(f'{res[1]:.3f}')\n",
    "\n",
    "    print(f'{res[2].mean()*100:.2f}')\n",
    "    print(f'{res[2].std()*100:.2f}')\n",
    "\n",
    "    print()"
   ]
  },
  {
   "cell_type": "code",
   "execution_count": null,
   "id": "26f8d08b-c3ac-4b98-8e6e-5f73e35b61f4",
   "metadata": {},
   "outputs": [],
   "source": []
  },
  {
   "cell_type": "code",
   "execution_count": null,
   "id": "14a2a9ab-d346-4aec-a61c-f434b0ee18d4",
   "metadata": {},
   "outputs": [],
   "source": []
  },
  {
   "cell_type": "code",
   "execution_count": 14,
   "id": "6a899de5-ade7-4016-a1de-fcfeb9a7e5c1",
   "metadata": {},
   "outputs": [
    {
     "name": "stdout",
     "output_type": "stream",
     "text": [
      "0.062\n",
      "0.088\n",
      "7.59\n",
      "0.78\n",
      "\n",
      "0.128\n",
      "0.150\n",
      "13.31\n",
      "0.68\n",
      "\n"
     ]
    }
   ],
   "source": [
    "with open('./09_workshop/gen_res_list.pkl', 'rb') as handle:\n",
    "    gen_res_list = pickle.load(handle)\n",
    "for res in gen_res_list:\n",
    "    print(f'{res[0]:.3f}')\n",
    "    print(f'{res[1]:.3f}')\n",
    "    \n",
    "    print(f'{res[2].mean()*100:.2f}')\n",
    "    print(f'{res[2].std()*100:.2f}')\n",
    "\n",
    "    print()"
   ]
  },
  {
   "cell_type": "code",
   "execution_count": null,
   "id": "d4810786-55a7-42a5-979d-5bc202a6c2c4",
   "metadata": {},
   "outputs": [],
   "source": []
  },
  {
   "cell_type": "code",
   "execution_count": null,
   "id": "f1d12d79-893f-4db3-af90-9d2db867802a",
   "metadata": {},
   "outputs": [],
   "source": []
  },
  {
   "cell_type": "code",
   "execution_count": null,
   "id": "eb52f4ce-0b56-4d29-96ed-9b852d95e9a7",
   "metadata": {},
   "outputs": [],
   "source": []
  },
  {
   "cell_type": "code",
   "execution_count": null,
   "id": "714166fb-b6f4-40c5-8d71-4d1267c3e9cf",
   "metadata": {},
   "outputs": [],
   "source": []
  },
  {
   "cell_type": "code",
   "execution_count": null,
   "id": "2392b596-fc13-459b-a0fe-b14d9cb406e7",
   "metadata": {},
   "outputs": [],
   "source": []
  },
  {
   "cell_type": "code",
   "execution_count": null,
   "id": "7b454788-52fb-44b8-a98b-d93c54b9dc55",
   "metadata": {},
   "outputs": [],
   "source": []
  },
  {
   "cell_type": "code",
   "execution_count": null,
   "id": "d882e566-3f1c-4c76-8dbd-cfbec4abfcaf",
   "metadata": {},
   "outputs": [],
   "source": []
  }
 ],
 "metadata": {
  "kernelspec": {
   "display_name": "Python 3 (ipykernel)",
   "language": "python",
   "name": "python3"
  },
  "language_info": {
   "codemirror_mode": {
    "name": "ipython",
    "version": 3
   },
   "file_extension": ".py",
   "mimetype": "text/x-python",
   "name": "python",
   "nbconvert_exporter": "python",
   "pygments_lexer": "ipython3",
   "version": "3.8.10"
  }
 },
 "nbformat": 4,
 "nbformat_minor": 5
}
