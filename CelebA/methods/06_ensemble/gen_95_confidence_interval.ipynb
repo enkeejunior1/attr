{
 "cells": [
  {
   "cell_type": "code",
   "execution_count": 1,
   "id": "7d607888-e92d-4720-b28e-43d8ce2c643a",
   "metadata": {},
   "outputs": [],
   "source": [
    "import numpy as np"
   ]
  },
  {
   "cell_type": "code",
   "execution_count": 2,
   "id": "c9bb7deb-4dbb-4100-a5c6-1ab11c826833",
   "metadata": {},
   "outputs": [],
   "source": [
    "import pickle"
   ]
  },
  {
   "cell_type": "code",
   "execution_count": 3,
   "id": "f37c6eff-445d-4007-9951-fdba0c6b46d4",
   "metadata": {},
   "outputs": [],
   "source": [
    "import matplotlib.pyplot as plt\n"
   ]
  },
  {
   "cell_type": "code",
   "execution_count": 4,
   "id": "7499a23a-7876-4670-ae09-c4de570791e5",
   "metadata": {},
   "outputs": [
    {
     "data": {
      "text/plain": [
       "5000"
      ]
     },
     "execution_count": 4,
     "metadata": {},
     "output_type": "execute_result"
    }
   ],
   "source": [
    "with open('../../data/indices/5000-0.5/idx-train.pkl', 'rb')  as handle:\n",
    "    idx_train = pickle.load(handle)\n",
    "len(idx_train)   "
   ]
  },
  {
   "cell_type": "code",
   "execution_count": 5,
   "id": "46fa7fd5-34ca-4e86-8773-f5ff38b758da",
   "metadata": {},
   "outputs": [],
   "source": [
    "scores_list = []"
   ]
  },
  {
   "cell_type": "code",
   "execution_count": 6,
   "id": "d98abb9c-a3e5-4103-9261-b90f5a5e15ff",
   "metadata": {},
   "outputs": [],
   "source": [
    "with open(\"gen_5000_0.5_scores_10.pkl\", 'rb') as handle:\n",
    "    seed_score_list = pickle.load(handle)\n",
    "scores_list.append(np.stack(seed_score_list[0][0])[0:1].mean(axis=0))\n",
    "scores_list.append(np.stack(seed_score_list[0][0])[0:2].mean(axis=0))\n",
    "scores_list.append(np.stack(seed_score_list[0][0])[0:4].mean(axis=0))\n",
    "scores_list.append(np.stack(seed_score_list[0][0])[0:8].mean(axis=0))\n",
    "\n",
    "scores_list.append(np.stack(seed_score_list[0][1])[0:1].mean(axis=0))\n",
    "scores_list.append(np.stack(seed_score_list[0][1])[0:2].mean(axis=0))\n",
    "scores_list.append(np.stack(seed_score_list[0][1])[0:4].mean(axis=0))\n",
    "scores_list.append(np.stack(seed_score_list[0][1])[0:8].mean(axis=0))"
   ]
  },
  {
   "cell_type": "code",
   "execution_count": null,
   "id": "c0843462-d2bc-4509-8a9e-210ab9691a5f",
   "metadata": {},
   "outputs": [],
   "source": []
  },
  {
   "cell_type": "code",
   "execution_count": 7,
   "id": "1aa3dbcd-855e-405a-ab27-b19f4261dcee",
   "metadata": {},
   "outputs": [],
   "source": [
    "with open(\"gen_5000_0.5_scores_100.pkl\", 'rb') as handle:\n",
    "    seed_score_list = pickle.load(handle)\n",
    "scores_list.append(np.stack(seed_score_list[0][0])[0:1].mean(axis=0))\n",
    "scores_list.append(np.stack(seed_score_list[0][0])[0:2].mean(axis=0))\n",
    "scores_list.append(np.stack(seed_score_list[0][0])[0:4].mean(axis=0))\n",
    "scores_list.append(np.stack(seed_score_list[0][0])[0:8].mean(axis=0))\n",
    "\n",
    "scores_list.append(np.stack(seed_score_list[0][1])[0:1].mean(axis=0))\n",
    "scores_list.append(np.stack(seed_score_list[0][1])[0:2].mean(axis=0))\n",
    "scores_list.append(np.stack(seed_score_list[0][1])[0:4].mean(axis=0))\n",
    "scores_list.append(np.stack(seed_score_list[0][1])[0:8].mean(axis=0))"
   ]
  },
  {
   "cell_type": "code",
   "execution_count": null,
   "id": "51feac50-3440-4396-a6e6-5f2a6080dbf2",
   "metadata": {},
   "outputs": [],
   "source": []
  },
  {
   "cell_type": "code",
   "execution_count": 8,
   "id": "b1e2f974-ea7b-4832-a740-44f53ab2c2c6",
   "metadata": {},
   "outputs": [
    {
     "data": {
      "text/plain": [
       "16"
      ]
     },
     "execution_count": 8,
     "metadata": {},
     "output_type": "execute_result"
    }
   ],
   "source": [
    "len(scores_list)"
   ]
  },
  {
   "cell_type": "code",
   "execution_count": null,
   "id": "bec15b45-0542-4b6d-8bf7-9d47a53584c1",
   "metadata": {},
   "outputs": [],
   "source": []
  },
  {
   "cell_type": "code",
   "execution_count": null,
   "id": "e2091b23-f9b9-4627-83f8-2f755e638328",
   "metadata": {},
   "outputs": [],
   "source": []
  },
  {
   "cell_type": "code",
   "execution_count": null,
   "id": "3094d577-6791-4900-953b-d0d27e3d3d14",
   "metadata": {},
   "outputs": [],
   "source": []
  },
  {
   "cell_type": "code",
   "execution_count": 9,
   "id": "17304aaf-68b6-4349-b923-b458ddca5939",
   "metadata": {},
   "outputs": [],
   "source": [
    "# load ground truth\n",
    "my_list = [\n",
    "    0,1,2,3,\n",
    "    4,5,6,7,\n",
    "    8,9,10,11,\n",
    "    12,13,14,15,\n",
    "    16,17,18,19,\n",
    "    20,21,22,23,\n",
    "    24,25,26,27,\n",
    "    28,29,30,31,\n",
    "    32,33,34,35,\n",
    "    36,37,38,39,\n",
    "    40,41,42,43,\n",
    "    44,45,46,47,\n",
    "    48,49,50,51,\n",
    "    52,53,54,55,\n",
    "    56,57,58,59,\n",
    "    60,61,62,63,\n",
    "          ]"
   ]
  },
  {
   "cell_type": "code",
   "execution_count": 10,
   "id": "9dda99c2-c1e1-40b0-95b7-834397c035ec",
   "metadata": {},
   "outputs": [
    {
     "data": {
      "text/plain": [
       "(64, 1000, 1000)"
      ]
     },
     "execution_count": 10,
     "metadata": {},
     "output_type": "execute_result"
    }
   ],
   "source": [
    "loss_array_list = []\n",
    "\n",
    "for i in my_list:\n",
    "    for seed in [\n",
    "        0,\n",
    "                 1,\n",
    "                 2,\n",
    "                 # 3,\n",
    "                 # 4,\n",
    "                ]:\n",
    "        for e_seed in [\n",
    "            0, \n",
    "                       1, \n",
    "                       2\n",
    "                      ]:\n",
    "            with open('../../saved/5000-0.5/lds-val/ddpm-sub-{}-{}/e-{}-gen.pkl'.format(i, seed, e_seed), 'rb')  as handle:\n",
    "                loss_list = pickle.load(handle)\n",
    "            margins = np.concatenate(loss_list, axis=-1) # -logp\n",
    "            ####\n",
    "            if (seed==0) and (e_seed)==0:\n",
    "                loss_array = margins\n",
    "            else:\n",
    "                loss_array += margins\n",
    "            \n",
    "    loss_array = loss_array/(3*3)\n",
    "    \n",
    "    loss_array_list.append(loss_array)\n",
    "lds_loss_array = np.stack(loss_array_list)\n",
    "lds_loss_array.shape"
   ]
  },
  {
   "cell_type": "code",
   "execution_count": null,
   "id": "4214c4b5-d74f-4e52-8c45-1f20ea8d4b38",
   "metadata": {},
   "outputs": [],
   "source": []
  },
  {
   "cell_type": "code",
   "execution_count": null,
   "id": "f8d0f643-d0aa-433d-8586-e75351bdd70f",
   "metadata": {},
   "outputs": [],
   "source": []
  },
  {
   "cell_type": "code",
   "execution_count": 11,
   "id": "79b46713-e348-490c-8c4c-9f57068935cd",
   "metadata": {},
   "outputs": [
    {
     "data": {
      "image/png": "[encoded data removed]",
      "text/plain": [
       "<Figure size 640x480 with 1 Axes>"
      ]
     },
     "metadata": {},
     "output_type": "display_data"
    }
   ],
   "source": [
    "for i in range(1):\n",
    "    for j in range(8):\n",
    "        plt.plot(lds_loss_array[i, :, j], color=\"C{}\".format(j))\n",
    "    # break"
   ]
  },
  {
   "cell_type": "code",
   "execution_count": 12,
   "id": "a717d51e-e999-42b0-8b4e-215f8b69efac",
   "metadata": {},
   "outputs": [
    {
     "data": {
      "text/plain": [
       "(64, 5000)"
      ]
     },
     "execution_count": 12,
     "metadata": {},
     "output_type": "execute_result"
    }
   ],
   "source": [
    "mask_array_list = []\n",
    "\n",
    "for i in my_list:\n",
    "    # print(i)\n",
    "    with open('../../data/indices/5000-0.5/lds-val/sub-idx-{}.pkl'.format(i), 'rb')  as handle:\n",
    "        sub_idx_train = pickle.load(handle)\n",
    "    # print(len(sub_idx_train))\n",
    "    mask_array = np.in1d(idx_train, sub_idx_train)\n",
    "        \n",
    "    mask_array_list.append(mask_array)\n",
    "    \n",
    "lds_mask_array = np.stack(mask_array_list)\n",
    "lds_mask_array.shape"
   ]
  },
  {
   "cell_type": "code",
   "execution_count": 13,
   "id": "9006fe41-b864-4861-9826-ebf2a8ab0c9d",
   "metadata": {},
   "outputs": [
    {
     "data": {
      "text/plain": [
       "(64, 1000)"
      ]
     },
     "execution_count": 13,
     "metadata": {},
     "output_type": "execute_result"
    }
   ],
   "source": [
    "lds_testset_correctness = lds_loss_array.mean(axis=1)\n",
    "lds_testset_correctness.shape"
   ]
  },
  {
   "cell_type": "code",
   "execution_count": 14,
   "id": "c6b5645a-a6e3-4570-9aca-6e2ab3adf760",
   "metadata": {},
   "outputs": [
    {
     "data": {
      "image/png": "[encoded data removed]",
      "text/plain": [
       "<Figure size 640x480 with 1 Axes>"
      ]
     },
     "metadata": {},
     "output_type": "display_data"
    }
   ],
   "source": [
    "for j in range(4):\n",
    "    plt.plot(lds_testset_correctness[:, j], color=\"C{}\".format(j))\n",
    "    # break\n",
    "# plt.ylim(0.15, 0.2)"
   ]
  },
  {
   "cell_type": "code",
   "execution_count": null,
   "id": "a6e1fd5a-508d-4b7d-a4a5-e1ea000b9547",
   "metadata": {},
   "outputs": [],
   "source": []
  },
  {
   "cell_type": "code",
   "execution_count": 15,
   "id": "12557fa3-4063-4a2f-8813-d6ff5518c152",
   "metadata": {},
   "outputs": [
    {
     "name": "stdout",
     "output_type": "stream",
     "text": [
      "Correlation: 0.095 (avg p value 0.405693)\n"
     ]
    }
   ],
   "source": [
    "# compute lds\n",
    "from scipy.stats import spearmanr, pearsonr\n",
    "####\n",
    "margins = lds_testset_correctness\n",
    "infl_est_ = -scores_list[0]\n",
    "# infl_est_ = -tmp\n",
    "preds = lds_mask_array @ infl_est_.T\n",
    "####\n",
    "rs = []\n",
    "ps = []\n",
    "\n",
    "for ind in range(1000):\n",
    "    r, p = spearmanr(preds[:, ind], margins[:, ind])\n",
    "    # r, p = pearsonr(preds[:, ind], margins[:, ind])\n",
    "    rs.append(r)\n",
    "    ps.append(p)\n",
    "    \n",
    "rs, ps = np.array(rs), np.array(ps)\n",
    "print(f'Correlation: {rs.mean():.3f} (avg p value {ps.mean():.6f})')\n",
    "\n",
    "# tmp_1 = rs"
   ]
  },
  {
   "cell_type": "code",
   "execution_count": 16,
   "id": "fe452ce0-43bb-4f4e-838d-e2b24f1d04b7",
   "metadata": {},
   "outputs": [
    {
     "name": "stdout",
     "output_type": "stream",
     "text": [
      "Correlation: 0.094 (avg p value 0.414493)\n"
     ]
    }
   ],
   "source": [
    "# compute lds\n",
    "from scipy.stats import spearmanr, pearsonr\n",
    "####\n",
    "margins = lds_testset_correctness\n",
    "infl_est_ = -scores_list[1]\n",
    "# infl_est_ = -tmp\n",
    "preds = lds_mask_array @ infl_est_.T\n",
    "####\n",
    "rs = []\n",
    "ps = []\n",
    "\n",
    "for ind in range(1000):\n",
    "    r, p = spearmanr(preds[:, ind], margins[:, ind])\n",
    "    # r, p = pearsonr(preds[:, ind], margins[:, ind])\n",
    "    rs.append(r)\n",
    "    ps.append(p)\n",
    "    \n",
    "rs, ps = np.array(rs), np.array(ps)\n",
    "print(f'Correlation: {rs.mean():.3f} (avg p value {ps.mean():.6f})')\n",
    "\n",
    "# tmp_1 = rs"
   ]
  },
  {
   "cell_type": "code",
   "execution_count": 17,
   "id": "f2f44265-e343-4000-9a48-454971ff77dd",
   "metadata": {},
   "outputs": [
    {
     "name": "stdout",
     "output_type": "stream",
     "text": [
      "Correlation: 0.095 (avg p value 0.406577)\n"
     ]
    }
   ],
   "source": [
    "# compute lds\n",
    "from scipy.stats import spearmanr, pearsonr\n",
    "####\n",
    "margins = lds_testset_correctness\n",
    "infl_est_ = -scores_list[2]\n",
    "# infl_est_ = -tmp\n",
    "preds = lds_mask_array @ infl_est_.T\n",
    "####\n",
    "rs = []\n",
    "ps = []\n",
    "\n",
    "for ind in range(1000):\n",
    "    r, p = spearmanr(preds[:, ind], margins[:, ind])\n",
    "    # r, p = pearsonr(preds[:, ind], margins[:, ind])\n",
    "    rs.append(r)\n",
    "    ps.append(p)\n",
    "    \n",
    "rs, ps = np.array(rs), np.array(ps)\n",
    "print(f'Correlation: {rs.mean():.3f} (avg p value {ps.mean():.6f})')\n",
    "\n",
    "# tmp_1 = rs"
   ]
  },
  {
   "cell_type": "code",
   "execution_count": 18,
   "id": "af35be81-8658-4113-b6bc-dd2e4bb8cecd",
   "metadata": {},
   "outputs": [
    {
     "name": "stdout",
     "output_type": "stream",
     "text": [
      "Correlation: 0.094 (avg p value 0.404996)\n"
     ]
    }
   ],
   "source": [
    "# compute lds\n",
    "from scipy.stats import spearmanr, pearsonr\n",
    "####\n",
    "margins = lds_testset_correctness\n",
    "infl_est_ = -scores_list[3]\n",
    "# infl_est_ = -tmp\n",
    "preds = lds_mask_array @ infl_est_.T\n",
    "####\n",
    "rs = []\n",
    "ps = []\n",
    "\n",
    "for ind in range(1000):\n",
    "    r, p = spearmanr(preds[:, ind], margins[:, ind])\n",
    "    # r, p = pearsonr(preds[:, ind], margins[:, ind])\n",
    "    rs.append(r)\n",
    "    ps.append(p)\n",
    "    \n",
    "rs, ps = np.array(rs), np.array(ps)\n",
    "print(f'Correlation: {rs.mean():.3f} (avg p value {ps.mean():.6f})')\n",
    "\n",
    "# tmp_1 = rs"
   ]
  },
  {
   "cell_type": "code",
   "execution_count": 19,
   "id": "3935a543-4c50-445e-83e2-c24fcab4b380",
   "metadata": {},
   "outputs": [
    {
     "name": "stdout",
     "output_type": "stream",
     "text": [
      "Correlation: 0.173 (avg p value 0.274444)\n"
     ]
    }
   ],
   "source": [
    "# compute lds\n",
    "from scipy.stats import spearmanr, pearsonr\n",
    "####\n",
    "margins = lds_testset_correctness\n",
    "infl_est_ = -scores_list[4]\n",
    "# infl_est_ = -tmp\n",
    "preds = lds_mask_array @ infl_est_.T\n",
    "####\n",
    "rs = []\n",
    "ps = []\n",
    "\n",
    "for ind in range(1000):\n",
    "    r, p = spearmanr(preds[:, ind], margins[:, ind])\n",
    "    # r, p = pearsonr(preds[:, ind], margins[:, ind])\n",
    "    rs.append(r)\n",
    "    ps.append(p)\n",
    "    \n",
    "rs, ps = np.array(rs), np.array(ps)\n",
    "print(f'Correlation: {rs.mean():.3f} (avg p value {ps.mean():.6f})')\n",
    "\n",
    "# tmp_1 = rs"
   ]
  },
  {
   "cell_type": "code",
   "execution_count": 20,
   "id": "8113e5f7-11ed-4d7d-976c-37a9b1791257",
   "metadata": {},
   "outputs": [
    {
     "name": "stdout",
     "output_type": "stream",
     "text": [
      "Correlation: 0.178 (avg p value 0.268847)\n"
     ]
    }
   ],
   "source": [
    "# compute lds\n",
    "from scipy.stats import spearmanr, pearsonr\n",
    "####\n",
    "margins = lds_testset_correctness\n",
    "infl_est_ = -scores_list[5]\n",
    "# infl_est_ = -tmp\n",
    "preds = lds_mask_array @ infl_est_.T\n",
    "####\n",
    "rs = []\n",
    "ps = []\n",
    "\n",
    "for ind in range(1000):\n",
    "    r, p = spearmanr(preds[:, ind], margins[:, ind])\n",
    "    # r, p = pearsonr(preds[:, ind], margins[:, ind])\n",
    "    rs.append(r)\n",
    "    ps.append(p)\n",
    "    \n",
    "rs, ps = np.array(rs), np.array(ps)\n",
    "print(f'Correlation: {rs.mean():.3f} (avg p value {ps.mean():.6f})')\n",
    "\n",
    "# tmp_1 = rs"
   ]
  },
  {
   "cell_type": "code",
   "execution_count": 21,
   "id": "c1084bfa-fd45-486c-bd2d-91caaaf6f190",
   "metadata": {},
   "outputs": [
    {
     "name": "stdout",
     "output_type": "stream",
     "text": [
      "Correlation: 0.179 (avg p value 0.266845)\n"
     ]
    }
   ],
   "source": [
    "# compute lds\n",
    "from scipy.stats import spearmanr, pearsonr\n",
    "####\n",
    "margins = lds_testset_correctness\n",
    "infl_est_ = -scores_list[6]\n",
    "# infl_est_ = -tmp\n",
    "preds = lds_mask_array @ infl_est_.T\n",
    "####\n",
    "rs = []\n",
    "ps = []\n",
    "\n",
    "for ind in range(1000):\n",
    "    r, p = spearmanr(preds[:, ind], margins[:, ind])\n",
    "    # r, p = pearsonr(preds[:, ind], margins[:, ind])\n",
    "    rs.append(r)\n",
    "    ps.append(p)\n",
    "    \n",
    "rs, ps = np.array(rs), np.array(ps)\n",
    "print(f'Correlation: {rs.mean():.3f} (avg p value {ps.mean():.6f})')\n",
    "\n",
    "# tmp_1 = rs"
   ]
  },
  {
   "cell_type": "code",
   "execution_count": 22,
   "id": "2f417ebf-d93c-446b-b8cd-ce39465c828f",
   "metadata": {},
   "outputs": [
    {
     "name": "stdout",
     "output_type": "stream",
     "text": [
      "Correlation: 0.180 (avg p value 0.263917)\n"
     ]
    }
   ],
   "source": [
    "# compute lds\n",
    "from scipy.stats import spearmanr, pearsonr\n",
    "####\n",
    "margins = lds_testset_correctness\n",
    "infl_est_ = -scores_list[7]\n",
    "# infl_est_ = -tmp\n",
    "preds = lds_mask_array @ infl_est_.T\n",
    "####\n",
    "rs = []\n",
    "ps = []\n",
    "\n",
    "for ind in range(1000):\n",
    "    r, p = spearmanr(preds[:, ind], margins[:, ind])\n",
    "    # r, p = pearsonr(preds[:, ind], margins[:, ind])\n",
    "    rs.append(r)\n",
    "    ps.append(p)\n",
    "    \n",
    "rs, ps = np.array(rs), np.array(ps)\n",
    "print(f'Correlation: {rs.mean():.3f} (avg p value {ps.mean():.6f})')\n",
    "\n",
    "# tmp_1 = rs"
   ]
  },
  {
   "cell_type": "code",
   "execution_count": 23,
   "id": "5cfa8f05-4fae-4633-8bda-c712af94ec4c",
   "metadata": {},
   "outputs": [
    {
     "name": "stdout",
     "output_type": "stream",
     "text": [
      "Correlation: 0.167 (avg p value 0.282425)\n"
     ]
    }
   ],
   "source": [
    "# compute lds\n",
    "from scipy.stats import spearmanr, pearsonr\n",
    "####\n",
    "margins = lds_testset_correctness\n",
    "infl_est_ = -scores_list[8]\n",
    "# infl_est_ = -tmp\n",
    "preds = lds_mask_array @ infl_est_.T\n",
    "####\n",
    "rs = []\n",
    "ps = []\n",
    "\n",
    "for ind in range(1000):\n",
    "    r, p = spearmanr(preds[:, ind], margins[:, ind])\n",
    "    # r, p = pearsonr(preds[:, ind], margins[:, ind])\n",
    "    rs.append(r)\n",
    "    ps.append(p)\n",
    "    \n",
    "rs, ps = np.array(rs), np.array(ps)\n",
    "print(f'Correlation: {rs.mean():.3f} (avg p value {ps.mean():.6f})')\n",
    "\n",
    "# tmp_1 = rs"
   ]
  },
  {
   "cell_type": "code",
   "execution_count": 24,
   "id": "352a8426-ca7d-4139-909d-f801a52c342b",
   "metadata": {},
   "outputs": [
    {
     "name": "stdout",
     "output_type": "stream",
     "text": [
      "Correlation: 0.176 (avg p value 0.267436)\n"
     ]
    }
   ],
   "source": [
    "# compute lds\n",
    "from scipy.stats import spearmanr, pearsonr\n",
    "####\n",
    "margins = lds_testset_correctness\n",
    "infl_est_ = -scores_list[9]\n",
    "# infl_est_ = -tmp\n",
    "preds = lds_mask_array @ infl_est_.T\n",
    "####\n",
    "rs = []\n",
    "ps = []\n",
    "\n",
    "for ind in range(1000):\n",
    "    r, p = spearmanr(preds[:, ind], margins[:, ind])\n",
    "    # r, p = pearsonr(preds[:, ind], margins[:, ind])\n",
    "    rs.append(r)\n",
    "    ps.append(p)\n",
    "    \n",
    "rs, ps = np.array(rs), np.array(ps)\n",
    "print(f'Correlation: {rs.mean():.3f} (avg p value {ps.mean():.6f})')\n",
    "\n",
    "# tmp_1 = rs"
   ]
  },
  {
   "cell_type": "code",
   "execution_count": 25,
   "id": "f0961348-6bbc-416a-8006-0b6c4c485f13",
   "metadata": {},
   "outputs": [
    {
     "name": "stdout",
     "output_type": "stream",
     "text": [
      "Correlation: 0.182 (avg p value 0.256843)\n"
     ]
    }
   ],
   "source": [
    "# compute lds\n",
    "from scipy.stats import spearmanr, pearsonr\n",
    "####\n",
    "margins = lds_testset_correctness\n",
    "infl_est_ = -scores_list[10]\n",
    "# infl_est_ = -tmp\n",
    "preds = lds_mask_array @ infl_est_.T\n",
    "####\n",
    "rs = []\n",
    "ps = []\n",
    "\n",
    "for ind in range(1000):\n",
    "    r, p = spearmanr(preds[:, ind], margins[:, ind])\n",
    "    # r, p = pearsonr(preds[:, ind], margins[:, ind])\n",
    "    rs.append(r)\n",
    "    ps.append(p)\n",
    "    \n",
    "rs, ps = np.array(rs), np.array(ps)\n",
    "print(f'Correlation: {rs.mean():.3f} (avg p value {ps.mean():.6f})')\n",
    "\n",
    "# tmp_1 = rs"
   ]
  },
  {
   "cell_type": "code",
   "execution_count": 26,
   "id": "50e7461a-3663-4cfb-b773-995d59415428",
   "metadata": {},
   "outputs": [
    {
     "name": "stdout",
     "output_type": "stream",
     "text": [
      "Correlation: 0.185 (avg p value 0.252808)\n"
     ]
    }
   ],
   "source": [
    "# compute lds\n",
    "from scipy.stats import spearmanr, pearsonr\n",
    "####\n",
    "margins = lds_testset_correctness\n",
    "infl_est_ = -scores_list[11]\n",
    "# infl_est_ = -tmp\n",
    "preds = lds_mask_array @ infl_est_.T\n",
    "####\n",
    "rs = []\n",
    "ps = []\n",
    "\n",
    "for ind in range(1000):\n",
    "    r, p = spearmanr(preds[:, ind], margins[:, ind])\n",
    "    # r, p = pearsonr(preds[:, ind], margins[:, ind])\n",
    "    rs.append(r)\n",
    "    ps.append(p)\n",
    "    \n",
    "rs, ps = np.array(rs), np.array(ps)\n",
    "print(f'Correlation: {rs.mean():.3f} (avg p value {ps.mean():.6f})')\n",
    "\n",
    "# tmp_1 = rs"
   ]
  },
  {
   "cell_type": "code",
   "execution_count": 27,
   "id": "10c2e40e-b69f-46fd-8c52-590f5e053b83",
   "metadata": {},
   "outputs": [
    {
     "name": "stdout",
     "output_type": "stream",
     "text": [
      "Correlation: 0.212 (avg p value 0.206084)\n"
     ]
    }
   ],
   "source": [
    "# compute lds\n",
    "from scipy.stats import spearmanr, pearsonr\n",
    "####\n",
    "margins = lds_testset_correctness\n",
    "infl_est_ = -scores_list[12]\n",
    "# infl_est_ = -tmp\n",
    "preds = lds_mask_array @ infl_est_.T\n",
    "####\n",
    "rs = []\n",
    "ps = []\n",
    "\n",
    "for ind in range(1000):\n",
    "    r, p = spearmanr(preds[:, ind], margins[:, ind])\n",
    "    # r, p = pearsonr(preds[:, ind], margins[:, ind])\n",
    "    rs.append(r)\n",
    "    ps.append(p)\n",
    "    \n",
    "rs, ps = np.array(rs), np.array(ps)\n",
    "print(f'Correlation: {rs.mean():.3f} (avg p value {ps.mean():.6f})')\n",
    "\n",
    "# tmp_1 = rs"
   ]
  },
  {
   "cell_type": "code",
   "execution_count": 28,
   "id": "7fdc8826-0a84-49e3-9bb3-dc89c175f4e6",
   "metadata": {},
   "outputs": [
    {
     "name": "stdout",
     "output_type": "stream",
     "text": [
      "Correlation: 0.221 (avg p value 0.195278)\n"
     ]
    }
   ],
   "source": [
    "# compute lds\n",
    "from scipy.stats import spearmanr, pearsonr\n",
    "####\n",
    "margins = lds_testset_correctness\n",
    "infl_est_ = -scores_list[13]\n",
    "# infl_est_ = -tmp\n",
    "preds = lds_mask_array @ infl_est_.T\n",
    "####\n",
    "rs = []\n",
    "ps = []\n",
    "\n",
    "for ind in range(1000):\n",
    "    r, p = spearmanr(preds[:, ind], margins[:, ind])\n",
    "    # r, p = pearsonr(preds[:, ind], margins[:, ind])\n",
    "    rs.append(r)\n",
    "    ps.append(p)\n",
    "    \n",
    "rs, ps = np.array(rs), np.array(ps)\n",
    "print(f'Correlation: {rs.mean():.3f} (avg p value {ps.mean():.6f})')\n",
    "\n",
    "# tmp_1 = rs"
   ]
  },
  {
   "cell_type": "code",
   "execution_count": 29,
   "id": "7e84e86b-0d18-4b0f-895a-d21ac97d33e4",
   "metadata": {},
   "outputs": [
    {
     "name": "stdout",
     "output_type": "stream",
     "text": [
      "Correlation: 0.227 (avg p value 0.186232)\n"
     ]
    }
   ],
   "source": [
    "# compute lds\n",
    "from scipy.stats import spearmanr, pearsonr\n",
    "####\n",
    "margins = lds_testset_correctness\n",
    "infl_est_ = -scores_list[14]\n",
    "# infl_est_ = -tmp\n",
    "preds = lds_mask_array @ infl_est_.T\n",
    "####\n",
    "rs = []\n",
    "ps = []\n",
    "\n",
    "for ind in range(1000):\n",
    "    r, p = spearmanr(preds[:, ind], margins[:, ind])\n",
    "    # r, p = pearsonr(preds[:, ind], margins[:, ind])\n",
    "    rs.append(r)\n",
    "    ps.append(p)\n",
    "    \n",
    "rs, ps = np.array(rs), np.array(ps)\n",
    "print(f'Correlation: {rs.mean():.3f} (avg p value {ps.mean():.6f})')\n",
    "\n",
    "# tmp_1 = rs"
   ]
  },
  {
   "cell_type": "code",
   "execution_count": 30,
   "id": "9e195677-9b66-4e5f-8919-35bae8629f4c",
   "metadata": {},
   "outputs": [
    {
     "name": "stdout",
     "output_type": "stream",
     "text": [
      "Correlation: 0.229 (avg p value 0.182597)\n"
     ]
    }
   ],
   "source": [
    "# compute lds\n",
    "from scipy.stats import spearmanr, pearsonr\n",
    "####\n",
    "margins = lds_testset_correctness\n",
    "infl_est_ = -scores_list[15]\n",
    "# infl_est_ = -tmp\n",
    "preds = lds_mask_array @ infl_est_.T\n",
    "####\n",
    "rs = []\n",
    "ps = []\n",
    "\n",
    "for ind in range(1000):\n",
    "    r, p = spearmanr(preds[:, ind], margins[:, ind])\n",
    "    # r, p = pearsonr(preds[:, ind], margins[:, ind])\n",
    "    rs.append(r)\n",
    "    ps.append(p)\n",
    "    \n",
    "rs, ps = np.array(rs), np.array(ps)\n",
    "print(f'Correlation: {rs.mean():.3f} (avg p value {ps.mean():.6f})')\n",
    "\n",
    "# tmp_1 = rs"
   ]
  },
  {
   "cell_type": "code",
   "execution_count": null,
   "id": "1ac99bcb-1957-4faf-ae61-63d7c203be1f",
   "metadata": {},
   "outputs": [],
   "source": []
  },
  {
   "cell_type": "code",
   "execution_count": null,
   "id": "36b25a3d-b5b5-4351-bbf7-4a97088823a5",
   "metadata": {},
   "outputs": [],
   "source": []
  },
  {
   "cell_type": "code",
   "execution_count": null,
   "id": "08418978-2683-43b5-b019-84f06056ba00",
   "metadata": {},
   "outputs": [],
   "source": []
  },
  {
   "cell_type": "code",
   "execution_count": null,
   "id": "3f1d4903-c261-4644-b30f-f38fdc4c97a1",
   "metadata": {},
   "outputs": [],
   "source": []
  },
  {
   "cell_type": "code",
   "execution_count": 31,
   "id": "01cd2c1f-b213-46f1-9bf0-68eac5add620",
   "metadata": {},
   "outputs": [],
   "source": [
    "import matplotlib.pyplot as plt\n",
    "from scipy.stats import bootstrap"
   ]
  },
  {
   "cell_type": "code",
   "execution_count": 32,
   "id": "031d5899-939d-46a3-a6dd-41a6549f5d7d",
   "metadata": {
    "scrolled": true
   },
   "outputs": [
    {
     "name": "stdout",
     "output_type": "stream",
     "text": [
      "0\n",
      "ConfidenceInterval(low=0.08211254763426099, high=0.11048432104949074)\n",
      "0.082\n",
      "0.11\n",
      "1\n",
      "ConfidenceInterval(low=0.07868266720591412, high=0.10756999028325971)\n",
      "0.079\n",
      "0.108\n",
      "2\n",
      "ConfidenceInterval(low=0.081354184336663, high=0.1067444467407832)\n",
      "0.081\n",
      "0.107\n",
      "3\n",
      "ConfidenceInterval(low=0.0812770550923823, high=0.10666010027882109)\n",
      "0.081\n",
      "0.107\n",
      "4\n",
      "ConfidenceInterval(low=0.16357347910167075, high=0.18570025000206006)\n",
      "0.164\n",
      "0.186\n",
      "5\n",
      "ConfidenceInterval(low=0.16857524298006907, high=0.1909497398587861)\n",
      "0.169\n",
      "0.191\n",
      "6\n",
      "ConfidenceInterval(low=0.17000699175440992, high=0.1921952756886169)\n",
      "0.17\n",
      "0.192\n",
      "7\n",
      "ConfidenceInterval(low=0.17099987591586882, high=0.1923106643250937)\n",
      "0.171\n",
      "0.192\n",
      "8\n",
      "ConfidenceInterval(low=0.1612583740043519, high=0.17729996653523347)\n",
      "0.161\n",
      "0.177\n",
      "9\n",
      "ConfidenceInterval(low=0.1682845844662273, high=0.18724404329813116)\n",
      "0.168\n",
      "0.187\n",
      "10\n",
      "ConfidenceInterval(low=0.17403123432538517, high=0.19356364544436164)\n",
      "0.174\n",
      "0.194\n",
      "11\n",
      "ConfidenceInterval(low=0.17789762154351121, high=0.19557514136949758)\n",
      "0.178\n",
      "0.196\n",
      "12\n",
      "ConfidenceInterval(low=0.204786295545749, high=0.21905308022767167)\n",
      "0.205\n",
      "0.219\n",
      "13\n",
      "ConfidenceInterval(low=0.21324069867745443, high=0.22958354528116423)\n",
      "0.213\n",
      "0.23\n",
      "14\n",
      "ConfidenceInterval(low=0.22019342083343382, high=0.2350538151375307)\n",
      "0.22\n",
      "0.235\n",
      "15\n",
      "ConfidenceInterval(low=0.2218923541398562, high=0.23832241965406697)\n",
      "0.222\n",
      "0.238\n"
     ]
    }
   ],
   "source": [
    "res_list = []\n",
    "for i in range(16):\n",
    "    print(i)\n",
    "    def my_statistics(data):\n",
    "        # print(data)\n",
    "        # print(len(data))\n",
    "        margins = lds_testset_correctness[data]\n",
    "        infl_est_ = -scores_list[i]\n",
    "        # infl_est_ = -tmp\n",
    "        preds = lds_mask_array[data] @ infl_est_.T\n",
    "        ####\n",
    "        rs = []\n",
    "        ps = []\n",
    "        for ind in range(1000):\n",
    "            r, p = spearmanr(preds[:, ind], margins[:, ind])\n",
    "            # r, p = pearsonr(preds[:, ind], margins[:, ind])\n",
    "            rs.append(r)\n",
    "            ps.append(p)\n",
    "        \n",
    "        rs, ps = np.array(rs), np.array(ps)\n",
    "        # print(f'Correlation: {rs.mean():.3f} (avg p value {ps.mean():.6f})')\n",
    "    \n",
    "        return rs.mean()     \n",
    "\n",
    "    data = (list(range(64)), )  # samples must be in a sequence\n",
    "    res = bootstrap(data, my_statistics, \n",
    "                    n_resamples=64, # 够了估计\n",
    "                    batch=128,\n",
    "                    confidence_level=0.95,\n",
    "                    random_state=42)\n",
    "\n",
    "    print(res.confidence_interval)\n",
    "    \n",
    "    print(res.confidence_interval.low.round(3))\n",
    "    print(res.confidence_interval.high.round(3))\n",
    "\n",
    "    res_list.append(res)\n",
    "    # break"
   ]
  },
  {
   "cell_type": "code",
   "execution_count": null,
   "id": "58f45d33-6d43-4367-8710-70132dbdf5b3",
   "metadata": {},
   "outputs": [],
   "source": []
  },
  {
   "cell_type": "code",
   "execution_count": null,
   "id": "7793c07e-c75c-48ca-a173-a9831391a624",
   "metadata": {
    "scrolled": true
   },
   "outputs": [],
   "source": []
  },
  {
   "cell_type": "code",
   "execution_count": 33,
   "id": "9a7aacf8-41cf-4e6d-a038-17a1423ebd46",
   "metadata": {},
   "outputs": [],
   "source": [
    "with open(\"./gen_res_list.pkl\", 'wb') as handle:\n",
    "    pickle.dump([[res.confidence_interval.low, res.confidence_interval.high, res.bootstrap_distribution, res.standard_error] for res in res_list],\n",
    "                handle)"
   ]
  },
  {
   "cell_type": "code",
   "execution_count": null,
   "id": "9859c520-7da2-416e-a5c8-05bff6b939d2",
   "metadata": {},
   "outputs": [],
   "source": []
  },
  {
   "cell_type": "code",
   "execution_count": 34,
   "id": "af844177-9c54-4ad6-b655-a57ec35ae71e",
   "metadata": {},
   "outputs": [
    {
     "data": {
      "image/png": "[encoded data removed]",
      "text/plain": [
       "<Figure size 640x480 with 1 Axes>"
      ]
     },
     "metadata": {},
     "output_type": "display_data"
    }
   ],
   "source": [
    "fig, ax = plt.subplots()\n",
    "ax.hist(res_list[0].bootstrap_distribution, bins=25)\n",
    "ax.set_title('Bootstrap Distribution')\n",
    "ax.set_xlabel('statistic value')\n",
    "ax.set_ylabel('frequency')\n",
    "plt.show()"
   ]
  },
  {
   "cell_type": "code",
   "execution_count": null,
   "id": "0d386ad1-9f39-4f63-9d4b-a52d89367e35",
   "metadata": {},
   "outputs": [],
   "source": []
  },
  {
   "cell_type": "code",
   "execution_count": null,
   "id": "32c48dba-1625-456f-95f7-16e3db6c2758",
   "metadata": {},
   "outputs": [],
   "source": []
  },
  {
   "cell_type": "code",
   "execution_count": null,
   "id": "e03f4530-cee9-49d6-bf35-790bb7f71aaa",
   "metadata": {},
   "outputs": [],
   "source": []
  },
  {
   "cell_type": "code",
   "execution_count": null,
   "id": "7f94c597-e0a2-4efc-b068-a2774e9449f7",
   "metadata": {},
   "outputs": [],
   "source": []
  }
 ],
 "metadata": {
  "kernelspec": {
   "display_name": "Python 3 (ipykernel)",
   "language": "python",
   "name": "python3"
  },
  "language_info": {
   "codemirror_mode": {
    "name": "ipython",
    "version": 3
   },
   "file_extension": ".py",
   "mimetype": "text/x-python",
   "name": "python",
   "nbconvert_exporter": "python",
   "pygments_lexer": "ipython3",
   "version": "3.8.10"
  }
 },
 "nbformat": 4,
 "nbformat_minor": 5
}
