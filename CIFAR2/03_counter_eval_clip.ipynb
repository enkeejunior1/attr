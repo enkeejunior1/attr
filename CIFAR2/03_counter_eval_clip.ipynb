{
 "cells": [
  {
   "cell_type": "code",
   "execution_count": 1,
   "id": "f04439e8-3684-4e71-a58d-1b222008c74d",
   "metadata": {},
   "outputs": [],
   "source": [
    "import os\n",
    "\n",
    "os.environ[\"CUDA_DEVICE_ORDER\"]=\"PCI_BUS_ID\"   \n",
    "os.environ[\"CUDA_VISIBLE_DEVICES\"]='0'\n",
    "os.environ[\"HF_HOME\"]=\"~/codes/.cache/huggingface\""
   ]
  },
  {
   "cell_type": "code",
   "execution_count": null,
   "id": "379a0758-ffa9-4c0f-8828-6976b5752918",
   "metadata": {},
   "outputs": [],
   "source": []
  },
  {
   "cell_type": "code",
   "execution_count": 2,
   "id": "a7c672bc-d87e-450e-bf89-86799b5ba6ee",
   "metadata": {},
   "outputs": [],
   "source": [
    "from accelerate.utils import ProjectConfiguration, set_seed"
   ]
  },
  {
   "cell_type": "code",
   "execution_count": 3,
   "id": "8820a3ed-9b69-423b-868b-79c11c67762e",
   "metadata": {},
   "outputs": [],
   "source": [
    "import torch\n",
    "import random\n",
    "import numpy as np\n",
    "\n",
    "def set_seeds(seed):\n",
    "    set_seed(seed)\n",
    "    random.seed(seed)\n",
    "    np.random.seed(seed)\n",
    "    torch.manual_seed(seed)\n",
    "    torch.backends.cudnn.deterministic = True\n",
    "    torch.backends.cudnn.benchmark = False\n",
    "    \n",
    "set_seeds(42)"
   ]
  },
  {
   "cell_type": "code",
   "execution_count": 4,
   "id": "e9bc9238-5dc8-4d43-8551-a2ce62bfd120",
   "metadata": {},
   "outputs": [],
   "source": [
    "from torchvision import transforms\n",
    "from diffusers import DDPMPipeline, DDIMPipeline, DDPMScheduler, DDIMScheduler, UNet2DModel"
   ]
  },
  {
   "cell_type": "code",
   "execution_count": 5,
   "id": "af017ec5-da0e-43ed-b9d1-8544336a4736",
   "metadata": {},
   "outputs": [],
   "source": [
    "import pickle"
   ]
  },
  {
   "cell_type": "code",
   "execution_count": 6,
   "id": "1c7aa6f4-4adf-494a-bfd2-dd414ef7d8e6",
   "metadata": {},
   "outputs": [
    {
     "data": {
      "text/plain": [
       "'config.json'"
      ]
     },
     "execution_count": 6,
     "metadata": {},
     "output_type": "execute_result"
    }
   ],
   "source": [
    "class Args():\n",
    "    \n",
    "    model_config_name_or_path=\"config.json\"\n",
    "    \n",
    "    dataset_name=\"cifar10\"\n",
    "\n",
    "    resolution=32\n",
    "    center_crop=True\n",
    "    random_flip=False\n",
    "\n",
    "    dataloader_num_workers=8\n",
    "    \n",
    "    seed=42\n",
    "    gen_seed=0    \n",
    "\n",
    "    train_batch_size=256\n",
    "\n",
    "    ddpm_num_steps=1000\n",
    "    ddpm_num_inference_steps=50\n",
    "    ddpm_beta_schedule='linear'\n",
    "\n",
    "args=Args()\n",
    "args.model_config_name_or_path"
   ]
  },
  {
   "cell_type": "code",
   "execution_count": 7,
   "id": "11f8d9d3-a6f0-4113-802d-964b459666de",
   "metadata": {},
   "outputs": [],
   "source": [
    "with open('./data/indices/5000-0.5/counter/idx-gen-sampled.pkl', 'rb') as handle:\n",
    "    test_index = pickle.load(handle)\n",
    "# test_index"
   ]
  },
  {
   "cell_type": "code",
   "execution_count": null,
   "id": "3ae2ce82-e7e2-41bc-a208-8c63c4262b38",
   "metadata": {},
   "outputs": [],
   "source": []
  },
  {
   "cell_type": "code",
   "execution_count": null,
   "id": "0f4b8133-2eda-41cb-9ec9-85b8e964ca55",
   "metadata": {},
   "outputs": [],
   "source": []
  },
  {
   "cell_type": "code",
   "execution_count": null,
   "id": "df86fcb8-af99-499e-83f9-b60d74b7acc0",
   "metadata": {},
   "outputs": [],
   "source": []
  },
  {
   "cell_type": "code",
   "execution_count": 8,
   "id": "04f73514-a407-49c6-90e5-22262cec9def",
   "metadata": {},
   "outputs": [],
   "source": [
    "with open(\"./counter/saved.pkl\", 'rb') as handle:\n",
    "    index_image_list = pickle.load(handle)"
   ]
  },
  {
   "cell_type": "code",
   "execution_count": 9,
   "id": "b685379f-65f1-4c98-990b-5bbc39b9cd15",
   "metadata": {},
   "outputs": [
    {
     "data": {
      "image/png": "[encoded data removed]",
      "text/plain": [
       "<PIL.Image.Image image mode=RGB size=32x32>"
      ]
     },
     "execution_count": 9,
     "metadata": {},
     "output_type": "execute_result"
    }
   ],
   "source": [
    "index_image_list[0][0][0]"
   ]
  },
  {
   "cell_type": "code",
   "execution_count": 10,
   "id": "da93aa94-9e34-463f-aacb-ec3305b1ae83",
   "metadata": {},
   "outputs": [
    {
     "data": {
      "image/png": "[encoded data removed]",
      "text/plain": [
       "<PIL.PngImagePlugin.PngImageFile image mode=RGB size=32x32>"
      ]
     },
     "execution_count": 10,
     "metadata": {},
     "output_type": "execute_result"
    }
   ],
   "source": [
    "import pandas as pd\n",
    "df = pd.DataFrame()\n",
    "df['path'] = ['{}/{}.png'.format('./saved/5000-0.5/gen', i) for i in range(1000)]\n",
    "\n",
    "from datasets import DatasetDict, Dataset, load_dataset, Image\n",
    "dataset = DatasetDict({\n",
    "\"train\": Dataset.from_dict({\n",
    "    \"img\": df['path'].tolist(),\n",
    "}).cast_column(\"img\", Image()),})\n",
    "gen_dataset = dataset[\"train\"]\n",
    "gen_dataset[0]['img']"
   ]
  },
  {
   "cell_type": "code",
   "execution_count": 11,
   "id": "41122a48-e6b2-4fe5-a0a5-349ef6d2d824",
   "metadata": {},
   "outputs": [
    {
     "data": {
      "text/plain": [
       "60"
      ]
     },
     "execution_count": 11,
     "metadata": {},
     "output_type": "execute_result"
    }
   ],
   "source": [
    "len(index_image_list)"
   ]
  },
  {
   "cell_type": "code",
   "execution_count": 12,
   "id": "ccc1816e-129e-437e-b6cb-839b9374cd9d",
   "metadata": {},
   "outputs": [
    {
     "data": {
      "image/png": "[encoded data removed]",
      "text/plain": [
       "<PIL.PngImagePlugin.PngImageFile image mode=RGB size=32x32>"
      ]
     },
     "execution_count": 12,
     "metadata": {},
     "output_type": "execute_result"
    }
   ],
   "source": [
    "gen_images = [gen_dataset[i]['img'] for i in test_index]\n",
    "gen_images[0]"
   ]
  },
  {
   "cell_type": "code",
   "execution_count": 13,
   "id": "371b1704-2c31-460f-91dd-f8d620d577e1",
   "metadata": {},
   "outputs": [
    {
     "data": {
      "text/plain": [
       "60"
      ]
     },
     "execution_count": 13,
     "metadata": {},
     "output_type": "execute_result"
    }
   ],
   "source": [
    "random_images = [index_image_list[i][0][0] for i in range(60)]\n",
    "len(random_images)"
   ]
  },
  {
   "cell_type": "code",
   "execution_count": 14,
   "id": "1253cd76-d79d-4f47-8ad6-697496b94182",
   "metadata": {},
   "outputs": [
    {
     "data": {
      "image/png": "[encoded data removed]",
      "text/plain": [
       "<PIL.Image.Image image mode=RGB size=32x32>"
      ]
     },
     "execution_count": 14,
     "metadata": {},
     "output_type": "execute_result"
    }
   ],
   "source": [
    "random_images[0]"
   ]
  },
  {
   "cell_type": "code",
   "execution_count": 15,
   "id": "ffd8ab02-5fc4-4db4-ad92-b1f5052d79d7",
   "metadata": {},
   "outputs": [
    {
     "data": {
      "text/plain": [
       "60"
      ]
     },
     "execution_count": 15,
     "metadata": {},
     "output_type": "execute_result"
    }
   ],
   "source": [
    "trak_images = [index_image_list[i][0][1] for i in range(60)]\n",
    "len(trak_images)"
   ]
  },
  {
   "cell_type": "code",
   "execution_count": 16,
   "id": "e5bc4262-e856-4dc0-bc4b-0f3a930f0bbc",
   "metadata": {},
   "outputs": [
    {
     "data": {
      "image/png": "[encoded data removed]",
      "text/plain": [
       "<PIL.Image.Image image mode=RGB size=32x32>"
      ]
     },
     "execution_count": 16,
     "metadata": {},
     "output_type": "execute_result"
    }
   ],
   "source": [
    "trak_images[0]"
   ]
  },
  {
   "cell_type": "code",
   "execution_count": 17,
   "id": "cc57274b-d591-44f0-b9f8-53fda6c34fa5",
   "metadata": {},
   "outputs": [
    {
     "data": {
      "text/plain": [
       "60"
      ]
     },
     "execution_count": 17,
     "metadata": {},
     "output_type": "execute_result"
    }
   ],
   "source": [
    "ours_images = [index_image_list[i][0][2] for i in range(60)]\n",
    "len(ours_images)"
   ]
  },
  {
   "cell_type": "code",
   "execution_count": 18,
   "id": "db088da1-30f2-429a-be78-74dd2ea06099",
   "metadata": {},
   "outputs": [
    {
     "data": {
      "image/png": "[encoded data removed]",
      "text/plain": [
       "<PIL.Image.Image image mode=RGB size=32x32>"
      ]
     },
     "execution_count": 18,
     "metadata": {},
     "output_type": "execute_result"
    }
   ],
   "source": [
    "ours_images[0]"
   ]
  },
  {
   "cell_type": "code",
   "execution_count": 19,
   "id": "0b38b852-3fe1-4d0d-a760-ae8de5d1f34c",
   "metadata": {},
   "outputs": [
    {
     "data": {
      "image/png": "[encoded data removed]",
      "text/plain": [
       "<PIL.PngImagePlugin.PngImageFile image mode=RGB size=32x32>"
      ]
     },
     "execution_count": 19,
     "metadata": {},
     "output_type": "execute_result"
    }
   ],
   "source": [
    "import pandas as pd\n",
    "\n",
    "from datasets import DatasetDict, Dataset, load_dataset, Image\n",
    "\n",
    "dataset = DatasetDict({\n",
    "\"train\": Dataset.from_dict({\n",
    "    \"img\": gen_images,\n",
    "})}\n",
    "                     )\n",
    "gen_dataset = dataset[\"train\"]\n",
    "gen_dataset[0][\"img\"]"
   ]
  },
  {
   "cell_type": "code",
   "execution_count": 20,
   "id": "5e01b83a-e639-4b2d-afeb-a886411a3676",
   "metadata": {},
   "outputs": [
    {
     "data": {
      "image/png": "[encoded data removed]",
      "text/plain": [
       "<PIL.PngImagePlugin.PngImageFile image mode=RGB size=32x32>"
      ]
     },
     "execution_count": 20,
     "metadata": {},
     "output_type": "execute_result"
    }
   ],
   "source": [
    "dataset = DatasetDict({\n",
    "\"train\": Dataset.from_dict({\n",
    "    \"img\": random_images,\n",
    "})}\n",
    "                     )\n",
    "random_dataset = dataset[\"train\"]\n",
    "random_dataset[0][\"img\"]"
   ]
  },
  {
   "cell_type": "code",
   "execution_count": 21,
   "id": "0ef5867c-7855-4ff1-a526-4c3ccec15cb2",
   "metadata": {},
   "outputs": [
    {
     "data": {
      "image/png": "[encoded data removed]",
      "text/plain": [
       "<PIL.PngImagePlugin.PngImageFile image mode=RGB size=32x32>"
      ]
     },
     "execution_count": 21,
     "metadata": {},
     "output_type": "execute_result"
    }
   ],
   "source": [
    "dataset = DatasetDict({\n",
    "\"train\": Dataset.from_dict({\n",
    "    \"img\": trak_images,\n",
    "})}\n",
    "                     )\n",
    "trak_dataset = dataset[\"train\"]\n",
    "trak_dataset[0][\"img\"]"
   ]
  },
  {
   "cell_type": "code",
   "execution_count": 22,
   "id": "7af27bc1-97ed-4fa1-9bb6-a3b0e7b66d9f",
   "metadata": {},
   "outputs": [
    {
     "data": {
      "image/png": "[encoded data removed]",
      "text/plain": [
       "<PIL.PngImagePlugin.PngImageFile image mode=RGB size=32x32>"
      ]
     },
     "execution_count": 22,
     "metadata": {},
     "output_type": "execute_result"
    }
   ],
   "source": [
    "dataset = DatasetDict({\n",
    "\"train\": Dataset.from_dict({\n",
    "    \"img\": ours_images,\n",
    "})}\n",
    "                     )\n",
    "ours_dataset = dataset[\"train\"]\n",
    "ours_dataset[0][\"img\"]"
   ]
  },
  {
   "cell_type": "code",
   "execution_count": null,
   "id": "8cbbba78-5c51-45ed-a044-4001a18949bf",
   "metadata": {},
   "outputs": [],
   "source": []
  },
  {
   "cell_type": "code",
   "execution_count": 23,
   "id": "3ac1bf0e-897b-4ca7-a287-6f470dc956a7",
   "metadata": {},
   "outputs": [
    {
     "name": "stdout",
     "output_type": "stream",
     "text": [
      "Torch version: 2.0.1+cu117\n"
     ]
    }
   ],
   "source": [
    "import numpy as np\n",
    "import torch\n",
    "from pkg_resources import packaging\n",
    "\n",
    "print(\"Torch version:\", torch.__version__)"
   ]
  },
  {
   "cell_type": "code",
   "execution_count": 24,
   "id": "fb0345d7-02df-4b53-a8bf-1f95d148ee12",
   "metadata": {},
   "outputs": [
    {
     "data": {
      "text/plain": [
       "['RN50',\n",
       " 'RN101',\n",
       " 'RN50x4',\n",
       " 'RN50x16',\n",
       " 'RN50x64',\n",
       " 'ViT-B/32',\n",
       " 'ViT-B/16',\n",
       " 'ViT-L/14',\n",
       " 'ViT-L/14@336px']"
      ]
     },
     "execution_count": 24,
     "metadata": {},
     "output_type": "execute_result"
    }
   ],
   "source": [
    "import clip\n",
    "\n",
    "clip.available_models()"
   ]
  },
  {
   "cell_type": "code",
   "execution_count": 25,
   "id": "01dac425-48c4-401e-8778-9c2e1852c7f4",
   "metadata": {},
   "outputs": [
    {
     "name": "stdout",
     "output_type": "stream",
     "text": [
      "Model parameters: 151,277,313\n",
      "Input resolution: 224\n",
      "Context length: 77\n",
      "Vocab size: 49408\n"
     ]
    }
   ],
   "source": [
    "model, preprocess = clip.load(\"ViT-B/32\")\n",
    "model.cuda().eval()\n",
    "input_resolution = model.visual.input_resolution\n",
    "context_length = model.context_length\n",
    "vocab_size = model.vocab_size\n",
    "\n",
    "print(\"Model parameters:\", f\"{np.sum([int(np.prod(p.shape)) for p in model.parameters()]):,}\")\n",
    "print(\"Input resolution:\", input_resolution)\n",
    "print(\"Context length:\", context_length)\n",
    "print(\"Vocab size:\", vocab_size)"
   ]
  },
  {
   "cell_type": "code",
   "execution_count": 26,
   "id": "8c1e0a5e-b6bc-4838-810d-6eb5ac74c4f6",
   "metadata": {},
   "outputs": [
    {
     "name": "stdout",
     "output_type": "stream",
     "text": [
      "torch.Size([32, 512])\n",
      "torch.Size([28, 512])\n"
     ]
    }
   ],
   "source": [
    "gen_features = []\n",
    "for i in range(0, len(gen_dataset), 32):\n",
    "    batch = gen_dataset[i:i+32]['img']\n",
    "    batch = [preprocess(b) for b in batch]\n",
    "    batch = torch.tensor(np.stack(batch)).cuda()\n",
    "    with torch.no_grad():\n",
    "        image_features = model.encode_image(batch).float()\n",
    "    print(image_features.size())\n",
    "    gen_features.append(image_features.cpu().numpy())"
   ]
  },
  {
   "cell_type": "code",
   "execution_count": 27,
   "id": "a8a60136-229c-4a0f-8900-4c59beabb523",
   "metadata": {},
   "outputs": [
    {
     "name": "stdout",
     "output_type": "stream",
     "text": [
      "torch.Size([32, 512])\n",
      "torch.Size([28, 512])\n"
     ]
    }
   ],
   "source": [
    "random_features = []\n",
    "for i in range(0, len(random_dataset), 32):\n",
    "    batch = random_dataset[i:i+32]['img']\n",
    "    batch = [preprocess(b) for b in batch]\n",
    "    batch = torch.tensor(np.stack(batch)).cuda()\n",
    "    with torch.no_grad():\n",
    "        image_features = model.encode_image(batch).float()\n",
    "    print(image_features.size())\n",
    "    random_features.append(image_features.cpu().numpy())"
   ]
  },
  {
   "cell_type": "code",
   "execution_count": 28,
   "id": "5d08ce3d-6115-4b58-9094-c4876d59c671",
   "metadata": {},
   "outputs": [
    {
     "name": "stdout",
     "output_type": "stream",
     "text": [
      "torch.Size([32, 512])\n",
      "torch.Size([28, 512])\n"
     ]
    }
   ],
   "source": [
    "trak_features = []\n",
    "for i in range(0, len(trak_dataset), 32):\n",
    "    batch = trak_dataset[i:i+32]['img']\n",
    "    batch = [preprocess(b) for b in batch]\n",
    "    batch = torch.tensor(np.stack(batch)).cuda()\n",
    "    with torch.no_grad():\n",
    "        image_features = model.encode_image(batch).float()\n",
    "    print(image_features.size())\n",
    "    trak_features.append(image_features.cpu().numpy())"
   ]
  },
  {
   "cell_type": "code",
   "execution_count": 29,
   "id": "43e39d81-57d8-4654-9cc2-117026756f33",
   "metadata": {},
   "outputs": [
    {
     "name": "stdout",
     "output_type": "stream",
     "text": [
      "torch.Size([32, 512])\n",
      "torch.Size([28, 512])\n"
     ]
    }
   ],
   "source": [
    "ours_features = []\n",
    "for i in range(0, len(ours_dataset), 32):\n",
    "    batch = ours_dataset[i:i+32]['img']\n",
    "    batch = [preprocess(b) for b in batch]\n",
    "    batch = torch.tensor(np.stack(batch)).cuda()\n",
    "    with torch.no_grad():\n",
    "        image_features = model.encode_image(batch).float()\n",
    "    print(image_features.size())\n",
    "    ours_features.append(image_features.cpu().numpy())"
   ]
  },
  {
   "cell_type": "code",
   "execution_count": null,
   "id": "c2ae3ce3-bcb1-45e6-afc3-5f438f61cf0e",
   "metadata": {},
   "outputs": [],
   "source": []
  },
  {
   "cell_type": "code",
   "execution_count": 30,
   "id": "dd5ab3bf-1943-40dd-b657-6183d2d1315e",
   "metadata": {},
   "outputs": [],
   "source": [
    "gen_features_array = np.vstack(gen_features)\n",
    "random_features_array = np.vstack(random_features)\n",
    "trak_features_array = np.vstack(trak_features)\n",
    "ours_features_array = np.vstack(ours_features)"
   ]
  },
  {
   "cell_type": "code",
   "execution_count": 31,
   "id": "6d291f63-d573-4d27-86ca-a8583455b7ff",
   "metadata": {},
   "outputs": [],
   "source": [
    "scores_list = []"
   ]
  },
  {
   "cell_type": "code",
   "execution_count": 34,
   "id": "90cce4b8-4c5d-43b7-be92-cf255df63a12",
   "metadata": {},
   "outputs": [],
   "source": [
    "# # cos\n",
    "random_scores = np.sum(random_features_array*gen_features_array, axis=1)/(\n",
    "    np.linalg.norm(random_features_array, axis=1)*np.linalg.norm(gen_features_array, axis=1))\n",
    "trak_scores = np.sum(trak_features_array*gen_features_array, axis=1)/(\n",
    "    np.linalg.norm(trak_features_array, axis=1)*np.linalg.norm(gen_features_array, axis=1))\n",
    "ours_scores = np.sum(ours_features_array*gen_features_array, axis=1)/(\n",
    "    np.linalg.norm(ours_features_array, axis=1)*np.linalg.norm(gen_features_array, axis=1))"
   ]
  },
  {
   "cell_type": "code",
   "execution_count": 35,
   "id": "1cadc249-fd10-4085-b6ef-30df1a103282",
   "metadata": {},
   "outputs": [
    {
     "data": {
      "text/plain": [
       "0.95280945"
      ]
     },
     "execution_count": 35,
     "metadata": {},
     "output_type": "execute_result"
    }
   ],
   "source": [
    "random_scores.mean()"
   ]
  },
  {
   "cell_type": "code",
   "execution_count": 53,
   "id": "9d02e618-7b2b-4757-b4e2-a6a8b308a76e",
   "metadata": {},
   "outputs": [
    {
     "data": {
      "text/plain": [
       "0.9683572"
      ]
     },
     "execution_count": 53,
     "metadata": {},
     "output_type": "execute_result"
    }
   ],
   "source": [
    "np.median(random_scores)"
   ]
  },
  {
   "cell_type": "code",
   "execution_count": 36,
   "id": "84e96291-00f1-42e9-bb8c-89caca63b351",
   "metadata": {},
   "outputs": [
    {
     "data": {
      "text/plain": [
       "0.93293405"
      ]
     },
     "execution_count": 36,
     "metadata": {},
     "output_type": "execute_result"
    }
   ],
   "source": [
    "trak_scores.mean()"
   ]
  },
  {
   "cell_type": "code",
   "execution_count": 54,
   "id": "45c71487-a3a3-46b4-b97c-e83e03d4de1a",
   "metadata": {},
   "outputs": [
    {
     "data": {
      "text/plain": [
       "0.94327044"
      ]
     },
     "execution_count": 54,
     "metadata": {},
     "output_type": "execute_result"
    }
   ],
   "source": [
    "np.median(trak_scores)"
   ]
  },
  {
   "cell_type": "code",
   "execution_count": 37,
   "id": "1c6d7429-34d7-4d28-a40b-771f47d3f245",
   "metadata": {},
   "outputs": [
    {
     "data": {
      "text/plain": [
       "0.87493867"
      ]
     },
     "execution_count": 37,
     "metadata": {},
     "output_type": "execute_result"
    }
   ],
   "source": [
    "ours_scores.mean()"
   ]
  },
  {
   "cell_type": "code",
   "execution_count": 55,
   "id": "dd851925-a96b-41b8-af7d-95e0934d7c97",
   "metadata": {},
   "outputs": [
    {
     "data": {
      "text/plain": [
       "0.88101745"
      ]
     },
     "execution_count": 55,
     "metadata": {},
     "output_type": "execute_result"
    }
   ],
   "source": [
    "np.median(ours_scores)"
   ]
  },
  {
   "cell_type": "code",
   "execution_count": 38,
   "id": "80ea5261-7b8c-4477-ab11-1900691f4fd1",
   "metadata": {},
   "outputs": [],
   "source": [
    "import matplotlib.pyplot as plt"
   ]
  },
  {
   "cell_type": "code",
   "execution_count": 39,
   "id": "0e81fd05-290a-43b4-9e0f-8ea15d095d50",
   "metadata": {},
   "outputs": [
    {
     "data": {
      "text/plain": [
       "[<matplotlib.lines.Line2D at 0x7fd1c805b190>]"
      ]
     },
     "execution_count": 39,
     "metadata": {},
     "output_type": "execute_result"
    },
    {
     "data": {
      "image/png": "[encoded data removed]",
      "text/plain": [
       "<Figure size 640x480 with 1 Axes>"
      ]
     },
     "metadata": {},
     "output_type": "display_data"
    }
   ],
   "source": [
    "plt.plot(trak_scores)\n",
    "plt.plot(ours_scores)"
   ]
  },
  {
   "cell_type": "code",
   "execution_count": 46,
   "id": "6c05501b-c797-4985-b9e1-4f822fc53d00",
   "metadata": {},
   "outputs": [
    {
     "data": {
      "text/html": [
       "<div>\n",
       "<style scoped>\n",
       "    .dataframe tbody tr th:only-of-type {\n",
       "        vertical-align: middle;\n",
       "    }\n",
       "\n",
       "    .dataframe tbody tr th {\n",
       "        vertical-align: top;\n",
       "    }\n",
       "\n",
       "    .dataframe thead th {\n",
       "        text-align: right;\n",
       "    }\n",
       "</style>\n",
       "<table border=\"1\" class=\"dataframe\">\n",
       "  <thead>\n",
       "    <tr style=\"text-align: right;\">\n",
       "      <th></th>\n",
       "      <th>Random</th>\n",
       "      <th>TRAK</th>\n",
       "      <th>D-TRAK</th>\n",
       "    </tr>\n",
       "  </thead>\n",
       "  <tbody>\n",
       "    <tr>\n",
       "      <th>0</th>\n",
       "      <td>0.989640</td>\n",
       "      <td>0.941574</td>\n",
       "      <td>0.823037</td>\n",
       "    </tr>\n",
       "    <tr>\n",
       "      <th>1</th>\n",
       "      <td>0.967145</td>\n",
       "      <td>0.964336</td>\n",
       "      <td>0.771188</td>\n",
       "    </tr>\n",
       "    <tr>\n",
       "      <th>2</th>\n",
       "      <td>0.964233</td>\n",
       "      <td>0.918932</td>\n",
       "      <td>0.881133</td>\n",
       "    </tr>\n",
       "    <tr>\n",
       "      <th>3</th>\n",
       "      <td>0.929516</td>\n",
       "      <td>0.961797</td>\n",
       "      <td>0.893696</td>\n",
       "    </tr>\n",
       "    <tr>\n",
       "      <th>4</th>\n",
       "      <td>0.971159</td>\n",
       "      <td>0.915916</td>\n",
       "      <td>0.904690</td>\n",
       "    </tr>\n",
       "  </tbody>\n",
       "</table>\n",
       "</div>"
      ],
      "text/plain": [
       "     Random      TRAK    D-TRAK\n",
       "0  0.989640  0.941574  0.823037\n",
       "1  0.967145  0.964336  0.771188\n",
       "2  0.964233  0.918932  0.881133\n",
       "3  0.929516  0.961797  0.893696\n",
       "4  0.971159  0.915916  0.904690"
      ]
     },
     "execution_count": 46,
     "metadata": {},
     "output_type": "execute_result"
    }
   ],
   "source": [
    "df = pd.DataFrame()\n",
    "df.head()\n",
    "df['Random'] = random_scores\n",
    "df['TRAK'] = trak_scores\n",
    "df['D-TRAK'] = ours_scores\n",
    "df.head()"
   ]
  },
  {
   "cell_type": "code",
   "execution_count": null,
   "id": "3337e29a-f4b2-49f7-8454-1b16cd70aec4",
   "metadata": {},
   "outputs": [],
   "source": []
  },
  {
   "cell_type": "code",
   "execution_count": null,
   "id": "30efb435-c9be-4cc8-8e81-21cab69c0376",
   "metadata": {},
   "outputs": [],
   "source": []
  }
 ],
 "metadata": {
  "kernelspec": {
   "display_name": "Python 3 (ipykernel)",
   "language": "python",
   "name": "python3"
  },
  "language_info": {
   "codemirror_mode": {
    "name": "ipython",
    "version": 3
   },
   "file_extension": ".py",
   "mimetype": "text/x-python",
   "name": "python",
   "nbconvert_exporter": "python",
   "pygments_lexer": "ipython3",
   "version": "3.8.10"
  }
 },
 "nbformat": 4,
 "nbformat_minor": 5
}
