{
 "cells": [
  {
   "cell_type": "code",
   "execution_count": 1,
   "id": "8b66521a-f880-4ee0-991e-3a994dc75fca",
   "metadata": {},
   "outputs": [],
   "source": [
    "import pickle"
   ]
  },
  {
   "cell_type": "code",
   "execution_count": 2,
   "id": "4eacfe56-27c9-49e1-a489-834caabaef63",
   "metadata": {},
   "outputs": [
    {
     "name": "stdout",
     "output_type": "stream",
     "text": [
      "0.010\n",
      "0.042\n",
      "2.60\n",
      "0.84\n",
      "\n",
      "0.011\n",
      "0.044\n",
      "2.71\n",
      "0.86\n",
      "\n"
     ]
    }
   ],
   "source": [
    "with open('./-1_raw/gen_res_list.pkl', 'rb') as handle:\n",
    "    gen_res_list = pickle.load(handle)\n",
    "for res in gen_res_list:\n",
    "    print(f'{res[0]:.3f}')\n",
    "    print(f'{res[1]:.3f}')\n",
    "    \n",
    "    print(f'{res[2].mean()*100:.2f}')\n",
    "    print(f'{res[2].std()*100:.2f}')\n",
    "\n",
    "    print()"
   ]
  },
  {
   "cell_type": "code",
   "execution_count": 3,
   "id": "9f168bf4-afdb-4c60-8568-a040eedc5855",
   "metadata": {},
   "outputs": [
    {
     "name": "stdout",
     "output_type": "stream",
     "text": [
      "0.013\n",
      "0.035\n",
      "2.44\n",
      "0.56\n",
      "\n",
      "0.013\n",
      "0.035\n",
      "2.58\n",
      "0.56\n",
      "\n"
     ]
    }
   ],
   "source": [
    "with open('./-1_raw/val_res_list.pkl', 'rb') as handle:\n",
    "    val_res_list = pickle.load(handle)\n",
    "for res in val_res_list:\n",
    "    print(f'{res[0]:.3f}')\n",
    "    print(f'{res[1]:.3f}')\n",
    "\n",
    "    print(f'{res[2].mean()*100:.2f}')\n",
    "    print(f'{res[2].std()*100:.2f}')\n",
    "\n",
    "    print()"
   ]
  },
  {
   "cell_type": "code",
   "execution_count": null,
   "id": "0d7cc94c-261c-4540-868c-45fcb6a1d4dd",
   "metadata": {},
   "outputs": [],
   "source": []
  },
  {
   "cell_type": "code",
   "execution_count": 4,
   "id": "f5c62f73-7c76-49f0-8182-a35074c17229",
   "metadata": {},
   "outputs": [
    {
     "name": "stdout",
     "output_type": "stream",
     "text": [
      "0.030\n",
      "0.077\n",
      "5.33\n",
      "1.45\n",
      "\n",
      "0.066\n",
      "0.110\n",
      "8.66\n",
      "1.31\n",
      "\n"
     ]
    }
   ],
   "source": [
    "with open('./00_clip/gen_res_list.pkl', 'rb') as handle:\n",
    "    gen_res_list = pickle.load(handle)\n",
    "for res in gen_res_list:\n",
    "    print(f'{res[0]:.3f}')\n",
    "    print(f'{res[1]:.3f}')\n",
    "    \n",
    "    print(f'{res[2].mean()*100:.2f}')\n",
    "    print(f'{res[2].std()*100:.2f}')\n",
    "\n",
    "    print()"
   ]
  },
  {
   "cell_type": "code",
   "execution_count": 5,
   "id": "7ef12d3b-3840-4815-8705-ae6a573174ff",
   "metadata": {},
   "outputs": [
    {
     "name": "stdout",
     "output_type": "stream",
     "text": [
      "0.058\n",
      "0.086\n",
      "7.18\n",
      "0.70\n",
      "\n",
      "0.076\n",
      "0.101\n",
      "8.62\n",
      "0.70\n",
      "\n"
     ]
    }
   ],
   "source": [
    "with open('./00_clip/val_res_list.pkl', 'rb') as handle:\n",
    "    val_res_list = pickle.load(handle)\n",
    "for res in val_res_list:\n",
    "    print(f'{res[0]:.3f}')\n",
    "    print(f'{res[1]:.3f}')\n",
    "\n",
    "    print(f'{res[2].mean()*100:.2f}')\n",
    "    print(f'{res[2].std()*100:.2f}')\n",
    "\n",
    "    print()"
   ]
  },
  {
   "cell_type": "code",
   "execution_count": null,
   "id": "2dd59535-8ba4-4564-bd2f-3afc9e09db78",
   "metadata": {},
   "outputs": [],
   "source": []
  },
  {
   "cell_type": "code",
   "execution_count": null,
   "id": "3ca98bfd-ba41-4e01-b6f5-551683757cfa",
   "metadata": {},
   "outputs": [],
   "source": []
  },
  {
   "cell_type": "code",
   "execution_count": null,
   "id": "56943653-fe3d-495c-ac44-639c09e852f9",
   "metadata": {},
   "outputs": [],
   "source": []
  },
  {
   "cell_type": "code",
   "execution_count": 6,
   "id": "c6487dc6-bc9d-4578-8d3d-b28b3beaf1eb",
   "metadata": {
    "scrolled": true
   },
   "outputs": [
    {
     "name": "stdout",
     "output_type": "stream",
     "text": [
      "0.021\n",
      "0.061\n",
      "4.07\n",
      "1.07\n",
      "\n",
      "0.087\n",
      "0.124\n",
      "10.23\n",
      "1.08\n",
      "\n",
      "0.049\n",
      "0.081\n",
      "6.36\n",
      "0.93\n",
      "\n",
      "0.126\n",
      "0.160\n",
      "13.85\n",
      "1.01\n",
      "\n",
      "0.028\n",
      "0.062\n",
      "4.50\n",
      "0.97\n",
      "\n",
      "0.092\n",
      "0.128\n",
      "10.71\n",
      "1.07\n",
      "\n",
      "0.055\n",
      "0.085\n",
      "6.74\n",
      "0.82\n",
      "\n",
      "0.129\n",
      "0.163\n",
      "14.27\n",
      "0.97\n",
      "\n"
     ]
    }
   ],
   "source": [
    "with open('./01_tracin/gen_res_list.pkl', 'rb') as handle:\n",
    "    gen_res_list = pickle.load(handle)\n",
    "for res in gen_res_list:\n",
    "    print(f'{res[0]:.3f}')\n",
    "    print(f'{res[1]:.3f}')\n",
    "    \n",
    "    print(f'{res[2].mean()*100:.2f}')\n",
    "    print(f'{res[2].std()*100:.2f}')\n",
    "\n",
    "    print()"
   ]
  },
  {
   "cell_type": "code",
   "execution_count": null,
   "id": "8011656a-a074-4db8-8859-2c0da4c074d7",
   "metadata": {},
   "outputs": [],
   "source": []
  },
  {
   "cell_type": "code",
   "execution_count": 7,
   "id": "0f369389-34b1-4c6b-934b-e1c75b8d74b3",
   "metadata": {
    "scrolled": true
   },
   "outputs": [
    {
     "name": "stdout",
     "output_type": "stream",
     "text": [
      "0.067\n",
      "0.083\n",
      "7.68\n",
      "0.43\n",
      "\n",
      "0.156\n",
      "0.173\n",
      "16.00\n",
      "0.51\n",
      "\n",
      "0.090\n",
      "0.106\n",
      "9.69\n",
      "0.49\n",
      "\n",
      "0.174\n",
      "0.191\n",
      "17.83\n",
      "0.58\n",
      "\n",
      "0.068\n",
      "0.084\n",
      "7.72\n",
      "0.42\n",
      "\n",
      "0.156\n",
      "0.174\n",
      "16.04\n",
      "0.49\n",
      "\n",
      "0.087\n",
      "0.103\n",
      "9.65\n",
      "0.46\n",
      "\n",
      "0.173\n",
      "0.195\n",
      "18.04\n",
      "0.62\n",
      "\n"
     ]
    }
   ],
   "source": [
    "with open('./01_tracin/val_res_list.pkl', 'rb') as handle:\n",
    "    val_res_list = pickle.load(handle)\n",
    "for res in val_res_list:\n",
    "    print(f'{res[0]:.3f}')\n",
    "    print(f'{res[1]:.3f}')\n",
    "\n",
    "    print(f'{res[2].mean()*100:.2f}')\n",
    "    print(f'{res[2].std()*100:.2f}')\n",
    "\n",
    "    print()"
   ]
  },
  {
   "cell_type": "code",
   "execution_count": null,
   "id": "a2970fd4-db99-45c4-be95-62ad85a25419",
   "metadata": {},
   "outputs": [],
   "source": []
  },
  {
   "cell_type": "code",
   "execution_count": null,
   "id": "6d5d6355-87e1-4966-8bff-440e7f74d147",
   "metadata": {},
   "outputs": [],
   "source": []
  },
  {
   "cell_type": "code",
   "execution_count": 8,
   "id": "ca60059f-5d87-43e6-9105-6c0beb3c4f16",
   "metadata": {},
   "outputs": [
    {
     "name": "stdout",
     "output_type": "stream",
     "text": [
      "0.069\n",
      "0.091\n",
      "7.62\n",
      "0.57\n",
      "\n",
      "0.189\n",
      "0.217\n",
      "19.78\n",
      "0.69\n",
      "\n"
     ]
    }
   ],
   "source": [
    "with open('./02_relative_if/gen_res_list.pkl', 'rb') as handle:\n",
    "    gen_res_list = pickle.load(handle)\n",
    "for res in gen_res_list:\n",
    "    print(f'{res[0]:.3f}')\n",
    "    print(f'{res[1]:.3f}')\n",
    "    \n",
    "    print(f'{res[2].mean()*100:.2f}')\n",
    "    print(f'{res[2].std()*100:.2f}')\n",
    "\n",
    "    print()"
   ]
  },
  {
   "cell_type": "code",
   "execution_count": 9,
   "id": "f350432a-7b27-4931-8f58-51056d30be23",
   "metadata": {},
   "outputs": [
    {
     "name": "stdout",
     "output_type": "stream",
     "text": [
      "0.116\n",
      "0.131\n",
      "12.22\n",
      "0.43\n",
      "\n",
      "0.272\n",
      "0.281\n",
      "27.25\n",
      "0.34\n",
      "\n"
     ]
    }
   ],
   "source": [
    "with open('./02_relative_if/val_res_list.pkl', 'rb') as handle:\n",
    "    val_res_list = pickle.load(handle)\n",
    "for res in val_res_list:\n",
    "    print(f'{res[0]:.3f}')\n",
    "    print(f'{res[1]:.3f}')\n",
    "\n",
    "    print(f'{res[2].mean()*100:.2f}')\n",
    "    print(f'{res[2].std()*100:.2f}')\n",
    "\n",
    "    print()"
   ]
  },
  {
   "cell_type": "code",
   "execution_count": null,
   "id": "c9c22d09-d711-4b94-9e62-ad836f141e98",
   "metadata": {},
   "outputs": [],
   "source": []
  },
  {
   "cell_type": "code",
   "execution_count": null,
   "id": "271044dc-3738-4ec4-b39d-bbf0a830faee",
   "metadata": {},
   "outputs": [],
   "source": []
  },
  {
   "cell_type": "code",
   "execution_count": 10,
   "id": "1550fb80-0c3c-4453-9d37-8e63204ed703",
   "metadata": {},
   "outputs": [
    {
     "name": "stdout",
     "output_type": "stream",
     "text": [
      "0.069\n",
      "0.095\n",
      "7.83\n",
      "0.64\n",
      "\n",
      "0.189\n",
      "0.218\n",
      "19.86\n",
      "0.71\n",
      "\n"
     ]
    }
   ],
   "source": [
    "with open('./03_norm_if/gen_res_list.pkl', 'rb') as handle:\n",
    "    gen_res_list = pickle.load(handle)\n",
    "for res in gen_res_list:\n",
    "    print(f'{res[0]:.3f}')\n",
    "    print(f'{res[1]:.3f}')\n",
    "    \n",
    "    print(f'{res[2].mean()*100:.2f}')\n",
    "    print(f'{res[2].std()*100:.2f}')\n",
    "\n",
    "    print()"
   ]
  },
  {
   "cell_type": "code",
   "execution_count": 11,
   "id": "c75f2477-6ea4-47eb-aaae-053b0ef3393c",
   "metadata": {},
   "outputs": [
    {
     "name": "stdout",
     "output_type": "stream",
     "text": [
      "0.113\n",
      "0.130\n",
      "11.90\n",
      "0.43\n",
      "\n",
      "0.265\n",
      "0.272\n",
      "26.49\n",
      "0.34\n",
      "\n"
     ]
    }
   ],
   "source": [
    "with open('./03_norm_if/val_res_list.pkl', 'rb') as handle:\n",
    "    val_res_list = pickle.load(handle)\n",
    "for res in val_res_list:\n",
    "    print(f'{res[0]:.3f}')\n",
    "    print(f'{res[1]:.3f}')\n",
    "\n",
    "    print(f'{res[2].mean()*100:.2f}')\n",
    "    print(f'{res[2].std()*100:.2f}')\n",
    "\n",
    "    print()"
   ]
  },
  {
   "cell_type": "code",
   "execution_count": null,
   "id": "2bfd6f51-36b1-4ec8-9cad-58847fc0af2d",
   "metadata": {},
   "outputs": [],
   "source": []
  },
  {
   "cell_type": "code",
   "execution_count": null,
   "id": "bb9d6566-469e-4643-8420-0b4b91b7730b",
   "metadata": {},
   "outputs": [],
   "source": []
  },
  {
   "cell_type": "code",
   "execution_count": 12,
   "id": "fa09e695-eebb-4082-a648-3875082a5377",
   "metadata": {},
   "outputs": [
    {
     "name": "stdout",
     "output_type": "stream",
     "text": [
      "0.071\n",
      "0.093\n",
      "7.78\n",
      "0.59\n",
      "\n",
      "0.191\n",
      "0.218\n",
      "20.02\n",
      "0.69\n",
      "\n",
      "0.231\n",
      "0.255\n",
      "24.16\n",
      "0.67\n",
      "\n",
      "0.258\n",
      "0.278\n",
      "26.53\n",
      "0.64\n",
      "\n"
     ]
    }
   ],
   "source": [
    "with open('./04_if/gen_res_list.pkl', 'rb') as handle:\n",
    "    gen_res_list = pickle.load(handle)\n",
    "for res in gen_res_list:\n",
    "    print(f'{res[0]:.3f}')\n",
    "    print(f'{res[1]:.3f}')\n",
    "    \n",
    "    print(f'{res[2].mean()*100:.2f}')\n",
    "    print(f'{res[2].std()*100:.2f}')\n",
    "\n",
    "    print()"
   ]
  },
  {
   "cell_type": "code",
   "execution_count": 13,
   "id": "7a0d5255-9d37-4e3b-93d0-1ec7050dee47",
   "metadata": {},
   "outputs": [
    {
     "name": "stdout",
     "output_type": "stream",
     "text": [
      "0.116\n",
      "0.131\n",
      "12.26\n",
      "0.42\n",
      "\n",
      "0.272\n",
      "0.281\n",
      "27.28\n",
      "0.34\n",
      "\n",
      "0.272\n",
      "0.287\n",
      "27.61\n",
      "0.49\n",
      "\n",
      "0.321\n",
      "0.332\n",
      "32.38\n",
      "0.41\n",
      "\n"
     ]
    }
   ],
   "source": [
    "with open('./04_if/val_res_list.pkl', 'rb') as handle:\n",
    "    val_res_list = pickle.load(handle)\n",
    "for res in val_res_list:\n",
    "    print(f'{res[0]:.3f}')\n",
    "    print(f'{res[1]:.3f}')\n",
    "\n",
    "    print(f'{res[2].mean()*100:.2f}')\n",
    "    print(f'{res[2].std()*100:.2f}')\n",
    "\n",
    "    print()"
   ]
  },
  {
   "cell_type": "code",
   "execution_count": null,
   "id": "26f8d08b-c3ac-4b98-8e6e-5f73e35b61f4",
   "metadata": {},
   "outputs": [],
   "source": []
  },
  {
   "cell_type": "code",
   "execution_count": null,
   "id": "14a2a9ab-d346-4aec-a61c-f434b0ee18d4",
   "metadata": {},
   "outputs": [],
   "source": []
  },
  {
   "cell_type": "code",
   "execution_count": 14,
   "id": "6a899de5-ade7-4016-a1de-fcfeb9a7e5c1",
   "metadata": {},
   "outputs": [
    {
     "name": "stdout",
     "output_type": "stream",
     "text": [
      "0.043\n",
      "0.077\n",
      "5.96\n",
      "0.97\n",
      "\n",
      "0.098\n",
      "0.136\n",
      "11.41\n",
      "1.02\n",
      "\n"
     ]
    }
   ],
   "source": [
    "with open('./09_workshop/gen_res_list.pkl', 'rb') as handle:\n",
    "    gen_res_list = pickle.load(handle)\n",
    "for res in gen_res_list:\n",
    "    print(f'{res[0]:.3f}')\n",
    "    print(f'{res[1]:.3f}')\n",
    "    \n",
    "    print(f'{res[2].mean()*100:.2f}')\n",
    "    print(f'{res[2].std()*100:.2f}')\n",
    "\n",
    "    print()"
   ]
  },
  {
   "cell_type": "code",
   "execution_count": null,
   "id": "d4810786-55a7-42a5-979d-5bc202a6c2c4",
   "metadata": {},
   "outputs": [],
   "source": []
  },
  {
   "cell_type": "code",
   "execution_count": null,
   "id": "f1d12d79-893f-4db3-af90-9d2db867802a",
   "metadata": {},
   "outputs": [],
   "source": []
  },
  {
   "cell_type": "code",
   "execution_count": null,
   "id": "eb52f4ce-0b56-4d29-96ed-9b852d95e9a7",
   "metadata": {},
   "outputs": [],
   "source": []
  },
  {
   "cell_type": "code",
   "execution_count": 15,
   "id": "2c954952-1e12-4b8b-a308-34fe4f4b1e69",
   "metadata": {
    "scrolled": true
   },
   "outputs": [
    {
     "name": "stdout",
     "output_type": "stream",
     "text": [
      "0.087\n",
      "0.106\n",
      "9.31\n",
      "0.51\n",
      "\n",
      "0.107\n",
      "0.125\n",
      "11.19\n",
      "0.51\n",
      "\n",
      "0.114\n",
      "0.134\n",
      "12.16\n",
      "0.56\n",
      "\n",
      "0.121\n",
      "0.144\n",
      "12.88\n",
      "0.62\n",
      "\n",
      "0.230\n",
      "0.248\n",
      "23.51\n",
      "0.58\n",
      "\n",
      "0.235\n",
      "0.255\n",
      "24.18\n",
      "0.63\n",
      "\n",
      "0.241\n",
      "0.261\n",
      "24.87\n",
      "0.67\n",
      "\n",
      "0.243\n",
      "0.265\n",
      "25.09\n",
      "0.69\n",
      "\n",
      "0.209\n",
      "0.241\n",
      "21.32\n",
      "0.77\n",
      "\n",
      "0.234\n",
      "0.266\n",
      "24.12\n",
      "0.70\n",
      "\n",
      "0.249\n",
      "0.278\n",
      "25.63\n",
      "0.65\n",
      "\n",
      "0.260\n",
      "0.288\n",
      "26.50\n",
      "0.65\n",
      "\n",
      "0.250\n",
      "0.272\n",
      "25.68\n",
      "0.70\n",
      "\n",
      "0.257\n",
      "0.279\n",
      "26.42\n",
      "0.72\n",
      "\n",
      "0.262\n",
      "0.284\n",
      "26.94\n",
      "0.75\n",
      "\n",
      "0.264\n",
      "0.286\n",
      "27.20\n",
      "0.76\n",
      "\n"
     ]
    }
   ],
   "source": [
    "with open('./06_ensemble/gen_res_list.pkl', 'rb') as handle:\n",
    "    gen_res_list = pickle.load(handle)\n",
    "for res in gen_res_list:\n",
    "    print(f'{res[0]:.3f}')\n",
    "    print(f'{res[1]:.3f}')\n",
    "    \n",
    "    print(f'{res[2].mean()*100:.2f}')\n",
    "    print(f'{res[2].std()*100:.2f}')\n",
    "\n",
    "    print()"
   ]
  },
  {
   "cell_type": "code",
   "execution_count": 16,
   "id": "6474ceb0-a05e-4b8e-8f61-da9bde0243b2",
   "metadata": {
    "scrolled": true
   },
   "outputs": [
    {
     "name": "stdout",
     "output_type": "stream",
     "text": [
      "0.119\n",
      "0.135\n",
      "12.84\n",
      "0.46\n",
      "\n",
      "0.142\n",
      "0.157\n",
      "14.86\n",
      "0.45\n",
      "\n",
      "0.153\n",
      "0.169\n",
      "16.09\n",
      "0.49\n",
      "\n",
      "0.158\n",
      "0.175\n",
      "16.63\n",
      "0.49\n",
      "\n",
      "0.271\n",
      "0.282\n",
      "27.39\n",
      "0.40\n",
      "\n",
      "0.285\n",
      "0.295\n",
      "28.78\n",
      "0.42\n",
      "\n",
      "0.294\n",
      "0.306\n",
      "29.70\n",
      "0.44\n",
      "\n",
      "0.299\n",
      "0.310\n",
      "30.21\n",
      "0.44\n",
      "\n",
      "0.282\n",
      "0.292\n",
      "28.20\n",
      "0.33\n",
      "\n",
      "0.311\n",
      "0.320\n",
      "31.24\n",
      "0.36\n",
      "\n",
      "0.329\n",
      "0.336\n",
      "32.89\n",
      "0.34\n",
      "\n",
      "0.339\n",
      "0.347\n",
      "33.91\n",
      "0.36\n",
      "\n",
      "0.321\n",
      "0.326\n",
      "31.99\n",
      "0.35\n",
      "\n",
      "0.329\n",
      "0.338\n",
      "33.08\n",
      "0.36\n",
      "\n",
      "0.338\n",
      "0.346\n",
      "33.84\n",
      "0.39\n",
      "\n",
      "0.343\n",
      "0.350\n",
      "34.24\n",
      "0.39\n",
      "\n"
     ]
    }
   ],
   "source": [
    "with open('./06_ensemble/val_res_list.pkl', 'rb') as handle:\n",
    "    val_res_list = pickle.load(handle)\n",
    "for res in val_res_list:\n",
    "    print(f'{res[0]:.3f}')\n",
    "    print(f'{res[1]:.3f}')\n",
    "\n",
    "    print(f'{res[2].mean()*100:.2f}')\n",
    "    print(f'{res[2].std()*100:.2f}')\n",
    "\n",
    "    print()"
   ]
  },
  {
   "cell_type": "code",
   "execution_count": null,
   "id": "08c07c1a-e686-4f2c-8691-d192a7583d08",
   "metadata": {},
   "outputs": [],
   "source": []
  },
  {
   "cell_type": "code",
   "execution_count": null,
   "id": "d285dc46-f20f-42ed-837b-524c9fa317bb",
   "metadata": {},
   "outputs": [],
   "source": []
  },
  {
   "cell_type": "code",
   "execution_count": 17,
   "id": "67b77b1f-0731-480b-b7f0-5e62992143ac",
   "metadata": {},
   "outputs": [
    {
     "name": "stdout",
     "output_type": "stream",
     "text": [
      "0.044\n",
      "0.071\n",
      "5.29\n",
      "0.75\n",
      "\n",
      "0.073\n",
      "0.105\n",
      "8.67\n",
      "0.91\n",
      "\n",
      "0.106\n",
      "0.128\n",
      "11.51\n",
      "0.68\n",
      "\n",
      "0.159\n",
      "0.182\n",
      "16.45\n",
      "0.67\n",
      "\n"
     ]
    }
   ],
   "source": [
    "with open('./07_emp_infl/gen_res_list.pkl', 'rb') as handle:\n",
    "    gen_res_list = pickle.load(handle)\n",
    "for res in gen_res_list:\n",
    "    print(f'{res[0]:.3f}')\n",
    "    print(f'{res[1]:.3f}')\n",
    "    \n",
    "    print(f'{res[2].mean()*100:.2f}')\n",
    "    print(f'{res[2].std()*100:.2f}')\n",
    "\n",
    "    print()"
   ]
  },
  {
   "cell_type": "code",
   "execution_count": 18,
   "id": "7c30e8f0-13a6-4b83-806f-429876ad7d96",
   "metadata": {},
   "outputs": [
    {
     "name": "stdout",
     "output_type": "stream",
     "text": [
      "0.040\n",
      "0.058\n",
      "4.91\n",
      "0.50\n",
      "\n",
      "0.069\n",
      "0.085\n",
      "7.62\n",
      "0.49\n",
      "\n",
      "0.106\n",
      "0.122\n",
      "11.27\n",
      "0.44\n",
      "\n",
      "0.158\n",
      "0.174\n",
      "16.10\n",
      "0.43\n",
      "\n"
     ]
    }
   ],
   "source": [
    "with open('./07_emp_infl/val_res_list.pkl', 'rb') as handle:\n",
    "    val_res_list = pickle.load(handle)\n",
    "for res in val_res_list:\n",
    "    print(f'{res[0]:.3f}')\n",
    "    print(f'{res[1]:.3f}')\n",
    "\n",
    "    print(f'{res[2].mean()*100:.2f}')\n",
    "    print(f'{res[2].std()*100:.2f}')\n",
    "\n",
    "    print()"
   ]
  },
  {
   "cell_type": "code",
   "execution_count": null,
   "id": "4d8aa0ad-e69f-4aa3-a72a-7bfc36d12337",
   "metadata": {},
   "outputs": [],
   "source": []
  },
  {
   "cell_type": "code",
   "execution_count": null,
   "id": "16aaf81d-5642-446d-8da2-7a581d33fb59",
   "metadata": {},
   "outputs": [],
   "source": []
  },
  {
   "cell_type": "code",
   "execution_count": 19,
   "id": "fb58e477-45f7-45ce-8498-950f3c7e1bcc",
   "metadata": {},
   "outputs": [
    {
     "name": "stdout",
     "output_type": "stream",
     "text": [
      "0.044\n",
      "0.071\n",
      "5.30\n",
      "0.76\n",
      "\n",
      "0.073\n",
      "0.104\n",
      "8.70\n",
      "0.88\n",
      "\n",
      "0.107\n",
      "0.128\n",
      "11.48\n",
      "0.62\n",
      "\n",
      "0.156\n",
      "0.181\n",
      "16.35\n",
      "0.69\n",
      "\n"
     ]
    }
   ],
   "source": [
    "with open('./08_datamodel/gen_res_list.pkl', 'rb') as handle:\n",
    "    gen_res_list = pickle.load(handle)\n",
    "for res in gen_res_list:\n",
    "    print(f'{res[0]:.3f}')\n",
    "    print(f'{res[1]:.3f}')\n",
    "    \n",
    "    print(f'{res[2].mean()*100:.2f}')\n",
    "    print(f'{res[2].std()*100:.2f}')\n",
    "\n",
    "    print()"
   ]
  },
  {
   "cell_type": "code",
   "execution_count": 20,
   "id": "ae592568-e298-4a13-a363-e0f75bc60c84",
   "metadata": {},
   "outputs": [
    {
     "name": "stdout",
     "output_type": "stream",
     "text": [
      "0.040\n",
      "0.058\n",
      "4.99\n",
      "0.51\n",
      "\n",
      "0.070\n",
      "0.087\n",
      "7.83\n",
      "0.46\n",
      "\n",
      "0.107\n",
      "0.122\n",
      "11.32\n",
      "0.44\n",
      "\n",
      "0.159\n",
      "0.176\n",
      "16.19\n",
      "0.47\n",
      "\n"
     ]
    }
   ],
   "source": [
    "with open('./08_datamodel/val_res_list.pkl', 'rb') as handle:\n",
    "    val_res_list = pickle.load(handle)\n",
    "for res in val_res_list:\n",
    "    print(f'{res[0]:.3f}')\n",
    "    print(f'{res[1]:.3f}')\n",
    "\n",
    "    print(f'{res[2].mean()*100:.2f}')\n",
    "    print(f'{res[2].std()*100:.2f}')\n",
    "\n",
    "    print()"
   ]
  },
  {
   "cell_type": "code",
   "execution_count": null,
   "id": "966d5bf7-1592-4986-b64e-0082897681cc",
   "metadata": {},
   "outputs": [],
   "source": []
  },
  {
   "cell_type": "code",
   "execution_count": null,
   "id": "eda28967-5195-4225-aaf5-2b8b5657e6fd",
   "metadata": {},
   "outputs": [],
   "source": []
  },
  {
   "cell_type": "code",
   "execution_count": null,
   "id": "714166fb-b6f4-40c5-8d71-4d1267c3e9cf",
   "metadata": {},
   "outputs": [],
   "source": []
  },
  {
   "cell_type": "code",
   "execution_count": null,
   "id": "2392b596-fc13-459b-a0fe-b14d9cb406e7",
   "metadata": {},
   "outputs": [],
   "source": []
  },
  {
   "cell_type": "code",
   "execution_count": null,
   "id": "7b454788-52fb-44b8-a98b-d93c54b9dc55",
   "metadata": {},
   "outputs": [],
   "source": []
  },
  {
   "cell_type": "code",
   "execution_count": null,
   "id": "d882e566-3f1c-4c76-8dbd-cfbec4abfcaf",
   "metadata": {},
   "outputs": [],
   "source": []
  }
 ],
 "metadata": {
  "kernelspec": {
   "display_name": "Python 3 (ipykernel)",
   "language": "python",
   "name": "python3"
  },
  "language_info": {
   "codemirror_mode": {
    "name": "ipython",
    "version": 3
   },
   "file_extension": ".py",
   "mimetype": "text/x-python",
   "name": "python",
   "nbconvert_exporter": "python",
   "pygments_lexer": "ipython3",
   "version": "3.8.10"
  }
 },
 "nbformat": 4,
 "nbformat_minor": 5
}
