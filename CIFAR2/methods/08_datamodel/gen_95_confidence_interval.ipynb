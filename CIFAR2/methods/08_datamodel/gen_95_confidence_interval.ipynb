{
 "cells": [
  {
   "cell_type": "code",
   "execution_count": 1,
   "id": "7d607888-e92d-4720-b28e-43d8ce2c643a",
   "metadata": {},
   "outputs": [],
   "source": [
    "import numpy as np"
   ]
  },
  {
   "cell_type": "code",
   "execution_count": 2,
   "id": "c9bb7deb-4dbb-4100-a5c6-1ab11c826833",
   "metadata": {},
   "outputs": [],
   "source": [
    "import pickle"
   ]
  },
  {
   "cell_type": "code",
   "execution_count": 3,
   "id": "f37c6eff-445d-4007-9951-fdba0c6b46d4",
   "metadata": {},
   "outputs": [],
   "source": [
    "import matplotlib.pyplot as plt\n"
   ]
  },
  {
   "cell_type": "code",
   "execution_count": 4,
   "id": "7499a23a-7876-4670-ae09-c4de570791e5",
   "metadata": {},
   "outputs": [
    {
     "data": {
      "text/plain": [
       "5000"
      ]
     },
     "execution_count": 4,
     "metadata": {},
     "output_type": "execute_result"
    }
   ],
   "source": [
    "with open('../../data/indices/5000-0.5/idx-train.pkl', 'rb')  as handle:\n",
    "    idx_train = pickle.load(handle)\n",
    "len(idx_train)   "
   ]
  },
  {
   "cell_type": "code",
   "execution_count": 5,
   "id": "d98abb9c-a3e5-4103-9261-b90f5a5e15ff",
   "metadata": {},
   "outputs": [
    {
     "data": {
      "text/plain": [
       "4"
      ]
     },
     "execution_count": 5,
     "metadata": {},
     "output_type": "execute_result"
    }
   ],
   "source": [
    "with open(\"gen_emp.pkl\", 'rb') as handle:\n",
    "    scores_list = pickle.load(handle)\n",
    "len(scores_list)"
   ]
  },
  {
   "cell_type": "code",
   "execution_count": null,
   "id": "3094d577-6791-4900-953b-d0d27e3d3d14",
   "metadata": {},
   "outputs": [],
   "source": []
  },
  {
   "cell_type": "code",
   "execution_count": 6,
   "id": "17304aaf-68b6-4349-b923-b458ddca5939",
   "metadata": {},
   "outputs": [],
   "source": [
    "# load ground truth\n",
    "my_list = [\n",
    "    0,1,2,3,\n",
    "    4,5,6,7,\n",
    "    8,9,10,11,\n",
    "    12,13,14,15,\n",
    "    16,17,18,19,\n",
    "    20,21,22,23,\n",
    "    24,25,26,27,\n",
    "    28,29,30,31,\n",
    "    32,33,34,35,\n",
    "    36,37,38,39,\n",
    "    40,41,42,43,\n",
    "    44,45,46,47,\n",
    "    48,49,50,51,\n",
    "    52,53,54,55,\n",
    "    56,57,58,59,\n",
    "    60,61,62,63,\n",
    "          ]"
   ]
  },
  {
   "cell_type": "code",
   "execution_count": 7,
   "id": "9dda99c2-c1e1-40b0-95b7-834397c035ec",
   "metadata": {},
   "outputs": [
    {
     "data": {
      "text/plain": [
       "(64, 1000, 1000)"
      ]
     },
     "execution_count": 7,
     "metadata": {},
     "output_type": "execute_result"
    }
   ],
   "source": [
    "loss_array_list = []\n",
    "\n",
    "for i in my_list:\n",
    "    for seed in [\n",
    "        0,\n",
    "                 1,\n",
    "                 2,\n",
    "                 # 3,\n",
    "                 # 4,\n",
    "                ]:\n",
    "        for e_seed in [\n",
    "            0, \n",
    "                       1, \n",
    "                       2\n",
    "                      ]:\n",
    "            with open('../../saved/5000-0.5/lds-val/ddpm-sub-{}-{}/e-{}-gen.pkl'.format(i, seed, e_seed), 'rb')  as handle:\n",
    "                loss_list = pickle.load(handle)\n",
    "            margins = np.concatenate(loss_list, axis=-1) # -logp\n",
    "            ####\n",
    "            if (seed==0) and (e_seed)==0:\n",
    "                loss_array = margins\n",
    "            else:\n",
    "                loss_array += margins\n",
    "            \n",
    "    loss_array = loss_array/(3*3)\n",
    "    \n",
    "    loss_array_list.append(loss_array)\n",
    "lds_loss_array = np.stack(loss_array_list)\n",
    "lds_loss_array.shape"
   ]
  },
  {
   "cell_type": "code",
   "execution_count": null,
   "id": "4214c4b5-d74f-4e52-8c45-1f20ea8d4b38",
   "metadata": {},
   "outputs": [],
   "source": []
  },
  {
   "cell_type": "code",
   "execution_count": null,
   "id": "f8d0f643-d0aa-433d-8586-e75351bdd70f",
   "metadata": {},
   "outputs": [],
   "source": []
  },
  {
   "cell_type": "code",
   "execution_count": 8,
   "id": "79b46713-e348-490c-8c4c-9f57068935cd",
   "metadata": {},
   "outputs": [
    {
     "data": {
      "image/png": "[encoded data removed]",
      "text/plain": [
       "<Figure size 640x480 with 1 Axes>"
      ]
     },
     "metadata": {},
     "output_type": "display_data"
    }
   ],
   "source": [
    "for i in range(1):\n",
    "    for j in range(8):\n",
    "        plt.plot(lds_loss_array[i, :, j], color=\"C{}\".format(j))\n",
    "    # break"
   ]
  },
  {
   "cell_type": "code",
   "execution_count": 9,
   "id": "a717d51e-e999-42b0-8b4e-215f8b69efac",
   "metadata": {},
   "outputs": [
    {
     "data": {
      "text/plain": [
       "(64, 5000)"
      ]
     },
     "execution_count": 9,
     "metadata": {},
     "output_type": "execute_result"
    }
   ],
   "source": [
    "mask_array_list = []\n",
    "\n",
    "for i in my_list:\n",
    "    # print(i)\n",
    "    with open('../../data/indices/5000-0.5/lds-val/sub-idx-{}.pkl'.format(i), 'rb')  as handle:\n",
    "        sub_idx_train = pickle.load(handle)\n",
    "    # print(len(sub_idx_train))\n",
    "    mask_array = np.in1d(idx_train, sub_idx_train)\n",
    "        \n",
    "    mask_array_list.append(mask_array)\n",
    "    \n",
    "lds_mask_array = np.stack(mask_array_list)\n",
    "lds_mask_array.shape"
   ]
  },
  {
   "cell_type": "code",
   "execution_count": 10,
   "id": "9006fe41-b864-4861-9826-ebf2a8ab0c9d",
   "metadata": {},
   "outputs": [
    {
     "data": {
      "text/plain": [
       "(64, 1000)"
      ]
     },
     "execution_count": 10,
     "metadata": {},
     "output_type": "execute_result"
    }
   ],
   "source": [
    "lds_testset_correctness = lds_loss_array.mean(axis=1)\n",
    "lds_testset_correctness.shape"
   ]
  },
  {
   "cell_type": "code",
   "execution_count": 11,
   "id": "c6b5645a-a6e3-4570-9aca-6e2ab3adf760",
   "metadata": {},
   "outputs": [
    {
     "data": {
      "image/png": "[encoded data removed]",
      "text/plain": [
       "<Figure size 640x480 with 1 Axes>"
      ]
     },
     "metadata": {},
     "output_type": "display_data"
    }
   ],
   "source": [
    "for j in range(4):\n",
    "    plt.plot(lds_testset_correctness[:, j], color=\"C{}\".format(j))\n",
    "    # break\n",
    "# plt.ylim(0.15, 0.2)"
   ]
  },
  {
   "cell_type": "code",
   "execution_count": null,
   "id": "a6e1fd5a-508d-4b7d-a4a5-e1ea000b9547",
   "metadata": {},
   "outputs": [],
   "source": []
  },
  {
   "cell_type": "code",
   "execution_count": 12,
   "id": "12557fa3-4063-4a2f-8813-d6ff5518c152",
   "metadata": {},
   "outputs": [
    {
     "name": "stdout",
     "output_type": "stream",
     "text": [
      "Correlation: 0.042 (avg p value 0.468456)\n"
     ]
    }
   ],
   "source": [
    "# compute lds\n",
    "from scipy.stats import spearmanr, pearsonr\n",
    "####\n",
    "margins = lds_testset_correctness\n",
    "infl_est_ = scores_list[0]\n",
    "# infl_est_ = -tmp\n",
    "preds = lds_mask_array @ infl_est_.T\n",
    "####\n",
    "rs = []\n",
    "ps = []\n",
    "\n",
    "for ind in range(1000):\n",
    "    r, p = spearmanr(preds[:, ind], margins[:, ind])\n",
    "    # r, p = pearsonr(preds[:, ind], margins[:, ind])\n",
    "    rs.append(r)\n",
    "    ps.append(p)\n",
    "    \n",
    "rs, ps = np.array(rs), np.array(ps)\n",
    "print(f'Correlation: {rs.mean():.3f} (avg p value {ps.mean():.6f})')\n",
    "\n",
    "# tmp_1 = rs"
   ]
  },
  {
   "cell_type": "code",
   "execution_count": null,
   "id": "cf2dbb71-4997-456c-bbf1-501d83c4b872",
   "metadata": {},
   "outputs": [],
   "source": []
  },
  {
   "cell_type": "code",
   "execution_count": 13,
   "id": "fe452ce0-43bb-4f4e-838d-e2b24f1d04b7",
   "metadata": {},
   "outputs": [
    {
     "name": "stdout",
     "output_type": "stream",
     "text": [
      "Correlation: 0.062 (avg p value 0.456383)\n"
     ]
    }
   ],
   "source": [
    "# compute lds\n",
    "from scipy.stats import spearmanr, pearsonr\n",
    "####\n",
    "margins = lds_testset_correctness\n",
    "infl_est_ = scores_list[1]\n",
    "# infl_est_ = -tmp\n",
    "preds = lds_mask_array @ infl_est_.T\n",
    "####\n",
    "rs = []\n",
    "ps = []\n",
    "\n",
    "for ind in range(1000):\n",
    "    r, p = spearmanr(preds[:, ind], margins[:, ind])\n",
    "    # r, p = pearsonr(preds[:, ind], margins[:, ind])\n",
    "    rs.append(r)\n",
    "    ps.append(p)\n",
    "    \n",
    "rs, ps = np.array(rs), np.array(ps)\n",
    "print(f'Correlation: {rs.mean():.3f} (avg p value {ps.mean():.6f})')\n",
    "\n",
    "# tmp_1 = rs"
   ]
  },
  {
   "cell_type": "code",
   "execution_count": 14,
   "id": "3935a543-4c50-445e-83e2-c24fcab4b380",
   "metadata": {},
   "outputs": [
    {
     "name": "stdout",
     "output_type": "stream",
     "text": [
      "Correlation: 0.097 (avg p value 0.411529)\n"
     ]
    }
   ],
   "source": [
    "# compute lds\n",
    "from scipy.stats import spearmanr, pearsonr\n",
    "####\n",
    "margins = lds_testset_correctness\n",
    "infl_est_ = scores_list[2]\n",
    "# infl_est_ = -tmp\n",
    "preds = lds_mask_array @ infl_est_.T\n",
    "####\n",
    "rs = []\n",
    "ps = []\n",
    "\n",
    "for ind in range(1000):\n",
    "    r, p = spearmanr(preds[:, ind], margins[:, ind])\n",
    "    # r, p = pearsonr(preds[:, ind], margins[:, ind])\n",
    "    rs.append(r)\n",
    "    ps.append(p)\n",
    "    \n",
    "rs, ps = np.array(rs), np.array(ps)\n",
    "print(f'Correlation: {rs.mean():.3f} (avg p value {ps.mean():.6f})')\n",
    "\n",
    "# tmp_1 = rs"
   ]
  },
  {
   "cell_type": "code",
   "execution_count": 15,
   "id": "8113e5f7-11ed-4d7d-976c-37a9b1791257",
   "metadata": {},
   "outputs": [
    {
     "name": "stdout",
     "output_type": "stream",
     "text": [
      "Correlation: 0.130 (avg p value 0.362545)\n"
     ]
    }
   ],
   "source": [
    "# compute lds\n",
    "from scipy.stats import spearmanr, pearsonr\n",
    "####\n",
    "margins = lds_testset_correctness\n",
    "infl_est_ = scores_list[3]\n",
    "# infl_est_ = -tmp\n",
    "preds = lds_mask_array @ infl_est_.T\n",
    "####\n",
    "rs = []\n",
    "ps = []\n",
    "\n",
    "for ind in range(1000):\n",
    "    r, p = spearmanr(preds[:, ind], margins[:, ind])\n",
    "    # r, p = pearsonr(preds[:, ind], margins[:, ind])\n",
    "    rs.append(r)\n",
    "    ps.append(p)\n",
    "    \n",
    "rs, ps = np.array(rs), np.array(ps)\n",
    "print(f'Correlation: {rs.mean():.3f} (avg p value {ps.mean():.6f})')\n",
    "\n",
    "# tmp_1 = rs"
   ]
  },
  {
   "cell_type": "code",
   "execution_count": null,
   "id": "bd446bae-3870-40c9-8bfe-3dcbe918ceaa",
   "metadata": {},
   "outputs": [],
   "source": []
  },
  {
   "cell_type": "code",
   "execution_count": 16,
   "id": "01cd2c1f-b213-46f1-9bf0-68eac5add620",
   "metadata": {},
   "outputs": [],
   "source": [
    "import matplotlib.pyplot as plt\n",
    "from scipy.stats import bootstrap"
   ]
  },
  {
   "cell_type": "code",
   "execution_count": 17,
   "id": "031d5899-939d-46a3-a6dd-41a6549f5d7d",
   "metadata": {
    "scrolled": true
   },
   "outputs": [
    {
     "name": "stdout",
     "output_type": "stream",
     "text": [
      "0\n",
      "ConfidenceInterval(low=0.032325805938699784, high=0.04917016108671588)\n",
      "0.032\n",
      "0.049\n",
      "1\n",
      "ConfidenceInterval(low=0.05363317387133771, high=0.07050004889394985)\n",
      "0.054\n",
      "0.071\n",
      "2\n",
      "ConfidenceInterval(low=0.08933364347348642, high=0.10660725811431407)\n",
      "0.089\n",
      "0.107\n",
      "3\n",
      "ConfidenceInterval(low=0.12353386438371337, high=0.1384971079514035)\n",
      "0.124\n",
      "0.138\n"
     ]
    }
   ],
   "source": [
    "res_list = []\n",
    "for i in range(4):\n",
    "    print(i)\n",
    "    def my_statistics(data):\n",
    "        # print(data)\n",
    "        # print(len(data))\n",
    "        margins = lds_testset_correctness[data]\n",
    "        infl_est_ = scores_list[i]\n",
    "        # infl_est_ = -tmp\n",
    "        preds = lds_mask_array[data] @ infl_est_.T\n",
    "        ####\n",
    "        rs = []\n",
    "        ps = []\n",
    "        for ind in range(1000):\n",
    "            r, p = spearmanr(preds[:, ind], margins[:, ind])\n",
    "            # r, p = pearsonr(preds[:, ind], margins[:, ind])\n",
    "            rs.append(r)\n",
    "            ps.append(p)\n",
    "        \n",
    "        rs, ps = np.array(rs), np.array(ps)\n",
    "        # print(f'Correlation: {rs.mean():.3f} (avg p value {ps.mean():.6f})')\n",
    "    \n",
    "        return rs.mean()     \n",
    "\n",
    "    data = (list(range(64)), )  # samples must be in a sequence\n",
    "    res = bootstrap(data, my_statistics, \n",
    "                    n_resamples=64, # 够了估计\n",
    "                    batch=128,\n",
    "                    confidence_level=0.95,\n",
    "                    random_state=42)\n",
    "\n",
    "    print(res.confidence_interval)\n",
    "    \n",
    "    print(res.confidence_interval.low.round(3))\n",
    "    print(res.confidence_interval.high.round(3))\n",
    "\n",
    "    res_list.append(res)\n",
    "    # break"
   ]
  },
  {
   "cell_type": "code",
   "execution_count": null,
   "id": "58f45d33-6d43-4367-8710-70132dbdf5b3",
   "metadata": {},
   "outputs": [],
   "source": []
  },
  {
   "cell_type": "code",
   "execution_count": null,
   "id": "7793c07e-c75c-48ca-a173-a9831391a624",
   "metadata": {
    "scrolled": true
   },
   "outputs": [],
   "source": []
  },
  {
   "cell_type": "code",
   "execution_count": 18,
   "id": "9a7aacf8-41cf-4e6d-a038-17a1423ebd46",
   "metadata": {},
   "outputs": [],
   "source": [
    "with open(\"./gen_res_list.pkl\", 'wb') as handle:\n",
    "    pickle.dump([[res.confidence_interval.low, res.confidence_interval.high, res.bootstrap_distribution, res.standard_error] for res in res_list],\n",
    "                handle)"
   ]
  },
  {
   "cell_type": "code",
   "execution_count": null,
   "id": "9859c520-7da2-416e-a5c8-05bff6b939d2",
   "metadata": {},
   "outputs": [],
   "source": []
  },
  {
   "cell_type": "code",
   "execution_count": 19,
   "id": "af844177-9c54-4ad6-b655-a57ec35ae71e",
   "metadata": {},
   "outputs": [
    {
     "data": {
      "image/png": "[encoded data removed]",
      "text/plain": [
       "<Figure size 640x480 with 1 Axes>"
      ]
     },
     "metadata": {},
     "output_type": "display_data"
    }
   ],
   "source": [
    "fig, ax = plt.subplots()\n",
    "ax.hist(res_list[0].bootstrap_distribution, bins=25)\n",
    "ax.set_title('Bootstrap Distribution')\n",
    "ax.set_xlabel('statistic value')\n",
    "ax.set_ylabel('frequency')\n",
    "plt.show()"
   ]
  },
  {
   "cell_type": "code",
   "execution_count": null,
   "id": "0d386ad1-9f39-4f63-9d4b-a52d89367e35",
   "metadata": {},
   "outputs": [],
   "source": []
  },
  {
   "cell_type": "code",
   "execution_count": null,
   "id": "32c48dba-1625-456f-95f7-16e3db6c2758",
   "metadata": {},
   "outputs": [],
   "source": []
  },
  {
   "cell_type": "code",
   "execution_count": null,
   "id": "e03f4530-cee9-49d6-bf35-790bb7f71aaa",
   "metadata": {},
   "outputs": [],
   "source": []
  }
 ],
 "metadata": {
  "kernelspec": {
   "display_name": "Python 3 (ipykernel)",
   "language": "python",
   "name": "python3"
  },
  "language_info": {
   "codemirror_mode": {
    "name": "ipython",
    "version": 3
   },
   "file_extension": ".py",
   "mimetype": "text/x-python",
   "name": "python",
   "nbconvert_exporter": "python",
   "pygments_lexer": "ipython3",
   "version": "3.8.10"
  }
 },
 "nbformat": 4,
 "nbformat_minor": 5
}
