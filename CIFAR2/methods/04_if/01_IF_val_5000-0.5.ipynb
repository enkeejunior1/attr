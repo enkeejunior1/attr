{
 "cells": [
  {
   "cell_type": "code",
   "execution_count": null,
   "id": "31e0858d-12e5-4eaf-8cc3-f461d2aff756",
   "metadata": {},
   "outputs": [],
   "source": []
  },
  {
   "cell_type": "code",
   "execution_count": null,
   "id": "974ba093-b42b-4ee9-a8c0-cd79d161435c",
   "metadata": {},
   "outputs": [],
   "source": []
  },
  {
   "cell_type": "code",
   "execution_count": null,
   "id": "8c2f5efb-631c-4083-84ae-dc219c6a75a1",
   "metadata": {},
   "outputs": [],
   "source": []
  },
  {
   "cell_type": "code",
   "execution_count": null,
   "id": "fde1d3d3-3ae3-4194-b2e8-596809be9636",
   "metadata": {},
   "outputs": [],
   "source": []
  },
  {
   "cell_type": "code",
   "execution_count": null,
   "id": "9e3a5e70-ec86-4af6-ad75-bdc4351b4d40",
   "metadata": {},
   "outputs": [],
   "source": []
  },
  {
   "cell_type": "code",
   "execution_count": null,
   "id": "723df846-36f4-433c-99cf-044b96c870ec",
   "metadata": {},
   "outputs": [],
   "source": []
  },
  {
   "cell_type": "code",
   "execution_count": null,
   "id": "cf1854ba-184b-4c9f-9a5c-9158e786e404",
   "metadata": {},
   "outputs": [],
   "source": []
  },
  {
   "cell_type": "code",
   "execution_count": 1,
   "id": "c4cadde9-8859-435a-b6ba-09aa42bb468d",
   "metadata": {},
   "outputs": [],
   "source": [
    "import os\n",
    "\n",
    "os.environ[\"CUDA_DEVICE_ORDER\"]=\"PCI_BUS_ID\"   \n",
    "os.environ[\"CUDA_VISIBLE_DEVICES\"]='1'\n",
    "\n",
    "os.environ[\"HF_HOME\"]=\"~/codes/.cache/huggingface\""
   ]
  },
  {
   "cell_type": "code",
   "execution_count": 2,
   "id": "2f7cd96b-ca27-4ce1-ac2d-c3dd67e069b7",
   "metadata": {},
   "outputs": [],
   "source": [
    "import torch\n",
    "import random\n",
    "import numpy as np\n",
    "\n",
    "def set_seeds(seed):\n",
    "    random.seed(seed)\n",
    "    np.random.seed(seed)\n",
    "    torch.manual_seed(seed)\n",
    "    torch.backends.cudnn.deterministic = True\n",
    "    torch.backends.cudnn.benchmark = False\n",
    "    \n",
    "set_seeds(42)"
   ]
  },
  {
   "cell_type": "code",
   "execution_count": 3,
   "id": "4ff495b8-8df0-49e8-a409-4ed9601c8143",
   "metadata": {},
   "outputs": [],
   "source": [
    "import matplotlib.pyplot as plt\n",
    "def show_images(images, scores, test_artist, train_artists):\n",
    "    n: int = len(images)\n",
    "    f = plt.figure(figsize=(16, 2))\n",
    "    for i in range(n):\n",
    "        # Debug, plot figure\n",
    "        ax = f.add_subplot(1, n, i + 1)\n",
    "        if i==0:\n",
    "            pass\n",
    "            ax.title.set_text(test_artist)\n",
    "        else:\n",
    "            ax.title.set_text(str(np.round(scores[i-1], 4))+'\\n'+train_artists[i-1])\n",
    "            ax.axis('off')\n",
    "        if images[i]==None:\n",
    "            pass\n",
    "        else:\n",
    "            plt.imshow(images[i])\n",
    "\n",
    "    plt.show(block=True)"
   ]
  },
  {
   "cell_type": "code",
   "execution_count": 4,
   "id": "c4e89a09-d6ff-46a1-8a9e-9c6f9c167114",
   "metadata": {},
   "outputs": [],
   "source": [
    "from datasets import load_dataset"
   ]
  },
  {
   "cell_type": "code",
   "execution_count": null,
   "id": "2682e2c4-9275-4bae-a732-74b981a358d2",
   "metadata": {},
   "outputs": [],
   "source": []
  },
  {
   "cell_type": "code",
   "execution_count": 6,
   "id": "fb2dc562-293c-4e74-8e97-141fc7465938",
   "metadata": {},
   "outputs": [],
   "source": [
    "import pickle"
   ]
  },
  {
   "cell_type": "code",
   "execution_count": 7,
   "id": "bda41875-8976-4852-823a-91dc1f42aebf",
   "metadata": {},
   "outputs": [
    {
     "data": {
      "text/plain": [
       "5000"
      ]
     },
     "execution_count": 7,
     "metadata": {},
     "output_type": "execute_result"
    }
   ],
   "source": [
    "with open('../../data/indices/5000-0.5/idx-train.pkl', 'rb')  as handle:\n",
    "    idx_train = pickle.load(handle)\n",
    "len(idx_train)   "
   ]
  },
  {
   "cell_type": "code",
   "execution_count": 8,
   "id": "5ffbb813-1636-44e3-b943-400824fde5e7",
   "metadata": {},
   "outputs": [
    {
     "data": {
      "text/plain": [
       "1000"
      ]
     },
     "execution_count": 8,
     "metadata": {},
     "output_type": "execute_result"
    }
   ],
   "source": [
    "with open('../../data/indices/5000-0.5/idx-val.pkl', 'rb')  as handle:\n",
    "    idx_val = pickle.load(handle)\n",
    "len(idx_val)"
   ]
  },
  {
   "cell_type": "code",
   "execution_count": null,
   "id": "773b1a12-d60d-4ed8-8f61-b03a3af61e71",
   "metadata": {},
   "outputs": [],
   "source": []
  },
  {
   "cell_type": "code",
   "execution_count": 1,
   "id": "40c86797-31d5-45d0-b46f-52f8c84dd130",
   "metadata": {},
   "outputs": [
    {
     "ename": "NameError",
     "evalue": "name 'load_dataset' is not defined",
     "output_type": "error",
     "traceback": [
      "\u001b[0;31m---------------------------------------------------------------------------\u001b[0m",
      "\u001b[0;31mNameError\u001b[0m                                 Traceback (most recent call last)",
      "Cell \u001b[0;32mIn[1], line 3\u001b[0m\n\u001b[1;32m      1\u001b[0m \u001b[38;5;66;03m# from datasets import load_dataset\u001b[39;00m\n\u001b[0;32m----> 3\u001b[0m dataset \u001b[38;5;241m=\u001b[39m \u001b[43mload_dataset\u001b[49m(\n\u001b[1;32m      4\u001b[0m     \u001b[38;5;124m'\u001b[39m\u001b[38;5;124mcifar10\u001b[39m\u001b[38;5;124m'\u001b[39m,\n\u001b[1;32m      5\u001b[0m     \u001b[38;5;66;03m# args.dataset_config_name,\u001b[39;00m\n\u001b[1;32m      6\u001b[0m     \u001b[38;5;66;03m# cache_dir=args.cache_dir,\u001b[39;00m\n\u001b[1;32m      7\u001b[0m     \u001b[38;5;66;03m# split=\"train\",\u001b[39;00m\n\u001b[1;32m      8\u001b[0m )\n",
      "\u001b[0;31mNameError\u001b[0m: name 'load_dataset' is not defined"
     ]
    }
   ],
   "source": [
    "from datasets import load_dataset\n",
    "\n",
    "dataset = load_dataset(\n",
    "    'cifar10',\n",
    "    # args.dataset_config_name,\n",
    "    # cache_dir=args.cache_dir,\n",
    "    # split=\"train\",\n",
    ")"
   ]
  },
  {
   "cell_type": "code",
   "execution_count": null,
   "id": "c6632d56-9134-4720-99a9-1853fe349039",
   "metadata": {},
   "outputs": [],
   "source": []
  },
  {
   "cell_type": "code",
   "execution_count": null,
   "id": "b2e50aae-335f-457d-bfb7-e3991f19fb50",
   "metadata": {},
   "outputs": [],
   "source": []
  },
  {
   "cell_type": "code",
   "execution_count": null,
   "id": "5df420e1-7166-4e5b-baa3-a012fe7e32e1",
   "metadata": {},
   "outputs": [],
   "source": []
  },
  {
   "cell_type": "code",
   "execution_count": 11,
   "id": "f2ce6b6b-ff45-4156-9606-7c87046e751a",
   "metadata": {},
   "outputs": [
    {
     "data": {
      "image/png": "[encoded data removed]",
      "text/plain": [
       "<PIL.PngImagePlugin.PngImageFile image mode=RGB size=32x32>"
      ]
     },
     "execution_count": 11,
     "metadata": {},
     "output_type": "execute_result"
    }
   ],
   "source": [
    "from datasets import DatasetDict, Dataset, load_dataset, Image\n",
    "\n",
    "train_dataset = dataset['train'].select(idx_train)\n",
    "train_dataset[0][\"img\"]"
   ]
  },
  {
   "cell_type": "code",
   "execution_count": null,
   "id": "26b8b800-7147-4c3b-9f62-b99110392974",
   "metadata": {},
   "outputs": [],
   "source": []
  },
  {
   "cell_type": "code",
   "execution_count": 12,
   "id": "087ea1db-01c9-4e6a-a402-8b8a9aa93e8b",
   "metadata": {},
   "outputs": [
    {
     "data": {
      "image/png": "[encoded data removed]",
      "text/plain": [
       "<PIL.PngImagePlugin.PngImageFile image mode=RGB size=32x32>"
      ]
     },
     "execution_count": 12,
     "metadata": {},
     "output_type": "execute_result"
    }
   ],
   "source": [
    "val_dataset =  dataset['test'].select(idx_val)\n",
    "val_dataset[0][\"img\"]"
   ]
  },
  {
   "cell_type": "code",
   "execution_count": 13,
   "id": "e16837b7-8ddd-46ab-9d0a-c988f2ca9514",
   "metadata": {},
   "outputs": [
    {
     "data": {
      "text/plain": [
       "[7405, 5226, 1363, 6615, 7612]"
      ]
     },
     "execution_count": 13,
     "metadata": {},
     "output_type": "execute_result"
    }
   ],
   "source": [
    "idx_val[0:5]"
   ]
  },
  {
   "cell_type": "code",
   "execution_count": null,
   "id": "0dd5e770-1fed-4f65-b4e7-5373e2adcb10",
   "metadata": {},
   "outputs": [],
   "source": []
  },
  {
   "cell_type": "code",
   "execution_count": 14,
   "id": "317f972c-b763-40d3-8186-759118c12237",
   "metadata": {},
   "outputs": [],
   "source": [
    "class Args():\n",
    "            \n",
    "    dataset_name=\"cifar10\"\n",
    "\n",
    "    output_dir=\"../../saved/5000-0.5/ddpm/checkpoint-8000\"\n",
    "    \n",
    "    # K=10\n",
    "    Z=65536\n",
    "\n",
    "    used_dim=32768\n",
    "    \n",
    "    t_strategy='uniform'\n",
    "   \n",
    "args = Args()"
   ]
  },
  {
   "cell_type": "code",
   "execution_count": 15,
   "id": "bb9d8f5f-5370-4157-be84-f77949771866",
   "metadata": {},
   "outputs": [],
   "source": [
    "import diffusers\n",
    "from diffusers import DDPMPipeline, DDPMScheduler, UNet2DModel\n",
    "from diffusers.optimization import get_scheduler"
   ]
  },
  {
   "cell_type": "code",
   "execution_count": null,
   "id": "3ffe8c0c-a6df-41e9-8cd9-4dfa6eaa4d89",
   "metadata": {},
   "outputs": [],
   "source": []
  },
  {
   "cell_type": "code",
   "execution_count": 16,
   "id": "0740ed2c-c98c-494d-bc1f-381653a77964",
   "metadata": {},
   "outputs": [
    {
     "data": {
      "text/plain": [
       "2728"
      ]
     },
     "execution_count": 16,
     "metadata": {},
     "output_type": "execute_result"
    }
   ],
   "source": [
    "from sklearn.random_projection import johnson_lindenstrauss_min_dim\n",
    "johnson_lindenstrauss_min_dim(n_samples=1e3, eps=0.15)"
   ]
  },
  {
   "cell_type": "code",
   "execution_count": 17,
   "id": "58c5c4e8-7171-4847-9fba-51ea76b2c794",
   "metadata": {},
   "outputs": [
    {
     "data": {
      "text/plain": [
       "3002"
      ]
     },
     "execution_count": 17,
     "metadata": {},
     "output_type": "execute_result"
    }
   ],
   "source": [
    "from sklearn.random_projection import johnson_lindenstrauss_min_dim\n",
    "johnson_lindenstrauss_min_dim(n_samples=2e3, eps=0.15)"
   ]
  },
  {
   "cell_type": "code",
   "execution_count": 18,
   "id": "32c7cc29-8267-4fc3-915f-2628006b3af9",
   "metadata": {},
   "outputs": [
    {
     "data": {
      "text/plain": [
       "3364"
      ]
     },
     "execution_count": 18,
     "metadata": {},
     "output_type": "execute_result"
    }
   ],
   "source": [
    "from sklearn.random_projection import johnson_lindenstrauss_min_dim\n",
    "johnson_lindenstrauss_min_dim(n_samples=5e3, eps=0.15)"
   ]
  },
  {
   "cell_type": "code",
   "execution_count": 19,
   "id": "5396c1cc-03c9-407d-b4ba-d16f4b56bc25",
   "metadata": {},
   "outputs": [
    {
     "data": {
      "text/plain": [
       "3638"
      ]
     },
     "execution_count": 19,
     "metadata": {},
     "output_type": "execute_result"
    }
   ],
   "source": [
    "from sklearn.random_projection import johnson_lindenstrauss_min_dim\n",
    "johnson_lindenstrauss_min_dim(n_samples=1e4, eps=0.15)"
   ]
  },
  {
   "cell_type": "code",
   "execution_count": null,
   "id": "a8c9ec30-0da2-4b68-9f5f-8e9e0faab1bc",
   "metadata": {},
   "outputs": [],
   "source": []
  },
  {
   "cell_type": "code",
   "execution_count": null,
   "id": "04be809b-6fd9-4a8a-9d64-94c6ef3b4f85",
   "metadata": {},
   "outputs": [],
   "source": []
  },
  {
   "cell_type": "code",
   "execution_count": null,
   "id": "ad307d24-057d-43bc-9772-5ae5d62c9fa1",
   "metadata": {},
   "outputs": [],
   "source": []
  },
  {
   "cell_type": "code",
   "execution_count": 20,
   "id": "c37c6ab7-8c07-416a-b7b1-4b2c03a82cfa",
   "metadata": {},
   "outputs": [],
   "source": [
    "# load ground truth\n",
    "my_list = [\n",
    "    0,1,2,3,\n",
    "    4,5,6,7,\n",
    "    8,9,10,11,\n",
    "    12,13,14,15,\n",
    "    16,17,18,19,\n",
    "    20,21,22,23,\n",
    "    24,25,26,27,\n",
    "    28,29,30,31,\n",
    "    32,33,34,35,\n",
    "    36,37,38,39,\n",
    "    40,41,42,43,\n",
    "    44,45,46,47,\n",
    "    48,49,50,51,\n",
    "    52,53,54,55,\n",
    "    56,57,58,59,\n",
    "    60,61,62,63,\n",
    "          ]"
   ]
  },
  {
   "cell_type": "code",
   "execution_count": 21,
   "id": "7e5b270b-c5df-4b5d-a8fd-2a924a6edad6",
   "metadata": {},
   "outputs": [
    {
     "data": {
      "text/plain": [
       "(64, 1000, 1000)"
      ]
     },
     "execution_count": 21,
     "metadata": {},
     "output_type": "execute_result"
    }
   ],
   "source": [
    "loss_array_list = []\n",
    "\n",
    "for i in my_list:\n",
    "    for seed in [\n",
    "        0,\n",
    "                 1,\n",
    "                 2,\n",
    "                 # 3,\n",
    "                 # 4,\n",
    "                ]:\n",
    "        for e_seed in [\n",
    "            0, \n",
    "                       1, \n",
    "                       2\n",
    "                      ]:\n",
    "            with open('../../saved/5000-0.5/lds-val/ddpm-sub-{}-{}/e-{}-val.pkl'.format(i, seed, e_seed), 'rb')  as handle:\n",
    "                loss_list = pickle.load(handle)\n",
    "            margins = np.concatenate(loss_list, axis=-1) # -logp\n",
    "            ####\n",
    "            if (seed==0) and (e_seed)==0:\n",
    "                loss_array = margins\n",
    "            else:\n",
    "                loss_array += margins\n",
    "            \n",
    "    loss_array = loss_array/(3*3)\n",
    "    \n",
    "    loss_array_list.append(loss_array)\n",
    "lds_loss_array = np.stack(loss_array_list)\n",
    "lds_loss_array.shape"
   ]
  },
  {
   "cell_type": "code",
   "execution_count": 22,
   "id": "d823ef7b-9d53-4f31-ab11-864274554493",
   "metadata": {},
   "outputs": [
    {
     "data": {
      "image/png": "[encoded data removed]",
      "text/plain": [
       "<Figure size 640x480 with 1 Axes>"
      ]
     },
     "metadata": {},
     "output_type": "display_data"
    }
   ],
   "source": [
    "for i in range(1):\n",
    "    for j in range(8):\n",
    "        plt.plot(lds_loss_array[i, :, j], color=\"C{}\".format(j))\n",
    "    # break"
   ]
  },
  {
   "cell_type": "code",
   "execution_count": 23,
   "id": "874a332c-29b1-46fe-bf83-12e7c8f64e28",
   "metadata": {},
   "outputs": [
    {
     "data": {
      "text/plain": [
       "(64, 5000)"
      ]
     },
     "execution_count": 23,
     "metadata": {},
     "output_type": "execute_result"
    }
   ],
   "source": [
    "mask_array_list = []\n",
    "\n",
    "for i in my_list:\n",
    "    # print(i)\n",
    "    with open('../../data/indices/5000-0.5/lds-val/sub-idx-{}.pkl'.format(i), 'rb')  as handle:\n",
    "        sub_idx_train = pickle.load(handle)\n",
    "    # print(len(sub_idx_train))\n",
    "    mask_array = np.in1d(idx_train, sub_idx_train)\n",
    "        \n",
    "    mask_array_list.append(mask_array)\n",
    "    \n",
    "lds_mask_array = np.stack(mask_array_list)\n",
    "lds_mask_array.shape"
   ]
  },
  {
   "cell_type": "code",
   "execution_count": 24,
   "id": "41ebfcfb-5789-44f0-99d0-0dddc7c6f32f",
   "metadata": {},
   "outputs": [
    {
     "data": {
      "text/plain": [
       "(64, 1000)"
      ]
     },
     "execution_count": 24,
     "metadata": {},
     "output_type": "execute_result"
    }
   ],
   "source": [
    "lds_testset_correctness = lds_loss_array.mean(axis=1)\n",
    "lds_testset_correctness.shape"
   ]
  },
  {
   "cell_type": "code",
   "execution_count": 25,
   "id": "46afee77-65eb-4023-8077-d11ed785d406",
   "metadata": {},
   "outputs": [
    {
     "data": {
      "image/png": "[encoded data removed]",
      "text/plain": [
       "<Figure size 640x480 with 1 Axes>"
      ]
     },
     "metadata": {},
     "output_type": "display_data"
    }
   ],
   "source": [
    "for j in range(4):\n",
    "    plt.plot(lds_testset_correctness[:, j], color=\"C{}\".format(j))\n",
    "    # break\n",
    "# plt.ylim(0.15, 0.2)"
   ]
  },
  {
   "cell_type": "code",
   "execution_count": null,
   "id": "8d92c4b4-5b21-434f-b6cc-96e968cbe495",
   "metadata": {},
   "outputs": [],
   "source": []
  },
  {
   "cell_type": "code",
   "execution_count": 26,
   "id": "649a172c-968c-4aa3-b086-b32d64d22424",
   "metadata": {},
   "outputs": [
    {
     "data": {
      "text/plain": [
       "27"
      ]
     },
     "execution_count": 26,
     "metadata": {},
     "output_type": "execute_result"
    }
   ],
   "source": [
    "from scipy.stats import spearmanr, pearsonr\n",
    "\n",
    "lamb_list = [\n",
    "        1e-2, 2e-2, 5e-2,\n",
    "        1e-1, 2e-1, 5e-1,\n",
    "        1e0, 2e0, 5e0,\n",
    "        1e1, 2e1, 5e1,\n",
    "        1e2, 2e2, 5e2,\n",
    "        1e3, 2e3, 5e3, \n",
    "        1e4, 2e4, 5e4, \n",
    "        1e5, 2e5, 5e5, \n",
    "        1e6, 2e6, 5e6, \n",
    "    ]\n",
    "\n",
    "len(lamb_list)"
   ]
  },
  {
   "cell_type": "code",
   "execution_count": null,
   "id": "e1b7c56d-0212-4aca-ba16-819db366b19a",
   "metadata": {},
   "outputs": [],
   "source": []
  },
  {
   "cell_type": "code",
   "execution_count": 27,
   "id": "effb0646-37be-44c2-8b2e-7bf3c67ea049",
   "metadata": {},
   "outputs": [
    {
     "name": "stdout",
     "output_type": "stream",
     "text": [
      "(5000, 65536)\n",
      "(5000, 32768)\n",
      "(1000, 65536)\n",
      "(1000, 32768)\n"
     ]
    },
    {
     "name": "stderr",
     "output_type": "stream",
     "text": [
      "/tmp/ipykernel_4009/1445120343.py:32: UserWarning: The given NumPy array is not writable, and PyTorch does not support non-writable tensors. This means writing to this tensor will result in undefined behavior. You may want to copy the array to protect its data or make it writable before converting it to a tensor. This type of warning will be suppressed for the rest of this program. (Triggered internally at ../torch/csrc/utils/tensor_numpy.cpp:206.)\n",
      "  gen_dstore_keys = torch.from_numpy(gen_dstore_keys).cuda()\n"
     ]
    },
    {
     "name": "stdout",
     "output_type": "stream",
     "text": [
      "torch.Size([32768, 32768])\n",
      "tensor(39.2496, device='cuda:0')\n",
      "torch.Size([1000, 5000])\n",
      "Correlation: -0.006 (avg p value 0.492188)\n",
      "torch.Size([32768, 32768])\n",
      "tensor(39.1747, device='cuda:0')\n",
      "torch.Size([1000, 5000])\n",
      "Correlation: 0.007 (avg p value 0.493739)\n",
      "torch.Size([32768, 32768])\n",
      "tensor(18.8999, device='cuda:0')\n",
      "torch.Size([1000, 5000])\n",
      "Correlation: 0.084 (avg p value 0.439958)\n",
      "torch.Size([32768, 32768])\n",
      "tensor(8.6607, device='cuda:0')\n",
      "torch.Size([1000, 5000])\n",
      "Correlation: 0.087 (avg p value 0.441724)\n",
      "torch.Size([32768, 32768])\n",
      "tensor(4.2605, device='cuda:0')\n",
      "torch.Size([1000, 5000])\n",
      "Correlation: 0.088 (avg p value 0.440291)\n",
      "torch.Size([32768, 32768])\n",
      "tensor(1.6972, device='cuda:0')\n",
      "torch.Size([1000, 5000])\n",
      "Correlation: 0.088 (avg p value 0.439886)\n",
      "torch.Size([32768, 32768])\n",
      "tensor(0.8484, device='cuda:0')\n",
      "torch.Size([1000, 5000])\n",
      "Correlation: 0.088 (avg p value 0.440005)\n",
      "torch.Size([32768, 32768])\n",
      "tensor(0.4245, device='cuda:0')\n",
      "torch.Size([1000, 5000])\n",
      "Correlation: 0.089 (avg p value 0.439770)\n",
      "torch.Size([32768, 32768])\n",
      "tensor(0.1703, device='cuda:0')\n",
      "torch.Size([1000, 5000])\n",
      "Correlation: 0.089 (avg p value 0.437719)\n",
      "torch.Size([32768, 32768])\n",
      "tensor(0.0855, device='cuda:0')\n",
      "torch.Size([1000, 5000])\n",
      "Correlation: 0.090 (avg p value 0.435699)\n",
      "torch.Size([32768, 32768])\n",
      "tensor(0.0431, device='cuda:0')\n",
      "torch.Size([1000, 5000])\n",
      "Correlation: 0.092 (avg p value 0.431199)\n",
      "torch.Size([32768, 32768])\n",
      "tensor(0.0175, device='cuda:0')\n",
      "torch.Size([1000, 5000])\n",
      "Correlation: 0.096 (avg p value 0.425575)\n",
      "torch.Size([32768, 32768])\n",
      "tensor(0.0089, device='cuda:0')\n",
      "torch.Size([1000, 5000])\n",
      "Correlation: 0.100 (avg p value 0.418670)\n",
      "torch.Size([32768, 32768])\n",
      "tensor(0.0046, device='cuda:0')\n",
      "torch.Size([1000, 5000])\n",
      "Correlation: 0.104 (avg p value 0.407926)\n",
      "torch.Size([32768, 32768])\n",
      "tensor(0.0019, device='cuda:0')\n",
      "torch.Size([1000, 5000])\n",
      "Correlation: 0.110 (avg p value 0.394776)\n",
      "torch.Size([32768, 32768])\n",
      "tensor(0.0010, device='cuda:0')\n",
      "torch.Size([1000, 5000])\n",
      "Correlation: 0.113 (avg p value 0.385295)\n",
      "torch.Size([32768, 32768])\n",
      "tensor(0.0005, device='cuda:0')\n",
      "torch.Size([1000, 5000])\n",
      "Correlation: 0.115 (avg p value 0.380145)\n",
      "torch.Size([32768, 32768])\n",
      "tensor(0.0002, device='cuda:0')\n",
      "torch.Size([1000, 5000])\n",
      "Correlation: 0.115 (avg p value 0.386765)\n",
      "torch.Size([32768, 32768])\n",
      "tensor(9.9095e-05, device='cuda:0')\n",
      "torch.Size([1000, 5000])\n",
      "Correlation: 0.114 (avg p value 0.388968)\n",
      "torch.Size([32768, 32768])\n",
      "tensor(4.9731e-05, device='cuda:0')\n",
      "torch.Size([1000, 5000])\n",
      "Correlation: 0.112 (avg p value 0.392252)\n",
      "torch.Size([32768, 32768])\n",
      "tensor(1.9948e-05, device='cuda:0')\n",
      "torch.Size([1000, 5000])\n",
      "Correlation: 0.105 (avg p value 0.398832)\n",
      "torch.Size([32768, 32768])\n",
      "tensor(9.9850e-06, device='cuda:0')\n",
      "torch.Size([1000, 5000])\n",
      "Correlation: 0.097 (avg p value 0.406524)\n",
      "torch.Size([32768, 32768])\n",
      "tensor(4.9957e-06, device='cuda:0')\n",
      "torch.Size([1000, 5000])\n",
      "Correlation: 0.087 (avg p value 0.419626)\n",
      "torch.Size([32768, 32768])\n",
      "tensor(1.9992e-06, device='cuda:0')\n",
      "torch.Size([1000, 5000])\n",
      "Correlation: 0.073 (avg p value 0.451035)\n",
      "torch.Size([32768, 32768])\n",
      "tensor(9.9977e-07, device='cuda:0')\n",
      "torch.Size([1000, 5000])\n",
      "Correlation: 0.065 (avg p value 0.463086)\n",
      "torch.Size([32768, 32768])\n",
      "tensor(4.9993e-07, device='cuda:0')\n",
      "torch.Size([1000, 5000])\n",
      "Correlation: 0.059 (avg p value 0.465625)\n",
      "torch.Size([32768, 32768])\n",
      "tensor(1.9999e-07, device='cuda:0')\n",
      "torch.Size([1000, 5000])\n",
      "Correlation: 0.054 (avg p value 0.468292)\n",
      "(5000, 65536)\n",
      "(5000, 32768)\n",
      "(1000, 65536)\n",
      "(1000, 32768)\n",
      "torch.Size([32768, 32768])\n",
      "tensor(60.7976, device='cuda:0')\n",
      "torch.Size([1000, 5000])\n",
      "Correlation: -0.012 (avg p value 0.499995)\n",
      "torch.Size([32768, 32768])\n",
      "tensor(51.3385, device='cuda:0')\n",
      "torch.Size([1000, 5000])\n",
      "Correlation: 0.010 (avg p value 0.523637)\n",
      "torch.Size([32768, 32768])\n",
      "tensor(17.5794, device='cuda:0')\n",
      "torch.Size([1000, 5000])\n",
      "Correlation: 0.194 (avg p value 0.244985)\n",
      "torch.Size([32768, 32768])\n",
      "tensor(8.5538, device='cuda:0')\n",
      "torch.Size([1000, 5000])\n",
      "Correlation: 0.197 (avg p value 0.242606)\n",
      "torch.Size([32768, 32768])\n",
      "tensor(4.2536, device='cuda:0')\n",
      "torch.Size([1000, 5000])\n",
      "Correlation: 0.197 (avg p value 0.241266)\n",
      "torch.Size([32768, 32768])\n",
      "tensor(1.7027, device='cuda:0')\n",
      "torch.Size([1000, 5000])\n",
      "Correlation: 0.199 (avg p value 0.237770)\n",
      "torch.Size([32768, 32768])\n",
      "tensor(0.8545, device='cuda:0')\n",
      "torch.Size([1000, 5000])\n",
      "Correlation: 0.202 (avg p value 0.233116)\n",
      "torch.Size([32768, 32768])\n",
      "tensor(0.4303, device='cuda:0')\n",
      "torch.Size([1000, 5000])\n",
      "Correlation: 0.205 (avg p value 0.225925)\n",
      "torch.Size([32768, 32768])\n",
      "tensor(0.1750, device='cuda:0')\n",
      "torch.Size([1000, 5000])\n",
      "Correlation: 0.213 (avg p value 0.215066)\n",
      "torch.Size([32768, 32768])\n",
      "tensor(0.0892, device='cuda:0')\n",
      "torch.Size([1000, 5000])\n",
      "Correlation: 0.221 (avg p value 0.202207)\n",
      "torch.Size([32768, 32768])\n",
      "tensor(0.0456, device='cuda:0')\n",
      "torch.Size([1000, 5000])\n",
      "Correlation: 0.230 (avg p value 0.188052)\n",
      "torch.Size([32768, 32768])\n",
      "tensor(0.0188, device='cuda:0')\n",
      "torch.Size([1000, 5000])\n",
      "Correlation: 0.238 (avg p value 0.179244)\n",
      "torch.Size([32768, 32768])\n",
      "tensor(0.0096, device='cuda:0')\n",
      "torch.Size([1000, 5000])\n",
      "Correlation: 0.240 (avg p value 0.176403)\n",
      "torch.Size([32768, 32768])\n",
      "tensor(0.0049, device='cuda:0')\n",
      "torch.Size([1000, 5000])\n",
      "Correlation: 0.237 (avg p value 0.182372)\n",
      "torch.Size([32768, 32768])\n",
      "tensor(0.0020, device='cuda:0')\n",
      "torch.Size([1000, 5000])\n",
      "Correlation: 0.222 (avg p value 0.202746)\n",
      "torch.Size([32768, 32768])\n",
      "tensor(0.0010, device='cuda:0')\n",
      "torch.Size([1000, 5000])\n",
      "Correlation: 0.206 (avg p value 0.226456)\n",
      "torch.Size([32768, 32768])\n",
      "tensor(0.0005, device='cuda:0')\n",
      "torch.Size([1000, 5000])\n",
      "Correlation: 0.188 (avg p value 0.253716)\n",
      "torch.Size([32768, 32768])\n",
      "tensor(0.0002, device='cuda:0')\n",
      "torch.Size([1000, 5000])\n",
      "Correlation: 0.164 (avg p value 0.297000)\n",
      "torch.Size([32768, 32768])\n",
      "tensor(9.9846e-05, device='cuda:0')\n",
      "torch.Size([1000, 5000])\n",
      "Correlation: 0.147 (avg p value 0.326063)\n",
      "torch.Size([32768, 32768])\n",
      "tensor(4.9955e-05, device='cuda:0')\n",
      "torch.Size([1000, 5000])\n",
      "Correlation: 0.130 (avg p value 0.358008)\n",
      "torch.Size([32768, 32768])\n",
      "tensor(1.9991e-05, device='cuda:0')\n",
      "torch.Size([1000, 5000])\n",
      "Correlation: 0.106 (avg p value 0.392117)\n",
      "torch.Size([32768, 32768])\n",
      "tensor(9.9973e-06, device='cuda:0')\n",
      "torch.Size([1000, 5000])\n",
      "Correlation: 0.088 (avg p value 0.406547)\n",
      "torch.Size([32768, 32768])\n",
      "tensor(4.9991e-06, device='cuda:0')\n",
      "torch.Size([1000, 5000])\n",
      "Correlation: 0.074 (avg p value 0.421729)\n",
      "torch.Size([32768, 32768])\n",
      "tensor(1.9998e-06, device='cuda:0')\n",
      "torch.Size([1000, 5000])\n",
      "Correlation: 0.061 (avg p value 0.436548)\n",
      "torch.Size([32768, 32768])\n",
      "tensor(9.9993e-07, device='cuda:0')\n",
      "torch.Size([1000, 5000])\n",
      "Correlation: 0.056 (avg p value 0.440353)\n",
      "torch.Size([32768, 32768])\n",
      "tensor(4.9998e-07, device='cuda:0')\n",
      "torch.Size([1000, 5000])\n",
      "Correlation: 0.054 (avg p value 0.443044)\n",
      "torch.Size([32768, 32768])\n",
      "tensor(2.0000e-07, device='cuda:0')\n",
      "torch.Size([1000, 5000])\n",
      "Correlation: 0.052 (avg p value 0.445051)\n"
     ]
    }
   ],
   "source": [
    "# for loop over functions\n",
    "lds_list = []\n",
    "for K in [10, 100, \n",
    "          # 1000\n",
    "         ]:\n",
    "    ####\n",
    "    ####\n",
    "    dstore_keys_list = []\n",
    "    for split in range(5):\n",
    "        dstore_keys = np.memmap('{}/features-0/ddpm-train-keys-{}-{}-{}-{}-{}.npy'.format(\n",
    "            args.output_dir, split, K, args.Z, 'loss', args.t_strategy), \n",
    "                                dtype=np.float32, \n",
    "                                mode='r',\n",
    "                                shape=(1000, args.Z))\n",
    "        dstore_keys_list.append(dstore_keys) \n",
    "        \n",
    "    dstore_keys = np.vstack(dstore_keys_list)\n",
    "    print(dstore_keys.shape)  \n",
    "    dstore_keys = dstore_keys[:, :args.used_dim]\n",
    "    print(dstore_keys.shape)\n",
    "    ####        \n",
    "    gen_dstore_keys = np.memmap('{}/features-0/ddpm-val-keys-{}-{}-{}-{}-{}.npy'.format(\n",
    "                args.output_dir, 0, K, args.Z, 'loss', args.t_strategy), \n",
    "                                dtype=np.float32, \n",
    "                                mode='r',\n",
    "                                shape=(1000, args.Z))\n",
    "    print(gen_dstore_keys.shape)    \n",
    "    gen_dstore_keys = gen_dstore_keys[:, :args.used_dim]\n",
    "    print(gen_dstore_keys.shape)\n",
    "    ####\n",
    "    dstore_keys = torch.from_numpy(dstore_keys).cuda()\n",
    "    gen_dstore_keys = torch.from_numpy(gen_dstore_keys).cuda()\n",
    "    # dstore_keys = torch.from_numpy(dstore_keys).cuda() * 1000\n",
    "    # gen_dstore_keys = torch.from_numpy(gen_dstore_keys).cuda() * 1000\n",
    "    ####\n",
    "    kernel = dstore_keys.T@dstore_keys\n",
    "    ####\n",
    "    rs_list = []\n",
    "    ps_list = []\n",
    "\n",
    "    best_scores = None\n",
    "    best_lds = -np.inf\n",
    "    for lamb in lamb_list:\n",
    "        # kernel_ = kernel + lamb*np.eye(kernel.shape[0])\n",
    "        kernel_ = kernel + lamb*torch.eye(kernel.shape[0]).cuda()\n",
    "        # kernel_ = torch.from_numpy(kernel_).cuda()\n",
    "        ####\n",
    "        kernel_ = torch.linalg.inv(kernel_)  \n",
    "        # kernel_ = kernel_.cpu().numpy()\n",
    "        ####\n",
    "        print(kernel_.shape)\n",
    "        print(torch.mean(kernel_.diagonal()))\n",
    "        ####\n",
    "        # scores = gen_dstore_keys.dot((dstore_keys@kernel_).T)\n",
    "        scores = gen_dstore_keys@((dstore_keys@kernel_).T)\n",
    "        print(scores.size())\n",
    "        scores = scores.cpu().numpy()\n",
    "        \n",
    "        # compute lds\n",
    "\n",
    "        margins = lds_testset_correctness\n",
    "        infl_est_ = -scores\n",
    "        preds = lds_mask_array @ infl_est_.T\n",
    "####\n",
    "        rs = []\n",
    "        ps = []\n",
    "\n",
    "        for ind in range(1000):\n",
    "           r, p = spearmanr(preds[:, ind], margins[:, ind])\n",
    "           # r, p = pearsonr(preds[:, ind], margins[:, ind])\n",
    "           rs.append(r)\n",
    "           ps.append(p)\n",
    "    \n",
    "        rs, ps = np.array(rs), np.array(ps)\n",
    "        print(f'Correlation: {rs.mean():.3f} (avg p value {ps.mean():.6f})')\n",
    "\n",
    "        rs_list.append(rs.mean())   \n",
    "        ps_list.append(ps.mean())\n",
    "\n",
    "        if rs.mean()>best_lds:\n",
    "            best_scores = scores\n",
    "            best_lds = rs.mean()\n",
    "\n",
    "    with open('./val_5000_0.5_{}_{}_{}_{}.pkl'.format('loss', K, lamb, best_lds), 'wb') as handle:\n",
    "        pickle.dump(best_scores, handle)\n",
    "            \n",
    "    lds_list.append((rs_list, ps_list))\n",
    "\n",
    "    # break"
   ]
  },
  {
   "cell_type": "code",
   "execution_count": null,
   "id": "c3380ec5-8479-45b3-81c8-78d83cb98f3d",
   "metadata": {},
   "outputs": [],
   "source": []
  },
  {
   "cell_type": "code",
   "execution_count": null,
   "id": "47e17534-05f6-4f8d-a9b8-7ea2c69258fb",
   "metadata": {},
   "outputs": [],
   "source": []
  },
  {
   "cell_type": "code",
   "execution_count": 28,
   "id": "c08ec20a-9e82-4f58-b342-95145208f5b3",
   "metadata": {},
   "outputs": [
    {
     "data": {
      "text/plain": [
       "array([[-0.0060387 ,  0.00709208,  0.08383473,  0.08743059,  0.08801133,\n",
       "         0.08831383,  0.08843255,  0.08867818,  0.08936378,  0.09036001,\n",
       "         0.09234519,  0.0958943 ,  0.09956214,  0.10417619,  0.11004785,\n",
       "         0.11309124,  0.1152296 ,  0.11517811,  0.11402312,  0.11157539,\n",
       "         0.10470684,  0.09677891,  0.08700027,  0.07285058,  0.06462047,\n",
       "         0.05914236,  0.05444904],\n",
       "       [ 0.49218787,  0.4937387 ,  0.4399579 ,  0.44172443,  0.44029094,\n",
       "         0.43988609,  0.44000519,  0.4397705 ,  0.43771866,  0.43569874,\n",
       "         0.43119857,  0.42557527,  0.41866983,  0.4079264 ,  0.39477587,\n",
       "         0.38529549,  0.38014474,  0.38676466,  0.38896755,  0.39225188,\n",
       "         0.39883151,  0.40652357,  0.41962602,  0.45103456,  0.46308593,\n",
       "         0.46562519,  0.4682921 ]])"
      ]
     },
     "execution_count": 28,
     "metadata": {},
     "output_type": "execute_result"
    }
   ],
   "source": [
    "lds_array = np.array(lds_list)\n",
    "lds_array[0]"
   ]
  },
  {
   "cell_type": "code",
   "execution_count": 29,
   "id": "c7d99b73-0b7e-4685-af5e-20038c48751d",
   "metadata": {},
   "outputs": [
    {
     "data": {
      "text/plain": [
       "(2, 2, 27)"
      ]
     },
     "execution_count": 29,
     "metadata": {},
     "output_type": "execute_result"
    }
   ],
   "source": [
    "lds_array.shape"
   ]
  },
  {
   "cell_type": "code",
   "execution_count": null,
   "id": "bb765d6a-70b5-435d-baed-e456e650ea69",
   "metadata": {},
   "outputs": [],
   "source": []
  },
  {
   "cell_type": "code",
   "execution_count": 33,
   "id": "3798369f-a4c3-41c1-a02e-84ba7c5395c0",
   "metadata": {},
   "outputs": [],
   "source": [
    "with open('./val_5000_0.5_{}.pkl'.format('loss'), 'wb') as handle:\n",
    "    pickle.dump(lds_array, handle)"
   ]
  },
  {
   "cell_type": "code",
   "execution_count": null,
   "id": "af9b280d-3e7b-472f-9a68-8417a27e7bc6",
   "metadata": {},
   "outputs": [],
   "source": []
  },
  {
   "cell_type": "code",
   "execution_count": 34,
   "id": "8122043b-7cc0-4d50-a1a5-98e6eed9a4ed",
   "metadata": {},
   "outputs": [
    {
     "data": {
      "text/plain": [
       "array([0.1152296 , 0.23996492])"
      ]
     },
     "execution_count": 34,
     "metadata": {},
     "output_type": "execute_result"
    }
   ],
   "source": [
    "lds_array[:, 0].max(axis=-1)"
   ]
  },
  {
   "cell_type": "code",
   "execution_count": 35,
   "id": "80995dab-f837-4566-9ea9-ccb5b1c5b0fd",
   "metadata": {},
   "outputs": [
    {
     "data": {
      "image/png": "[encoded data removed]",
      "text/plain": [
       "<Figure size 640x480 with 1 Axes>"
      ]
     },
     "metadata": {},
     "output_type": "display_data"
    }
   ],
   "source": [
    "for k in range(lds_array.shape[0]):\n",
    "    plt.plot(lds_array[k, 0])"
   ]
  },
  {
   "cell_type": "code",
   "execution_count": null,
   "id": "58582fc9-190f-42c7-a62c-1f7b2111d74a",
   "metadata": {},
   "outputs": [],
   "source": []
  },
  {
   "cell_type": "code",
   "execution_count": null,
   "id": "9bb0b736-25aa-4368-a617-ba6efa313cd1",
   "metadata": {},
   "outputs": [],
   "source": []
  },
  {
   "cell_type": "code",
   "execution_count": null,
   "id": "48b22ec8-2d00-497b-8992-7442d7626802",
   "metadata": {},
   "outputs": [],
   "source": []
  },
  {
   "cell_type": "code",
   "execution_count": null,
   "id": "381858e5-e107-480e-a471-60097744cdb7",
   "metadata": {},
   "outputs": [],
   "source": []
  },
  {
   "cell_type": "code",
   "execution_count": null,
   "id": "d86133a7-5da3-4beb-8b47-d599bfce3150",
   "metadata": {},
   "outputs": [],
   "source": []
  },
  {
   "cell_type": "code",
   "execution_count": null,
   "id": "8d2709ed-3499-4651-98eb-0cf583cff5b2",
   "metadata": {},
   "outputs": [],
   "source": []
  },
  {
   "cell_type": "code",
   "execution_count": null,
   "id": "ffcf2bce-eecd-419b-94d9-7fb8d6475cf4",
   "metadata": {},
   "outputs": [],
   "source": []
  }
 ],
 "metadata": {
  "kernelspec": {
   "display_name": "Python 3 (ipykernel)",
   "language": "python",
   "name": "python3"
  },
  "language_info": {
   "codemirror_mode": {
    "name": "ipython",
    "version": 3
   },
   "file_extension": ".py",
   "mimetype": "text/x-python",
   "name": "python",
   "nbconvert_exporter": "python",
   "pygments_lexer": "ipython3",
   "version": "3.8.10"
  }
 },
 "nbformat": 4,
 "nbformat_minor": 5
}
