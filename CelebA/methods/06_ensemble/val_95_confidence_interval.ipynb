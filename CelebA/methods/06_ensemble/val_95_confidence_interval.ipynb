{
 "cells": [
  {
   "cell_type": "code",
   "execution_count": 1,
   "id": "7d607888-e92d-4720-b28e-43d8ce2c643a",
   "metadata": {},
   "outputs": [],
   "source": [
    "import numpy as np"
   ]
  },
  {
   "cell_type": "code",
   "execution_count": 2,
   "id": "c9bb7deb-4dbb-4100-a5c6-1ab11c826833",
   "metadata": {},
   "outputs": [],
   "source": [
    "import pickle"
   ]
  },
  {
   "cell_type": "code",
   "execution_count": 3,
   "id": "f37c6eff-445d-4007-9951-fdba0c6b46d4",
   "metadata": {},
   "outputs": [],
   "source": [
    "import matplotlib.pyplot as plt\n"
   ]
  },
  {
   "cell_type": "code",
   "execution_count": 4,
   "id": "7499a23a-7876-4670-ae09-c4de570791e5",
   "metadata": {},
   "outputs": [
    {
     "data": {
      "text/plain": [
       "5000"
      ]
     },
     "execution_count": 4,
     "metadata": {},
     "output_type": "execute_result"
    }
   ],
   "source": [
    "with open('../../data/indices/5000-0.5/idx-train.pkl', 'rb')  as handle:\n",
    "    idx_train = pickle.load(handle)\n",
    "len(idx_train)   "
   ]
  },
  {
   "cell_type": "code",
   "execution_count": 5,
   "id": "46fa7fd5-34ca-4e86-8773-f5ff38b758da",
   "metadata": {},
   "outputs": [],
   "source": [
    "scores_list = []"
   ]
  },
  {
   "cell_type": "code",
   "execution_count": 6,
   "id": "d98abb9c-a3e5-4103-9261-b90f5a5e15ff",
   "metadata": {},
   "outputs": [],
   "source": [
    "with open(\"val_5000_0.5_scores_10.pkl\", 'rb') as handle:\n",
    "    seed_score_list = pickle.load(handle)\n",
    "scores_list.append(np.stack(seed_score_list[0][0])[0:1].mean(axis=0))\n",
    "scores_list.append(np.stack(seed_score_list[0][0])[0:2].mean(axis=0))\n",
    "scores_list.append(np.stack(seed_score_list[0][0])[0:4].mean(axis=0))\n",
    "scores_list.append(np.stack(seed_score_list[0][0])[0:8].mean(axis=0))\n",
    "\n",
    "scores_list.append(np.stack(seed_score_list[0][1])[0:1].mean(axis=0))\n",
    "scores_list.append(np.stack(seed_score_list[0][1])[0:2].mean(axis=0))\n",
    "scores_list.append(np.stack(seed_score_list[0][1])[0:4].mean(axis=0))\n",
    "scores_list.append(np.stack(seed_score_list[0][1])[0:8].mean(axis=0))"
   ]
  },
  {
   "cell_type": "code",
   "execution_count": null,
   "id": "c0843462-d2bc-4509-8a9e-210ab9691a5f",
   "metadata": {},
   "outputs": [],
   "source": []
  },
  {
   "cell_type": "code",
   "execution_count": 7,
   "id": "1aa3dbcd-855e-405a-ab27-b19f4261dcee",
   "metadata": {},
   "outputs": [],
   "source": [
    "with open(\"val_5000_0.5_scores_100.pkl\", 'rb') as handle:\n",
    "    seed_score_list = pickle.load(handle)\n",
    "scores_list.append(np.stack(seed_score_list[0][0])[0:1].mean(axis=0))\n",
    "scores_list.append(np.stack(seed_score_list[0][0])[0:2].mean(axis=0))\n",
    "scores_list.append(np.stack(seed_score_list[0][0])[0:4].mean(axis=0))\n",
    "scores_list.append(np.stack(seed_score_list[0][0])[0:8].mean(axis=0))\n",
    "\n",
    "scores_list.append(np.stack(seed_score_list[0][1])[0:1].mean(axis=0))\n",
    "scores_list.append(np.stack(seed_score_list[0][1])[0:2].mean(axis=0))\n",
    "scores_list.append(np.stack(seed_score_list[0][1])[0:4].mean(axis=0))\n",
    "scores_list.append(np.stack(seed_score_list[0][1])[0:8].mean(axis=0))"
   ]
  },
  {
   "cell_type": "code",
   "execution_count": null,
   "id": "51feac50-3440-4396-a6e6-5f2a6080dbf2",
   "metadata": {},
   "outputs": [],
   "source": []
  },
  {
   "cell_type": "code",
   "execution_count": 8,
   "id": "b1e2f974-ea7b-4832-a740-44f53ab2c2c6",
   "metadata": {},
   "outputs": [
    {
     "data": {
      "text/plain": [
       "16"
      ]
     },
     "execution_count": 8,
     "metadata": {},
     "output_type": "execute_result"
    }
   ],
   "source": [
    "len(scores_list)"
   ]
  },
  {
   "cell_type": "code",
   "execution_count": null,
   "id": "bec15b45-0542-4b6d-8bf7-9d47a53584c1",
   "metadata": {},
   "outputs": [],
   "source": []
  },
  {
   "cell_type": "code",
   "execution_count": null,
   "id": "e2091b23-f9b9-4627-83f8-2f755e638328",
   "metadata": {},
   "outputs": [],
   "source": []
  },
  {
   "cell_type": "code",
   "execution_count": null,
   "id": "3094d577-6791-4900-953b-d0d27e3d3d14",
   "metadata": {},
   "outputs": [],
   "source": []
  },
  {
   "cell_type": "code",
   "execution_count": 9,
   "id": "17304aaf-68b6-4349-b923-b458ddca5939",
   "metadata": {},
   "outputs": [],
   "source": [
    "# load ground truth\n",
    "my_list = [\n",
    "    0,1,2,3,\n",
    "    4,5,6,7,\n",
    "    8,9,10,11,\n",
    "    12,13,14,15,\n",
    "    16,17,18,19,\n",
    "    20,21,22,23,\n",
    "    24,25,26,27,\n",
    "    28,29,30,31,\n",
    "    32,33,34,35,\n",
    "    36,37,38,39,\n",
    "    40,41,42,43,\n",
    "    44,45,46,47,\n",
    "    48,49,50,51,\n",
    "    52,53,54,55,\n",
    "    56,57,58,59,\n",
    "    60,61,62,63,\n",
    "          ]"
   ]
  },
  {
   "cell_type": "code",
   "execution_count": 10,
   "id": "9dda99c2-c1e1-40b0-95b7-834397c035ec",
   "metadata": {},
   "outputs": [
    {
     "data": {
      "text/plain": [
       "(64, 1000, 1000)"
      ]
     },
     "execution_count": 10,
     "metadata": {},
     "output_type": "execute_result"
    }
   ],
   "source": [
    "loss_array_list = []\n",
    "\n",
    "for i in my_list:\n",
    "    for seed in [\n",
    "        0,\n",
    "                 1,\n",
    "                 2,\n",
    "                 # 3,\n",
    "                 # 4,\n",
    "                ]:\n",
    "        for e_seed in [\n",
    "            0, \n",
    "                       1, \n",
    "                       2\n",
    "                      ]:\n",
    "            with open('../../saved/5000-0.5/lds-val/ddpm-sub-{}-{}/e-{}-val.pkl'.format(i, seed, e_seed), 'rb')  as handle:\n",
    "                loss_list = pickle.load(handle)\n",
    "            margins = np.concatenate(loss_list, axis=-1) # -logp\n",
    "            ####\n",
    "            if (seed==0) and (e_seed)==0:\n",
    "                loss_array = margins\n",
    "            else:\n",
    "                loss_array += margins\n",
    "            \n",
    "    loss_array = loss_array/(3*3)\n",
    "    \n",
    "    loss_array_list.append(loss_array)\n",
    "lds_loss_array = np.stack(loss_array_list)\n",
    "lds_loss_array.shape"
   ]
  },
  {
   "cell_type": "code",
   "execution_count": null,
   "id": "4214c4b5-d74f-4e52-8c45-1f20ea8d4b38",
   "metadata": {},
   "outputs": [],
   "source": []
  },
  {
   "cell_type": "code",
   "execution_count": null,
   "id": "f8d0f643-d0aa-433d-8586-e75351bdd70f",
   "metadata": {},
   "outputs": [],
   "source": []
  },
  {
   "cell_type": "code",
   "execution_count": 11,
   "id": "79b46713-e348-490c-8c4c-9f57068935cd",
   "metadata": {},
   "outputs": [
    {
     "data": {
      "image/png": "[encoded data removed]",
      "text/plain": [
       "<Figure size 640x480 with 1 Axes>"
      ]
     },
     "metadata": {},
     "output_type": "display_data"
    }
   ],
   "source": [
    "for i in range(1):\n",
    "    for j in range(8):\n",
    "        plt.plot(lds_loss_array[i, :, j], color=\"C{}\".format(j))\n",
    "    # break"
   ]
  },
  {
   "cell_type": "code",
   "execution_count": 12,
   "id": "a717d51e-e999-42b0-8b4e-215f8b69efac",
   "metadata": {},
   "outputs": [
    {
     "data": {
      "text/plain": [
       "(64, 5000)"
      ]
     },
     "execution_count": 12,
     "metadata": {},
     "output_type": "execute_result"
    }
   ],
   "source": [
    "mask_array_list = []\n",
    "\n",
    "for i in my_list:\n",
    "    # print(i)\n",
    "    with open('../../data/indices/5000-0.5/lds-val/sub-idx-{}.pkl'.format(i), 'rb')  as handle:\n",
    "        sub_idx_train = pickle.load(handle)\n",
    "    # print(len(sub_idx_train))\n",
    "    mask_array = np.in1d(idx_train, sub_idx_train)\n",
    "        \n",
    "    mask_array_list.append(mask_array)\n",
    "    \n",
    "lds_mask_array = np.stack(mask_array_list)\n",
    "lds_mask_array.shape"
   ]
  },
  {
   "cell_type": "code",
   "execution_count": 13,
   "id": "9006fe41-b864-4861-9826-ebf2a8ab0c9d",
   "metadata": {},
   "outputs": [
    {
     "data": {
      "text/plain": [
       "(64, 1000)"
      ]
     },
     "execution_count": 13,
     "metadata": {},
     "output_type": "execute_result"
    }
   ],
   "source": [
    "lds_testset_correctness = lds_loss_array.mean(axis=1)\n",
    "lds_testset_correctness.shape"
   ]
  },
  {
   "cell_type": "code",
   "execution_count": 14,
   "id": "c6b5645a-a6e3-4570-9aca-6e2ab3adf760",
   "metadata": {},
   "outputs": [
    {
     "data": {
      "image/png": "[encoded data removed]",
      "text/plain": [
       "<Figure size 640x480 with 1 Axes>"
      ]
     },
     "metadata": {},
     "output_type": "display_data"
    }
   ],
   "source": [
    "for j in range(4):\n",
    "    plt.plot(lds_testset_correctness[:, j], color=\"C{}\".format(j))\n",
    "    # break\n",
    "# plt.ylim(0.15, 0.2)"
   ]
  },
  {
   "cell_type": "code",
   "execution_count": null,
   "id": "a6e1fd5a-508d-4b7d-a4a5-e1ea000b9547",
   "metadata": {},
   "outputs": [],
   "source": []
  },
  {
   "cell_type": "code",
   "execution_count": 15,
   "id": "12557fa3-4063-4a2f-8813-d6ff5518c152",
   "metadata": {},
   "outputs": [
    {
     "name": "stdout",
     "output_type": "stream",
     "text": [
      "Correlation: 0.133 (avg p value 0.349800)\n"
     ]
    }
   ],
   "source": [
    "# compute lds\n",
    "from scipy.stats import spearmanr, pearsonr\n",
    "####\n",
    "margins = lds_testset_correctness\n",
    "infl_est_ = -scores_list[0]\n",
    "# infl_est_ = -tmp\n",
    "preds = lds_mask_array @ infl_est_.T\n",
    "####\n",
    "rs = []\n",
    "ps = []\n",
    "\n",
    "for ind in range(1000):\n",
    "    r, p = spearmanr(preds[:, ind], margins[:, ind])\n",
    "    # r, p = pearsonr(preds[:, ind], margins[:, ind])\n",
    "    rs.append(r)\n",
    "    ps.append(p)\n",
    "    \n",
    "rs, ps = np.array(rs), np.array(ps)\n",
    "print(f'Correlation: {rs.mean():.3f} (avg p value {ps.mean():.6f})')\n",
    "\n",
    "# tmp_1 = rs"
   ]
  },
  {
   "cell_type": "code",
   "execution_count": 16,
   "id": "fe452ce0-43bb-4f4e-838d-e2b24f1d04b7",
   "metadata": {},
   "outputs": [
    {
     "name": "stdout",
     "output_type": "stream",
     "text": [
      "Correlation: 0.138 (avg p value 0.342988)\n"
     ]
    }
   ],
   "source": [
    "# compute lds\n",
    "from scipy.stats import spearmanr, pearsonr\n",
    "####\n",
    "margins = lds_testset_correctness\n",
    "infl_est_ = -scores_list[1]\n",
    "# infl_est_ = -tmp\n",
    "preds = lds_mask_array @ infl_est_.T\n",
    "####\n",
    "rs = []\n",
    "ps = []\n",
    "\n",
    "for ind in range(1000):\n",
    "    r, p = spearmanr(preds[:, ind], margins[:, ind])\n",
    "    # r, p = pearsonr(preds[:, ind], margins[:, ind])\n",
    "    rs.append(r)\n",
    "    ps.append(p)\n",
    "    \n",
    "rs, ps = np.array(rs), np.array(ps)\n",
    "print(f'Correlation: {rs.mean():.3f} (avg p value {ps.mean():.6f})')\n",
    "\n",
    "# tmp_1 = rs"
   ]
  },
  {
   "cell_type": "code",
   "execution_count": 17,
   "id": "f2f44265-e343-4000-9a48-454971ff77dd",
   "metadata": {},
   "outputs": [
    {
     "name": "stdout",
     "output_type": "stream",
     "text": [
      "Correlation: 0.138 (avg p value 0.340624)\n"
     ]
    }
   ],
   "source": [
    "# compute lds\n",
    "from scipy.stats import spearmanr, pearsonr\n",
    "####\n",
    "margins = lds_testset_correctness\n",
    "infl_est_ = -scores_list[2]\n",
    "# infl_est_ = -tmp\n",
    "preds = lds_mask_array @ infl_est_.T\n",
    "####\n",
    "rs = []\n",
    "ps = []\n",
    "\n",
    "for ind in range(1000):\n",
    "    r, p = spearmanr(preds[:, ind], margins[:, ind])\n",
    "    # r, p = pearsonr(preds[:, ind], margins[:, ind])\n",
    "    rs.append(r)\n",
    "    ps.append(p)\n",
    "    \n",
    "rs, ps = np.array(rs), np.array(ps)\n",
    "print(f'Correlation: {rs.mean():.3f} (avg p value {ps.mean():.6f})')\n",
    "\n",
    "# tmp_1 = rs"
   ]
  },
  {
   "cell_type": "code",
   "execution_count": 18,
   "id": "af35be81-8658-4113-b6bc-dd2e4bb8cecd",
   "metadata": {},
   "outputs": [
    {
     "name": "stdout",
     "output_type": "stream",
     "text": [
      "Correlation: 0.139 (avg p value 0.340260)\n"
     ]
    }
   ],
   "source": [
    "# compute lds\n",
    "from scipy.stats import spearmanr, pearsonr\n",
    "####\n",
    "margins = lds_testset_correctness\n",
    "infl_est_ = -scores_list[3]\n",
    "# infl_est_ = -tmp\n",
    "preds = lds_mask_array @ infl_est_.T\n",
    "####\n",
    "rs = []\n",
    "ps = []\n",
    "\n",
    "for ind in range(1000):\n",
    "    r, p = spearmanr(preds[:, ind], margins[:, ind])\n",
    "    # r, p = pearsonr(preds[:, ind], margins[:, ind])\n",
    "    rs.append(r)\n",
    "    ps.append(p)\n",
    "    \n",
    "rs, ps = np.array(rs), np.array(ps)\n",
    "print(f'Correlation: {rs.mean():.3f} (avg p value {ps.mean():.6f})')\n",
    "\n",
    "# tmp_1 = rs"
   ]
  },
  {
   "cell_type": "code",
   "execution_count": 19,
   "id": "3935a543-4c50-445e-83e2-c24fcab4b380",
   "metadata": {},
   "outputs": [
    {
     "name": "stdout",
     "output_type": "stream",
     "text": [
      "Correlation: 0.234 (avg p value 0.186854)\n"
     ]
    }
   ],
   "source": [
    "# compute lds\n",
    "from scipy.stats import spearmanr, pearsonr\n",
    "####\n",
    "margins = lds_testset_correctness\n",
    "infl_est_ = -scores_list[4]\n",
    "# infl_est_ = -tmp\n",
    "preds = lds_mask_array @ infl_est_.T\n",
    "####\n",
    "rs = []\n",
    "ps = []\n",
    "\n",
    "for ind in range(1000):\n",
    "    r, p = spearmanr(preds[:, ind], margins[:, ind])\n",
    "    # r, p = pearsonr(preds[:, ind], margins[:, ind])\n",
    "    rs.append(r)\n",
    "    ps.append(p)\n",
    "    \n",
    "rs, ps = np.array(rs), np.array(ps)\n",
    "print(f'Correlation: {rs.mean():.3f} (avg p value {ps.mean():.6f})')\n",
    "\n",
    "# tmp_1 = rs"
   ]
  },
  {
   "cell_type": "code",
   "execution_count": 20,
   "id": "2e7e5692-4830-4c5c-968e-7d764cd8d6d9",
   "metadata": {},
   "outputs": [
    {
     "name": "stdout",
     "output_type": "stream",
     "text": [
      "Correlation: 0.242 (avg p value 0.173079)\n"
     ]
    }
   ],
   "source": [
    "# compute lds\n",
    "from scipy.stats import spearmanr, pearsonr\n",
    "####\n",
    "margins = lds_testset_correctness\n",
    "infl_est_ = -scores_list[5]\n",
    "# infl_est_ = -tmp\n",
    "preds = lds_mask_array @ infl_est_.T\n",
    "####\n",
    "rs = []\n",
    "ps = []\n",
    "\n",
    "for ind in range(1000):\n",
    "    r, p = spearmanr(preds[:, ind], margins[:, ind])\n",
    "    # r, p = pearsonr(preds[:, ind], margins[:, ind])\n",
    "    rs.append(r)\n",
    "    ps.append(p)\n",
    "    \n",
    "rs, ps = np.array(rs), np.array(ps)\n",
    "print(f'Correlation: {rs.mean():.3f} (avg p value {ps.mean():.6f})')\n",
    "\n",
    "# tmp_1 = rs"
   ]
  },
  {
   "cell_type": "code",
   "execution_count": 21,
   "id": "a072c7d1-c21b-4601-9e55-77c5fdc8fc15",
   "metadata": {},
   "outputs": [
    {
     "name": "stdout",
     "output_type": "stream",
     "text": [
      "Correlation: 0.245 (avg p value 0.167000)\n"
     ]
    }
   ],
   "source": [
    "# compute lds\n",
    "from scipy.stats import spearmanr, pearsonr\n",
    "####\n",
    "margins = lds_testset_correctness\n",
    "infl_est_ = -scores_list[6]\n",
    "# infl_est_ = -tmp\n",
    "preds = lds_mask_array @ infl_est_.T\n",
    "####\n",
    "rs = []\n",
    "ps = []\n",
    "\n",
    "for ind in range(1000):\n",
    "    r, p = spearmanr(preds[:, ind], margins[:, ind])\n",
    "    # r, p = pearsonr(preds[:, ind], margins[:, ind])\n",
    "    rs.append(r)\n",
    "    ps.append(p)\n",
    "    \n",
    "rs, ps = np.array(rs), np.array(ps)\n",
    "print(f'Correlation: {rs.mean():.3f} (avg p value {ps.mean():.6f})')\n",
    "\n",
    "# tmp_1 = rs"
   ]
  },
  {
   "cell_type": "code",
   "execution_count": 22,
   "id": "5dd118c9-1194-4abf-8bac-cb47fe02efd6",
   "metadata": {},
   "outputs": [
    {
     "name": "stdout",
     "output_type": "stream",
     "text": [
      "Correlation: 0.246 (avg p value 0.164536)\n"
     ]
    }
   ],
   "source": [
    "# compute lds\n",
    "from scipy.stats import spearmanr, pearsonr\n",
    "####\n",
    "margins = lds_testset_correctness\n",
    "infl_est_ = -scores_list[7]\n",
    "# infl_est_ = -tmp\n",
    "preds = lds_mask_array @ infl_est_.T\n",
    "####\n",
    "rs = []\n",
    "ps = []\n",
    "\n",
    "for ind in range(1000):\n",
    "    r, p = spearmanr(preds[:, ind], margins[:, ind])\n",
    "    # r, p = pearsonr(preds[:, ind], margins[:, ind])\n",
    "    rs.append(r)\n",
    "    ps.append(p)\n",
    "    \n",
    "rs, ps = np.array(rs), np.array(ps)\n",
    "print(f'Correlation: {rs.mean():.3f} (avg p value {ps.mean():.6f})')\n",
    "\n",
    "# tmp_1 = rs"
   ]
  },
  {
   "cell_type": "code",
   "execution_count": 23,
   "id": "c882e2d5-0085-4e9e-a2cd-204fccd54b32",
   "metadata": {},
   "outputs": [
    {
     "name": "stdout",
     "output_type": "stream",
     "text": [
      "Correlation: 0.224 (avg p value 0.191780)\n"
     ]
    }
   ],
   "source": [
    "# compute lds\n",
    "from scipy.stats import spearmanr, pearsonr\n",
    "####\n",
    "margins = lds_testset_correctness\n",
    "infl_est_ = -scores_list[8]\n",
    "# infl_est_ = -tmp\n",
    "preds = lds_mask_array @ infl_est_.T\n",
    "####\n",
    "rs = []\n",
    "ps = []\n",
    "\n",
    "for ind in range(1000):\n",
    "    r, p = spearmanr(preds[:, ind], margins[:, ind])\n",
    "    # r, p = pearsonr(preds[:, ind], margins[:, ind])\n",
    "    rs.append(r)\n",
    "    ps.append(p)\n",
    "    \n",
    "rs, ps = np.array(rs), np.array(ps)\n",
    "print(f'Correlation: {rs.mean():.3f} (avg p value {ps.mean():.6f})')\n",
    "\n",
    "# tmp_1 = rs"
   ]
  },
  {
   "cell_type": "code",
   "execution_count": 24,
   "id": "9381fc34-eeb4-4caa-b26f-de314203fde9",
   "metadata": {},
   "outputs": [
    {
     "name": "stdout",
     "output_type": "stream",
     "text": [
      "Correlation: 0.240 (avg p value 0.166181)\n"
     ]
    }
   ],
   "source": [
    "# compute lds\n",
    "from scipy.stats import spearmanr, pearsonr\n",
    "####\n",
    "margins = lds_testset_correctness\n",
    "infl_est_ = -scores_list[9]\n",
    "# infl_est_ = -tmp\n",
    "preds = lds_mask_array @ infl_est_.T\n",
    "####\n",
    "rs = []\n",
    "ps = []\n",
    "\n",
    "for ind in range(1000):\n",
    "    r, p = spearmanr(preds[:, ind], margins[:, ind])\n",
    "    # r, p = pearsonr(preds[:, ind], margins[:, ind])\n",
    "    rs.append(r)\n",
    "    ps.append(p)\n",
    "    \n",
    "rs, ps = np.array(rs), np.array(ps)\n",
    "print(f'Correlation: {rs.mean():.3f} (avg p value {ps.mean():.6f})')\n",
    "\n",
    "# tmp_1 = rs"
   ]
  },
  {
   "cell_type": "code",
   "execution_count": 25,
   "id": "720421d6-a38d-4da6-b2cb-6f99db900451",
   "metadata": {},
   "outputs": [
    {
     "name": "stdout",
     "output_type": "stream",
     "text": [
      "Correlation: 0.249 (avg p value 0.153691)\n"
     ]
    }
   ],
   "source": [
    "# compute lds\n",
    "from scipy.stats import spearmanr, pearsonr\n",
    "####\n",
    "margins = lds_testset_correctness\n",
    "infl_est_ = -scores_list[10]\n",
    "# infl_est_ = -tmp\n",
    "preds = lds_mask_array @ infl_est_.T\n",
    "####\n",
    "rs = []\n",
    "ps = []\n",
    "\n",
    "for ind in range(1000):\n",
    "    r, p = spearmanr(preds[:, ind], margins[:, ind])\n",
    "    # r, p = pearsonr(preds[:, ind], margins[:, ind])\n",
    "    rs.append(r)\n",
    "    ps.append(p)\n",
    "    \n",
    "rs, ps = np.array(rs), np.array(ps)\n",
    "print(f'Correlation: {rs.mean():.3f} (avg p value {ps.mean():.6f})')\n",
    "\n",
    "# tmp_1 = rs"
   ]
  },
  {
   "cell_type": "code",
   "execution_count": 26,
   "id": "a48f721c-44c8-479e-a801-23b2c9111288",
   "metadata": {},
   "outputs": [
    {
     "name": "stdout",
     "output_type": "stream",
     "text": [
      "Correlation: 0.252 (avg p value 0.151708)\n"
     ]
    }
   ],
   "source": [
    "# compute lds\n",
    "from scipy.stats import spearmanr, pearsonr\n",
    "####\n",
    "margins = lds_testset_correctness\n",
    "infl_est_ = -scores_list[11]\n",
    "# infl_est_ = -tmp\n",
    "preds = lds_mask_array @ infl_est_.T\n",
    "####\n",
    "rs = []\n",
    "ps = []\n",
    "\n",
    "for ind in range(1000):\n",
    "    r, p = spearmanr(preds[:, ind], margins[:, ind])\n",
    "    # r, p = pearsonr(preds[:, ind], margins[:, ind])\n",
    "    rs.append(r)\n",
    "    ps.append(p)\n",
    "    \n",
    "rs, ps = np.array(rs), np.array(ps)\n",
    "print(f'Correlation: {rs.mean():.3f} (avg p value {ps.mean():.6f})')\n",
    "\n",
    "# tmp_1 = rs"
   ]
  },
  {
   "cell_type": "code",
   "execution_count": 27,
   "id": "1c7ac786-ec7d-4650-94e7-82dd90284eec",
   "metadata": {},
   "outputs": [
    {
     "name": "stdout",
     "output_type": "stream",
     "text": [
      "Correlation: 0.283 (avg p value 0.116443)\n"
     ]
    }
   ],
   "source": [
    "# compute lds\n",
    "from scipy.stats import spearmanr, pearsonr\n",
    "####\n",
    "margins = lds_testset_correctness\n",
    "infl_est_ = -scores_list[12]\n",
    "# infl_est_ = -tmp\n",
    "preds = lds_mask_array @ infl_est_.T\n",
    "####\n",
    "rs = []\n",
    "ps = []\n",
    "\n",
    "for ind in range(1000):\n",
    "    r, p = spearmanr(preds[:, ind], margins[:, ind])\n",
    "    # r, p = pearsonr(preds[:, ind], margins[:, ind])\n",
    "    rs.append(r)\n",
    "    ps.append(p)\n",
    "    \n",
    "rs, ps = np.array(rs), np.array(ps)\n",
    "print(f'Correlation: {rs.mean():.3f} (avg p value {ps.mean():.6f})')\n",
    "\n",
    "# tmp_1 = rs"
   ]
  },
  {
   "cell_type": "code",
   "execution_count": 28,
   "id": "f4ce95dd-d83e-4df0-9abb-4673bc913d39",
   "metadata": {},
   "outputs": [
    {
     "name": "stdout",
     "output_type": "stream",
     "text": [
      "Correlation: 0.291 (avg p value 0.108136)\n"
     ]
    }
   ],
   "source": [
    "# compute lds\n",
    "from scipy.stats import spearmanr, pearsonr\n",
    "####\n",
    "margins = lds_testset_correctness\n",
    "infl_est_ = -scores_list[13]\n",
    "# infl_est_ = -tmp\n",
    "preds = lds_mask_array @ infl_est_.T\n",
    "####\n",
    "rs = []\n",
    "ps = []\n",
    "\n",
    "for ind in range(1000):\n",
    "    r, p = spearmanr(preds[:, ind], margins[:, ind])\n",
    "    # r, p = pearsonr(preds[:, ind], margins[:, ind])\n",
    "    rs.append(r)\n",
    "    ps.append(p)\n",
    "    \n",
    "rs, ps = np.array(rs), np.array(ps)\n",
    "print(f'Correlation: {rs.mean():.3f} (avg p value {ps.mean():.6f})')\n",
    "\n",
    "# tmp_1 = rs"
   ]
  },
  {
   "cell_type": "code",
   "execution_count": 29,
   "id": "e492d9d3-70d7-4093-9774-7849a46540e4",
   "metadata": {},
   "outputs": [
    {
     "name": "stdout",
     "output_type": "stream",
     "text": [
      "Correlation: 0.300 (avg p value 0.099725)\n"
     ]
    }
   ],
   "source": [
    "# compute lds\n",
    "from scipy.stats import spearmanr, pearsonr\n",
    "####\n",
    "margins = lds_testset_correctness\n",
    "infl_est_ = -scores_list[14]\n",
    "# infl_est_ = -tmp\n",
    "preds = lds_mask_array @ infl_est_.T\n",
    "####\n",
    "rs = []\n",
    "ps = []\n",
    "\n",
    "for ind in range(1000):\n",
    "    r, p = spearmanr(preds[:, ind], margins[:, ind])\n",
    "    # r, p = pearsonr(preds[:, ind], margins[:, ind])\n",
    "    rs.append(r)\n",
    "    ps.append(p)\n",
    "    \n",
    "rs, ps = np.array(rs), np.array(ps)\n",
    "print(f'Correlation: {rs.mean():.3f} (avg p value {ps.mean():.6f})')\n",
    "\n",
    "# tmp_1 = rs"
   ]
  },
  {
   "cell_type": "code",
   "execution_count": 30,
   "id": "f5b5a0d0-1582-4c10-a5f3-f969c8f31101",
   "metadata": {},
   "outputs": [
    {
     "name": "stdout",
     "output_type": "stream",
     "text": [
      "Correlation: 0.300 (avg p value 0.100309)\n"
     ]
    }
   ],
   "source": [
    "# compute lds\n",
    "from scipy.stats import spearmanr, pearsonr\n",
    "####\n",
    "margins = lds_testset_correctness\n",
    "infl_est_ = -scores_list[15]\n",
    "# infl_est_ = -tmp\n",
    "preds = lds_mask_array @ infl_est_.T\n",
    "####\n",
    "rs = []\n",
    "ps = []\n",
    "\n",
    "for ind in range(1000):\n",
    "    r, p = spearmanr(preds[:, ind], margins[:, ind])\n",
    "    # r, p = pearsonr(preds[:, ind], margins[:, ind])\n",
    "    rs.append(r)\n",
    "    ps.append(p)\n",
    "    \n",
    "rs, ps = np.array(rs), np.array(ps)\n",
    "print(f'Correlation: {rs.mean():.3f} (avg p value {ps.mean():.6f})')\n",
    "\n",
    "# tmp_1 = rs"
   ]
  },
  {
   "cell_type": "code",
   "execution_count": null,
   "id": "9634055b-63df-48f0-a208-069b624568d6",
   "metadata": {},
   "outputs": [],
   "source": []
  },
  {
   "cell_type": "code",
   "execution_count": null,
   "id": "7868aad5-ca5e-4914-b959-d1981fac0e77",
   "metadata": {},
   "outputs": [],
   "source": []
  },
  {
   "cell_type": "code",
   "execution_count": null,
   "id": "8113e5f7-11ed-4d7d-976c-37a9b1791257",
   "metadata": {},
   "outputs": [],
   "source": []
  },
  {
   "cell_type": "code",
   "execution_count": 31,
   "id": "01cd2c1f-b213-46f1-9bf0-68eac5add620",
   "metadata": {},
   "outputs": [],
   "source": [
    "import matplotlib.pyplot as plt\n",
    "from scipy.stats import bootstrap"
   ]
  },
  {
   "cell_type": "code",
   "execution_count": 32,
   "id": "031d5899-939d-46a3-a6dd-41a6549f5d7d",
   "metadata": {
    "scrolled": true
   },
   "outputs": [
    {
     "name": "stdout",
     "output_type": "stream",
     "text": [
      "0\n",
      "ConfidenceInterval(low=0.12692289439229823, high=0.14140244678591105)\n",
      "0.127\n",
      "0.141\n",
      "1\n",
      "ConfidenceInterval(low=0.1316332317326585, high=0.14570573130929304)\n",
      "0.132\n",
      "0.146\n",
      "2\n",
      "ConfidenceInterval(low=0.13108873101260432, high=0.14527161025506083)\n",
      "0.131\n",
      "0.145\n",
      "3\n",
      "ConfidenceInterval(low=0.13237305727574714, high=0.14573115334240086)\n",
      "0.132\n",
      "0.146\n",
      "4\n",
      "ConfidenceInterval(low=0.2259314309964518, high=0.2398187867939085)\n",
      "0.226\n",
      "0.24\n",
      "5\n",
      "ConfidenceInterval(low=0.2337691738924487, high=0.24831822238481213)\n",
      "0.234\n",
      "0.248\n",
      "6\n",
      "ConfidenceInterval(low=0.23563212681313705, high=0.2508394936229778)\n",
      "0.236\n",
      "0.251\n",
      "7\n",
      "ConfidenceInterval(low=0.23665264168364677, high=0.2519743645533102)\n",
      "0.237\n",
      "0.252\n",
      "8\n",
      "ConfidenceInterval(low=0.21722113209038477, high=0.23206361531032266)\n",
      "0.217\n",
      "0.232\n",
      "9\n",
      "ConfidenceInterval(low=0.23499678601259055, high=0.24818588916386536)\n",
      "0.235\n",
      "0.248\n",
      "10\n",
      "ConfidenceInterval(low=0.24459465110477616, high=0.2559671844783716)\n",
      "0.245\n",
      "0.256\n",
      "11\n",
      "ConfidenceInterval(low=0.24800411407717254, high=0.2585892994557142)\n",
      "0.248\n",
      "0.259\n",
      "12\n",
      "ConfidenceInterval(low=0.27464238109982275, high=0.28814551381848197)\n",
      "0.275\n",
      "0.288\n",
      "13\n",
      "ConfidenceInterval(low=0.28414639469699166, high=0.29813920005049493)\n",
      "0.284\n",
      "0.298\n",
      "14\n",
      "ConfidenceInterval(low=0.2920410856575059, high=0.3044955706851518)\n",
      "0.292\n",
      "0.304\n",
      "15\n",
      "ConfidenceInterval(low=0.2936426670957337, high=0.30586486757900133)\n",
      "0.294\n",
      "0.306\n"
     ]
    }
   ],
   "source": [
    "res_list = []\n",
    "for i in range(16):\n",
    "    print(i)\n",
    "    def my_statistics(data):\n",
    "        # print(data)\n",
    "        # print(len(data))\n",
    "        margins = lds_testset_correctness[data]\n",
    "        infl_est_ = -scores_list[i]\n",
    "        # infl_est_ = -tmp\n",
    "        preds = lds_mask_array[data] @ infl_est_.T\n",
    "        ####\n",
    "        rs = []\n",
    "        ps = []\n",
    "        for ind in range(1000):\n",
    "            r, p = spearmanr(preds[:, ind], margins[:, ind])\n",
    "            # r, p = pearsonr(preds[:, ind], margins[:, ind])\n",
    "            rs.append(r)\n",
    "            ps.append(p)\n",
    "        \n",
    "        rs, ps = np.array(rs), np.array(ps)\n",
    "        # print(f'Correlation: {rs.mean():.3f} (avg p value {ps.mean():.6f})')\n",
    "    \n",
    "        return rs.mean()     \n",
    "\n",
    "    data = (list(range(64)), )  # samples must be in a sequence\n",
    "    res = bootstrap(data, my_statistics, \n",
    "                    n_resamples=64, # 够了估计\n",
    "                    batch=128,\n",
    "                    confidence_level=0.95,\n",
    "                    random_state=42)\n",
    "\n",
    "    print(res.confidence_interval)\n",
    "    \n",
    "    print(res.confidence_interval.low.round(3))\n",
    "    print(res.confidence_interval.high.round(3))\n",
    "\n",
    "    res_list.append(res)\n",
    "    # break"
   ]
  },
  {
   "cell_type": "code",
   "execution_count": null,
   "id": "58f45d33-6d43-4367-8710-70132dbdf5b3",
   "metadata": {},
   "outputs": [],
   "source": []
  },
  {
   "cell_type": "code",
   "execution_count": null,
   "id": "7793c07e-c75c-48ca-a173-a9831391a624",
   "metadata": {
    "scrolled": true
   },
   "outputs": [],
   "source": []
  },
  {
   "cell_type": "code",
   "execution_count": 33,
   "id": "9a7aacf8-41cf-4e6d-a038-17a1423ebd46",
   "metadata": {},
   "outputs": [],
   "source": [
    "with open(\"./val_res_list.pkl\", 'wb') as handle:\n",
    "    pickle.dump([[res.confidence_interval.low, res.confidence_interval.high, res.bootstrap_distribution, res.standard_error] for res in res_list],\n",
    "                handle)"
   ]
  },
  {
   "cell_type": "code",
   "execution_count": null,
   "id": "9859c520-7da2-416e-a5c8-05bff6b939d2",
   "metadata": {},
   "outputs": [],
   "source": []
  },
  {
   "cell_type": "code",
   "execution_count": 34,
   "id": "af844177-9c54-4ad6-b655-a57ec35ae71e",
   "metadata": {},
   "outputs": [
    {
     "data": {
      "image/png": "[encoded data removed]",
      "text/plain": [
       "<Figure size 640x480 with 1 Axes>"
      ]
     },
     "metadata": {},
     "output_type": "display_data"
    }
   ],
   "source": [
    "fig, ax = plt.subplots()\n",
    "ax.hist(res_list[0].bootstrap_distribution, bins=25)\n",
    "ax.set_title('Bootstrap Distribution')\n",
    "ax.set_xlabel('statistic value')\n",
    "ax.set_ylabel('frequency')\n",
    "plt.show()"
   ]
  },
  {
   "cell_type": "code",
   "execution_count": null,
   "id": "0d386ad1-9f39-4f63-9d4b-a52d89367e35",
   "metadata": {},
   "outputs": [],
   "source": []
  },
  {
   "cell_type": "code",
   "execution_count": null,
   "id": "32c48dba-1625-456f-95f7-16e3db6c2758",
   "metadata": {},
   "outputs": [],
   "source": []
  },
  {
   "cell_type": "code",
   "execution_count": null,
   "id": "e03f4530-cee9-49d6-bf35-790bb7f71aaa",
   "metadata": {},
   "outputs": [],
   "source": []
  }
 ],
 "metadata": {
  "kernelspec": {
   "display_name": "Python 3 (ipykernel)",
   "language": "python",
   "name": "python3"
  },
  "language_info": {
   "codemirror_mode": {
    "name": "ipython",
    "version": 3
   },
   "file_extension": ".py",
   "mimetype": "text/x-python",
   "name": "python",
   "nbconvert_exporter": "python",
   "pygments_lexer": "ipython3",
   "version": "3.8.10"
  }
 },
 "nbformat": 4,
 "nbformat_minor": 5
}
