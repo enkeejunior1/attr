{
 "cells": [
  {
   "cell_type": "code",
   "execution_count": 1,
   "id": "f04439e8-3684-4e71-a58d-1b222008c74d",
   "metadata": {},
   "outputs": [],
   "source": [
    "import os\n",
    "\n",
    "os.environ[\"CUDA_DEVICE_ORDER\"]=\"PCI_BUS_ID\"   \n",
    "os.environ[\"CUDA_VISIBLE_DEVICES\"]='0'\n",
    "os.environ[\"HF_HOME\"]=\"~/codes/.cache/huggingface\""
   ]
  },
  {
   "cell_type": "code",
   "execution_count": null,
   "id": "379a0758-ffa9-4c0f-8828-6976b5752918",
   "metadata": {},
   "outputs": [],
   "source": []
  },
  {
   "cell_type": "code",
   "execution_count": 2,
   "id": "a7c672bc-d87e-450e-bf89-86799b5ba6ee",
   "metadata": {},
   "outputs": [],
   "source": [
    "from accelerate.utils import ProjectConfiguration, set_seed"
   ]
  },
  {
   "cell_type": "code",
   "execution_count": 3,
   "id": "8820a3ed-9b69-423b-868b-79c11c67762e",
   "metadata": {},
   "outputs": [],
   "source": [
    "import torch\n",
    "import random\n",
    "import numpy as np\n",
    "\n",
    "def set_seeds(seed):\n",
    "    set_seed(seed)\n",
    "    random.seed(seed)\n",
    "    np.random.seed(seed)\n",
    "    torch.manual_seed(seed)\n",
    "    torch.backends.cudnn.deterministic = True\n",
    "    torch.backends.cudnn.benchmark = False\n",
    "    \n",
    "set_seeds(42)"
   ]
  },
  {
   "cell_type": "code",
   "execution_count": 4,
   "id": "e9bc9238-5dc8-4d43-8551-a2ce62bfd120",
   "metadata": {},
   "outputs": [],
   "source": [
    "from torchvision import transforms\n",
    "from diffusers import DDPMPipeline, DDIMPipeline, DDPMScheduler, DDIMScheduler, UNet2DModel"
   ]
  },
  {
   "cell_type": "code",
   "execution_count": 5,
   "id": "af017ec5-da0e-43ed-b9d1-8544336a4736",
   "metadata": {},
   "outputs": [],
   "source": [
    "import pickle"
   ]
  },
  {
   "cell_type": "code",
   "execution_count": 6,
   "id": "1c7aa6f4-4adf-494a-bfd2-dd414ef7d8e6",
   "metadata": {},
   "outputs": [
    {
     "data": {
      "text/plain": [
       "'config.json'"
      ]
     },
     "execution_count": 6,
     "metadata": {},
     "output_type": "execute_result"
    }
   ],
   "source": [
    "class Args():\n",
    "    \n",
    "    # model_path = \"./saved/5000-0.5/counter/ddpm-sub-0-500-Ours-0\"\n",
    "    model_config_name_or_path=\"config.json\"\n",
    "    \n",
    "    dataset_name=\"cifar10\"\n",
    "\n",
    "    resolution=64\n",
    "    center_crop=True\n",
    "    random_flip=False\n",
    "\n",
    "    dataloader_num_workers=8\n",
    "    \n",
    "    seed=42\n",
    "    gen_seed=0    \n",
    "\n",
    "    train_batch_size=256\n",
    "\n",
    "    ddpm_num_steps=1000\n",
    "    ddpm_num_inference_steps=50\n",
    "    ddpm_beta_schedule='linear'\n",
    "\n",
    "args=Args()\n",
    "args.model_config_name_or_path"
   ]
  },
  {
   "cell_type": "code",
   "execution_count": 7,
   "id": "11f8d9d3-a6f0-4113-802d-964b459666de",
   "metadata": {},
   "outputs": [],
   "source": [
    "with open('./data/indices/5000-0.5/counter/idx-gen-sampled.pkl', 'rb') as handle:\n",
    "    test_index = pickle.load(handle)\n",
    "# test_index"
   ]
  },
  {
   "cell_type": "code",
   "execution_count": null,
   "id": "3ae2ce82-e7e2-41bc-a208-8c63c4262b38",
   "metadata": {},
   "outputs": [],
   "source": []
  },
  {
   "cell_type": "code",
   "execution_count": null,
   "id": "0f4b8133-2eda-41cb-9ec9-85b8e964ca55",
   "metadata": {},
   "outputs": [],
   "source": []
  },
  {
   "cell_type": "code",
   "execution_count": null,
   "id": "df86fcb8-af99-499e-83f9-b60d74b7acc0",
   "metadata": {},
   "outputs": [],
   "source": []
  },
  {
   "cell_type": "code",
   "execution_count": 8,
   "id": "04f73514-a407-49c6-90e5-22262cec9def",
   "metadata": {},
   "outputs": [],
   "source": [
    "with open(\"./counter/saved.pkl\", 'rb') as handle:\n",
    "    index_image_list = pickle.load(handle)"
   ]
  },
  {
   "cell_type": "code",
   "execution_count": 9,
   "id": "b685379f-65f1-4c98-990b-5bbc39b9cd15",
   "metadata": {},
   "outputs": [
    {
     "data": {
      "image/png": "[encoded data removed]",
      "text/plain": [
       "<PIL.Image.Image image mode=RGB size=64x64>"
      ]
     },
     "execution_count": 9,
     "metadata": {},
     "output_type": "execute_result"
    }
   ],
   "source": [
    "index_image_list[0][0][0]"
   ]
  },
  {
   "cell_type": "code",
   "execution_count": 10,
   "id": "da93aa94-9e34-463f-aacb-ec3305b1ae83",
   "metadata": {},
   "outputs": [
    {
     "data": {
      "image/png": "[encoded data removed]",
      "text/plain": [
       "<PIL.PngImagePlugin.PngImageFile image mode=RGB size=64x64>"
      ]
     },
     "execution_count": 10,
     "metadata": {},
     "output_type": "execute_result"
    }
   ],
   "source": [
    "import pandas as pd\n",
    "df = pd.DataFrame()\n",
    "df['path'] = ['{}/{}.png'.format('./saved/5000-0.5/gen', i) for i in range(1000)]\n",
    "\n",
    "from datasets import DatasetDict, Dataset, load_dataset, Image\n",
    "dataset = DatasetDict({\n",
    "\"train\": Dataset.from_dict({\n",
    "    \"img\": df['path'].tolist(),\n",
    "}).cast_column(\"img\", Image()),})\n",
    "gen_dataset = dataset[\"train\"]\n",
    "gen_dataset[0]['img']"
   ]
  },
  {
   "cell_type": "code",
   "execution_count": 11,
   "id": "41122a48-e6b2-4fe5-a0a5-349ef6d2d824",
   "metadata": {},
   "outputs": [
    {
     "data": {
      "text/plain": [
       "60"
      ]
     },
     "execution_count": 11,
     "metadata": {},
     "output_type": "execute_result"
    }
   ],
   "source": [
    "len(index_image_list)"
   ]
  },
  {
   "cell_type": "code",
   "execution_count": null,
   "id": "ccc1816e-129e-437e-b6cb-839b9374cd9d",
   "metadata": {},
   "outputs": [],
   "source": []
  },
  {
   "cell_type": "code",
   "execution_count": 12,
   "id": "cb69ca39-2130-42fd-8f25-e07420fc4c36",
   "metadata": {},
   "outputs": [
    {
     "data": {
      "image/png": "[encoded data removed]",
      "text/plain": [
       "<PIL.PngImagePlugin.PngImageFile image mode=RGB size=64x64>"
      ]
     },
     "execution_count": 12,
     "metadata": {},
     "output_type": "execute_result"
    }
   ],
   "source": [
    "gen_images = [gen_dataset[i]['img'] for i in test_index]\n",
    "gen_images[0]"
   ]
  },
  {
   "cell_type": "code",
   "execution_count": 13,
   "id": "371b1704-2c31-460f-91dd-f8d620d577e1",
   "metadata": {},
   "outputs": [
    {
     "data": {
      "text/plain": [
       "60"
      ]
     },
     "execution_count": 13,
     "metadata": {},
     "output_type": "execute_result"
    }
   ],
   "source": [
    "random_images = [index_image_list[i][0][0] for i in range(60)]\n",
    "len(random_images)"
   ]
  },
  {
   "cell_type": "code",
   "execution_count": 14,
   "id": "1253cd76-d79d-4f47-8ad6-697496b94182",
   "metadata": {},
   "outputs": [
    {
     "data": {
      "image/png": "[encoded data removed]",
      "text/plain": [
       "<PIL.Image.Image image mode=RGB size=64x64>"
      ]
     },
     "execution_count": 14,
     "metadata": {},
     "output_type": "execute_result"
    }
   ],
   "source": [
    "random_images[0]"
   ]
  },
  {
   "cell_type": "code",
   "execution_count": 15,
   "id": "ffd8ab02-5fc4-4db4-ad92-b1f5052d79d7",
   "metadata": {},
   "outputs": [
    {
     "data": {
      "text/plain": [
       "60"
      ]
     },
     "execution_count": 15,
     "metadata": {},
     "output_type": "execute_result"
    }
   ],
   "source": [
    "trak_images = [index_image_list[i][0][1] for i in range(60)]\n",
    "len(trak_images)"
   ]
  },
  {
   "cell_type": "code",
   "execution_count": 16,
   "id": "e5bc4262-e856-4dc0-bc4b-0f3a930f0bbc",
   "metadata": {},
   "outputs": [
    {
     "data": {
      "image/png": "[encoded data removed]",
      "text/plain": [
       "<PIL.Image.Image image mode=RGB size=64x64>"
      ]
     },
     "execution_count": 16,
     "metadata": {},
     "output_type": "execute_result"
    }
   ],
   "source": [
    "trak_images[0]"
   ]
  },
  {
   "cell_type": "code",
   "execution_count": 17,
   "id": "cc57274b-d591-44f0-b9f8-53fda6c34fa5",
   "metadata": {},
   "outputs": [
    {
     "data": {
      "text/plain": [
       "60"
      ]
     },
     "execution_count": 17,
     "metadata": {},
     "output_type": "execute_result"
    }
   ],
   "source": [
    "ours_images = [index_image_list[i][0][2] for i in range(60)]\n",
    "len(ours_images)"
   ]
  },
  {
   "cell_type": "code",
   "execution_count": 18,
   "id": "db088da1-30f2-429a-be78-74dd2ea06099",
   "metadata": {},
   "outputs": [
    {
     "data": {
      "image/png": "[encoded data removed]",
      "text/plain": [
       "<PIL.Image.Image image mode=RGB size=64x64>"
      ]
     },
     "execution_count": 18,
     "metadata": {},
     "output_type": "execute_result"
    }
   ],
   "source": [
    "ours_images[0]"
   ]
  },
  {
   "cell_type": "code",
   "execution_count": null,
   "id": "1cb24da0-787a-4e79-a7fe-5780ea4763ec",
   "metadata": {},
   "outputs": [],
   "source": []
  },
  {
   "cell_type": "code",
   "execution_count": null,
   "id": "8ff7d9e6-bd65-4656-a9a2-a2aca804d652",
   "metadata": {},
   "outputs": [],
   "source": []
  },
  {
   "cell_type": "code",
   "execution_count": 19,
   "id": "2634fa58-babe-452b-97f4-8c9c38fceaa7",
   "metadata": {},
   "outputs": [
    {
     "data": {
      "image/png": "[encoded data removed]",
      "text/plain": [
       "<PIL.PngImagePlugin.PngImageFile image mode=RGB size=64x64>"
      ]
     },
     "execution_count": 19,
     "metadata": {},
     "output_type": "execute_result"
    }
   ],
   "source": [
    "import pandas as pd\n",
    "\n",
    "from datasets import DatasetDict, Dataset, load_dataset, Image\n",
    "\n",
    "dataset = DatasetDict({\n",
    "\"train\": Dataset.from_dict({\n",
    "    \"img\": gen_images,\n",
    "})}\n",
    "                     )\n",
    "gen_dataset = dataset[\"train\"]\n",
    "gen_dataset[0][\"img\"]"
   ]
  },
  {
   "cell_type": "code",
   "execution_count": 20,
   "id": "5e01b83a-e639-4b2d-afeb-a886411a3676",
   "metadata": {},
   "outputs": [
    {
     "data": {
      "image/png": "[encoded data removed]",
      "text/plain": [
       "<PIL.PngImagePlugin.PngImageFile image mode=RGB size=64x64>"
      ]
     },
     "execution_count": 20,
     "metadata": {},
     "output_type": "execute_result"
    }
   ],
   "source": [
    "dataset = DatasetDict({\n",
    "\"train\": Dataset.from_dict({\n",
    "    \"img\": random_images,\n",
    "})}\n",
    "                     )\n",
    "random_dataset = dataset[\"train\"]\n",
    "random_dataset[0][\"img\"]"
   ]
  },
  {
   "cell_type": "code",
   "execution_count": 21,
   "id": "0ef5867c-7855-4ff1-a526-4c3ccec15cb2",
   "metadata": {},
   "outputs": [
    {
     "data": {
      "image/png": "[encoded data removed]",
      "text/plain": [
       "<PIL.PngImagePlugin.PngImageFile image mode=RGB size=64x64>"
      ]
     },
     "execution_count": 21,
     "metadata": {},
     "output_type": "execute_result"
    }
   ],
   "source": [
    "dataset = DatasetDict({\n",
    "\"train\": Dataset.from_dict({\n",
    "    \"img\": trak_images,\n",
    "})}\n",
    "                     )\n",
    "trak_dataset = dataset[\"train\"]\n",
    "trak_dataset[0][\"img\"]"
   ]
  },
  {
   "cell_type": "code",
   "execution_count": 22,
   "id": "7af27bc1-97ed-4fa1-9bb6-a3b0e7b66d9f",
   "metadata": {},
   "outputs": [
    {
     "data": {
      "image/png": "[encoded data removed]",
      "text/plain": [
       "<PIL.PngImagePlugin.PngImageFile image mode=RGB size=64x64>"
      ]
     },
     "execution_count": 22,
     "metadata": {},
     "output_type": "execute_result"
    }
   ],
   "source": [
    "dataset = DatasetDict({\n",
    "\"train\": Dataset.from_dict({\n",
    "    \"img\": ours_images,\n",
    "})}\n",
    "                     )\n",
    "ours_dataset = dataset[\"train\"]\n",
    "ours_dataset[0][\"img\"]"
   ]
  },
  {
   "cell_type": "code",
   "execution_count": null,
   "id": "8cbbba78-5c51-45ed-a044-4001a18949bf",
   "metadata": {},
   "outputs": [],
   "source": []
  },
  {
   "cell_type": "code",
   "execution_count": 23,
   "id": "3ac1bf0e-897b-4ca7-a287-6f470dc956a7",
   "metadata": {},
   "outputs": [],
   "source": [
    "class Args():\n",
    "    resolution=64\n",
    "    center_crop=True\n",
    "    random_flip=False\n",
    "args=Args()"
   ]
  },
  {
   "cell_type": "code",
   "execution_count": 24,
   "id": "fb0345d7-02df-4b53-a8bf-1f95d148ee12",
   "metadata": {},
   "outputs": [],
   "source": [
    "from torchvision import transforms\n",
    "\n",
    "if True:\n",
    "    augmentations = transforms.Compose(\n",
    "        [\n",
    "            # transforms.CenterCrop(140),\n",
    "            transforms.Resize(args.resolution, interpolation=transforms.InterpolationMode.BILINEAR),\n",
    "            transforms.CenterCrop(args.resolution) if args.center_crop else transforms.RandomCrop(args.resolution),\n",
    "            transforms.RandomHorizontalFlip() if args.random_flip else transforms.Lambda(lambda x: x),\n",
    "            transforms.ToTensor(),\n",
    "            transforms.Normalize([0.5], [0.5]),\n",
    "        ]\n",
    "    )\n",
    "    def transform_images(examples):\n",
    "        # images = [augmentations(image.convert(\"RGB\")) for image in examples[\"image\"]]\n",
    "        images = [augmentations(image.convert(\"RGB\")) for image in examples[\"img\"]]\n",
    "        return {\"input\": images}\n",
    "\n",
    "    gen_dataset.set_transform(transform_images)\n",
    "    \n",
    "    random_dataset.set_transform(transform_images)\n",
    "    \n",
    "    trak_dataset.set_transform(transform_images)\n",
    "\n",
    "    ours_dataset.set_transform(transform_images)"
   ]
  },
  {
   "cell_type": "code",
   "execution_count": 25,
   "id": "b4631d7f-ad40-431e-abb5-ebf32b38e708",
   "metadata": {},
   "outputs": [],
   "source": [
    "gen_features = torch.stack([gen_dataset[i]['input'] for i in range(60)]).reshape(-1, 3*64*64)\n",
    "random_features = torch.stack([random_dataset[i]['input'] for i in range(60)]).reshape(-1, 3*64*64)\n",
    "trak_features = torch.stack([trak_dataset[i]['input'] for i in range(60)]).reshape(-1, 3*64*64)\n",
    "ours_features = torch.stack([ours_dataset[i]['input'] for i in range(60)]).reshape(-1, 3*64*64)"
   ]
  },
  {
   "cell_type": "code",
   "execution_count": 26,
   "id": "dd5ab3bf-1943-40dd-b657-6183d2d1315e",
   "metadata": {},
   "outputs": [],
   "source": [
    "gen_features_array = gen_features.numpy()\n",
    "random_features_array = random_features.numpy()\n",
    "trak_features_array = trak_features.numpy()\n",
    "ours_features_array = ours_features.numpy()"
   ]
  },
  {
   "cell_type": "code",
   "execution_count": null,
   "id": "80ea5261-7b8c-4477-ab11-1900691f4fd1",
   "metadata": {},
   "outputs": [],
   "source": []
  },
  {
   "cell_type": "code",
   "execution_count": 27,
   "id": "6d291f63-d573-4d27-86ca-a8583455b7ff",
   "metadata": {},
   "outputs": [],
   "source": [
    "scores_list = []"
   ]
  },
  {
   "cell_type": "code",
   "execution_count": 28,
   "id": "0b046bc3-28b7-47be-94e1-d4b6693daa18",
   "metadata": {},
   "outputs": [],
   "source": [
    "# dist = numpy.linalg.norm(a-b)\n",
    "gen_scores = np.linalg.norm(gen_features_array-gen_features_array, axis=1)\n",
    "random_scores = np.linalg.norm(random_features_array-gen_features_array, axis=1)\n",
    "trak_scores = np.linalg.norm(trak_features_array-gen_features_array, axis=1)\n",
    "ours_scores = np.linalg.norm(ours_features_array-gen_features_array, axis=1)\n",
    "\n",
    "# trak_scores = np.linalg.norm(trak_features_array-random_features_array, axis=1)\n",
    "# ours_scores = np.linalg.norm(ours_features_array-random_features_array, axis=1)"
   ]
  },
  {
   "cell_type": "code",
   "execution_count": 29,
   "id": "6148e65a-eedd-4e25-b827-5eededa0315f",
   "metadata": {},
   "outputs": [
    {
     "data": {
      "text/plain": [
       "9.834102"
      ]
     },
     "execution_count": 29,
     "metadata": {},
     "output_type": "execute_result"
    }
   ],
   "source": [
    "random_scores.mean()"
   ]
  },
  {
   "cell_type": "code",
   "execution_count": 41,
   "id": "d855d6f9-66cc-4979-a5f3-5e35d98a8d15",
   "metadata": {},
   "outputs": [
    {
     "data": {
      "text/plain": [
       "9.060993"
      ]
     },
     "execution_count": 41,
     "metadata": {},
     "output_type": "execute_result"
    }
   ],
   "source": [
    "np.median(random_scores)"
   ]
  },
  {
   "cell_type": "code",
   "execution_count": 30,
   "id": "84e96291-00f1-42e9-bb8c-89caca63b351",
   "metadata": {},
   "outputs": [
    {
     "data": {
      "text/plain": [
       "11.6093235"
      ]
     },
     "execution_count": 30,
     "metadata": {},
     "output_type": "execute_result"
    }
   ],
   "source": [
    "trak_scores.mean()"
   ]
  },
  {
   "cell_type": "code",
   "execution_count": 42,
   "id": "a36a6063-ac98-418f-9baf-7133ad2f1212",
   "metadata": {},
   "outputs": [
    {
     "data": {
      "text/plain": [
       "11.015854"
      ]
     },
     "execution_count": 42,
     "metadata": {},
     "output_type": "execute_result"
    }
   ],
   "source": [
    "np.median(trak_scores)"
   ]
  },
  {
   "cell_type": "code",
   "execution_count": 31,
   "id": "1c6d7429-34d7-4d28-a40b-771f47d3f245",
   "metadata": {},
   "outputs": [
    {
     "data": {
      "text/plain": [
       "15.459479"
      ]
     },
     "execution_count": 31,
     "metadata": {},
     "output_type": "execute_result"
    }
   ],
   "source": [
    "ours_scores.mean()"
   ]
  },
  {
   "cell_type": "code",
   "execution_count": 43,
   "id": "754b0a99-0c52-421a-970f-fc5c2c014a57",
   "metadata": {},
   "outputs": [
    {
     "data": {
      "text/plain": [
       "15.069082"
      ]
     },
     "execution_count": 43,
     "metadata": {},
     "output_type": "execute_result"
    }
   ],
   "source": [
    "np.median(ours_scores)"
   ]
  },
  {
   "cell_type": "code",
   "execution_count": 32,
   "id": "a8cbdbc6-a88b-4abc-b16c-3588b8b152fd",
   "metadata": {},
   "outputs": [
    {
     "data": {
      "text/html": [
       "<div>\n",
       "<style scoped>\n",
       "    .dataframe tbody tr th:only-of-type {\n",
       "        vertical-align: middle;\n",
       "    }\n",
       "\n",
       "    .dataframe tbody tr th {\n",
       "        vertical-align: top;\n",
       "    }\n",
       "\n",
       "    .dataframe thead th {\n",
       "        text-align: right;\n",
       "    }\n",
       "</style>\n",
       "<table border=\"1\" class=\"dataframe\">\n",
       "  <thead>\n",
       "    <tr style=\"text-align: right;\">\n",
       "      <th></th>\n",
       "      <th>Random</th>\n",
       "      <th>TRAK</th>\n",
       "      <th>D-TRAK</th>\n",
       "    </tr>\n",
       "  </thead>\n",
       "  <tbody>\n",
       "    <tr>\n",
       "      <th>0</th>\n",
       "      <td>9.686475</td>\n",
       "      <td>11.317756</td>\n",
       "      <td>15.781632</td>\n",
       "    </tr>\n",
       "    <tr>\n",
       "      <th>1</th>\n",
       "      <td>6.549354</td>\n",
       "      <td>11.001822</td>\n",
       "      <td>20.311520</td>\n",
       "    </tr>\n",
       "    <tr>\n",
       "      <th>2</th>\n",
       "      <td>9.926503</td>\n",
       "      <td>10.780127</td>\n",
       "      <td>22.050133</td>\n",
       "    </tr>\n",
       "    <tr>\n",
       "      <th>3</th>\n",
       "      <td>8.702338</td>\n",
       "      <td>16.022039</td>\n",
       "      <td>15.070642</td>\n",
       "    </tr>\n",
       "    <tr>\n",
       "      <th>4</th>\n",
       "      <td>12.757499</td>\n",
       "      <td>14.272165</td>\n",
       "      <td>13.240338</td>\n",
       "    </tr>\n",
       "  </tbody>\n",
       "</table>\n",
       "</div>"
      ],
      "text/plain": [
       "      Random       TRAK     D-TRAK\n",
       "0   9.686475  11.317756  15.781632\n",
       "1   6.549354  11.001822  20.311520\n",
       "2   9.926503  10.780127  22.050133\n",
       "3   8.702338  16.022039  15.070642\n",
       "4  12.757499  14.272165  13.240338"
      ]
     },
     "execution_count": 32,
     "metadata": {},
     "output_type": "execute_result"
    }
   ],
   "source": [
    "df = pd.DataFrame()\n",
    "df.head()\n",
    "df['Random'] = random_scores\n",
    "df['TRAK'] = trak_scores\n",
    "df['D-TRAK'] = ours_scores\n",
    "df.head()"
   ]
  },
  {
   "cell_type": "code",
   "execution_count": null,
   "id": "117a48b8-9160-4539-9a2f-3e2c694bf3fe",
   "metadata": {},
   "outputs": [],
   "source": []
  },
  {
   "cell_type": "code",
   "execution_count": null,
   "id": "659a0a9d-7438-4f77-9127-f08c5dcacb94",
   "metadata": {},
   "outputs": [],
   "source": []
  },
  {
   "cell_type": "code",
   "execution_count": null,
   "id": "b4e07742-76e5-44f2-b150-e8fc877e106f",
   "metadata": {},
   "outputs": [],
   "source": []
  }
 ],
 "metadata": {
  "kernelspec": {
   "display_name": "Python 3 (ipykernel)",
   "language": "python",
   "name": "python3"
  },
  "language_info": {
   "codemirror_mode": {
    "name": "ipython",
    "version": 3
   },
   "file_extension": ".py",
   "mimetype": "text/x-python",
   "name": "python",
   "nbconvert_exporter": "python",
   "pygments_lexer": "ipython3",
   "version": "3.8.10"
  }
 },
 "nbformat": 4,
 "nbformat_minor": 5
}
