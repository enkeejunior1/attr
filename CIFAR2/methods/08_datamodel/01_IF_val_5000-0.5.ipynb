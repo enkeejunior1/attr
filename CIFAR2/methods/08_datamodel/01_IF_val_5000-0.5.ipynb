{
 "cells": [
  {
   "cell_type": "code",
   "execution_count": null,
   "id": "31e0858d-12e5-4eaf-8cc3-f461d2aff756",
   "metadata": {},
   "outputs": [],
   "source": []
  },
  {
   "cell_type": "code",
   "execution_count": null,
   "id": "974ba093-b42b-4ee9-a8c0-cd79d161435c",
   "metadata": {},
   "outputs": [],
   "source": []
  },
  {
   "cell_type": "code",
   "execution_count": null,
   "id": "8c2f5efb-631c-4083-84ae-dc219c6a75a1",
   "metadata": {},
   "outputs": [],
   "source": []
  },
  {
   "cell_type": "code",
   "execution_count": null,
   "id": "fde1d3d3-3ae3-4194-b2e8-596809be9636",
   "metadata": {},
   "outputs": [],
   "source": []
  },
  {
   "cell_type": "code",
   "execution_count": null,
   "id": "9e3a5e70-ec86-4af6-ad75-bdc4351b4d40",
   "metadata": {},
   "outputs": [],
   "source": []
  },
  {
   "cell_type": "code",
   "execution_count": null,
   "id": "723df846-36f4-433c-99cf-044b96c870ec",
   "metadata": {},
   "outputs": [],
   "source": []
  },
  {
   "cell_type": "code",
   "execution_count": null,
   "id": "cf1854ba-184b-4c9f-9a5c-9158e786e404",
   "metadata": {},
   "outputs": [],
   "source": []
  },
  {
   "cell_type": "code",
   "execution_count": 1,
   "id": "c4cadde9-8859-435a-b6ba-09aa42bb468d",
   "metadata": {},
   "outputs": [],
   "source": [
    "import os\n",
    "\n",
    "os.environ[\"CUDA_DEVICE_ORDER\"]=\"PCI_BUS_ID\"   \n",
    "os.environ[\"CUDA_VISIBLE_DEVICES\"]='0'\n",
    "\n",
    "os.environ[\"HF_HOME\"]=\"~/codes/.cache/huggingface\""
   ]
  },
  {
   "cell_type": "code",
   "execution_count": 2,
   "id": "2f7cd96b-ca27-4ce1-ac2d-c3dd67e069b7",
   "metadata": {},
   "outputs": [],
   "source": [
    "import torch\n",
    "import random\n",
    "import numpy as np\n",
    "\n",
    "def set_seeds(seed):\n",
    "    random.seed(seed)\n",
    "    np.random.seed(seed)\n",
    "    torch.manual_seed(seed)\n",
    "    torch.backends.cudnn.deterministic = True\n",
    "    torch.backends.cudnn.benchmark = False\n",
    "    \n",
    "set_seeds(42)"
   ]
  },
  {
   "cell_type": "code",
   "execution_count": 3,
   "id": "4ff495b8-8df0-49e8-a409-4ed9601c8143",
   "metadata": {},
   "outputs": [],
   "source": [
    "import matplotlib.pyplot as plt\n",
    "def show_images(images, scores, test_artist, train_artists):\n",
    "    n: int = len(images)\n",
    "    f = plt.figure(figsize=(16, 2))\n",
    "    for i in range(n):\n",
    "        # Debug, plot figure\n",
    "        ax = f.add_subplot(1, n, i + 1)\n",
    "        if i==0:\n",
    "            pass\n",
    "            ax.title.set_text(test_artist)\n",
    "        else:\n",
    "            ax.title.set_text(str(np.round(scores[i-1], 4))+'\\n'+train_artists[i-1])\n",
    "            ax.axis('off')\n",
    "        if images[i]==None:\n",
    "            pass\n",
    "        else:\n",
    "            plt.imshow(images[i])\n",
    "\n",
    "    plt.show(block=True)"
   ]
  },
  {
   "cell_type": "code",
   "execution_count": 4,
   "id": "c4e89a09-d6ff-46a1-8a9e-9c6f9c167114",
   "metadata": {},
   "outputs": [],
   "source": [
    "from datasets import load_dataset"
   ]
  },
  {
   "cell_type": "code",
   "execution_count": null,
   "id": "2682e2c4-9275-4bae-a732-74b981a358d2",
   "metadata": {},
   "outputs": [],
   "source": []
  },
  {
   "cell_type": "code",
   "execution_count": 6,
   "id": "fb2dc562-293c-4e74-8e97-141fc7465938",
   "metadata": {},
   "outputs": [],
   "source": [
    "import pickle"
   ]
  },
  {
   "cell_type": "code",
   "execution_count": 7,
   "id": "bda41875-8976-4852-823a-91dc1f42aebf",
   "metadata": {},
   "outputs": [
    {
     "data": {
      "text/plain": [
       "5000"
      ]
     },
     "execution_count": 7,
     "metadata": {},
     "output_type": "execute_result"
    }
   ],
   "source": [
    "with open('../../data/indices/5000-0.5/idx-train.pkl', 'rb')  as handle:\n",
    "    idx_train = pickle.load(handle)\n",
    "len(idx_train)   "
   ]
  },
  {
   "cell_type": "code",
   "execution_count": 8,
   "id": "5ffbb813-1636-44e3-b943-400824fde5e7",
   "metadata": {},
   "outputs": [
    {
     "data": {
      "text/plain": [
       "1000"
      ]
     },
     "execution_count": 8,
     "metadata": {},
     "output_type": "execute_result"
    }
   ],
   "source": [
    "with open('../../data/indices/5000-0.5/idx-val.pkl', 'rb')  as handle:\n",
    "    idx_val = pickle.load(handle)\n",
    "len(idx_val)"
   ]
  },
  {
   "cell_type": "code",
   "execution_count": null,
   "id": "773b1a12-d60d-4ed8-8f61-b03a3af61e71",
   "metadata": {},
   "outputs": [],
   "source": []
  },
  {
   "cell_type": "code",
   "execution_count": 1,
   "id": "40c86797-31d5-45d0-b46f-52f8c84dd130",
   "metadata": {},
   "outputs": [
    {
     "ename": "NameError",
     "evalue": "name 'load_dataset' is not defined",
     "output_type": "error",
     "traceback": [
      "\u001b[0;31m---------------------------------------------------------------------------\u001b[0m",
      "\u001b[0;31mNameError\u001b[0m                                 Traceback (most recent call last)",
      "Cell \u001b[0;32mIn[1], line 3\u001b[0m\n\u001b[1;32m      1\u001b[0m \u001b[38;5;66;03m# from datasets import load_dataset\u001b[39;00m\n\u001b[0;32m----> 3\u001b[0m dataset \u001b[38;5;241m=\u001b[39m \u001b[43mload_dataset\u001b[49m(\n\u001b[1;32m      4\u001b[0m     \u001b[38;5;124m'\u001b[39m\u001b[38;5;124mcifar10\u001b[39m\u001b[38;5;124m'\u001b[39m,\n\u001b[1;32m      5\u001b[0m     \u001b[38;5;66;03m# args.dataset_config_name,\u001b[39;00m\n\u001b[1;32m      6\u001b[0m     \u001b[38;5;66;03m# cache_dir=args.cache_dir,\u001b[39;00m\n\u001b[1;32m      7\u001b[0m     \u001b[38;5;66;03m# split=\"train\",\u001b[39;00m\n\u001b[1;32m      8\u001b[0m )\n",
      "\u001b[0;31mNameError\u001b[0m: name 'load_dataset' is not defined"
     ]
    }
   ],
   "source": [
    "from datasets import load_dataset\n",
    "\n",
    "dataset = load_dataset(\n",
    "    'cifar10',\n",
    "    # args.dataset_config_name,\n",
    "    # cache_dir=args.cache_dir,\n",
    "    # split=\"train\",\n",
    ")"
   ]
  },
  {
   "cell_type": "code",
   "execution_count": null,
   "id": "c6632d56-9134-4720-99a9-1853fe349039",
   "metadata": {},
   "outputs": [],
   "source": []
  },
  {
   "cell_type": "code",
   "execution_count": null,
   "id": "b2e50aae-335f-457d-bfb7-e3991f19fb50",
   "metadata": {},
   "outputs": [],
   "source": []
  },
  {
   "cell_type": "code",
   "execution_count": null,
   "id": "5df420e1-7166-4e5b-baa3-a012fe7e32e1",
   "metadata": {},
   "outputs": [],
   "source": []
  },
  {
   "cell_type": "code",
   "execution_count": 10,
   "id": "f2ce6b6b-ff45-4156-9606-7c87046e751a",
   "metadata": {},
   "outputs": [
    {
     "data": {
      "image/png": "[encoded data removed]",
      "text/plain": [
       "<PIL.PngImagePlugin.PngImageFile image mode=RGB size=32x32>"
      ]
     },
     "execution_count": 10,
     "metadata": {},
     "output_type": "execute_result"
    }
   ],
   "source": [
    "from datasets import DatasetDict, Dataset, load_dataset, Image\n",
    "\n",
    "train_dataset = dataset['train'].select(idx_train)\n",
    "train_dataset[0][\"img\"]"
   ]
  },
  {
   "cell_type": "code",
   "execution_count": null,
   "id": "26b8b800-7147-4c3b-9f62-b99110392974",
   "metadata": {},
   "outputs": [],
   "source": []
  },
  {
   "cell_type": "code",
   "execution_count": null,
   "id": "bdada2c1-66b5-4d5e-b959-e80b30420b2f",
   "metadata": {},
   "outputs": [],
   "source": []
  },
  {
   "cell_type": "code",
   "execution_count": 11,
   "id": "087ea1db-01c9-4e6a-a402-8b8a9aa93e8b",
   "metadata": {},
   "outputs": [
    {
     "data": {
      "image/png": "[encoded data removed]",
      "text/plain": [
       "<PIL.PngImagePlugin.PngImageFile image mode=RGB size=32x32>"
      ]
     },
     "execution_count": 11,
     "metadata": {},
     "output_type": "execute_result"
    }
   ],
   "source": [
    "val_dataset =  dataset['test'].select(idx_val)\n",
    "val_dataset[0][\"img\"]"
   ]
  },
  {
   "cell_type": "code",
   "execution_count": 12,
   "id": "22ed3c98-5cae-4c5b-94fc-4e4c093b750d",
   "metadata": {},
   "outputs": [
    {
     "data": {
      "image/png": "[encoded data removed]",
      "text/plain": [
       "<PIL.PngImagePlugin.PngImageFile image mode=RGB size=32x32>"
      ]
     },
     "execution_count": 12,
     "metadata": {},
     "output_type": "execute_result"
    }
   ],
   "source": [
    "val_dataset[1]['img']"
   ]
  },
  {
   "cell_type": "code",
   "execution_count": 13,
   "id": "e16837b7-8ddd-46ab-9d0a-c988f2ca9514",
   "metadata": {},
   "outputs": [],
   "source": [
    "# idx_val[0:5]"
   ]
  },
  {
   "cell_type": "code",
   "execution_count": null,
   "id": "0dd5e770-1fed-4f65-b4e7-5373e2adcb10",
   "metadata": {},
   "outputs": [],
   "source": []
  },
  {
   "cell_type": "code",
   "execution_count": null,
   "id": "3ffe8c0c-a6df-41e9-8cd9-4dfa6eaa4d89",
   "metadata": {},
   "outputs": [],
   "source": []
  },
  {
   "cell_type": "code",
   "execution_count": 16,
   "id": "0740ed2c-c98c-494d-bc1f-381653a77964",
   "metadata": {},
   "outputs": [
    {
     "data": {
      "text/plain": [
       "2728"
      ]
     },
     "execution_count": 16,
     "metadata": {},
     "output_type": "execute_result"
    }
   ],
   "source": [
    "from sklearn.random_projection import johnson_lindenstrauss_min_dim\n",
    "johnson_lindenstrauss_min_dim(n_samples=1e3, eps=0.15)"
   ]
  },
  {
   "cell_type": "code",
   "execution_count": 17,
   "id": "58c5c4e8-7171-4847-9fba-51ea76b2c794",
   "metadata": {},
   "outputs": [
    {
     "data": {
      "text/plain": [
       "3002"
      ]
     },
     "execution_count": 17,
     "metadata": {},
     "output_type": "execute_result"
    }
   ],
   "source": [
    "from sklearn.random_projection import johnson_lindenstrauss_min_dim\n",
    "johnson_lindenstrauss_min_dim(n_samples=2e3, eps=0.15)"
   ]
  },
  {
   "cell_type": "code",
   "execution_count": 18,
   "id": "32c7cc29-8267-4fc3-915f-2628006b3af9",
   "metadata": {},
   "outputs": [
    {
     "data": {
      "text/plain": [
       "3364"
      ]
     },
     "execution_count": 18,
     "metadata": {},
     "output_type": "execute_result"
    }
   ],
   "source": [
    "from sklearn.random_projection import johnson_lindenstrauss_min_dim\n",
    "johnson_lindenstrauss_min_dim(n_samples=5e3, eps=0.15)"
   ]
  },
  {
   "cell_type": "code",
   "execution_count": 19,
   "id": "5396c1cc-03c9-407d-b4ba-d16f4b56bc25",
   "metadata": {},
   "outputs": [
    {
     "data": {
      "text/plain": [
       "3638"
      ]
     },
     "execution_count": 19,
     "metadata": {},
     "output_type": "execute_result"
    }
   ],
   "source": [
    "from sklearn.random_projection import johnson_lindenstrauss_min_dim\n",
    "johnson_lindenstrauss_min_dim(n_samples=1e4, eps=0.15)"
   ]
  },
  {
   "cell_type": "code",
   "execution_count": null,
   "id": "a8c9ec30-0da2-4b68-9f5f-8e9e0faab1bc",
   "metadata": {},
   "outputs": [],
   "source": []
  },
  {
   "cell_type": "code",
   "execution_count": null,
   "id": "04be809b-6fd9-4a8a-9d64-94c6ef3b4f85",
   "metadata": {},
   "outputs": [],
   "source": []
  },
  {
   "cell_type": "code",
   "execution_count": null,
   "id": "ad307d24-057d-43bc-9772-5ae5d62c9fa1",
   "metadata": {},
   "outputs": [],
   "source": []
  },
  {
   "cell_type": "code",
   "execution_count": 20,
   "id": "c37c6ab7-8c07-416a-b7b1-4b2c03a82cfa",
   "metadata": {},
   "outputs": [],
   "source": [
    "# load ground truth\n",
    "my_list = [\n",
    "    0,1,2,3,\n",
    "    4,5,6,7,\n",
    "    8,9,10,11,\n",
    "    12,13,14,15,\n",
    "    16,17,18,19,\n",
    "    20,21,22,23,\n",
    "    24,25,26,27,\n",
    "    28,29,30,31,\n",
    "    32,33,34,35,\n",
    "    36,37,38,39,\n",
    "    40,41,42,43,\n",
    "    44,45,46,47,\n",
    "    48,49,50,51,\n",
    "    52,53,54,55,\n",
    "    56,57,58,59,\n",
    "    60,61,62,63,\n",
    "          ]"
   ]
  },
  {
   "cell_type": "code",
   "execution_count": 21,
   "id": "7e5b270b-c5df-4b5d-a8fd-2a924a6edad6",
   "metadata": {},
   "outputs": [
    {
     "data": {
      "text/plain": [
       "(64, 1000, 1000)"
      ]
     },
     "execution_count": 21,
     "metadata": {},
     "output_type": "execute_result"
    }
   ],
   "source": [
    "loss_array_list = []\n",
    "\n",
    "for i in my_list:\n",
    "    for seed in [\n",
    "        0,\n",
    "                 1,\n",
    "                 2,\n",
    "                 # 3,\n",
    "                 # 4,\n",
    "                ]:\n",
    "        for e_seed in [\n",
    "            0, \n",
    "                       1, \n",
    "                       2\n",
    "                      ]:\n",
    "            with open('../../saved/5000-0.5/lds-val/ddpm-sub-{}-{}/e-{}-val.pkl'.format(i, seed, e_seed), 'rb')  as handle:\n",
    "                loss_list = pickle.load(handle)\n",
    "            margins = np.concatenate(loss_list, axis=-1) # -logp\n",
    "            ####\n",
    "            if (seed==0) and (e_seed)==0:\n",
    "                loss_array = margins\n",
    "            else:\n",
    "                loss_array += margins\n",
    "            \n",
    "    loss_array = loss_array/(3*3)\n",
    "    \n",
    "    loss_array_list.append(loss_array)\n",
    "lds_loss_array = np.stack(loss_array_list)\n",
    "lds_loss_array.shape"
   ]
  },
  {
   "cell_type": "code",
   "execution_count": 22,
   "id": "d823ef7b-9d53-4f31-ab11-864274554493",
   "metadata": {},
   "outputs": [
    {
     "data": {
      "image/png": "[encoded data removed]",
      "text/plain": [
       "<Figure size 640x480 with 1 Axes>"
      ]
     },
     "metadata": {},
     "output_type": "display_data"
    }
   ],
   "source": [
    "for i in range(1):\n",
    "    for j in range(8):\n",
    "        plt.plot(lds_loss_array[i, :, j], color=\"C{}\".format(j))\n",
    "    # break"
   ]
  },
  {
   "cell_type": "code",
   "execution_count": 23,
   "id": "874a332c-29b1-46fe-bf83-12e7c8f64e28",
   "metadata": {},
   "outputs": [
    {
     "data": {
      "text/plain": [
       "(64, 5000)"
      ]
     },
     "execution_count": 23,
     "metadata": {},
     "output_type": "execute_result"
    }
   ],
   "source": [
    "mask_array_list = []\n",
    "\n",
    "for i in my_list:\n",
    "    # print(i)\n",
    "    with open('../../data/indices/5000-0.5/lds-val/sub-idx-{}.pkl'.format(i), 'rb')  as handle:\n",
    "        sub_idx_train = pickle.load(handle)\n",
    "    # print(len(sub_idx_train))\n",
    "    mask_array = np.in1d(idx_train, sub_idx_train)\n",
    "        \n",
    "    mask_array_list.append(mask_array)\n",
    "    \n",
    "lds_mask_array = np.stack(mask_array_list)\n",
    "lds_mask_array.shape"
   ]
  },
  {
   "cell_type": "code",
   "execution_count": 24,
   "id": "41ebfcfb-5789-44f0-99d0-0dddc7c6f32f",
   "metadata": {},
   "outputs": [
    {
     "data": {
      "text/plain": [
       "(64, 1000)"
      ]
     },
     "execution_count": 24,
     "metadata": {},
     "output_type": "execute_result"
    }
   ],
   "source": [
    "lds_testset_correctness = lds_loss_array.mean(axis=1)\n",
    "lds_testset_correctness.shape"
   ]
  },
  {
   "cell_type": "code",
   "execution_count": 25,
   "id": "46afee77-65eb-4023-8077-d11ed785d406",
   "metadata": {},
   "outputs": [
    {
     "data": {
      "image/png": "[encoded data removed]",
      "text/plain": [
       "<Figure size 640x480 with 1 Axes>"
      ]
     },
     "metadata": {},
     "output_type": "display_data"
    }
   ],
   "source": [
    "for j in range(4):\n",
    "    plt.plot(lds_testset_correctness[:, j], color=\"C{}\".format(j))\n",
    "    # break\n",
    "# plt.ylim(0.15, 0.2)"
   ]
  },
  {
   "cell_type": "code",
   "execution_count": null,
   "id": "8d92c4b4-5b21-434f-b6cc-96e968cbe495",
   "metadata": {},
   "outputs": [],
   "source": []
  },
  {
   "cell_type": "code",
   "execution_count": null,
   "id": "a3d25153-1e82-49bc-a551-ea14d2040df8",
   "metadata": {},
   "outputs": [],
   "source": []
  },
  {
   "cell_type": "code",
   "execution_count": null,
   "id": "a9c6d79c-2be9-463a-9d20-0de440a29d1b",
   "metadata": {},
   "outputs": [],
   "source": []
  },
  {
   "cell_type": "code",
   "execution_count": 26,
   "id": "b5b49da1-7199-4fa1-bbda-b5c1aad8bd43",
   "metadata": {},
   "outputs": [
    {
     "data": {
      "text/plain": [
       "(512, 1000, 1000)"
      ]
     },
     "execution_count": 26,
     "metadata": {},
     "output_type": "execute_result"
    }
   ],
   "source": [
    "loss_array_list = []\n",
    "\n",
    "for i in range(512):\n",
    "    for seed in [\n",
    "        0,\n",
    "                 # 1,\n",
    "                 # 2,\n",
    "                 # 3,\n",
    "                 # 4,\n",
    "                ]:\n",
    "        for e_seed in [\n",
    "            0, \n",
    "                       1, \n",
    "                       2\n",
    "                      ]:\n",
    "            with open('../../saved/5000-0.5/retrain/ddpm-sub-{}-{}/e-{}-val.pkl'.format(i, seed, e_seed), 'rb')  as handle:\n",
    "                loss_list = pickle.load(handle)\n",
    "            margins = np.concatenate(loss_list, axis=-1) # -logp\n",
    "            ####\n",
    "            if (seed==0) and (e_seed)==0:\n",
    "                loss_array = margins\n",
    "            else:\n",
    "                loss_array += margins\n",
    "            \n",
    "    loss_array = loss_array/(3)\n",
    "    \n",
    "    loss_array_list.append(loss_array)\n",
    "retrain_loss_array = np.stack(loss_array_list)\n",
    "retrain_loss_array.shape"
   ]
  },
  {
   "cell_type": "code",
   "execution_count": 27,
   "id": "29f67809-fd80-46d1-95c8-fbba23ab4344",
   "metadata": {},
   "outputs": [
    {
     "data": {
      "text/plain": [
       "(512, 5000)"
      ]
     },
     "execution_count": 27,
     "metadata": {},
     "output_type": "execute_result"
    }
   ],
   "source": [
    "mask_array_list = []\n",
    "\n",
    "for i in range(512):\n",
    "    # print(i)\n",
    "    with open('../../data/indices/5000-0.5/retrain/sub-idx-{}.pkl'.format(i), 'rb')  as handle:\n",
    "        sub_idx_train = pickle.load(handle)\n",
    "    # print(len(sub_idx_train))\n",
    "    mask_array = np.in1d(idx_train, sub_idx_train)\n",
    "        \n",
    "    mask_array_list.append(mask_array)\n",
    "    \n",
    "retrain_mask_array = np.stack(mask_array_list)\n",
    "retrain_mask_array.shape"
   ]
  },
  {
   "cell_type": "code",
   "execution_count": 28,
   "id": "212b7c27-78ab-4686-bb2b-c2ad62016ffc",
   "metadata": {},
   "outputs": [
    {
     "data": {
      "text/plain": [
       "(512, 1000)"
      ]
     },
     "execution_count": 28,
     "metadata": {},
     "output_type": "execute_result"
    }
   ],
   "source": [
    "retrain_testset_correctness = retrain_loss_array.mean(axis=1)\n",
    "retrain_testset_correctness.shape"
   ]
  },
  {
   "cell_type": "code",
   "execution_count": 29,
   "id": "4c17b43f-7bb7-4b87-9bc0-776b999ca0ed",
   "metadata": {},
   "outputs": [
    {
     "data": {
      "image/png": "[encoded data removed]",
      "text/plain": [
       "<Figure size 640x480 with 1 Axes>"
      ]
     },
     "metadata": {},
     "output_type": "display_data"
    }
   ],
   "source": [
    "for j in range(4):\n",
    "    plt.plot(retrain_testset_correctness[:, j], color=\"C{}\".format(j))\n",
    "    # break\n",
    "# plt.ylim(0.15, 0.2)"
   ]
  },
  {
   "cell_type": "code",
   "execution_count": null,
   "id": "69f9c7e3-fe80-4896-b5e8-b860bf4ebd06",
   "metadata": {},
   "outputs": [],
   "source": []
  },
  {
   "cell_type": "code",
   "execution_count": null,
   "id": "213ddc1e-1b37-48f0-906e-0d5f3cf5bfdc",
   "metadata": {},
   "outputs": [],
   "source": []
  },
  {
   "cell_type": "code",
   "execution_count": null,
   "id": "37e49b04-da8c-4cad-b9d6-d8321caaf448",
   "metadata": {},
   "outputs": [],
   "source": []
  },
  {
   "cell_type": "code",
   "execution_count": null,
   "id": "c8a48cf7-cf91-46e9-aebe-c6cb28b5ab61",
   "metadata": {},
   "outputs": [],
   "source": []
  },
  {
   "cell_type": "code",
   "execution_count": null,
   "id": "75422ac0-0848-49bd-a342-93c810f2f09b",
   "metadata": {},
   "outputs": [],
   "source": []
  },
  {
   "cell_type": "code",
   "execution_count": null,
   "id": "f142dffa-2cd0-467d-8b17-0494b4a911b5",
   "metadata": {},
   "outputs": [],
   "source": []
  },
  {
   "cell_type": "code",
   "execution_count": 30,
   "id": "f0a005a4-3d2d-4a19-a393-4e3c7bcfc71a",
   "metadata": {},
   "outputs": [
    {
     "data": {
      "text/plain": [
       "(512, 5000)"
      ]
     },
     "execution_count": 30,
     "metadata": {},
     "output_type": "execute_result"
    }
   ],
   "source": [
    "retrain_mask_array.shape"
   ]
  },
  {
   "cell_type": "code",
   "execution_count": 31,
   "id": "8b4c66fb-4c75-424a-b837-71404fd8fc2c",
   "metadata": {},
   "outputs": [
    {
     "data": {
      "text/plain": [
       "(512, 1000)"
      ]
     },
     "execution_count": 31,
     "metadata": {},
     "output_type": "execute_result"
    }
   ],
   "source": [
    "retrain_testset_correctness.shape"
   ]
  },
  {
   "cell_type": "code",
   "execution_count": null,
   "id": "96d4e24c-e26f-49ce-873d-ac860414674b",
   "metadata": {},
   "outputs": [],
   "source": []
  },
  {
   "cell_type": "code",
   "execution_count": 32,
   "id": "d6c1a36d-ed36-47be-a4f5-6a0b307db8a1",
   "metadata": {},
   "outputs": [],
   "source": [
    "emp_scores_list = []"
   ]
  },
  {
   "cell_type": "code",
   "execution_count": null,
   "id": "8c5b89f8-aebd-4c7d-b4d1-def81bff9149",
   "metadata": {},
   "outputs": [],
   "source": []
  },
  {
   "cell_type": "code",
   "execution_count": 33,
   "id": "aa70ca39-7f68-4fde-8b45-dc0ca09d1304",
   "metadata": {},
   "outputs": [],
   "source": [
    "from sklearn.linear_model import Ridge, Lasso, RidgeCV, LassoCV"
   ]
  },
  {
   "cell_type": "code",
   "execution_count": 34,
   "id": "613ca928-798b-462f-a4c2-adc301625848",
   "metadata": {},
   "outputs": [],
   "source": [
    "import time"
   ]
  },
  {
   "cell_type": "code",
   "execution_count": null,
   "id": "b5a90dc6-b459-4ec3-9f3a-1c2f50dac3b4",
   "metadata": {},
   "outputs": [],
   "source": []
  },
  {
   "cell_type": "code",
   "execution_count": null,
   "id": "0eb02dce-ef50-4135-bddf-dca2604deed9",
   "metadata": {},
   "outputs": [],
   "source": []
  },
  {
   "cell_type": "code",
   "execution_count": 35,
   "id": "d5d28ca1-c123-4721-9c3e-49c9ad276c44",
   "metadata": {},
   "outputs": [
    {
     "name": "stdout",
     "output_type": "stream",
     "text": [
      "277.86273431777954\n",
      "(1000, 5000)\n",
      "Correlation: 0.06042137480355201 (avg p value 0.464607)\n",
      "Correlation: 0.060 (avg p value 0.464607)\n",
      "Correlation: 0.0604 (avg p value 0.464607)\n",
      "Correlation: 0.06042 (avg p value 0.464607)\n"
     ]
    }
   ],
   "source": [
    "if True:\n",
    "    s = time.time()\n",
    "    infl_est_ = []\n",
    "    for i in range(1000):\n",
    "        # print(i)\n",
    "        reg = RidgeCV(cv=5, alphas=[0.1, 1.0, 1e1], \n",
    "                      # random_state=42, \n",
    "                      # n_jobs=-1\n",
    "                     ).fit(\n",
    "            retrain_mask_array[0:64], retrain_testset_correctness[0:64, i])\n",
    "        infl_est_.append(reg.coef_)\n",
    "        # break\n",
    "    print(time.time()-s)\n",
    "    \n",
    "    infl_est_ = np.stack(infl_est_)\n",
    "    print(infl_est_.shape)\n",
    "    emp_scores_list.append(infl_est_)\n",
    "\n",
    "    # compute lds\n",
    "    from scipy.stats import spearmanr\n",
    "    ####\n",
    "    margins = lds_testset_correctness[:]\n",
    "    preds = lds_mask_array[:] @ infl_est_.T\n",
    "    ####\n",
    "    rs = []\n",
    "    ps = []\n",
    "    \n",
    "    for ind in range(1000):\n",
    "        r, p = spearmanr(preds[:, ind], margins[:, ind])\n",
    "        rs.append(r)\n",
    "        ps.append(p)\n",
    "        \n",
    "    rs, ps = np.array(rs), np.array(ps)\n",
    "    \n",
    "    print(f'Correlation: {rs.mean()} (avg p value {ps.mean():.6f})')\n",
    "    print(f'Correlation: {rs.mean():.3f} (avg p value {ps.mean():.6f})')\n",
    "    print(f'Correlation: {rs.mean():.4f} (avg p value {ps.mean():.6f})')\n",
    "    print(f'Correlation: {rs.mean():.5f} (avg p value {ps.mean():.6f})')"
   ]
  },
  {
   "cell_type": "code",
   "execution_count": 36,
   "id": "95410d78-9293-4ec8-8b58-b37bb05c7a06",
   "metadata": {},
   "outputs": [
    {
     "name": "stdout",
     "output_type": "stream",
     "text": [
      "Correlation: 0.0604 (avg p value 0.464607)\n"
     ]
    }
   ],
   "source": [
    "print(f'Correlation: {rs.mean():.4f} (avg p value {ps.mean():.6f})')"
   ]
  },
  {
   "cell_type": "code",
   "execution_count": null,
   "id": "eec0c41e-af59-456a-bea6-b0836ecefda2",
   "metadata": {},
   "outputs": [],
   "source": []
  },
  {
   "cell_type": "code",
   "execution_count": 37,
   "id": "40ab9075-9eb3-4562-bb41-11fdb2a49c02",
   "metadata": {},
   "outputs": [
    {
     "name": "stdout",
     "output_type": "stream",
     "text": [
      "513.2369022369385\n",
      "(1000, 5000)\n",
      "Correlation: 0.09013978661785575 (avg p value 0.420151)\n",
      "Correlation: 0.090 (avg p value 0.420151)\n",
      "Correlation: 0.0901 (avg p value 0.420151)\n",
      "Correlation: 0.09014 (avg p value 0.420151)\n"
     ]
    }
   ],
   "source": [
    "if True:\n",
    "    s = time.time()\n",
    "    infl_est_ = []\n",
    "    for i in range(1000):\n",
    "        # print(i)\n",
    "        reg = RidgeCV(cv=5, alphas=[0.1, 1.0, 1e1], \n",
    "                      # random_state=42, \n",
    "                      # n_jobs=-1\n",
    "                     ).fit(\n",
    "            retrain_mask_array[0:128], retrain_testset_correctness[0:128, i])\n",
    "        infl_est_.append(reg.coef_)\n",
    "        # break\n",
    "    print(time.time()-s)\n",
    "    \n",
    "    infl_est_ = np.stack(infl_est_)\n",
    "    print(infl_est_.shape)\n",
    "    emp_scores_list.append(infl_est_)\n",
    "\n",
    "    # compute lds\n",
    "    from scipy.stats import spearmanr\n",
    "    ####\n",
    "    margins = lds_testset_correctness[:]\n",
    "    preds = lds_mask_array[:] @ infl_est_.T\n",
    "    ####\n",
    "    rs = []\n",
    "    ps = []\n",
    "    \n",
    "    for ind in range(1000):\n",
    "        r, p = spearmanr(preds[:, ind], margins[:, ind])\n",
    "        rs.append(r)\n",
    "        ps.append(p)\n",
    "        \n",
    "    rs, ps = np.array(rs), np.array(ps)\n",
    "    \n",
    "    print(f'Correlation: {rs.mean()} (avg p value {ps.mean():.6f})')\n",
    "    print(f'Correlation: {rs.mean():.3f} (avg p value {ps.mean():.6f})')\n",
    "    print(f'Correlation: {rs.mean():.4f} (avg p value {ps.mean():.6f})')\n",
    "    print(f'Correlation: {rs.mean():.5f} (avg p value {ps.mean():.6f})')"
   ]
  },
  {
   "cell_type": "code",
   "execution_count": 38,
   "id": "b7c8b9e4-4984-49c8-a333-cc6c6c8685d3",
   "metadata": {},
   "outputs": [
    {
     "name": "stdout",
     "output_type": "stream",
     "text": [
      "Correlation: 0.0901 (avg p value 0.420151)\n"
     ]
    }
   ],
   "source": [
    "print(f'Correlation: {rs.mean():.4f} (avg p value {ps.mean():.6f})')"
   ]
  },
  {
   "cell_type": "code",
   "execution_count": null,
   "id": "733e201f-f1fc-46b6-8d53-0b837a901342",
   "metadata": {},
   "outputs": [],
   "source": []
  },
  {
   "cell_type": "code",
   "execution_count": null,
   "id": "13f41066-083a-4342-9746-99b5e024e225",
   "metadata": {},
   "outputs": [],
   "source": []
  },
  {
   "cell_type": "code",
   "execution_count": 54,
   "id": "8be74eed-9765-4a9a-aab9-41da1733a35a",
   "metadata": {},
   "outputs": [
    {
     "name": "stdout",
     "output_type": "stream",
     "text": [
      "329.75700426101685\n",
      "Correlation: 0.10950762215866783 (avg p value 0.393747)\n",
      "Correlation: 0.110 (avg p value 0.393747)\n",
      "Correlation: 0.1095 (avg p value 0.393747)\n",
      "Correlation: 0.10951 (avg p value 0.393747)\n"
     ]
    }
   ],
   "source": [
    "# if True:\n",
    "#     s = time.time()\n",
    "#     infl_est_ = []\n",
    "#     for i in range(1000):\n",
    "#         # print(i)\n",
    "#         reg = RidgeCV(cv=5, alphas=[0.1, 1.0, 1e1], \n",
    "#                       # random_state=42, \n",
    "#                       # n_jobs=-1\n",
    "#                      ).fit(\n",
    "#             retrain_mask_array[0:192], retrain_testset_correctness[0:192, i])\n",
    "#         infl_est_.append(reg.coef_)\n",
    "#         # break\n",
    "#     print(time.time()-s)\n",
    "    \n",
    "#     infl_est_ = np.stack(infl_est_)\n",
    "\n",
    "#     # compute lds\n",
    "#     from scipy.stats import spearmanr\n",
    "#     ####\n",
    "#     margins = lds_testset_correctness[:]\n",
    "#     preds = lds_mask_array[:] @ infl_est_.T\n",
    "#     ####\n",
    "#     rs = []\n",
    "#     ps = []\n",
    "    \n",
    "#     for ind in range(1000):\n",
    "#         r, p = spearmanr(preds[:, ind], margins[:, ind])\n",
    "#         rs.append(r)\n",
    "#         ps.append(p)\n",
    "        \n",
    "#     rs, ps = np.array(rs), np.array(ps)\n",
    "    \n",
    "#     print(f'Correlation: {rs.mean()} (avg p value {ps.mean():.6f})')\n",
    "#     print(f'Correlation: {rs.mean():.3f} (avg p value {ps.mean():.6f})')\n",
    "#     print(f'Correlation: {rs.mean():.4f} (avg p value {ps.mean():.6f})')\n",
    "#     print(f'Correlation: {rs.mean():.5f} (avg p value {ps.mean():.6f})')"
   ]
  },
  {
   "cell_type": "code",
   "execution_count": null,
   "id": "da8ef2e6-f1df-49c1-afa7-5b0ae6b6a518",
   "metadata": {},
   "outputs": [],
   "source": []
  },
  {
   "cell_type": "code",
   "execution_count": null,
   "id": "63741e81-5563-49a2-90ee-f4567a766385",
   "metadata": {},
   "outputs": [],
   "source": []
  },
  {
   "cell_type": "code",
   "execution_count": null,
   "id": "0cd14734-567d-4c56-ba3d-d350d9a3ce14",
   "metadata": {},
   "outputs": [],
   "source": []
  },
  {
   "cell_type": "code",
   "execution_count": 39,
   "id": "65bc7b9e-9a8e-4e3f-a630-96408e1a48ee",
   "metadata": {},
   "outputs": [
    {
     "name": "stdout",
     "output_type": "stream",
     "text": [
      "818.3052246570587\n",
      "(1000, 5000)\n",
      "Correlation: 0.12500657177690028 (avg p value 0.363419)\n",
      "Correlation: 0.125 (avg p value 0.363419)\n",
      "Correlation: 0.1250 (avg p value 0.363419)\n",
      "Correlation: 0.12501 (avg p value 0.363419)\n"
     ]
    }
   ],
   "source": [
    "if True:\n",
    "    s = time.time()\n",
    "    infl_est_ = []\n",
    "    for i in range(1000):\n",
    "        # print(i)\n",
    "        reg = RidgeCV(cv=5, alphas=[0.1, 1.0, 1e1], \n",
    "                      # random_state=42, \n",
    "                      # n_jobs=-1\n",
    "                     ).fit(\n",
    "            retrain_mask_array[0:256], retrain_testset_correctness[0:256, i])\n",
    "        infl_est_.append(reg.coef_)\n",
    "        # break\n",
    "    print(time.time()-s)\n",
    "    \n",
    "    infl_est_ = np.stack(infl_est_)\n",
    "    print(infl_est_.shape)\n",
    "    emp_scores_list.append(infl_est_)\n",
    "\n",
    "    # compute lds\n",
    "    from scipy.stats import spearmanr\n",
    "    ####\n",
    "    margins = lds_testset_correctness[:]\n",
    "    preds = lds_mask_array[:] @ infl_est_.T\n",
    "    ####\n",
    "    rs = []\n",
    "    ps = []\n",
    "    \n",
    "    for ind in range(1000):\n",
    "        r, p = spearmanr(preds[:, ind], margins[:, ind])\n",
    "        rs.append(r)\n",
    "        ps.append(p)\n",
    "        \n",
    "    rs, ps = np.array(rs), np.array(ps)\n",
    "    \n",
    "    print(f'Correlation: {rs.mean()} (avg p value {ps.mean():.6f})')\n",
    "    print(f'Correlation: {rs.mean():.3f} (avg p value {ps.mean():.6f})')\n",
    "    print(f'Correlation: {rs.mean():.4f} (avg p value {ps.mean():.6f})')\n",
    "    print(f'Correlation: {rs.mean():.5f} (avg p value {ps.mean():.6f})')"
   ]
  },
  {
   "cell_type": "code",
   "execution_count": null,
   "id": "cf87808f-dbe9-4d97-be22-853ae8b7b1dc",
   "metadata": {},
   "outputs": [],
   "source": []
  },
  {
   "cell_type": "code",
   "execution_count": null,
   "id": "936d87c0-99b9-45b1-9dd8-759643cb7a59",
   "metadata": {},
   "outputs": [],
   "source": []
  },
  {
   "cell_type": "code",
   "execution_count": null,
   "id": "5f4beadc-1e4c-414d-8be3-6f5e7e1a83df",
   "metadata": {},
   "outputs": [],
   "source": []
  },
  {
   "cell_type": "code",
   "execution_count": 40,
   "id": "4486864a-5080-4e32-a4b1-638b44101059",
   "metadata": {},
   "outputs": [
    {
     "name": "stdout",
     "output_type": "stream",
     "text": [
      "2523.149385213852\n",
      "(1000, 5000)\n",
      "Correlation: 0.1725912670674225 (avg p value 0.271854)\n",
      "Correlation: 0.173 (avg p value 0.271854)\n",
      "Correlation: 0.1726 (avg p value 0.271854)\n",
      "Correlation: 0.17259 (avg p value 0.271854)\n"
     ]
    }
   ],
   "source": [
    "if True:\n",
    "    s = time.time()\n",
    "    infl_est_ = []\n",
    "    for i in range(1000):\n",
    "        # print(i)\n",
    "        reg = RidgeCV(cv=5, alphas=[0.1, 1.0, 1e1], \n",
    "                      # random_state=42, \n",
    "                      # n_jobs=-1\n",
    "                     ).fit(\n",
    "            retrain_mask_array[0:512], retrain_testset_correctness[0:512, i])\n",
    "        infl_est_.append(reg.coef_)\n",
    "        # break\n",
    "    print(time.time()-s)\n",
    "    \n",
    "    infl_est_ = np.stack(infl_est_)\n",
    "    print(infl_est_.shape)\n",
    "    emp_scores_list.append(infl_est_)\n",
    "\n",
    "    # compute lds\n",
    "    from scipy.stats import spearmanr\n",
    "    ####\n",
    "    margins = lds_testset_correctness[:]\n",
    "    preds = lds_mask_array[:] @ infl_est_.T\n",
    "    ####\n",
    "    rs = []\n",
    "    ps = []\n",
    "    \n",
    "    for ind in range(1000):\n",
    "        r, p = spearmanr(preds[:, ind], margins[:, ind])\n",
    "        rs.append(r)\n",
    "        ps.append(p)\n",
    "        \n",
    "    rs, ps = np.array(rs), np.array(ps)\n",
    "    \n",
    "    print(f'Correlation: {rs.mean()} (avg p value {ps.mean():.6f})')\n",
    "    print(f'Correlation: {rs.mean():.3f} (avg p value {ps.mean():.6f})')\n",
    "    print(f'Correlation: {rs.mean():.4f} (avg p value {ps.mean():.6f})')\n",
    "    print(f'Correlation: {rs.mean():.5f} (avg p value {ps.mean():.6f})')"
   ]
  },
  {
   "cell_type": "code",
   "execution_count": null,
   "id": "20f14436-2ad8-4dbc-8f6b-bdd046246c40",
   "metadata": {},
   "outputs": [],
   "source": []
  },
  {
   "cell_type": "code",
   "execution_count": 41,
   "id": "6465f434-bdb8-4394-9dcc-a5fffea258cb",
   "metadata": {},
   "outputs": [],
   "source": [
    "with open('./val_emp.pkl', 'wb') as handle:\n",
    "    pickle.dump(emp_scores_list, handle)"
   ]
  },
  {
   "cell_type": "code",
   "execution_count": null,
   "id": "472d3e23-4af0-49b1-af69-bb8c54c909ba",
   "metadata": {},
   "outputs": [],
   "source": []
  }
 ],
 "metadata": {
  "kernelspec": {
   "display_name": "Python 3 (ipykernel)",
   "language": "python",
   "name": "python3"
  },
  "language_info": {
   "codemirror_mode": {
    "name": "ipython",
    "version": 3
   },
   "file_extension": ".py",
   "mimetype": "text/x-python",
   "name": "python",
   "nbconvert_exporter": "python",
   "pygments_lexer": "ipython3",
   "version": "3.8.10"
  }
 },
 "nbformat": 4,
 "nbformat_minor": 5
}
