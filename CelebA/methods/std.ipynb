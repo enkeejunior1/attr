{
 "cells": [
  {
   "cell_type": "code",
   "execution_count": 1,
   "id": "8b66521a-f880-4ee0-991e-3a994dc75fca",
   "metadata": {},
   "outputs": [],
   "source": [
    "import pickle"
   ]
  },
  {
   "cell_type": "code",
   "execution_count": 2,
   "id": "4eacfe56-27c9-49e1-a489-834caabaef63",
   "metadata": {},
   "outputs": [
    {
     "name": "stdout",
     "output_type": "stream",
     "text": [
      "-0.080\n",
      "-0.024\n",
      "-4.94\n",
      "1.58\n",
      "\n",
      "-0.075\n",
      "-0.021\n",
      "-4.39\n",
      "1.63\n",
      "\n"
     ]
    }
   ],
   "source": [
    "with open('./-1_raw/gen_res_list.pkl', 'rb') as handle:\n",
    "    gen_res_list = pickle.load(handle)\n",
    "for res in gen_res_list:\n",
    "    print(f'{res[0]:.3f}')\n",
    "    print(f'{res[1]:.3f}')\n",
    "    \n",
    "    print(f'{res[2].mean()*100:.2f}')\n",
    "    print(f'{res[2].std()*100:.2f}')\n",
    "\n",
    "    print()"
   ]
  },
  {
   "cell_type": "code",
   "execution_count": 3,
   "id": "9f168bf4-afdb-4c60-8568-a040eedc5855",
   "metadata": {},
   "outputs": [
    {
     "name": "stdout",
     "output_type": "stream",
     "text": [
      "0.045\n",
      "0.071\n",
      "5.58\n",
      "0.73\n",
      "\n",
      "0.050\n",
      "0.076\n",
      "6.16\n",
      "0.75\n",
      "\n"
     ]
    }
   ],
   "source": [
    "with open('./-1_raw/val_res_list.pkl', 'rb') as handle:\n",
    "    val_res_list = pickle.load(handle)\n",
    "for res in val_res_list:\n",
    "    print(f'{res[0]:.3f}')\n",
    "    print(f'{res[1]:.3f}')\n",
    "\n",
    "    print(f'{res[2].mean()*100:.2f}')\n",
    "    print(f'{res[2].std()*100:.2f}')\n",
    "\n",
    "    print()"
   ]
  },
  {
   "cell_type": "code",
   "execution_count": null,
   "id": "0d7cc94c-261c-4540-868c-45fcb6a1d4dd",
   "metadata": {},
   "outputs": [],
   "source": []
  },
  {
   "cell_type": "code",
   "execution_count": 4,
   "id": "f5c62f73-7c76-49f0-8182-a35074c17229",
   "metadata": {},
   "outputs": [
    {
     "name": "stdout",
     "output_type": "stream",
     "text": [
      "0.004\n",
      "0.044\n",
      "2.51\n",
      "1.13\n",
      "\n",
      "0.008\n",
      "0.050\n",
      "3.03\n",
      "1.13\n",
      "\n"
     ]
    }
   ],
   "source": [
    "with open('./00_clip/gen_res_list.pkl', 'rb') as handle:\n",
    "    gen_res_list = pickle.load(handle)\n",
    "for res in gen_res_list:\n",
    "    print(f'{res[0]:.3f}')\n",
    "    print(f'{res[1]:.3f}')\n",
    "    \n",
    "    print(f'{res[2].mean()*100:.2f}')\n",
    "    print(f'{res[2].std()*100:.2f}')\n",
    "\n",
    "    print()"
   ]
  },
  {
   "cell_type": "code",
   "execution_count": 5,
   "id": "7ef12d3b-3840-4815-8705-ae6a573174ff",
   "metadata": {},
   "outputs": [
    {
     "name": "stdout",
     "output_type": "stream",
     "text": [
      "0.069\n",
      "0.107\n",
      "8.87\n",
      "1.14\n",
      "\n",
      "0.095\n",
      "0.126\n",
      "10.92\n",
      "0.87\n",
      "\n"
     ]
    }
   ],
   "source": [
    "with open('./00_clip/val_res_list.pkl', 'rb') as handle:\n",
    "    val_res_list = pickle.load(handle)\n",
    "for res in val_res_list:\n",
    "    print(f'{res[0]:.3f}')\n",
    "    print(f'{res[1]:.3f}')\n",
    "\n",
    "    print(f'{res[2].mean()*100:.2f}')\n",
    "    print(f'{res[2].std()*100:.2f}')\n",
    "\n",
    "    print()"
   ]
  },
  {
   "cell_type": "code",
   "execution_count": null,
   "id": "2dd59535-8ba4-4564-bd2f-3afc9e09db78",
   "metadata": {},
   "outputs": [],
   "source": []
  },
  {
   "cell_type": "code",
   "execution_count": null,
   "id": "3ca98bfd-ba41-4e01-b6f5-551683757cfa",
   "metadata": {},
   "outputs": [],
   "source": []
  },
  {
   "cell_type": "code",
   "execution_count": null,
   "id": "56943653-fe3d-495c-ac44-639c09e852f9",
   "metadata": {},
   "outputs": [],
   "source": []
  },
  {
   "cell_type": "code",
   "execution_count": 6,
   "id": "c6487dc6-bc9d-4578-8d3d-b28b3beaf1eb",
   "metadata": {
    "scrolled": true
   },
   "outputs": [
    {
     "name": "stdout",
     "output_type": "stream",
     "text": [
      "0.016\n",
      "0.058\n",
      "3.83\n",
      "1.06\n",
      "\n",
      "0.031\n",
      "0.061\n",
      "4.53\n",
      "0.84\n",
      "\n",
      "0.030\n",
      "0.071\n",
      "5.18\n",
      "1.05\n",
      "\n",
      "0.026\n",
      "0.067\n",
      "4.50\n",
      "0.93\n",
      "\n",
      "0.020\n",
      "0.055\n",
      "3.86\n",
      "0.96\n",
      "\n",
      "0.031\n",
      "0.061\n",
      "4.40\n",
      "0.86\n",
      "\n",
      "0.029\n",
      "0.062\n",
      "4.69\n",
      "0.97\n",
      "\n",
      "0.024\n",
      "0.060\n",
      "3.98\n",
      "0.97\n",
      "\n"
     ]
    }
   ],
   "source": [
    "with open('./01_tracin/gen_res_list.pkl', 'rb') as handle:\n",
    "    gen_res_list = pickle.load(handle)\n",
    "for res in gen_res_list:\n",
    "    print(f'{res[0]:.3f}')\n",
    "    print(f'{res[1]:.3f}')\n",
    "    \n",
    "    print(f'{res[2].mean()*100:.2f}')\n",
    "    print(f'{res[2].std()*100:.2f}')\n",
    "\n",
    "    print()"
   ]
  },
  {
   "cell_type": "code",
   "execution_count": null,
   "id": "8011656a-a074-4db8-8859-2c0da4c074d7",
   "metadata": {},
   "outputs": [],
   "source": []
  },
  {
   "cell_type": "code",
   "execution_count": 7,
   "id": "0f369389-34b1-4c6b-934b-e1c75b8d74b3",
   "metadata": {
    "scrolled": true
   },
   "outputs": [
    {
     "name": "stdout",
     "output_type": "stream",
     "text": [
      "0.033\n",
      "0.047\n",
      "3.82\n",
      "0.50\n",
      "\n",
      "0.041\n",
      "0.067\n",
      "4.89\n",
      "0.65\n",
      "\n",
      "0.035\n",
      "0.066\n",
      "5.14\n",
      "0.75\n",
      "\n",
      "0.035\n",
      "0.065\n",
      "4.89\n",
      "0.86\n",
      "\n",
      "0.029\n",
      "0.046\n",
      "3.65\n",
      "0.52\n",
      "\n",
      "0.038\n",
      "0.065\n",
      "4.79\n",
      "0.68\n",
      "\n",
      "0.046\n",
      "0.069\n",
      "5.44\n",
      "0.68\n",
      "\n",
      "0.042\n",
      "0.067\n",
      "5.19\n",
      "0.64\n",
      "\n"
     ]
    }
   ],
   "source": [
    "with open('./01_tracin/val_res_list.pkl', 'rb') as handle:\n",
    "    val_res_list = pickle.load(handle)\n",
    "for res in val_res_list:\n",
    "    print(f'{res[0]:.3f}')\n",
    "    print(f'{res[1]:.3f}')\n",
    "\n",
    "    print(f'{res[2].mean()*100:.2f}')\n",
    "    print(f'{res[2].std()*100:.2f}')\n",
    "\n",
    "    print()"
   ]
  },
  {
   "cell_type": "code",
   "execution_count": null,
   "id": "a2970fd4-db99-45c4-be95-62ad85a25419",
   "metadata": {},
   "outputs": [],
   "source": []
  },
  {
   "cell_type": "code",
   "execution_count": null,
   "id": "6d5d6355-87e1-4966-8bff-440e7f74d147",
   "metadata": {},
   "outputs": [],
   "source": []
  },
  {
   "cell_type": "code",
   "execution_count": 8,
   "id": "ca60059f-5d87-43e6-9105-6c0beb3c4f16",
   "metadata": {},
   "outputs": [
    {
     "name": "stdout",
     "output_type": "stream",
     "text": [
      "0.054\n",
      "0.082\n",
      "6.80\n",
      "0.77\n",
      "\n",
      "0.140\n",
      "0.163\n",
      "14.66\n",
      "0.70\n",
      "\n"
     ]
    }
   ],
   "source": [
    "with open('./02_relative_if/gen_res_list.pkl', 'rb') as handle:\n",
    "    gen_res_list = pickle.load(handle)\n",
    "for res in gen_res_list:\n",
    "    print(f'{res[0]:.3f}')\n",
    "    print(f'{res[1]:.3f}')\n",
    "    \n",
    "    print(f'{res[2].mean()*100:.2f}')\n",
    "    print(f'{res[2].std()*100:.2f}')\n",
    "\n",
    "    print()"
   ]
  },
  {
   "cell_type": "code",
   "execution_count": 9,
   "id": "f350432a-7b27-4931-8f58-51056d30be23",
   "metadata": {},
   "outputs": [
    {
     "name": "stdout",
     "output_type": "stream",
     "text": [
      "0.105\n",
      "0.120\n",
      "11.10\n",
      "0.51\n",
      "\n",
      "0.195\n",
      "0.211\n",
      "19.89\n",
      "0.50\n",
      "\n"
     ]
    }
   ],
   "source": [
    "with open('./02_relative_if/val_res_list.pkl', 'rb') as handle:\n",
    "    val_res_list = pickle.load(handle)\n",
    "for res in val_res_list:\n",
    "    print(f'{res[0]:.3f}')\n",
    "    print(f'{res[1]:.3f}')\n",
    "\n",
    "    print(f'{res[2].mean()*100:.2f}')\n",
    "    print(f'{res[2].std()*100:.2f}')\n",
    "\n",
    "    print()"
   ]
  },
  {
   "cell_type": "code",
   "execution_count": null,
   "id": "c9c22d09-d711-4b94-9e62-ad836f141e98",
   "metadata": {},
   "outputs": [],
   "source": []
  },
  {
   "cell_type": "code",
   "execution_count": null,
   "id": "271044dc-3738-4ec4-b39d-bbf0a830faee",
   "metadata": {},
   "outputs": [],
   "source": []
  },
  {
   "cell_type": "code",
   "execution_count": 10,
   "id": "1550fb80-0c3c-4453-9d37-8e63204ed703",
   "metadata": {},
   "outputs": [
    {
     "name": "stdout",
     "output_type": "stream",
     "text": [
      "0.054\n",
      "0.082\n",
      "6.74\n",
      "0.82\n",
      "\n",
      "0.126\n",
      "0.151\n",
      "13.24\n",
      "0.71\n",
      "\n"
     ]
    }
   ],
   "source": [
    "with open('./03_norm_if/gen_res_list.pkl', 'rb') as handle:\n",
    "    gen_res_list = pickle.load(handle)\n",
    "for res in gen_res_list:\n",
    "    print(f'{res[0]:.3f}')\n",
    "    print(f'{res[1]:.3f}')\n",
    "    \n",
    "    print(f'{res[2].mean()*100:.2f}')\n",
    "    print(f'{res[2].std()*100:.2f}')\n",
    "\n",
    "    print()"
   ]
  },
  {
   "cell_type": "code",
   "execution_count": 11,
   "id": "c75f2477-6ea4-47eb-aaae-053b0ef3393c",
   "metadata": {},
   "outputs": [
    {
     "name": "stdout",
     "output_type": "stream",
     "text": [
      "0.104\n",
      "0.120\n",
      "11.01\n",
      "0.50\n",
      "\n",
      "0.181\n",
      "0.199\n",
      "18.67\n",
      "0.51\n",
      "\n"
     ]
    }
   ],
   "source": [
    "with open('./03_norm_if/val_res_list.pkl', 'rb') as handle:\n",
    "    val_res_list = pickle.load(handle)\n",
    "for res in val_res_list:\n",
    "    print(f'{res[0]:.3f}')\n",
    "    print(f'{res[1]:.3f}')\n",
    "\n",
    "    print(f'{res[2].mean()*100:.2f}')\n",
    "    print(f'{res[2].std()*100:.2f}')\n",
    "\n",
    "    print()"
   ]
  },
  {
   "cell_type": "code",
   "execution_count": null,
   "id": "2bfd6f51-36b1-4ec8-9cad-58847fc0af2d",
   "metadata": {},
   "outputs": [],
   "source": []
  },
  {
   "cell_type": "code",
   "execution_count": null,
   "id": "bb9d6566-469e-4643-8420-0b4b91b7730b",
   "metadata": {},
   "outputs": [],
   "source": []
  },
  {
   "cell_type": "code",
   "execution_count": 12,
   "id": "fa09e695-eebb-4082-a648-3875082a5377",
   "metadata": {},
   "outputs": [
    {
     "name": "stdout",
     "output_type": "stream",
     "text": [
      "0.056\n",
      "0.085\n",
      "7.02\n",
      "0.89\n",
      "\n",
      "0.140\n",
      "0.164\n",
      "14.71\n",
      "0.70\n",
      "\n",
      "0.162\n",
      "0.179\n",
      "16.84\n",
      "0.54\n",
      "\n",
      "0.213\n",
      "0.227\n",
      "21.47\n",
      "0.48\n",
      "\n"
     ]
    }
   ],
   "source": [
    "with open('./04_if/gen_res_list.pkl', 'rb') as handle:\n",
    "    gen_res_list = pickle.load(handle)\n",
    "for res in gen_res_list:\n",
    "    print(f'{res[0]:.3f}')\n",
    "    print(f'{res[1]:.3f}')\n",
    "    \n",
    "    print(f'{res[2].mean()*100:.2f}')\n",
    "    print(f'{res[2].std()*100:.2f}')\n",
    "\n",
    "    print()"
   ]
  },
  {
   "cell_type": "code",
   "execution_count": 13,
   "id": "7a0d5255-9d37-4e3b-93d0-1ec7050dee47",
   "metadata": {},
   "outputs": [
    {
     "name": "stdout",
     "output_type": "stream",
     "text": [
      "0.107\n",
      "0.122\n",
      "11.28\n",
      "0.47\n",
      "\n",
      "0.196\n",
      "0.212\n",
      "20.02\n",
      "0.49\n",
      "\n",
      "0.222\n",
      "0.237\n",
      "22.83\n",
      "0.51\n",
      "\n",
      "0.284\n",
      "0.296\n",
      "28.69\n",
      "0.44\n",
      "\n"
     ]
    }
   ],
   "source": [
    "with open('./04_if/val_res_list.pkl', 'rb') as handle:\n",
    "    val_res_list = pickle.load(handle)\n",
    "for res in val_res_list:\n",
    "    print(f'{res[0]:.3f}')\n",
    "    print(f'{res[1]:.3f}')\n",
    "\n",
    "    print(f'{res[2].mean()*100:.2f}')\n",
    "    print(f'{res[2].std()*100:.2f}')\n",
    "\n",
    "    print()"
   ]
  },
  {
   "cell_type": "code",
   "execution_count": null,
   "id": "26f8d08b-c3ac-4b98-8e6e-5f73e35b61f4",
   "metadata": {},
   "outputs": [],
   "source": []
  },
  {
   "cell_type": "code",
   "execution_count": null,
   "id": "14a2a9ab-d346-4aec-a61c-f434b0ee18d4",
   "metadata": {},
   "outputs": [],
   "source": []
  },
  {
   "cell_type": "code",
   "execution_count": 14,
   "id": "6a899de5-ade7-4016-a1de-fcfeb9a7e5c1",
   "metadata": {},
   "outputs": [
    {
     "name": "stdout",
     "output_type": "stream",
     "text": [
      "0.046\n",
      "0.088\n",
      "6.53\n",
      "1.06\n",
      "\n",
      "0.102\n",
      "0.130\n",
      "10.87\n",
      "0.84\n",
      "\n"
     ]
    }
   ],
   "source": [
    "with open('./09_workshop/gen_res_list.pkl', 'rb') as handle:\n",
    "    gen_res_list = pickle.load(handle)\n",
    "for res in gen_res_list:\n",
    "    print(f'{res[0]:.3f}')\n",
    "    print(f'{res[1]:.3f}')\n",
    "    \n",
    "    print(f'{res[2].mean()*100:.2f}')\n",
    "    print(f'{res[2].std()*100:.2f}')\n",
    "\n",
    "    print()"
   ]
  },
  {
   "cell_type": "code",
   "execution_count": null,
   "id": "d4810786-55a7-42a5-979d-5bc202a6c2c4",
   "metadata": {},
   "outputs": [],
   "source": []
  },
  {
   "cell_type": "code",
   "execution_count": null,
   "id": "f1d12d79-893f-4db3-af90-9d2db867802a",
   "metadata": {},
   "outputs": [],
   "source": []
  },
  {
   "cell_type": "code",
   "execution_count": null,
   "id": "eb52f4ce-0b56-4d29-96ed-9b852d95e9a7",
   "metadata": {},
   "outputs": [],
   "source": []
  },
  {
   "cell_type": "code",
   "execution_count": 15,
   "id": "2c954952-1e12-4b8b-a308-34fe4f4b1e69",
   "metadata": {
    "scrolled": true
   },
   "outputs": [
    {
     "name": "stdout",
     "output_type": "stream",
     "text": [
      "0.082\n",
      "0.110\n",
      "9.37\n",
      "0.75\n",
      "\n",
      "0.079\n",
      "0.108\n",
      "9.26\n",
      "0.73\n",
      "\n",
      "0.081\n",
      "0.107\n",
      "9.38\n",
      "0.69\n",
      "\n",
      "0.081\n",
      "0.107\n",
      "9.36\n",
      "0.68\n",
      "\n",
      "0.164\n",
      "0.186\n",
      "17.15\n",
      "0.59\n",
      "\n",
      "0.169\n",
      "0.191\n",
      "17.60\n",
      "0.59\n",
      "\n",
      "0.170\n",
      "0.192\n",
      "17.74\n",
      "0.59\n",
      "\n",
      "0.171\n",
      "0.192\n",
      "17.87\n",
      "0.57\n",
      "\n",
      "0.161\n",
      "0.177\n",
      "16.51\n",
      "0.51\n",
      "\n",
      "0.168\n",
      "0.187\n",
      "17.38\n",
      "0.58\n",
      "\n",
      "0.174\n",
      "0.194\n",
      "18.01\n",
      "0.57\n",
      "\n",
      "0.178\n",
      "0.196\n",
      "18.37\n",
      "0.58\n",
      "\n",
      "0.205\n",
      "0.219\n",
      "20.87\n",
      "0.48\n",
      "\n",
      "0.213\n",
      "0.230\n",
      "21.79\n",
      "0.52\n",
      "\n",
      "0.220\n",
      "0.235\n",
      "22.38\n",
      "0.48\n",
      "\n",
      "0.222\n",
      "0.238\n",
      "22.58\n",
      "0.49\n",
      "\n"
     ]
    }
   ],
   "source": [
    "with open('./06_ensemble/gen_res_list.pkl', 'rb') as handle:\n",
    "    gen_res_list = pickle.load(handle)\n",
    "for res in gen_res_list:\n",
    "    print(f'{res[0]:.3f}')\n",
    "    print(f'{res[1]:.3f}')\n",
    "    \n",
    "    print(f'{res[2].mean()*100:.2f}')\n",
    "    print(f'{res[2].std()*100:.2f}')\n",
    "\n",
    "    print()"
   ]
  },
  {
   "cell_type": "code",
   "execution_count": 16,
   "id": "6474ceb0-a05e-4b8e-8f61-da9bde0243b2",
   "metadata": {
    "scrolled": true
   },
   "outputs": [
    {
     "name": "stdout",
     "output_type": "stream",
     "text": [
      "0.127\n",
      "0.141\n",
      "13.07\n",
      "0.44\n",
      "\n",
      "0.132\n",
      "0.146\n",
      "13.50\n",
      "0.43\n",
      "\n",
      "0.131\n",
      "0.145\n",
      "13.52\n",
      "0.44\n",
      "\n",
      "0.132\n",
      "0.146\n",
      "13.64\n",
      "0.42\n",
      "\n",
      "0.226\n",
      "0.240\n",
      "23.04\n",
      "0.56\n",
      "\n",
      "0.234\n",
      "0.248\n",
      "23.80\n",
      "0.56\n",
      "\n",
      "0.236\n",
      "0.251\n",
      "24.08\n",
      "0.55\n",
      "\n",
      "0.237\n",
      "0.252\n",
      "24.19\n",
      "0.53\n",
      "\n",
      "0.217\n",
      "0.232\n",
      "22.14\n",
      "0.45\n",
      "\n",
      "0.235\n",
      "0.248\n",
      "23.73\n",
      "0.44\n",
      "\n",
      "0.245\n",
      "0.256\n",
      "24.62\n",
      "0.42\n",
      "\n",
      "0.248\n",
      "0.259\n",
      "24.93\n",
      "0.40\n",
      "\n",
      "0.275\n",
      "0.288\n",
      "27.90\n",
      "0.52\n",
      "\n",
      "0.284\n",
      "0.298\n",
      "28.72\n",
      "0.53\n",
      "\n",
      "0.292\n",
      "0.304\n",
      "29.57\n",
      "0.49\n",
      "\n",
      "0.294\n",
      "0.306\n",
      "29.64\n",
      "0.50\n",
      "\n"
     ]
    }
   ],
   "source": [
    "with open('./06_ensemble/val_res_list.pkl', 'rb') as handle:\n",
    "    val_res_list = pickle.load(handle)\n",
    "for res in val_res_list:\n",
    "    print(f'{res[0]:.3f}')\n",
    "    print(f'{res[1]:.3f}')\n",
    "\n",
    "    print(f'{res[2].mean()*100:.2f}')\n",
    "    print(f'{res[2].std()*100:.2f}')\n",
    "\n",
    "    print()"
   ]
  },
  {
   "cell_type": "code",
   "execution_count": null,
   "id": "08c07c1a-e686-4f2c-8691-d192a7583d08",
   "metadata": {},
   "outputs": [],
   "source": []
  },
  {
   "cell_type": "code",
   "execution_count": null,
   "id": "d285dc46-f20f-42ed-837b-524c9fa317bb",
   "metadata": {},
   "outputs": [],
   "source": []
  },
  {
   "cell_type": "code",
   "execution_count": 17,
   "id": "67b77b1f-0731-480b-b7f0-5e62992143ac",
   "metadata": {},
   "outputs": [
    {
     "name": "stdout",
     "output_type": "stream",
     "text": [
      "0.039\n",
      "0.053\n",
      "4.58\n",
      "0.42\n",
      "\n",
      "0.050\n",
      "0.066\n",
      "5.85\n",
      "0.44\n",
      "\n",
      "0.084\n",
      "0.096\n",
      "8.82\n",
      "0.36\n",
      "\n",
      "0.123\n",
      "0.134\n",
      "12.62\n",
      "0.38\n",
      "\n"
     ]
    }
   ],
   "source": [
    "with open('./07_emp_infl/gen_res_list.pkl', 'rb') as handle:\n",
    "    gen_res_list = pickle.load(handle)\n",
    "for res in gen_res_list:\n",
    "    print(f'{res[0]:.3f}')\n",
    "    print(f'{res[1]:.3f}')\n",
    "    \n",
    "    print(f'{res[2].mean()*100:.2f}')\n",
    "    print(f'{res[2].std()*100:.2f}')\n",
    "\n",
    "    print()"
   ]
  },
  {
   "cell_type": "code",
   "execution_count": 18,
   "id": "7c30e8f0-13a6-4b83-806f-429876ad7d96",
   "metadata": {},
   "outputs": [
    {
     "name": "stdout",
     "output_type": "stream",
     "text": [
      "0.056\n",
      "0.074\n",
      "6.44\n",
      "0.54\n",
      "\n",
      "0.074\n",
      "0.093\n",
      "8.23\n",
      "0.54\n",
      "\n",
      "0.103\n",
      "0.118\n",
      "11.07\n",
      "0.43\n",
      "\n",
      "0.149\n",
      "0.164\n",
      "15.55\n",
      "0.42\n",
      "\n"
     ]
    }
   ],
   "source": [
    "with open('./07_emp_infl/val_res_list.pkl', 'rb') as handle:\n",
    "    val_res_list = pickle.load(handle)\n",
    "for res in val_res_list:\n",
    "    print(f'{res[0]:.3f}')\n",
    "    print(f'{res[1]:.3f}')\n",
    "\n",
    "    print(f'{res[2].mean()*100:.2f}')\n",
    "    print(f'{res[2].std()*100:.2f}')\n",
    "\n",
    "    print()"
   ]
  },
  {
   "cell_type": "code",
   "execution_count": null,
   "id": "4d8aa0ad-e69f-4aa3-a72a-7bfc36d12337",
   "metadata": {},
   "outputs": [],
   "source": []
  },
  {
   "cell_type": "code",
   "execution_count": null,
   "id": "16aaf81d-5642-446d-8da2-7a581d33fb59",
   "metadata": {},
   "outputs": [],
   "source": []
  },
  {
   "cell_type": "code",
   "execution_count": 19,
   "id": "fb58e477-45f7-45ce-8498-950f3c7e1bcc",
   "metadata": {},
   "outputs": [
    {
     "name": "stdout",
     "output_type": "stream",
     "text": [
      "0.038\n",
      "0.052\n",
      "4.51\n",
      "0.42\n",
      "\n",
      "0.053\n",
      "0.068\n",
      "5.94\n",
      "0.44\n",
      "\n",
      "0.085\n",
      "0.098\n",
      "8.92\n",
      "0.38\n",
      "\n",
      "0.120\n",
      "0.133\n",
      "12.43\n",
      "0.36\n",
      "\n"
     ]
    }
   ],
   "source": [
    "with open('./08_datamodel/gen_res_list.pkl', 'rb') as handle:\n",
    "    gen_res_list = pickle.load(handle)\n",
    "for res in gen_res_list:\n",
    "    print(f'{res[0]:.3f}')\n",
    "    print(f'{res[1]:.3f}')\n",
    "    \n",
    "    print(f'{res[2].mean()*100:.2f}')\n",
    "    print(f'{res[2].std()*100:.2f}')\n",
    "\n",
    "    print()"
   ]
  },
  {
   "cell_type": "code",
   "execution_count": 20,
   "id": "ae592568-e298-4a13-a363-e0f75bc60c84",
   "metadata": {},
   "outputs": [
    {
     "name": "stdout",
     "output_type": "stream",
     "text": [
      "0.056\n",
      "0.074\n",
      "6.41\n",
      "0.55\n",
      "\n",
      "0.072\n",
      "0.092\n",
      "8.16\n",
      "0.55\n",
      "\n",
      "0.104\n",
      "0.120\n",
      "11.14\n",
      "0.44\n",
      "\n",
      "0.150\n",
      "0.164\n",
      "15.56\n",
      "0.43\n",
      "\n"
     ]
    }
   ],
   "source": [
    "with open('./08_datamodel/val_res_list.pkl', 'rb') as handle:\n",
    "    val_res_list = pickle.load(handle)\n",
    "for res in val_res_list:\n",
    "    print(f'{res[0]:.3f}')\n",
    "    print(f'{res[1]:.3f}')\n",
    "\n",
    "    print(f'{res[2].mean()*100:.2f}')\n",
    "    print(f'{res[2].std()*100:.2f}')\n",
    "\n",
    "    print()"
   ]
  },
  {
   "cell_type": "code",
   "execution_count": null,
   "id": "966d5bf7-1592-4986-b64e-0082897681cc",
   "metadata": {},
   "outputs": [],
   "source": []
  }
 ],
 "metadata": {
  "kernelspec": {
   "display_name": "Python 3 (ipykernel)",
   "language": "python",
   "name": "python3"
  },
  "language_info": {
   "codemirror_mode": {
    "name": "ipython",
    "version": 3
   },
   "file_extension": ".py",
   "mimetype": "text/x-python",
   "name": "python",
   "nbconvert_exporter": "python",
   "pygments_lexer": "ipython3",
   "version": "3.8.10"
  }
 },
 "nbformat": 4,
 "nbformat_minor": 5
}
